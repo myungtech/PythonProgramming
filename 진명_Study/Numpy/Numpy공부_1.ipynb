{
 "cells": [
  {
   "cell_type": "code",
   "execution_count": 1,
   "id": "542dc2cd",
   "metadata": {},
   "outputs": [],
   "source": [
    "import numpy as np"
   ]
  },
  {
   "cell_type": "code",
   "execution_count": 2,
   "id": "aad9a2cb",
   "metadata": {
    "scrolled": false
   },
   "outputs": [
    {
     "data": {
      "text/plain": [
       "'1.20.1'"
      ]
     },
     "execution_count": 2,
     "metadata": {},
     "output_type": "execute_result"
    }
   ],
   "source": [
    "np.__version__"
   ]
  },
  {
   "cell_type": "markdown",
   "id": "05bdd580",
   "metadata": {},
   "source": [
    "# 💙리스트로 배열 만들기"
   ]
  },
  {
   "cell_type": "code",
   "execution_count": 3,
   "id": "e214ba23",
   "metadata": {},
   "outputs": [
    {
     "name": "stdout",
     "output_type": "stream",
     "text": [
      "<class 'numpy.ndarray'>\n",
      "(5,)\n",
      "1 2 3 4 5\n",
      "[10  9  8  4  5]\n"
     ]
    }
   ],
   "source": [
    "al = np.array([1,2,3,4,5])\n",
    "print(type(al))\n",
    "print(al.shape) # 5개의 element가 있다. / 쉼표 뒤에 아무것도 없으니 1차원 배열이구나\n",
    "print(al[0],al[1],al[2],al[3],al[4])\n",
    "al[0] = 10\n",
    "al[1] = 9\n",
    "al[2] = 8\n",
    "print(al)"
   ]
  },
  {
   "cell_type": "code",
   "execution_count": 4,
   "id": "dd1dbadd",
   "metadata": {},
   "outputs": [
    {
     "name": "stdout",
     "output_type": "stream",
     "text": [
      "[[1 2 3 4]\n",
      " [4 5 6 5]\n",
      " [7 8 9 2]]\n",
      "(3, 4)\n",
      "1 5 9\n"
     ]
    }
   ],
   "source": [
    "# 2차원\n",
    "a2 = np.array([[1,2,3,4],[4,5,6,5],[7,8,9,2]])\n",
    "print(a2)\n",
    "print(a2.shape)\n",
    "print(a2[0,0],a2[1,1],a2[2,2]) # 인덱스 접근을 해서 자료를 살펴볼수 있다."
   ]
  },
  {
   "cell_type": "code",
   "execution_count": 5,
   "id": "8ded27af",
   "metadata": {
    "scrolled": true
   },
   "outputs": [
    {
     "name": "stdout",
     "output_type": "stream",
     "text": [
      "[[[1 2 3]\n",
      "  [4 5 6]\n",
      "  [7 8 9]]\n",
      "\n",
      " [[1 2 3]\n",
      "  [4 5 6]\n",
      "  [7 8 9]]\n",
      "\n",
      " [[1 2 3]\n",
      "  [4 5 6]\n",
      "  [7 8 9]]]\n",
      "(3, 3, 3)\n"
     ]
    }
   ],
   "source": [
    "# 3차원\n",
    "a3 = np.array([[[1,2,3],[4,5,6],[7,8,9]],\n",
    "              [[1,2,3],[4,5,6],[7,8,9]],\n",
    "              [[1,2,3],[4,5,6],[7,8,9]]])\n",
    "print(a3)\n",
    "print(a3.shape)"
   ]
  },
  {
   "cell_type": "markdown",
   "id": "3ac5b70b",
   "metadata": {},
   "source": [
    "# 💛배열 생성 및 초기화"
   ]
  },
  {
   "cell_type": "code",
   "execution_count": 6,
   "id": "1654816c",
   "metadata": {},
   "outputs": [
    {
     "data": {
      "text/plain": [
       "array([0., 0., 0., 0., 0., 0., 0., 0., 0., 0.])"
      ]
     },
     "execution_count": 6,
     "metadata": {},
     "output_type": "execute_result"
    }
   ],
   "source": [
    "np.zeros(10)"
   ]
  },
  {
   "cell_type": "code",
   "execution_count": 7,
   "id": "20bfff56",
   "metadata": {},
   "outputs": [
    {
     "name": "stdout",
     "output_type": "stream",
     "text": [
      "[1. 1. 1. 1. 1. 1. 1. 1. 1. 1.]\n",
      "[[1. 1. 1.]\n",
      " [1. 1. 1.]\n",
      " [1. 1. 1.]]\n"
     ]
    }
   ],
   "source": [
    "print(np.ones(10))\n",
    "print(np.ones((3,3))) # shape모양을 넣어주는 것으로 2차원가능"
   ]
  },
  {
   "cell_type": "code",
   "execution_count": 8,
   "id": "abc5711b",
   "metadata": {},
   "outputs": [
    {
     "data": {
      "text/plain": [
       "array([[2.39, 2.39, 2.39],\n",
       "       [2.39, 2.39, 2.39],\n",
       "       [2.39, 2.39, 2.39],\n",
       "       [2.39, 2.39, 2.39],\n",
       "       [2.39, 2.39, 2.39]])"
      ]
     },
     "execution_count": 8,
     "metadata": {},
     "output_type": "execute_result"
    }
   ],
   "source": [
    "np.full((5,3),2.39) # 모든 요소를 지정한 값으로 초기화"
   ]
  },
  {
   "cell_type": "code",
   "execution_count": 9,
   "id": "62f63d00",
   "metadata": {},
   "outputs": [
    {
     "data": {
      "text/plain": [
       "array([[1., 0., 0.],\n",
       "       [0., 1., 0.],\n",
       "       [0., 0., 1.]])"
      ]
     },
     "execution_count": 9,
     "metadata": {},
     "output_type": "execute_result"
    }
   ],
   "source": [
    "np.eye(3) # 주대각선의 원소가 1이고 나머지 원소는 모두 0인 정사각 행렬(단위행렬)"
   ]
  },
  {
   "cell_type": "code",
   "execution_count": 10,
   "id": "86ee2576",
   "metadata": {},
   "outputs": [
    {
     "data": {
      "text/plain": [
       "array([[1., 0., 0.],\n",
       "       [1., 1., 0.],\n",
       "       [1., 1., 1.]])"
      ]
     },
     "execution_count": 10,
     "metadata": {},
     "output_type": "execute_result"
    }
   ],
   "source": [
    "np.tri(3) # 삼각행렬"
   ]
  },
  {
   "cell_type": "code",
   "execution_count": 11,
   "id": "db021388",
   "metadata": {},
   "outputs": [
    {
     "data": {
      "text/plain": [
       "array([1., 1., 1., 1., 1., 1., 1., 1., 1., 1.])"
      ]
     },
     "execution_count": 11,
     "metadata": {},
     "output_type": "execute_result"
    }
   ],
   "source": [
    "np.empty(10) \n",
    "# 초기화 되지 않은 배열 생성\n",
    "# 초기화 하지 않기 때문에 어떤 배열보다 빠르게 배열생성\n",
    "# 기존 메모리 위치에 존재하는 값이 들어가있기 때문에 기존의 값이 들어감 랜덤하다."
   ]
  },
  {
   "cell_type": "code",
   "execution_count": 12,
   "id": "e4df6984",
   "metadata": {},
   "outputs": [
    {
     "name": "stdout",
     "output_type": "stream",
     "text": [
      "(5,)\n"
     ]
    },
    {
     "data": {
      "text/plain": [
       "array([0, 0, 0, 0, 0])"
      ]
     },
     "execution_count": 12,
     "metadata": {},
     "output_type": "execute_result"
    }
   ],
   "source": [
    "print(al.shape)\n",
    "np.zeros_like(al)  # al의 shape과 같은 모양으로 0이 채워진 배열을 하나 만들어줘"
   ]
  },
  {
   "cell_type": "code",
   "execution_count": 13,
   "id": "0c5e1e02",
   "metadata": {},
   "outputs": [
    {
     "data": {
      "text/plain": [
       "array([[1, 1, 1, 1],\n",
       "       [1, 1, 1, 1],\n",
       "       [1, 1, 1, 1]])"
      ]
     },
     "execution_count": 13,
     "metadata": {},
     "output_type": "execute_result"
    }
   ],
   "source": [
    "np.ones_like(a2)"
   ]
  },
  {
   "cell_type": "code",
   "execution_count": 14,
   "id": "d6b8b495",
   "metadata": {
    "scrolled": true
   },
   "outputs": [
    {
     "name": "stdout",
     "output_type": "stream",
     "text": [
      "(3, 3, 3)\n"
     ]
    },
    {
     "data": {
      "text/plain": [
       "array([[[10, 10, 10],\n",
       "        [10, 10, 10],\n",
       "        [10, 10, 10]],\n",
       "\n",
       "       [[10, 10, 10],\n",
       "        [10, 10, 10],\n",
       "        [10, 10, 10]],\n",
       "\n",
       "       [[10, 10, 10],\n",
       "        [10, 10, 10],\n",
       "        [10, 10, 10]]])"
      ]
     },
     "execution_count": 14,
     "metadata": {},
     "output_type": "execute_result"
    }
   ],
   "source": [
    "print(a3.shape)\n",
    "np.full_like(a3,10)"
   ]
  },
  {
   "cell_type": "markdown",
   "id": "a56b3cfb",
   "metadata": {},
   "source": [
    "# 🧡생성한 값으로 배열생성"
   ]
  },
  {
   "cell_type": "code",
   "execution_count": 15,
   "id": "f150fe63",
   "metadata": {},
   "outputs": [
    {
     "data": {
      "text/plain": [
       "array([ 0,  2,  4,  6,  8, 10, 12, 14, 16, 18, 20, 22, 24, 26, 28])"
      ]
     },
     "execution_count": 15,
     "metadata": {},
     "output_type": "execute_result"
    }
   ],
   "source": [
    "np.arange(0,30,2) # 정수 범위로 배열 생성 / 파이썬의 range와 비슷 똑같"
   ]
  },
  {
   "cell_type": "code",
   "execution_count": 16,
   "id": "42f4005b",
   "metadata": {},
   "outputs": [
    {
     "data": {
      "text/plain": [
       "array([0.  , 0.25, 0.5 , 0.75, 1.  ])"
      ]
     },
     "execution_count": 16,
     "metadata": {},
     "output_type": "execute_result"
    }
   ],
   "source": [
    "np.linspace(0,1,5) # 범위 내에서 균등 간격의 배열 생성"
   ]
  },
  {
   "cell_type": "code",
   "execution_count": 17,
   "id": "1316e3b0",
   "metadata": {},
   "outputs": [
    {
     "data": {
      "text/plain": [
       "array([ 1.25892541,  1.40400425,  1.565802  ,  1.74624535,  1.94748304,\n",
       "        2.1719114 ,  2.42220294,  2.70133812,  3.0126409 ,  3.35981829,\n",
       "        3.74700446,  4.17881006,  4.66037703,  5.19743987,  5.79639395,\n",
       "        6.46437163,  7.2093272 ,  8.04013161,  8.9666781 , 10.        ])"
      ]
     },
     "execution_count": 17,
     "metadata": {},
     "output_type": "execute_result"
    }
   ],
   "source": [
    "np.logspace(0.1,1,20) # 범위 내에서 균등간격으로 로그 스케일로 배열 생성"
   ]
  },
  {
   "cell_type": "markdown",
   "id": "476314d8",
   "metadata": {},
   "source": [
    "# 💚랜덤 값으로 배열 생성"
   ]
  },
  {
   "cell_type": "code",
   "execution_count": 18,
   "id": "1c84647f",
   "metadata": {},
   "outputs": [
    {
     "data": {
      "text/plain": [
       "array([[0.12571503, 0.93709544, 0.72009053],\n",
       "       [0.41245299, 0.15015162, 0.353426  ],\n",
       "       [0.53374232, 0.83683487, 0.99498889]])"
      ]
     },
     "execution_count": 18,
     "metadata": {},
     "output_type": "execute_result"
    }
   ],
   "source": [
    "np.random.random((3,3)) # 랜덤한 수의 배열 생성 / 실수 반환 / shape만 주면됌"
   ]
  },
  {
   "cell_type": "code",
   "execution_count": 19,
   "id": "99c18168",
   "metadata": {},
   "outputs": [
    {
     "data": {
      "text/plain": [
       "array([[ 6,  2, 12],\n",
       "       [15, 15, 17],\n",
       "       [12, 12, 17]])"
      ]
     },
     "execution_count": 19,
     "metadata": {},
     "output_type": "execute_result"
    }
   ],
   "source": [
    "np.random.randint(1,20,(3,3)) # 일정 범위 지정해주고 shape의 랜덤 정수의 배열생성"
   ]
  },
  {
   "cell_type": "code",
   "execution_count": 20,
   "id": "c3d47ce4",
   "metadata": {},
   "outputs": [
    {
     "data": {
      "text/plain": [
       "array([[-0.03623518, -0.07164097,  0.16784686],\n",
       "       [-0.43953571, -1.41542816,  0.53601796],\n",
       "       [-0.93882856, -1.10971912, -1.5218221 ]])"
      ]
     },
     "execution_count": 20,
     "metadata": {},
     "output_type": "execute_result"
    }
   ],
   "source": [
    "np.random.normal(0,1,(3,3)) #  정규분포를 고려한 랜덤한 수의 배열 생성"
   ]
  },
  {
   "cell_type": "code",
   "execution_count": 21,
   "id": "30d49a98",
   "metadata": {},
   "outputs": [
    {
     "data": {
      "text/plain": [
       "array([[0.1616046 , 0.4385019 , 0.65772016],\n",
       "       [0.17082224, 0.96935429, 0.56781741],\n",
       "       [0.96109924, 0.72538972, 0.65130089]])"
      ]
     },
     "execution_count": 21,
     "metadata": {},
     "output_type": "execute_result"
    }
   ],
   "source": [
    "np.random.rand(3,3) # 균등분포를 고려한 랜덤한 수의 배열 생성"
   ]
  },
  {
   "cell_type": "code",
   "execution_count": 22,
   "id": "23dd5c01",
   "metadata": {},
   "outputs": [
    {
     "data": {
      "text/plain": [
       "array([[-1.56728219, -1.27063016, -1.0829763 ],\n",
       "       [-0.78910159,  1.01328576,  0.32420338],\n",
       "       [ 0.91900967, -0.14338816, -2.38501375]])"
      ]
     },
     "execution_count": 22,
     "metadata": {},
     "output_type": "execute_result"
    }
   ],
   "source": [
    "np.random.randn(3,3) # 표준정규분포를 고려한 랜덤한 수의 배열"
   ]
  },
  {
   "cell_type": "markdown",
   "id": "7e6fd1bb",
   "metadata": {},
   "source": [
    "# 💜표준 데이터 타입"
   ]
  },
  {
   "cell_type": "code",
   "execution_count": 23,
   "id": "15d7e551",
   "metadata": {},
   "outputs": [
    {
     "data": {
      "text/plain": [
       "array([0, 0, 0, 0, 0, 0, 0, 0, 0, 0, 0, 0, 0, 0, 0, 0, 0, 0, 0, 0])"
      ]
     },
     "execution_count": 23,
     "metadata": {},
     "output_type": "execute_result"
    }
   ],
   "source": [
    "np.zeros(20, dtype=int)"
   ]
  },
  {
   "cell_type": "code",
   "execution_count": 24,
   "id": "4ba39c0f",
   "metadata": {},
   "outputs": [
    {
     "data": {
      "text/plain": [
       "array([[ True,  True,  True],\n",
       "       [ True,  True,  True],\n",
       "       [ True,  True,  True]])"
      ]
     },
     "execution_count": 24,
     "metadata": {},
     "output_type": "execute_result"
    }
   ],
   "source": [
    "np.ones((3,3), dtype=bool)"
   ]
  },
  {
   "cell_type": "code",
   "execution_count": 25,
   "id": "5e36403b",
   "metadata": {},
   "outputs": [
    {
     "data": {
      "text/plain": [
       "array([[1., 1., 1.],\n",
       "       [1., 1., 1.],\n",
       "       [1., 1., 1.]])"
      ]
     },
     "execution_count": 25,
     "metadata": {},
     "output_type": "execute_result"
    }
   ],
   "source": [
    "np.full((3,3),1.0, dtype=float)"
   ]
  },
  {
   "cell_type": "markdown",
   "id": "22f72b4c",
   "metadata": {},
   "source": [
    "# 🖤날짜/시간 배열 생성 "
   ]
  },
  {
   "cell_type": "code",
   "execution_count": 26,
   "id": "b7746a43",
   "metadata": {},
   "outputs": [
    {
     "data": {
      "text/plain": [
       "array('2021-09-15', dtype='datetime64[D]')"
      ]
     },
     "execution_count": 26,
     "metadata": {},
     "output_type": "execute_result"
    }
   ],
   "source": [
    "date = np.array('2021-09-15', dtype=np.datetime64) # 날짜시간을 나타내주는 dtype\n",
    "date"
   ]
  },
  {
   "cell_type": "code",
   "execution_count": 27,
   "id": "574c742f",
   "metadata": {},
   "outputs": [
    {
     "data": {
      "text/plain": [
       "array(['2021-09-15', '2021-09-16', '2021-09-17', '2021-09-18',\n",
       "       '2021-09-19', '2021-09-20', '2021-09-21', '2021-09-22',\n",
       "       '2021-09-23', '2021-09-24', '2021-09-25', '2021-09-26'],\n",
       "      dtype='datetime64[D]')"
      ]
     },
     "execution_count": 27,
     "metadata": {},
     "output_type": "execute_result"
    }
   ],
   "source": [
    "date + np.arange(12) # 0~11이 날짜에 더해짐"
   ]
  },
  {
   "cell_type": "code",
   "execution_count": 28,
   "id": "082d3df4",
   "metadata": {},
   "outputs": [
    {
     "data": {
      "text/plain": [
       "numpy.datetime64('2020-09-15T12:00')"
      ]
     },
     "execution_count": 28,
     "metadata": {},
     "output_type": "execute_result"
    }
   ],
   "source": [
    "datetime = np.datetime64('2020-09-15 12:00')\n",
    "datetime"
   ]
  },
  {
   "cell_type": "code",
   "execution_count": 29,
   "id": "939cce8a",
   "metadata": {},
   "outputs": [
    {
     "data": {
      "text/plain": [
       "numpy.datetime64('2020-09-15T12:00:12.340000000')"
      ]
     },
     "execution_count": 29,
     "metadata": {},
     "output_type": "execute_result"
    }
   ],
   "source": [
    "datetime2 = np.datetime64('2020-09-15 12:00:12.34','ns')\n",
    "datetime2"
   ]
  },
  {
   "cell_type": "markdown",
   "id": "f0bbff26",
   "metadata": {},
   "source": [
    "# 💚배열 속성 정보"
   ]
  },
  {
   "cell_type": "code",
   "execution_count": 30,
   "id": "2ecca207",
   "metadata": {},
   "outputs": [],
   "source": [
    "def array_info(array):\n",
    "    print(array) # 실재 배열의 값\n",
    "    print(\"ndim :\", array.ndim) # 1차원, 2차원\n",
    "    print(\"shape :\", array.shape) # 엘리먼트 모양\n",
    "    print(\"dtype :\", array.dtype) # 데이터 타입\n",
    "    print(\"size :\", array.size) # 엘리먼트들의 개수\n",
    "    print(\"itemsize :\", array.itemsize) # 각 하나의 아이템이 가지는 사이즈\n",
    "    print(\"nbytes :\", array.nbytes) # size * itemsize 전체 바이트\n",
    "    print(\"strides :\", array.strides) #  다음으로 넘어가기 위한 사이즈 단위"
   ]
  },
  {
   "cell_type": "code",
   "execution_count": 31,
   "id": "815df8ea",
   "metadata": {
    "scrolled": false
   },
   "outputs": [
    {
     "name": "stdout",
     "output_type": "stream",
     "text": [
      "[10  9  8  4  5]\n",
      "ndim : 1\n",
      "shape : (5,)\n",
      "dtype : int32\n",
      "size : 5\n",
      "itemsize : 4\n",
      "nbytes : 20\n",
      "strides : (4,)\n"
     ]
    }
   ],
   "source": [
    "array_info(al)"
   ]
  },
  {
   "cell_type": "code",
   "execution_count": 32,
   "id": "fd36c247",
   "metadata": {},
   "outputs": [
    {
     "name": "stdout",
     "output_type": "stream",
     "text": [
      "[[1 2 3 4]\n",
      " [4 5 6 5]\n",
      " [7 8 9 2]]\n",
      "ndim : 2\n",
      "shape : (3, 4)\n",
      "dtype : int32\n",
      "size : 12\n",
      "itemsize : 4\n",
      "nbytes : 48\n",
      "strides : (16, 4)\n"
     ]
    }
   ],
   "source": [
    "array_info(a2)"
   ]
  },
  {
   "cell_type": "code",
   "execution_count": 33,
   "id": "3f30ea53",
   "metadata": {
    "scrolled": true
   },
   "outputs": [
    {
     "name": "stdout",
     "output_type": "stream",
     "text": [
      "[[[1 2 3]\n",
      "  [4 5 6]\n",
      "  [7 8 9]]\n",
      "\n",
      " [[1 2 3]\n",
      "  [4 5 6]\n",
      "  [7 8 9]]\n",
      "\n",
      " [[1 2 3]\n",
      "  [4 5 6]\n",
      "  [7 8 9]]]\n",
      "ndim : 3\n",
      "shape : (3, 3, 3)\n",
      "dtype : int32\n",
      "size : 27\n",
      "itemsize : 4\n",
      "nbytes : 108\n",
      "strides : (36, 12, 4)\n"
     ]
    }
   ],
   "source": [
    "array_info(a3)"
   ]
  },
  {
   "cell_type": "markdown",
   "id": "8a8afc32",
   "metadata": {},
   "source": [
    "# 🟩인덱싱 "
   ]
  },
  {
   "cell_type": "code",
   "execution_count": 34,
   "id": "8722c035",
   "metadata": {},
   "outputs": [
    {
     "name": "stdout",
     "output_type": "stream",
     "text": [
      "[10  9  8  4  5]\n",
      "10\n",
      "9\n",
      "8\n",
      "8\n",
      "5\n"
     ]
    }
   ],
   "source": [
    "# 1차원\n",
    "print(al)\n",
    "print(al[0])\n",
    "print(al[1])\n",
    "print(al[2])\n",
    "print(al[-3])\n",
    "print(al[-1])"
   ]
  },
  {
   "cell_type": "code",
   "execution_count": 35,
   "id": "d116ca8e",
   "metadata": {},
   "outputs": [
    {
     "name": "stdout",
     "output_type": "stream",
     "text": [
      "[[1 2 3 4]\n",
      " [4 5 6 5]\n",
      " [7 8 9 2]]\n",
      "1\n",
      "3\n",
      "2\n",
      "[7 8 9 2]\n"
     ]
    }
   ],
   "source": [
    "# 2차원\n",
    "print(a2)\n",
    "print(a2[0,0])\n",
    "print(a2[0,2])\n",
    "print(a2[2,-1])\n",
    "print(a2[2])\n"
   ]
  },
  {
   "cell_type": "code",
   "execution_count": 36,
   "id": "93cc3303",
   "metadata": {},
   "outputs": [
    {
     "name": "stdout",
     "output_type": "stream",
     "text": [
      "[[[1 2 3]\n",
      "  [4 5 6]\n",
      "  [7 8 9]]\n",
      "\n",
      " [[1 2 3]\n",
      "  [4 5 6]\n",
      "  [7 8 9]]\n",
      "\n",
      " [[1 2 3]\n",
      "  [4 5 6]\n",
      "  [7 8 9]]]\n",
      "1\n",
      "5\n",
      "9\n",
      "9\n"
     ]
    }
   ],
   "source": [
    "# 3차원\n",
    "print(a3)\n",
    "print(a3[0,0,0])\n",
    "print(a3[1,1,1])\n",
    "print(a3[2,2,2])\n",
    "print(a3[2,-1,-1])"
   ]
  },
  {
   "cell_type": "markdown",
   "id": "16d220a2",
   "metadata": {},
   "source": [
    "# 💛슬라이싱 a[start:stop:step] / 기본값 start=0, stop=ndim, step=1\n",
    "## array[(행 시작:끝), (열 시작:끝)]"
   ]
  },
  {
   "cell_type": "code",
   "execution_count": 37,
   "id": "964f9294",
   "metadata": {
    "scrolled": false
   },
   "outputs": [
    {
     "name": "stdout",
     "output_type": "stream",
     "text": [
      "[10  9  8  4  5]\n",
      "[10  9]\n",
      "[10  9  8  4  5]\n",
      "[10]\n",
      "[10  8  5]\n",
      "[ 5  4  8  9 10]\n"
     ]
    }
   ],
   "source": [
    "print(al)\n",
    "print(al[0:2])\n",
    "print(al[0:])\n",
    "print(al[:1])\n",
    "print(al[::2])\n",
    "print(al[::-1]) # reverse"
   ]
  },
  {
   "cell_type": "code",
   "execution_count": 38,
   "id": "783701d4",
   "metadata": {
    "scrolled": true
   },
   "outputs": [
    {
     "name": "stdout",
     "output_type": "stream",
     "text": [
      "[[1 2 3 4]\n",
      " [4 5 6 5]\n",
      " [7 8 9 2]]\n",
      "2 >>> [4 5 6 5]\n",
      "3 >>> [4 5 6 5]\n",
      "4 >>> [[1 2]\n",
      " [4 5]]\n",
      "5 >>> [[5 6 5 4]\n",
      " [2 9 8 7]]\n",
      "6 >>> [[2 9 8 7]\n",
      " [5 6 5 4]\n",
      " [4 3 2 1]]\n"
     ]
    }
   ],
   "source": [
    "print(a2)\n",
    "print(\"2 >>>\",a2[1])\n",
    "print(\"3 >>>\",a2[1,:])\n",
    "print(\"4 >>>\",a2[:2,:2])\n",
    "print(\"5 >>>\",a2[1:,::-1])\n",
    "print(\"6 >>>\",a2[::-1,::-1])"
   ]
  },
  {
   "cell_type": "markdown",
   "id": "d4026d7c",
   "metadata": {},
   "source": [
    "# 💛불리언 인덱싱 \n",
    "# True값인 인덱스만 조회 / 배열 각 요소의 선택여부를 불리언으로 조정"
   ]
  },
  {
   "cell_type": "code",
   "execution_count": 39,
   "id": "0311550b",
   "metadata": {
    "scrolled": true
   },
   "outputs": [
    {
     "name": "stdout",
     "output_type": "stream",
     "text": [
      "[10  9  8  4  5]\n",
      "[9 8 5]\n",
      "[10  8  4]\n"
     ]
    }
   ],
   "source": [
    "print(al)\n",
    "bl = [False,True,True,False,True]\n",
    "print(al[bl])\n",
    "bl = [True,False,True,True,False]\n",
    "print(al[bl])"
   ]
  },
  {
   "cell_type": "code",
   "execution_count": 40,
   "id": "9dac6237",
   "metadata": {},
   "outputs": [
    {
     "name": "stdout",
     "output_type": "stream",
     "text": [
      "[[1 2 3 4]\n",
      " [4 5 6 5]\n",
      " [7 8 9 2]]\n",
      "[[ True  True False  True]\n",
      " [False  True  True  True]\n",
      " [ True False False False]]\n",
      "[3 5 5 7 8]\n"
     ]
    }
   ],
   "source": [
    "print(a2)\n",
    "b2 = np.random.randint(0,2,(3,4), dtype=bool) # 랜덤인데 인트로 해줘 근데 타입을 bool로\n",
    "print(b2)\n",
    "b2 = np.random.randint(0,2,(3,4), dtype=bool)\n",
    "print(a2[b2])"
   ]
  },
  {
   "cell_type": "markdown",
   "id": "ebb18db4",
   "metadata": {},
   "source": [
    "# 💙팬시 인덱싱 "
   ]
  },
  {
   "cell_type": "code",
   "execution_count": 41,
   "id": "e7428798",
   "metadata": {},
   "outputs": [
    {
     "name": "stdout",
     "output_type": "stream",
     "text": [
      "[10  9  8  4  5]\n",
      "10 8\n",
      "[10  8]\n",
      "[[10  9]\n",
      " [ 8 10]]\n"
     ]
    }
   ],
   "source": [
    "print(al) # 1차원 데이터\n",
    "print(al[0],al[2])\n",
    "ind = [0,2]\n",
    "print(al[ind])\n",
    "ind = np.array([[0,1],\n",
    "               [2,0]])\n",
    "print(al[ind]) # 1차원에 2차원인덱스를 넣었음>> 결과는 2차원으로 나옴"
   ]
  },
  {
   "cell_type": "code",
   "execution_count": 42,
   "id": "25b5b2ff",
   "metadata": {},
   "outputs": [
    {
     "name": "stdout",
     "output_type": "stream",
     "text": [
      "[[1 2 3 4]\n",
      " [4 5 6 5]\n",
      " [7 8 9 2]]\n",
      "[2 9]\n",
      "[[1 2 3 4]\n",
      " [7 8 9 2]]\n",
      "[[2 3]\n",
      " [5 6]\n",
      " [8 9]]\n",
      "[2 8]\n",
      "[8 9]\n"
     ]
    }
   ],
   "source": [
    "print(a2) # 2차원 데이터\n",
    "row = np.array([0,2])\n",
    "col = np.array([1,2])\n",
    "print(a2[row,col])\n",
    "print(a2[row,:])\n",
    "print(a2[:,col])\n",
    "print(a2[row,1]) # row는 0, 2만, col은 1만  [2,8]\n",
    "print(a2[2,col])"
   ]
  },
  {
   "cell_type": "code",
   "execution_count": 43,
   "id": "fe5c2235",
   "metadata": {},
   "outputs": [
    {
     "data": {
      "text/plain": [
       "array([1, 3, 5])"
      ]
     },
     "execution_count": 43,
     "metadata": {},
     "output_type": "execute_result"
    }
   ],
   "source": [
    "test = np.array([1, 2, 3, 4, 5])\n",
    "test[[0, 2, 4]] # 0,2,4의 인덱스 값"
   ]
  },
  {
   "cell_type": "code",
   "execution_count": 44,
   "id": "c9001844",
   "metadata": {},
   "outputs": [
    {
     "data": {
      "text/plain": [
       "array([[2, 3],\n",
       "       [8, 9]])"
      ]
     },
     "execution_count": 44,
     "metadata": {},
     "output_type": "execute_result"
    }
   ],
   "source": [
    "test2 = np.array([[1, 2, 3], [4, 5, 6], [7, 8, 9]])\n",
    "\n",
    "test2[[0, 2], 1:3] # 0, 2 행의 1~2 열의 내용을 가져오라"
   ]
  },
  {
   "cell_type": "markdown",
   "id": "36d9aa31",
   "metadata": {},
   "source": [
    "# 💜배열 값 삽입/수정/삭제/복사 "
   ]
  },
  {
   "cell_type": "markdown",
   "id": "95f87225",
   "metadata": {},
   "source": [
    "### 배열 값 삽입\n",
    "* insert() : 특정 배열의 특정 위치에 값 삽입\n",
    "* axis를 지정하지 않으면 1차원 배열로 변환\n",
    "* 추가로 방향을 axis로 지정\n",
    "* 원본 배열 변경없이 새로운 배열을 반환한다."
   ]
  },
  {
   "cell_type": "code",
   "execution_count": 45,
   "id": "7c3cd3b5",
   "metadata": {},
   "outputs": [
    {
     "name": "stdout",
     "output_type": "stream",
     "text": [
      "[10  9  8  4  5]\n",
      "[ 7 10  9  8  4  5]\n",
      "[10  9  8  4  5]\n",
      "[10  9 10  8  4  5]\n"
     ]
    }
   ],
   "source": [
    "print(al)\n",
    "bl = np.insert(al,0,7) # 0번째 위치에 10을 넣어줘\n",
    "print(bl)\n",
    "print(al) # bl 이라는 새로운 배열이 만들어진 것이다.\n",
    "cl = np.insert(al,2,10)\n",
    "print(cl)"
   ]
  },
  {
   "cell_type": "code",
   "execution_count": 46,
   "id": "a24d4cf3",
   "metadata": {
    "scrolled": false
   },
   "outputs": [
    {
     "name": "stdout",
     "output_type": "stream",
     "text": [
      "[[1 2 3 4]\n",
      " [4 5 6 5]\n",
      " [7 8 9 2]]\n",
      "[[1 2 3 4]\n",
      " [7 7 7 7]\n",
      " [4 5 6 5]\n",
      " [7 8 9 2]]\n",
      "[[1 7 2 3 4]\n",
      " [4 7 5 6 5]\n",
      " [7 7 8 9 2]]\n"
     ]
    }
   ],
   "source": [
    "print(a2)\n",
    "b2 = np.insert(a2, 1, 7, axis=0) # 1번째 자리에 7을 넣어라, axis가 0이니 row축을 기준으로\n",
    "print(b2)\n",
    "c2 = np.insert(a2, 1, 7, axis=1) # 1번째 자리에 7을 넣어라, axis가 1이니 column축을 기준으로\n",
    "print(c2)"
   ]
  },
  {
   "cell_type": "markdown",
   "id": "77f57133",
   "metadata": {},
   "source": [
    "### 배열 값 수정\n",
    "* 배열의 인덱싱으로 접근하여 값 수정"
   ]
  },
  {
   "cell_type": "code",
   "execution_count": 47,
   "id": "517030cc",
   "metadata": {},
   "outputs": [
    {
     "name": "stdout",
     "output_type": "stream",
     "text": [
      "[10  9  8  4  5]\n",
      "[1 2 3 4 5]\n",
      "[9 2 3 4 5]\n",
      "[9 0 3 0 0]\n",
      "[9 4 3 4 4]\n"
     ]
    }
   ],
   "source": [
    "print(al)\n",
    "al[0] = 1\n",
    "al[1] = 2\n",
    "al[2] = 3\n",
    "print(al)\n",
    "al[:1] = 9\n",
    "print(al)\n",
    "i = np.array([1,3,4])\n",
    "al[i] = 0\n",
    "print(al)\n",
    "al[i] += 4\n",
    "print(al)"
   ]
  },
  {
   "cell_type": "code",
   "execution_count": 48,
   "id": "d526dd16",
   "metadata": {},
   "outputs": [
    {
     "name": "stdout",
     "output_type": "stream",
     "text": [
      "[[1 2 3 4]\n",
      " [4 5 6 5]\n",
      " [7 8 9 2]]\n",
      "[[1 1 1 1]\n",
      " [4 2 6 5]\n",
      " [7 8 3 2]]\n",
      "[[1 1 1 1]\n",
      " [4 2 9 5]\n",
      " [7 8 9 2]]\n",
      "[[1 0 1 1]\n",
      " [4 2 0 5]\n",
      " [7 8 9 2]]\n"
     ]
    }
   ],
   "source": [
    "print(a2)\n",
    "a2[0,0] =1\n",
    "a2[1,1] =2\n",
    "a2[2,2] =3\n",
    "a2[0] =1\n",
    "print(a2)\n",
    "a2[1:,2] =9\n",
    "print(a2)\n",
    "row = np.array([0,1])\n",
    "col = np.array([1,2])\n",
    "a2[row,col] = 0\n",
    "print(a2)"
   ]
  },
  {
   "cell_type": "markdown",
   "id": "ed4d745a",
   "metadata": {},
   "source": [
    "### 배열 값 삭제\n",
    "* delete() : 배열의 특정 위치에 값 삭제\n",
    "* axis를 지정하지 않으면 1차원 배열로 변환\n",
    "* 삭제할 방향을 axis로 지정\n",
    "* 원본 배열 변경없이 새로운 배열 return"
   ]
  },
  {
   "cell_type": "code",
   "execution_count": 49,
   "id": "aa6c4179",
   "metadata": {},
   "outputs": [
    {
     "name": "stdout",
     "output_type": "stream",
     "text": [
      "[9 4 3 4 4]\n",
      "[9 3 4 4]\n",
      "[9 4 3 4 4]\n"
     ]
    }
   ],
   "source": [
    "print(al)\n",
    "bl = np.delete(al,1)\n",
    "print(bl)\n",
    "print(al)"
   ]
  },
  {
   "cell_type": "code",
   "execution_count": 50,
   "id": "cd7532da",
   "metadata": {},
   "outputs": [
    {
     "name": "stdout",
     "output_type": "stream",
     "text": [
      "[[1 0 1 1]\n",
      " [4 2 0 5]\n",
      " [7 8 9 2]]\n",
      "[[1 0 1 1]\n",
      " [7 8 9 2]]\n",
      "[[1 1 1]\n",
      " [4 0 5]\n",
      " [7 9 2]]\n"
     ]
    }
   ],
   "source": [
    "print(a2)\n",
    "b2 = np.delete(a2,1,axis=0) # 첫번재 row를 기준으로 \n",
    "print(b2)\n",
    "c2 = np.delete(a2,1,axis=1) # column을 기준으로 첫번째 제거\n",
    "print(c2)"
   ]
  },
  {
   "cell_type": "markdown",
   "id": "df7457ab",
   "metadata": {},
   "source": [
    "### 배열 복사\n",
    "* 리스트 자료형과 달리 배열의 슬라이스는 복사본이 아님"
   ]
  },
  {
   "cell_type": "code",
   "execution_count": 53,
   "id": "ec053792",
   "metadata": {},
   "outputs": [
    {
     "name": "stdout",
     "output_type": "stream",
     "text": [
      "[[1 0 1 1]\n",
      " [4 0 0 5]\n",
      " [7 8 9 2]]\n",
      "[[1 0]\n",
      " [4 0]]\n",
      "[[1 0]\n",
      " [4 0]]\n",
      "[[1 0]\n",
      " [4 0]]\n",
      "[[1 0 1 1]\n",
      " [4 0 0 5]\n",
      " [7 8 9 2]]\n"
     ]
    }
   ],
   "source": [
    "print(a2)\n",
    "print(a2[:2,:2])\n",
    "a2_sub = a2[:2,:2] # 동일한 메모리의 위치를 사용한다.\n",
    "print(a2_sub)\n",
    "a2_sub[:,1] =0\n",
    "print(a2_sub)\n",
    "\n",
    "print(a2)"
   ]
  },
  {
   "cell_type": "markdown",
   "id": "39b741ca",
   "metadata": {},
   "source": [
    "* copy() : 배열이나 하위 배열 내의 값을 명시적으로 복사"
   ]
  },
  {
   "cell_type": "code",
   "execution_count": 54,
   "id": "13237e9d",
   "metadata": {},
   "outputs": [
    {
     "name": "stdout",
     "output_type": "stream",
     "text": [
      "[[1 0 1 1]\n",
      " [4 0 0 5]\n",
      " [7 8 9 2]]\n",
      "[[1 0]\n",
      " [4 0]]\n",
      "[[1 1]\n",
      " [4 1]]\n",
      "[[1 0 1 1]\n",
      " [4 0 0 5]\n",
      " [7 8 9 2]]\n"
     ]
    }
   ],
   "source": [
    "print(a2)\n",
    "a2_sub_copy = a2[:2,:2].copy()\n",
    "print(a2_sub_copy)\n",
    "a2_sub_copy[:,1] = 1\n",
    "print(a2_sub_copy)\n",
    "print(a2)"
   ]
  },
  {
   "cell_type": "markdown",
   "id": "37e3095a",
   "metadata": {},
   "source": [
    "# 🤎배열 변환"
   ]
  },
  {
   "cell_type": "markdown",
   "id": "018a9373",
   "metadata": {},
   "source": [
    "### 배열 전치 및 축 변경"
   ]
  },
  {
   "cell_type": "code",
   "execution_count": 57,
   "id": "6e8745cf",
   "metadata": {},
   "outputs": [
    {
     "name": "stdout",
     "output_type": "stream",
     "text": [
      "[[1 0 1 1]\n",
      " [4 0 0 5]\n",
      " [7 8 9 2]]\n",
      "[[1 4 7]\n",
      " [0 0 8]\n",
      " [1 0 9]\n",
      " [1 5 2]]\n"
     ]
    }
   ],
   "source": [
    "print(a2)\n",
    "print(a2.T) # 행과 열이 바뀜"
   ]
  },
  {
   "cell_type": "code",
   "execution_count": 58,
   "id": "bfbd2ed3",
   "metadata": {},
   "outputs": [
    {
     "name": "stdout",
     "output_type": "stream",
     "text": [
      "[[[1 2 3]\n",
      "  [4 5 6]\n",
      "  [7 8 9]]\n",
      "\n",
      " [[1 2 3]\n",
      "  [4 5 6]\n",
      "  [7 8 9]]\n",
      "\n",
      " [[1 2 3]\n",
      "  [4 5 6]\n",
      "  [7 8 9]]]\n",
      "[[[1 1 1]\n",
      "  [4 4 4]\n",
      "  [7 7 7]]\n",
      "\n",
      " [[2 2 2]\n",
      "  [5 5 5]\n",
      "  [8 8 8]]\n",
      "\n",
      " [[3 3 3]\n",
      "  [6 6 6]\n",
      "  [9 9 9]]]\n"
     ]
    }
   ],
   "source": [
    "print(a3)\n",
    "print(a3.T)"
   ]
  },
  {
   "cell_type": "markdown",
   "id": "6d1ad881",
   "metadata": {},
   "source": [
    "### 배열 재구조화\n",
    "* reshape() : 배열의 형상을 변경\n",
    "* newaxis() : 새로운 축 추가"
   ]
  },
  {
   "cell_type": "code",
   "execution_count": 64,
   "id": "a1d68a1c",
   "metadata": {},
   "outputs": [
    {
     "name": "stdout",
     "output_type": "stream",
     "text": [
      "[1 2 3 4 5 6 7 8 9]\n",
      "[[1 2 3]\n",
      " [4 5 6]\n",
      " [7 8 9]]\n"
     ]
    }
   ],
   "source": [
    "n1 = np.arange(1,10)\n",
    "print(n1)\n",
    "print(n1.reshape(3,3)) # 1차원이 2차원으로"
   ]
  },
  {
   "cell_type": "code",
   "execution_count": 66,
   "id": "f5bad670",
   "metadata": {},
   "outputs": [
    {
     "name": "stdout",
     "output_type": "stream",
     "text": [
      "[1 2 3 4 5 6 7 8 9]\n",
      "[[1 2 3 4 5]]\n",
      "[[1]\n",
      " [2]\n",
      " [3]\n",
      " [4]\n",
      " [5]]\n"
     ]
    }
   ],
   "source": [
    "print(n1)\n",
    "print(n1[np.newaxis,:5])\n",
    "print(n1[:5,np.newaxis])"
   ]
  },
  {
   "cell_type": "markdown",
   "id": "3a9458e9",
   "metadata": {},
   "source": [
    "### 배열 크기 변경\n",
    "* 배열 모양만 변경"
   ]
  },
  {
   "cell_type": "code",
   "execution_count": 71,
   "id": "04f98ffa",
   "metadata": {},
   "outputs": [
    {
     "name": "stdout",
     "output_type": "stream",
     "text": [
      "[[7 6 4 9 7]\n",
      " [9 3 1 8 8]]\n",
      "[[7 6]\n",
      " [4 9]\n",
      " [7 9]\n",
      " [3 1]\n",
      " [8 8]]\n"
     ]
    }
   ],
   "source": [
    "n2 = np.random.randint(0,10,(2,5))\n",
    "print(n2)\n",
    "n2.resize((5,2))\n",
    "print(n2)"
   ]
  },
  {
   "cell_type": "markdown",
   "id": "de871d3b",
   "metadata": {},
   "source": [
    "* 배열 크기 증가\n",
    "* 남은 공간은 0으로 채워짐"
   ]
  },
  {
   "cell_type": "code",
   "execution_count": 72,
   "id": "cc7b2294",
   "metadata": {},
   "outputs": [
    {
     "name": "stdout",
     "output_type": "stream",
     "text": [
      "[[7 6 4 9 7]\n",
      " [9 3 1 8 8]\n",
      " [0 0 0 0 0]\n",
      " [0 0 0 0 0]\n",
      " [0 0 0 0 0]]\n"
     ]
    }
   ],
   "source": [
    "n2.resize((5,5))\n",
    "print(n2)"
   ]
  },
  {
   "cell_type": "markdown",
   "id": "bc57a4be",
   "metadata": {},
   "source": [
    "* 배열크기감소\n",
    "* 포함되지 않은 값은 삭제됨"
   ]
  },
  {
   "cell_type": "code",
   "execution_count": 73,
   "id": "79367313",
   "metadata": {},
   "outputs": [
    {
     "name": "stdout",
     "output_type": "stream",
     "text": [
      "[[7 6 4]\n",
      " [9 7 9]\n",
      " [3 1 8]]\n"
     ]
    }
   ],
   "source": [
    "n2.resize((3,3))\n",
    "print(n2)"
   ]
  },
  {
   "cell_type": "markdown",
   "id": "4e16bbae",
   "metadata": {},
   "source": [
    "### 배열추가\n",
    "* append() : 배열의 끝에 값 추가"
   ]
  },
  {
   "cell_type": "code",
   "execution_count": 75,
   "id": "e8bfb78a",
   "metadata": {},
   "outputs": [
    {
     "name": "stdout",
     "output_type": "stream",
     "text": [
      "[[1 2 3]\n",
      " [4 5 6]\n",
      " [7 8 9]]\n",
      "[[10 11 12]\n",
      " [13 14 15]\n",
      " [16 17 18]]\n"
     ]
    }
   ],
   "source": [
    "a2 = np.arange(1,10).reshape(3,3)\n",
    "print(a2)\n",
    "\n",
    "b2 = np.arange(10,19).reshape(3,3)\n",
    "print(b2)"
   ]
  },
  {
   "cell_type": "markdown",
   "id": "64c9e550",
   "metadata": {},
   "source": [
    "* axis 지정이 없으면 1차원 배열 형태로 변형되어 결합"
   ]
  },
  {
   "cell_type": "code",
   "execution_count": 76,
   "id": "53f181c0",
   "metadata": {},
   "outputs": [
    {
     "name": "stdout",
     "output_type": "stream",
     "text": [
      "[ 1  2  3  4  5  6  7  8  9 10 11 12 13 14 15 16 17 18]\n"
     ]
    }
   ],
   "source": [
    "c2 = np.append(a2,b2)\n",
    "print(c2)"
   ]
  },
  {
   "cell_type": "markdown",
   "id": "5c60a9b6",
   "metadata": {},
   "source": [
    "* axis를 0으로 지정\n",
    "* shape[0]을 제외한 나머지 shape는 같아야함"
   ]
  },
  {
   "cell_type": "code",
   "execution_count": 77,
   "id": "b2f66a27",
   "metadata": {},
   "outputs": [
    {
     "name": "stdout",
     "output_type": "stream",
     "text": [
      "[[ 1  2  3]\n",
      " [ 4  5  6]\n",
      " [ 7  8  9]\n",
      " [10 11 12]\n",
      " [13 14 15]\n",
      " [16 17 18]]\n"
     ]
    }
   ],
   "source": [
    "c2 = np.append(a2,b2, axis=0)\n",
    "print(c2)"
   ]
  },
  {
   "cell_type": "markdown",
   "id": "925baf83",
   "metadata": {},
   "source": [
    "* axis를 1로 지정\n",
    "* shape[1]을 제외한 나머지 shape는 같아야함"
   ]
  },
  {
   "cell_type": "code",
   "execution_count": 78,
   "id": "31722a49",
   "metadata": {},
   "outputs": [
    {
     "name": "stdout",
     "output_type": "stream",
     "text": [
      "[[ 1  2  3 10 11 12]\n",
      " [ 4  5  6 13 14 15]\n",
      " [ 7  8  9 16 17 18]]\n"
     ]
    }
   ],
   "source": [
    "c2 = np.append(a2,b2, axis=1)\n",
    "print(c2)"
   ]
  },
  {
   "cell_type": "markdown",
   "id": "9cace4f9",
   "metadata": {},
   "source": [
    "### 배열 연결\n",
    "* concatenate() : 튜플이나 배열의 리스트를 인수로 사용해 배열 연결"
   ]
  },
  {
   "cell_type": "code",
   "execution_count": 79,
   "id": "0ee91bb4",
   "metadata": {},
   "outputs": [
    {
     "data": {
      "text/plain": [
       "array([1, 3, 5, 2, 4, 6])"
      ]
     },
     "execution_count": 79,
     "metadata": {},
     "output_type": "execute_result"
    }
   ],
   "source": [
    "a1 = np.array([1,3,5])\n",
    "b1 = np.array([2,4,6])\n",
    "np.concatenate([a1,b1])"
   ]
  },
  {
   "cell_type": "code",
   "execution_count": 80,
   "id": "9806fa8e",
   "metadata": {},
   "outputs": [
    {
     "data": {
      "text/plain": [
       "array([1, 3, 5, 2, 4, 6, 7, 8, 9])"
      ]
     },
     "execution_count": 80,
     "metadata": {},
     "output_type": "execute_result"
    }
   ],
   "source": [
    "c1 = np.array([7,8,9])\n",
    "np.concatenate([a1,b1,c1])"
   ]
  },
  {
   "cell_type": "code",
   "execution_count": 85,
   "id": "8ef152e1",
   "metadata": {},
   "outputs": [
    {
     "data": {
      "text/plain": [
       "array([[1, 2, 3],\n",
       "       [4, 5, 6],\n",
       "       [1, 2, 3],\n",
       "       [4, 5, 6]])"
      ]
     },
     "execution_count": 85,
     "metadata": {},
     "output_type": "execute_result"
    }
   ],
   "source": [
    "a2 = np.array([[1,2,3],\n",
    "               [4,5,6]])\n",
    "np.concatenate([a2,a2])"
   ]
  },
  {
   "cell_type": "code",
   "execution_count": 82,
   "id": "301cdc47",
   "metadata": {},
   "outputs": [
    {
     "data": {
      "text/plain": [
       "array([[1, 2, 3, 1, 2, 3],\n",
       "       [4, 5, 6, 4, 5, 6]])"
      ]
     },
     "execution_count": 82,
     "metadata": {},
     "output_type": "execute_result"
    }
   ],
   "source": [
    "a2 = np.array([[1,2,3],[4,5,6]])\n",
    "np.concatenate([a2,a2], axis = 1)"
   ]
  },
  {
   "cell_type": "markdown",
   "id": "130c7e66",
   "metadata": {},
   "source": [
    "* vstack() : 수직 스택 , 1차원으로 연결"
   ]
  },
  {
   "cell_type": "code",
   "execution_count": 83,
   "id": "1d5e75f0",
   "metadata": {},
   "outputs": [
    {
     "data": {
      "text/plain": [
       "array([[1, 2, 3],\n",
       "       [4, 5, 6],\n",
       "       [1, 2, 3],\n",
       "       [4, 5, 6]])"
      ]
     },
     "execution_count": 83,
     "metadata": {},
     "output_type": "execute_result"
    }
   ],
   "source": [
    "np.vstack([a2,a2])"
   ]
  },
  {
   "cell_type": "markdown",
   "id": "5d154313",
   "metadata": {},
   "source": [
    "* hstack() : 수평스택, 2차원으로 연결"
   ]
  },
  {
   "cell_type": "code",
   "execution_count": 84,
   "id": "b6eeb5a2",
   "metadata": {},
   "outputs": [
    {
     "data": {
      "text/plain": [
       "array([[1, 2, 3, 1, 2, 3],\n",
       "       [4, 5, 6, 4, 5, 6]])"
      ]
     },
     "execution_count": 84,
     "metadata": {},
     "output_type": "execute_result"
    }
   ],
   "source": [
    "np.hstack([a2,a2])"
   ]
  },
  {
   "cell_type": "markdown",
   "id": "a9e6ddae",
   "metadata": {},
   "source": [
    "* dstack() : 깊이스택, 3차원으로 연결"
   ]
  },
  {
   "cell_type": "code",
   "execution_count": 86,
   "id": "f3cc4243",
   "metadata": {},
   "outputs": [
    {
     "data": {
      "text/plain": [
       "array([[[1, 1],\n",
       "        [2, 2],\n",
       "        [3, 3]],\n",
       "\n",
       "       [[4, 4],\n",
       "        [5, 5],\n",
       "        [6, 6]]])"
      ]
     },
     "execution_count": 86,
     "metadata": {},
     "output_type": "execute_result"
    }
   ],
   "source": [
    "np.dstack([a2,a2])"
   ]
  },
  {
   "cell_type": "markdown",
   "id": "79b8a7a9",
   "metadata": {},
   "source": [
    "* stack() : 새로운 차원으로 연결"
   ]
  },
  {
   "cell_type": "code",
   "execution_count": 88,
   "id": "d967ce05",
   "metadata": {},
   "outputs": [
    {
     "data": {
      "text/plain": [
       "array([[[1, 2, 3],\n",
       "        [4, 5, 6]],\n",
       "\n",
       "       [[1, 2, 3],\n",
       "        [4, 5, 6]]])"
      ]
     },
     "execution_count": 88,
     "metadata": {},
     "output_type": "execute_result"
    }
   ],
   "source": [
    "np.stack([a2,a2]) # 2차원이 3차원으로"
   ]
  },
  {
   "cell_type": "markdown",
   "id": "beb1523c",
   "metadata": {},
   "source": [
    "### 배열 분할\n",
    "* split() : 배열 분할"
   ]
  },
  {
   "cell_type": "code",
   "execution_count": 100,
   "id": "cce1a1cf",
   "metadata": {},
   "outputs": [
    {
     "name": "stdout",
     "output_type": "stream",
     "text": [
      "[0 1 2 3 4 5 6 7 8 9]\n",
      "[0 1 2 3 4] [5 6 7 8 9]\n",
      "[0 1] [2 3] [4 5] [6 7] [8 9]\n"
     ]
    }
   ],
   "source": [
    "a1 = np.arange(0,10)\n",
    "print(a1)\n",
    "b1, c1 = np.split(a1,[5])\n",
    "print(b1, c1)\n",
    "b1, c1,d1,e1,f1 = np.split(a1,[2,4,6,8])\n",
    "print(b1, c1,d1,e1,f1)"
   ]
  },
  {
   "cell_type": "markdown",
   "id": "644344c7",
   "metadata": {},
   "source": [
    "* vsplit(): 수직 분할, 1차원으로 분할"
   ]
  },
  {
   "cell_type": "code",
   "execution_count": 102,
   "id": "7e2ffb67",
   "metadata": {},
   "outputs": [
    {
     "name": "stdout",
     "output_type": "stream",
     "text": [
      "[[1 2 3]\n",
      " [4 5 6]\n",
      " [7 8 9]]\n",
      "[[1 2 3]\n",
      " [4 5 6]]\n",
      "[[7 8 9]]\n"
     ]
    }
   ],
   "source": [
    "a2 = np.arange(1,10).reshape(3,3)\n",
    "print(a2)\n",
    "b2,c2 = np.vsplit(a2,[2])\n",
    "print(b2)\n",
    "print(c2)"
   ]
  },
  {
   "cell_type": "markdown",
   "id": "5b5f7abf",
   "metadata": {},
   "source": [
    "* hsplit(): 수평 분할, 2차원으로 분할"
   ]
  },
  {
   "cell_type": "code",
   "execution_count": 104,
   "id": "9231807a",
   "metadata": {},
   "outputs": [
    {
     "name": "stdout",
     "output_type": "stream",
     "text": [
      "[[1 2 3]\n",
      " [4 5 6]\n",
      " [7 8 9]]\n",
      "[[1]\n",
      " [4]\n",
      " [7]]\n",
      "[[2 3]\n",
      " [5 6]\n",
      " [8 9]]\n"
     ]
    }
   ],
   "source": [
    "a2 = np.arange(1,10).reshape(3,3)\n",
    "print(a2)\n",
    "b2,c2 = np.hsplit(a2,[1])\n",
    "print(b2)\n",
    "print(c2)"
   ]
  },
  {
   "cell_type": "markdown",
   "id": "e7bebfcf",
   "metadata": {},
   "source": [
    "* dsplit(): 수평 분할, 3차원으로 분할"
   ]
  },
  {
   "cell_type": "code",
   "execution_count": 110,
   "id": "8f9bd1c0",
   "metadata": {},
   "outputs": [
    {
     "name": "stdout",
     "output_type": "stream",
     "text": [
      "[[[ 1  2  3]\n",
      "  [ 4  5  6]\n",
      "  [ 7  8  9]]\n",
      "\n",
      " [[10 11 12]\n",
      "  [13 14 15]\n",
      "  [16 17 18]]\n",
      "\n",
      " [[19 20 21]\n",
      "  [22 23 24]\n",
      "  [25 26 27]]]\n",
      "[[[ 1  2  3]\n",
      "  [ 4  5  6]]\n",
      "\n",
      " [[10 11 12]\n",
      "  [13 14 15]]\n",
      "\n",
      " [[19 20 21]\n",
      "  [22 23 24]]]\n",
      "[[[ 7  8  9]]\n",
      "\n",
      " [[16 17 18]]\n",
      "\n",
      " [[25 26 27]]]\n"
     ]
    }
   ],
   "source": [
    "a3 = np.arange(1,28).reshape(3,3,3)\n",
    "print(a3)\n",
    "b3,c3 = np.hsplit(a3,[2])\n",
    "print(b3)\n",
    "print(c3)"
   ]
  },
  {
   "cell_type": "code",
   "execution_count": null,
   "id": "cb368d15",
   "metadata": {},
   "outputs": [],
   "source": []
  },
  {
   "cell_type": "code",
   "execution_count": null,
   "id": "4254d32a",
   "metadata": {},
   "outputs": [],
   "source": []
  },
  {
   "cell_type": "code",
   "execution_count": null,
   "id": "6099b661",
   "metadata": {},
   "outputs": [],
   "source": []
  },
  {
   "cell_type": "code",
   "execution_count": null,
   "id": "9557c86e",
   "metadata": {},
   "outputs": [],
   "source": []
  },
  {
   "cell_type": "code",
   "execution_count": null,
   "id": "2b102baa",
   "metadata": {},
   "outputs": [],
   "source": []
  },
  {
   "cell_type": "code",
   "execution_count": null,
   "id": "a57ef2db",
   "metadata": {},
   "outputs": [],
   "source": []
  },
  {
   "cell_type": "code",
   "execution_count": null,
   "id": "269074ea",
   "metadata": {},
   "outputs": [],
   "source": []
  },
  {
   "cell_type": "code",
   "execution_count": null,
   "id": "4790839d",
   "metadata": {},
   "outputs": [],
   "source": []
  },
  {
   "cell_type": "code",
   "execution_count": null,
   "id": "dbb71a1d",
   "metadata": {},
   "outputs": [],
   "source": []
  },
  {
   "cell_type": "code",
   "execution_count": null,
   "id": "23db7498",
   "metadata": {},
   "outputs": [],
   "source": []
  },
  {
   "cell_type": "code",
   "execution_count": null,
   "id": "f2cab2fc",
   "metadata": {},
   "outputs": [],
   "source": []
  },
  {
   "cell_type": "code",
   "execution_count": null,
   "id": "0f150c61",
   "metadata": {},
   "outputs": [],
   "source": []
  },
  {
   "cell_type": "code",
   "execution_count": null,
   "id": "27baa9ed",
   "metadata": {},
   "outputs": [],
   "source": []
  },
  {
   "cell_type": "code",
   "execution_count": null,
   "id": "92b13361",
   "metadata": {},
   "outputs": [],
   "source": []
  },
  {
   "cell_type": "code",
   "execution_count": null,
   "id": "40e75148",
   "metadata": {},
   "outputs": [],
   "source": []
  },
  {
   "cell_type": "code",
   "execution_count": null,
   "id": "f39a8a2a",
   "metadata": {},
   "outputs": [],
   "source": []
  },
  {
   "cell_type": "code",
   "execution_count": null,
   "id": "ef79e92e",
   "metadata": {},
   "outputs": [],
   "source": []
  },
  {
   "cell_type": "code",
   "execution_count": null,
   "id": "86ff4b9a",
   "metadata": {},
   "outputs": [],
   "source": []
  },
  {
   "cell_type": "code",
   "execution_count": null,
   "id": "ac0d28e1",
   "metadata": {},
   "outputs": [],
   "source": []
  },
  {
   "cell_type": "code",
   "execution_count": null,
   "id": "e3f06dec",
   "metadata": {},
   "outputs": [],
   "source": []
  },
  {
   "cell_type": "code",
   "execution_count": null,
   "id": "71269b1e",
   "metadata": {},
   "outputs": [],
   "source": []
  },
  {
   "cell_type": "code",
   "execution_count": null,
   "id": "6c20ace9",
   "metadata": {},
   "outputs": [],
   "source": []
  },
  {
   "cell_type": "code",
   "execution_count": null,
   "id": "6006d402",
   "metadata": {},
   "outputs": [],
   "source": []
  },
  {
   "cell_type": "code",
   "execution_count": null,
   "id": "5ff69846",
   "metadata": {},
   "outputs": [],
   "source": []
  },
  {
   "cell_type": "code",
   "execution_count": null,
   "id": "f9de179b",
   "metadata": {},
   "outputs": [],
   "source": []
  },
  {
   "cell_type": "code",
   "execution_count": null,
   "id": "7ea94376",
   "metadata": {},
   "outputs": [],
   "source": []
  },
  {
   "cell_type": "code",
   "execution_count": null,
   "id": "64f66202",
   "metadata": {},
   "outputs": [],
   "source": []
  },
  {
   "cell_type": "code",
   "execution_count": null,
   "id": "9d5d8c41",
   "metadata": {},
   "outputs": [],
   "source": []
  },
  {
   "cell_type": "code",
   "execution_count": null,
   "id": "5dca9873",
   "metadata": {},
   "outputs": [],
   "source": []
  },
  {
   "cell_type": "code",
   "execution_count": null,
   "id": "0e1df2b2",
   "metadata": {},
   "outputs": [],
   "source": []
  },
  {
   "cell_type": "code",
   "execution_count": null,
   "id": "7562ae14",
   "metadata": {},
   "outputs": [],
   "source": []
  },
  {
   "cell_type": "code",
   "execution_count": null,
   "id": "fa99c29b",
   "metadata": {},
   "outputs": [],
   "source": []
  }
 ],
 "metadata": {
  "kernelspec": {
   "display_name": "Python 3",
   "language": "python",
   "name": "python3"
  },
  "language_info": {
   "codemirror_mode": {
    "name": "ipython",
    "version": 3
   },
   "file_extension": ".py",
   "mimetype": "text/x-python",
   "name": "python",
   "nbconvert_exporter": "python",
   "pygments_lexer": "ipython3",
   "version": "3.8.8"
  }
 },
 "nbformat": 4,
 "nbformat_minor": 5
}
