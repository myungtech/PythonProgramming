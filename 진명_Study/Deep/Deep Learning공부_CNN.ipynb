{
 "cells": [
  {
   "cell_type": "markdown",
   "id": "3eb49b15",
   "metadata": {},
   "source": [
    "# 💛합성곱 신경망 CNN\n",
    "* 이미지 인식, 음성 인식에 자주 사용됨"
   ]
  },
  {
   "cell_type": "markdown",
   "id": "fb3cdbe7",
   "metadata": {},
   "source": [
    "## 합성곱 연산\n",
    "* 필터 연산\n",
    " * 입력 데이터에 필터를 통한 어떠한 연산을 진행\n",
    " * 필터에 대응하는 원소기리 곱하고, 그 합을 구함\n",
    " * 연산이 완료된 결과 데이터를 feature map이라고 부름\n",
    "* 필터\n",
    " * 커널(kernel)이라고도 부름\n",
    " * 사진 어플에서 사용하는 이미지 필터와 비슷한 개념\n",
    " * 필터의 사이즈는 거의 항상 홀수\n",
    "   * 짝수이면 패딩이 비대칭\n",
    "   * 왼쪽 오른쪽 다르게\n",
    "   * 중심위치가 존재, 즉 구별된 하나의 필셀이 존재\n",
    " * 필터의 학습 파라미터 개수는 입력 데이터의 크기와 상관없이 일정함\n",
    "   * 과적합을 방지함"
   ]
  },
  {
   "cell_type": "markdown",
   "id": "3927599e",
   "metadata": {},
   "source": [
    "## 🔸패딩(padding)과 스트라이드(stride)\n",
    "* 필터(커널) 사이즈와 함께 입력 이미지와 출력 이미지의 사이즈를 결정하기 위해 사용\n",
    "* 사용자가 결정"
   ]
  },
  {
   "cell_type": "markdown",
   "id": "69b1e4d8",
   "metadata": {},
   "source": [
    "### 패딩\n",
    "* 입력 데이터의 주변을 특정 값으로 채우는 기법\n",
    " * 주로 0으로 많이 채움"
   ]
  },
  {
   "cell_type": "markdown",
   "id": "4d288aa7",
   "metadata": {},
   "source": [
    "### valid 와 same\n",
    "* valid\n",
    "    * 패딩을 주지 않음\n",
    "    * padding = 0 패딩을 주지 않는다.\n",
    "    \n",
    "* same\n",
    "    * 패딩을 주어 입력 이미지의 크기와 연산 후의 이미지 크기를 같게함"
   ]
  },
  {
   "cell_type": "markdown",
   "id": "02e0b7c9",
   "metadata": {},
   "source": [
    "### 스트라이드\n",
    "* 필터를 적용하는 간격을 의미"
   ]
  },
  {
   "cell_type": "markdown",
   "id": "a590785a",
   "metadata": {},
   "source": [
    "# 💚풀링 (pooling)"
   ]
  },
  {
   "cell_type": "code",
   "execution_count": null,
   "id": "9d81759d",
   "metadata": {},
   "outputs": [],
   "source": []
  },
  {
   "cell_type": "code",
   "execution_count": null,
   "id": "72c50a50",
   "metadata": {},
   "outputs": [],
   "source": []
  },
  {
   "cell_type": "code",
   "execution_count": 3,
   "id": "3ef7e131",
   "metadata": {},
   "outputs": [],
   "source": [
    "import cv2\n",
    "import numpy as np\n",
    "import matplotlib.pyplot as plt\n",
    "import urllib\n",
    "import requests\n",
    "from io import BytesIO"
   ]
  },
  {
   "cell_type": "code",
   "execution_count": null,
   "id": "4e95b424",
   "metadata": {},
   "outputs": [],
   "source": [
    "def url_to_image(url,gray=false):\n",
    "    resp = urllib.request.urlopen(url)\n",
    "    image = np.asarray(bytearray(resp.read()),dtype=\"uint8\")\n",
    "    \n",
    "    if gray == True:\n",
    "        image = cv2.imdecode(image,cv2.IMREAD_GRAYSCALE)\n",
    "    else:\n",
    "        image = cv2.imdecode(image,cv2.IMREAD_GRAYSCALE)"
   ]
  }
 ],
 "metadata": {
  "kernelspec": {
   "display_name": "Python 3",
   "language": "python",
   "name": "python3"
  },
  "language_info": {
   "codemirror_mode": {
    "name": "ipython",
    "version": 3
   },
   "file_extension": ".py",
   "mimetype": "text/x-python",
   "name": "python",
   "nbconvert_exporter": "python",
   "pygments_lexer": "ipython3",
   "version": "3.8.8"
  }
 },
 "nbformat": 4,
 "nbformat_minor": 5
}
