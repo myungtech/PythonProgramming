{
 "cells": [
  {
   "cell_type": "code",
   "execution_count": 47,
   "id": "85134403",
   "metadata": {},
   "outputs": [],
   "source": [
    "import serial\n",
    "import time\n",
    "\n",
    "def traffic_sign\n",
    "    # 'COM3' 부분에 환경에 맞는 포트 입력\n",
    "    ser = serial.Serial('COM5', 9600)\n",
    "\n",
    "        while True:\n",
    "        if ser.readable():\n",
    "            val = input()\n",
    "            if val in '12389':\n",
    "                if val == '9':\n",
    "                    val = val.encode('utf-8')\n",
    "                    ser.write(val)\n",
    "                    ser.close()\n",
    "                    break;\n",
    "                val = val.encode('utf-8')\n",
    "                ser.write(val)\n",
    "                print(\"LED TURNED CHANGE\")\n",
    "        if 'open=False' in str(ser):\n",
    "        ser.close"
   ]
  },
  {
   "cell_type": "markdown",
   "id": "eed4a557",
   "metadata": {},
   "source": [
    "### "
   ]
  }
 ],
 "metadata": {
  "kernelspec": {
   "display_name": "Python 3 (ipykernel)",
   "language": "python",
   "name": "python3"
  },
  "language_info": {
   "codemirror_mode": {
    "name": "ipython",
    "version": 3
   },
   "file_extension": ".py",
   "mimetype": "text/x-python",
   "name": "python",
   "nbconvert_exporter": "python",
   "pygments_lexer": "ipython3",
   "version": "3.9.7"
  }
 },
 "nbformat": 4,
 "nbformat_minor": 5
}
