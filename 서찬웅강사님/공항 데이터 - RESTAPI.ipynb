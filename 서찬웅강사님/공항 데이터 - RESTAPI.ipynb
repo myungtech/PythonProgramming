{
 "cells": [
  {
   "cell_type": "code",
   "execution_count": 1,
   "metadata": {},
   "outputs": [],
   "source": [
    "import requests\n",
    "import xml.etree.ElementTree as ET\n",
    "import pandas as pd\n",
    "from urllib import parse\n",
    "import pymysql"
   ]
  },
  {
   "cell_type": "code",
   "execution_count": 2,
   "metadata": {},
   "outputs": [],
   "source": [
    "url = \"http://openapi.airport.co.kr/service/rest/FlightScheduleList/getIflightScheduleList?serviceKey=WRvGBkn9UEtw%2BAsg0tYo210Etxvb1QEcAX%2BwfWvOxVGYJkh1CNZ%2FY4QFa0r7j4bhT4NjPu7z1i1ck8ZgsKMt2Q%3D%3D&schDate=20151005&numOfRows=5000\""
   ]
  },
  {
   "cell_type": "markdown",
   "metadata": {},
   "source": [
    "이부분에서 고친 부분이 있나여ㅛ??"
   ]
  },
  {
   "cell_type": "code",
   "execution_count": 3,
   "metadata": {},
   "outputs": [],
   "source": [
    "result = parse.urlparse(url)"
   ]
  },
  {
   "cell_type": "code",
   "execution_count": 4,
   "metadata": {},
   "outputs": [
    {
     "data": {
      "text/plain": [
       "ParseResult(scheme='http', netloc='openapi.airport.co.kr', path='/service/rest/FlightScheduleList/getIflightScheduleList', params='', query='serviceKey=WRvGBkn9UEtw%2BAsg0tYo210Etxvb1QEcAX%2BwfWvOxVGYJkh1CNZ%2FY4QFa0r7j4bhT4NjPu7z1i1ck8ZgsKMt2Q%3D%3D&schDate=20151005&numOfRows=5000', fragment='')"
      ]
     },
     "execution_count": 4,
     "metadata": {},
     "output_type": "execute_result"
    }
   ],
   "source": [
    "result"
   ]
  },
  {
   "cell_type": "code",
   "execution_count": 5,
   "metadata": {},
   "outputs": [
    {
     "data": {
      "text/plain": [
       "'http://openapi.airport.co.kr/service/rest/FlightScheduleList/getIflightScheduleList?serviceKey=WRvGBkn9UEtw%2BAsg0tYo210Etxvb1QEcAX%2BwfWvOxVGYJkh1CNZ%2FY4QFa0r7j4bhT4NjPu7z1i1ck8ZgsKMt2Q%3D%3D&schDate=20151005&numOfRows=5000'"
      ]
     },
     "execution_count": 5,
     "metadata": {},
     "output_type": "execute_result"
    }
   ],
   "source": [
    "result.geturl()"
   ]
  },
  {
   "cell_type": "code",
   "execution_count": 6,
   "metadata": {},
   "outputs": [
    {
     "data": {
      "text/plain": [
       "'http'"
      ]
     },
     "execution_count": 6,
     "metadata": {},
     "output_type": "execute_result"
    }
   ],
   "source": [
    "result.scheme"
   ]
  },
  {
   "cell_type": "code",
   "execution_count": 7,
   "metadata": {},
   "outputs": [
    {
     "data": {
      "text/plain": [
       "'http'"
      ]
     },
     "execution_count": 7,
     "metadata": {},
     "output_type": "execute_result"
    }
   ],
   "source": [
    "result[0]"
   ]
  },
  {
   "cell_type": "code",
   "execution_count": 8,
   "metadata": {},
   "outputs": [
    {
     "data": {
      "text/plain": [
       "'openapi.airport.co.kr'"
      ]
     },
     "execution_count": 8,
     "metadata": {},
     "output_type": "execute_result"
    }
   ],
   "source": [
    "result.hostname"
   ]
  },
  {
   "cell_type": "code",
   "execution_count": 9,
   "metadata": {},
   "outputs": [
    {
     "data": {
      "text/plain": [
       "'/service/rest/FlightScheduleList/getIflightScheduleList'"
      ]
     },
     "execution_count": 9,
     "metadata": {},
     "output_type": "execute_result"
    }
   ],
   "source": [
    "result.path"
   ]
  },
  {
   "cell_type": "code",
   "execution_count": 10,
   "metadata": {},
   "outputs": [
    {
     "data": {
      "text/plain": [
       "'serviceKey=WRvGBkn9UEtw%2BAsg0tYo210Etxvb1QEcAX%2BwfWvOxVGYJkh1CNZ%2FY4QFa0r7j4bhT4NjPu7z1i1ck8ZgsKMt2Q%3D%3D&schDate=20151005&numOfRows=5000'"
      ]
     },
     "execution_count": 10,
     "metadata": {},
     "output_type": "execute_result"
    }
   ],
   "source": [
    "result.query"
   ]
  },
  {
   "cell_type": "markdown",
   "metadata": {},
   "source": [
    "* ParseResult를 사용하여 url주소 구조 완성 "
   ]
  },
  {
   "cell_type": "code",
   "execution_count": 11,
   "metadata": {},
   "outputs": [],
   "source": [
    "parse_result = parse.ParseResult(scheme  = result.scheme, netloc= result.hostname, path=result.path, \n",
    "                 params = result.params, query=result.query, fragment=result.fragment)"
   ]
  },
  {
   "cell_type": "code",
   "execution_count": 12,
   "metadata": {},
   "outputs": [
    {
     "data": {
      "text/plain": [
       "ParseResult(scheme='http', netloc='openapi.airport.co.kr', path='/service/rest/FlightScheduleList/getIflightScheduleList', params='', query='serviceKey=WRvGBkn9UEtw%2BAsg0tYo210Etxvb1QEcAX%2BwfWvOxVGYJkh1CNZ%2FY4QFa0r7j4bhT4NjPu7z1i1ck8ZgsKMt2Q%3D%3D&schDate=20151005&numOfRows=5000', fragment='')"
      ]
     },
     "execution_count": 12,
     "metadata": {},
     "output_type": "execute_result"
    }
   ],
   "source": [
    "parse_result"
   ]
  },
  {
   "cell_type": "markdown",
   "metadata": {},
   "source": [
    "* urlunparse() 메소드를 사용하여 주소 형태로 전달"
   ]
  },
  {
   "cell_type": "code",
   "execution_count": 13,
   "metadata": {},
   "outputs": [
    {
     "data": {
      "text/plain": [
       "'http://openapi.airport.co.kr/service/rest/FlightScheduleList/getIflightScheduleList?serviceKey=WRvGBkn9UEtw%2BAsg0tYo210Etxvb1QEcAX%2BwfWvOxVGYJkh1CNZ%2FY4QFa0r7j4bhT4NjPu7z1i1ck8ZgsKMt2Q%3D%3D&schDate=20151005&numOfRows=5000'"
      ]
     },
     "execution_count": 13,
     "metadata": {},
     "output_type": "execute_result"
    }
   ],
   "source": [
    "parse.urlunparse(parse_result)"
   ]
  },
  {
   "cell_type": "markdown",
   "metadata": {},
   "source": [
    "## 주소의 파라미터 수정하기"
   ]
  },
  {
   "cell_type": "code",
   "execution_count": 14,
   "metadata": {},
   "outputs": [],
   "source": [
    "query_dict = parse.parse_qs(result.query)"
   ]
  },
  {
   "cell_type": "code",
   "execution_count": 15,
   "metadata": {},
   "outputs": [
    {
     "data": {
      "text/plain": [
       "{'serviceKey': ['WRvGBkn9UEtw+Asg0tYo210Etxvb1QEcAX+wfWvOxVGYJkh1CNZ/Y4QFa0r7j4bhT4NjPu7z1i1ck8ZgsKMt2Q=='],\n",
       " 'schDate': ['20151005'],\n",
       " 'numOfRows': ['5000']}"
      ]
     },
     "execution_count": 15,
     "metadata": {},
     "output_type": "execute_result"
    }
   ],
   "source": [
    "query_dict"
   ]
  },
  {
   "cell_type": "markdown",
   "metadata": {},
   "source": [
    "### doseq 옵션\n",
    "* False가 기본값이며, dict의 value값의 []까지 인코딩을 한다. \n",
    "* True로 설정하면 실제 값만 인코딩을 한다"
   ]
  },
  {
   "cell_type": "code",
   "execution_count": 16,
   "metadata": {},
   "outputs": [
    {
     "data": {
      "text/plain": [
       "'serviceKey=WRvGBkn9UEtw%2BAsg0tYo210Etxvb1QEcAX%2BwfWvOxVGYJkh1CNZ%2FY4QFa0r7j4bhT4NjPu7z1i1ck8ZgsKMt2Q%3D%3D&schDate=20151005&numOfRows=5000'"
      ]
     },
     "execution_count": 16,
     "metadata": {},
     "output_type": "execute_result"
    }
   ],
   "source": [
    "parse.urlencode(query_dict, doseq=True)"
   ]
  },
  {
   "cell_type": "code",
   "execution_count": 17,
   "metadata": {},
   "outputs": [],
   "source": [
    "api_url = parse.ParseResult(scheme  = result.scheme, netloc= result.hostname, path=result.path, \n",
    "                 params = result.params, query=parse.urlencode(query_dict, doseq=True), fragment=result.fragment)"
   ]
  },
  {
   "cell_type": "code",
   "execution_count": 18,
   "metadata": {},
   "outputs": [],
   "source": [
    "url = parse.urlunparse(api_url)"
   ]
  },
  {
   "cell_type": "code",
   "execution_count": 19,
   "metadata": {},
   "outputs": [
    {
     "name": "stdout",
     "output_type": "stream",
     "text": [
      "http://openapi.airport.co.kr/service/rest/FlightScheduleList/getIflightScheduleList?serviceKey=WRvGBkn9UEtw%2BAsg0tYo210Etxvb1QEcAX%2BwfWvOxVGYJkh1CNZ%2FY4QFa0r7j4bhT4NjPu7z1i1ck8ZgsKMt2Q%3D%3D&schDate=20151005&numOfRows=5000\n"
     ]
    }
   ],
   "source": [
    "print (url)"
   ]
  },
  {
   "cell_type": "markdown",
   "metadata": {},
   "source": [
    "## xml 파싱"
   ]
  },
  {
   "cell_type": "code",
   "execution_count": 20,
   "metadata": {},
   "outputs": [],
   "source": [
    "r = requests.get(url)"
   ]
  },
  {
   "cell_type": "code",
   "execution_count": 21,
   "metadata": {},
   "outputs": [],
   "source": [
    "root = ET.fromstring(r.text)"
   ]
  },
  {
   "cell_type": "code",
   "execution_count": 22,
   "metadata": {},
   "outputs": [],
   "source": [
    "total = []\n",
    "items = root.iter(tag='item')\n",
    "for element in items:\n",
    "    #print(element.find(\"accDefRate\").text)\n",
    "    covid_dict = {}\n",
    "    for x in element:\n",
    "        covid_dict[x.tag] = x.text\n",
    "    total.append(covid_dict)"
   ]
  },
  {
   "cell_type": "code",
   "execution_count": 23,
   "metadata": {},
   "outputs": [
    {
     "data": {
      "text/plain": [
       "454"
      ]
     },
     "execution_count": 23,
     "metadata": {},
     "output_type": "execute_result"
    }
   ],
   "source": [
    "len(total)"
   ]
  },
  {
   "cell_type": "code",
   "execution_count": 24,
   "metadata": {},
   "outputs": [],
   "source": [
    "df = pd.DataFrame(total)"
   ]
  },
  {
   "cell_type": "code",
   "execution_count": 25,
   "metadata": {},
   "outputs": [
    {
     "data": {
      "text/html": [
       "<div>\n",
       "<style scoped>\n",
       "    .dataframe tbody tr th:only-of-type {\n",
       "        vertical-align: middle;\n",
       "    }\n",
       "\n",
       "    .dataframe tbody tr th {\n",
       "        vertical-align: top;\n",
       "    }\n",
       "\n",
       "    .dataframe thead th {\n",
       "        text-align: right;\n",
       "    }\n",
       "</style>\n",
       "<table border=\"1\" class=\"dataframe\">\n",
       "  <thead>\n",
       "    <tr style=\"text-align: right;\">\n",
       "      <th></th>\n",
       "      <th>airlineEnglish</th>\n",
       "      <th>airlineKorean</th>\n",
       "      <th>airport</th>\n",
       "      <th>airportCode</th>\n",
       "      <th>city</th>\n",
       "      <th>cityCode</th>\n",
       "      <th>flightPurpose</th>\n",
       "      <th>internationalEddate</th>\n",
       "      <th>internationalFri</th>\n",
       "      <th>internationalIoType</th>\n",
       "      <th>internationalMon</th>\n",
       "      <th>internationalNum</th>\n",
       "      <th>internationalSat</th>\n",
       "      <th>internationalStdate</th>\n",
       "      <th>internationalSun</th>\n",
       "      <th>internationalThu</th>\n",
       "      <th>internationalTime</th>\n",
       "      <th>internationalTue</th>\n",
       "      <th>internationalWed</th>\n",
       "    </tr>\n",
       "  </thead>\n",
       "  <tbody>\n",
       "    <tr>\n",
       "      <th>0</th>\n",
       "      <td>EASTAR JET</td>\n",
       "      <td>이스타항공</td>\n",
       "      <td>청주</td>\n",
       "      <td>CJJ</td>\n",
       "      <td>상해/푸동</td>\n",
       "      <td>PVG</td>\n",
       "      <td>여객기</td>\n",
       "      <td>2015-10-24T00:00:00+09:00</td>\n",
       "      <td>N</td>\n",
       "      <td>IN</td>\n",
       "      <td>N</td>\n",
       "      <td>ZE822</td>\n",
       "      <td>N</td>\n",
       "      <td>2015-07-21T00:00:00+09:00</td>\n",
       "      <td>Y</td>\n",
       "      <td>Y</td>\n",
       "      <td>0230</td>\n",
       "      <td>N</td>\n",
       "      <td>N</td>\n",
       "    </tr>\n",
       "    <tr>\n",
       "      <th>1</th>\n",
       "      <td>JEJU AIR</td>\n",
       "      <td>제주항공</td>\n",
       "      <td>대구</td>\n",
       "      <td>TAE</td>\n",
       "      <td>북경/베이징</td>\n",
       "      <td>PEK</td>\n",
       "      <td>여객기</td>\n",
       "      <td>2015-10-24T00:00:00+09:00</td>\n",
       "      <td>N</td>\n",
       "      <td>IN</td>\n",
       "      <td>N</td>\n",
       "      <td>7C8102</td>\n",
       "      <td>Y</td>\n",
       "      <td>2015-03-29T00:00:00+09:00</td>\n",
       "      <td>N</td>\n",
       "      <td>Y</td>\n",
       "      <td>0510</td>\n",
       "      <td>Y</td>\n",
       "      <td>N</td>\n",
       "    </tr>\n",
       "  </tbody>\n",
       "</table>\n",
       "</div>"
      ],
      "text/plain": [
       "  airlineEnglish airlineKorean airport airportCode    city cityCode  \\\n",
       "0     EASTAR JET         이스타항공      청주         CJJ   상해/푸동      PVG   \n",
       "1       JEJU AIR          제주항공      대구         TAE  북경/베이징      PEK   \n",
       "\n",
       "  flightPurpose        internationalEddate internationalFri  \\\n",
       "0           여객기  2015-10-24T00:00:00+09:00                N   \n",
       "1           여객기  2015-10-24T00:00:00+09:00                N   \n",
       "\n",
       "  internationalIoType internationalMon internationalNum internationalSat  \\\n",
       "0                  IN                N            ZE822                N   \n",
       "1                  IN                N           7C8102                Y   \n",
       "\n",
       "         internationalStdate internationalSun internationalThu  \\\n",
       "0  2015-07-21T00:00:00+09:00                Y                Y   \n",
       "1  2015-03-29T00:00:00+09:00                N                Y   \n",
       "\n",
       "  internationalTime internationalTue internationalWed  \n",
       "0              0230                N                N  \n",
       "1              0510                Y                N  "
      ]
     },
     "execution_count": 25,
     "metadata": {},
     "output_type": "execute_result"
    }
   ],
   "source": [
    "df.head(2)"
   ]
  },
  {
   "cell_type": "code",
   "execution_count": 26,
   "metadata": {},
   "outputs": [],
   "source": [
    "df = df.where(~(df == \"null\"), None)"
   ]
  },
  {
   "cell_type": "code",
   "execution_count": 27,
   "metadata": {},
   "outputs": [
    {
     "data": {
      "text/html": [
       "<div>\n",
       "<style scoped>\n",
       "    .dataframe tbody tr th:only-of-type {\n",
       "        vertical-align: middle;\n",
       "    }\n",
       "\n",
       "    .dataframe tbody tr th {\n",
       "        vertical-align: top;\n",
       "    }\n",
       "\n",
       "    .dataframe thead th {\n",
       "        text-align: right;\n",
       "    }\n",
       "</style>\n",
       "<table border=\"1\" class=\"dataframe\">\n",
       "  <thead>\n",
       "    <tr style=\"text-align: right;\">\n",
       "      <th></th>\n",
       "      <th>airlineEnglish</th>\n",
       "      <th>airlineKorean</th>\n",
       "      <th>airport</th>\n",
       "      <th>airportCode</th>\n",
       "      <th>city</th>\n",
       "      <th>cityCode</th>\n",
       "      <th>flightPurpose</th>\n",
       "      <th>internationalEddate</th>\n",
       "      <th>internationalFri</th>\n",
       "      <th>internationalIoType</th>\n",
       "      <th>internationalMon</th>\n",
       "      <th>internationalNum</th>\n",
       "      <th>internationalSat</th>\n",
       "      <th>internationalStdate</th>\n",
       "      <th>internationalSun</th>\n",
       "      <th>internationalThu</th>\n",
       "      <th>internationalTime</th>\n",
       "      <th>internationalTue</th>\n",
       "      <th>internationalWed</th>\n",
       "    </tr>\n",
       "  </thead>\n",
       "  <tbody>\n",
       "    <tr>\n",
       "      <th>0</th>\n",
       "      <td>EASTAR JET</td>\n",
       "      <td>이스타항공</td>\n",
       "      <td>청주</td>\n",
       "      <td>CJJ</td>\n",
       "      <td>상해/푸동</td>\n",
       "      <td>PVG</td>\n",
       "      <td>여객기</td>\n",
       "      <td>2015-10-24T00:00:00+09:00</td>\n",
       "      <td>N</td>\n",
       "      <td>IN</td>\n",
       "      <td>N</td>\n",
       "      <td>ZE822</td>\n",
       "      <td>N</td>\n",
       "      <td>2015-07-21T00:00:00+09:00</td>\n",
       "      <td>Y</td>\n",
       "      <td>Y</td>\n",
       "      <td>0230</td>\n",
       "      <td>N</td>\n",
       "      <td>N</td>\n",
       "    </tr>\n",
       "    <tr>\n",
       "      <th>1</th>\n",
       "      <td>JEJU AIR</td>\n",
       "      <td>제주항공</td>\n",
       "      <td>대구</td>\n",
       "      <td>TAE</td>\n",
       "      <td>북경/베이징</td>\n",
       "      <td>PEK</td>\n",
       "      <td>여객기</td>\n",
       "      <td>2015-10-24T00:00:00+09:00</td>\n",
       "      <td>N</td>\n",
       "      <td>IN</td>\n",
       "      <td>N</td>\n",
       "      <td>7C8102</td>\n",
       "      <td>Y</td>\n",
       "      <td>2015-03-29T00:00:00+09:00</td>\n",
       "      <td>N</td>\n",
       "      <td>Y</td>\n",
       "      <td>0510</td>\n",
       "      <td>Y</td>\n",
       "      <td>N</td>\n",
       "    </tr>\n",
       "  </tbody>\n",
       "</table>\n",
       "</div>"
      ],
      "text/plain": [
       "  airlineEnglish airlineKorean airport airportCode    city cityCode  \\\n",
       "0     EASTAR JET         이스타항공      청주         CJJ   상해/푸동      PVG   \n",
       "1       JEJU AIR          제주항공      대구         TAE  북경/베이징      PEK   \n",
       "\n",
       "  flightPurpose        internationalEddate internationalFri  \\\n",
       "0           여객기  2015-10-24T00:00:00+09:00                N   \n",
       "1           여객기  2015-10-24T00:00:00+09:00                N   \n",
       "\n",
       "  internationalIoType internationalMon internationalNum internationalSat  \\\n",
       "0                  IN                N            ZE822                N   \n",
       "1                  IN                N           7C8102                Y   \n",
       "\n",
       "         internationalStdate internationalSun internationalThu  \\\n",
       "0  2015-07-21T00:00:00+09:00                Y                Y   \n",
       "1  2015-03-29T00:00:00+09:00                N                Y   \n",
       "\n",
       "  internationalTime internationalTue internationalWed  \n",
       "0              0230                N                N  \n",
       "1              0510                Y                N  "
      ]
     },
     "execution_count": 27,
     "metadata": {},
     "output_type": "execute_result"
    }
   ],
   "source": [
    "df.head(2)"
   ]
  },
  {
   "cell_type": "code",
   "execution_count": 28,
   "metadata": {},
   "outputs": [],
   "source": [
    "df = df.where(pd.notnull(df), None)"
   ]
  },
  {
   "cell_type": "code",
   "execution_count": 29,
   "metadata": {},
   "outputs": [],
   "source": [
    "from datetime import date, datetime"
   ]
  },
  {
   "cell_type": "code",
   "execution_count": 30,
   "metadata": {},
   "outputs": [
    {
     "data": {
      "text/plain": [
       "datetime.datetime(2015, 7, 21, 0, 0)"
      ]
     },
     "execution_count": 30,
     "metadata": {},
     "output_type": "execute_result"
    }
   ],
   "source": [
    "datetime.strptime('2015-07-21T00:00:00', '%Y-%m-%dT%H:%M:%S')"
   ]
  },
  {
   "cell_type": "code",
   "execution_count": 31,
   "metadata": {},
   "outputs": [
    {
     "data": {
      "text/plain": [
       "0      2015-07-21T00:00:00+09:00\n",
       "1      2015-03-29T00:00:00+09:00\n",
       "2      2015-08-16T00:00:00+09:00\n",
       "3      2015-10-02T00:00:00+09:00\n",
       "4      2015-09-25T00:00:00+09:00\n",
       "                 ...            \n",
       "449    2015-08-16T00:00:00+09:00\n",
       "450    2015-03-29T00:00:00+09:00\n",
       "451    2015-10-03T00:00:00+09:00\n",
       "452    2015-08-16T00:00:00+09:00\n",
       "453    2015-08-16T00:00:00+09:00\n",
       "Name: internationalStdate, Length: 454, dtype: object"
      ]
     },
     "execution_count": 31,
     "metadata": {},
     "output_type": "execute_result"
    }
   ],
   "source": [
    "df['internationalStdate']"
   ]
  },
  {
   "cell_type": "code",
   "execution_count": 32,
   "metadata": {},
   "outputs": [],
   "source": [
    "df['internationalStdate'] = df['internationalStdate'].apply(lambda x: x[:10])"
   ]
  },
  {
   "cell_type": "code",
   "execution_count": 33,
   "metadata": {},
   "outputs": [],
   "source": [
    "df['internationalEddate'] = df['internationalEddate'].apply(lambda x: x[:10])"
   ]
  },
  {
   "cell_type": "code",
   "execution_count": 34,
   "metadata": {},
   "outputs": [
    {
     "data": {
      "text/html": [
       "<div>\n",
       "<style scoped>\n",
       "    .dataframe tbody tr th:only-of-type {\n",
       "        vertical-align: middle;\n",
       "    }\n",
       "\n",
       "    .dataframe tbody tr th {\n",
       "        vertical-align: top;\n",
       "    }\n",
       "\n",
       "    .dataframe thead th {\n",
       "        text-align: right;\n",
       "    }\n",
       "</style>\n",
       "<table border=\"1\" class=\"dataframe\">\n",
       "  <thead>\n",
       "    <tr style=\"text-align: right;\">\n",
       "      <th></th>\n",
       "      <th>airlineEnglish</th>\n",
       "      <th>airlineKorean</th>\n",
       "      <th>airport</th>\n",
       "      <th>airportCode</th>\n",
       "      <th>city</th>\n",
       "      <th>cityCode</th>\n",
       "      <th>flightPurpose</th>\n",
       "      <th>internationalEddate</th>\n",
       "      <th>internationalFri</th>\n",
       "      <th>internationalIoType</th>\n",
       "      <th>internationalMon</th>\n",
       "      <th>internationalNum</th>\n",
       "      <th>internationalSat</th>\n",
       "      <th>internationalStdate</th>\n",
       "      <th>internationalSun</th>\n",
       "      <th>internationalThu</th>\n",
       "      <th>internationalTime</th>\n",
       "      <th>internationalTue</th>\n",
       "      <th>internationalWed</th>\n",
       "    </tr>\n",
       "  </thead>\n",
       "  <tbody>\n",
       "    <tr>\n",
       "      <th>0</th>\n",
       "      <td>EASTAR JET</td>\n",
       "      <td>이스타항공</td>\n",
       "      <td>청주</td>\n",
       "      <td>CJJ</td>\n",
       "      <td>상해/푸동</td>\n",
       "      <td>PVG</td>\n",
       "      <td>여객기</td>\n",
       "      <td>2015-10-24</td>\n",
       "      <td>N</td>\n",
       "      <td>IN</td>\n",
       "      <td>N</td>\n",
       "      <td>ZE822</td>\n",
       "      <td>N</td>\n",
       "      <td>2015-07-21</td>\n",
       "      <td>Y</td>\n",
       "      <td>Y</td>\n",
       "      <td>0230</td>\n",
       "      <td>N</td>\n",
       "      <td>N</td>\n",
       "    </tr>\n",
       "    <tr>\n",
       "      <th>1</th>\n",
       "      <td>JEJU AIR</td>\n",
       "      <td>제주항공</td>\n",
       "      <td>대구</td>\n",
       "      <td>TAE</td>\n",
       "      <td>북경/베이징</td>\n",
       "      <td>PEK</td>\n",
       "      <td>여객기</td>\n",
       "      <td>2015-10-24</td>\n",
       "      <td>N</td>\n",
       "      <td>IN</td>\n",
       "      <td>N</td>\n",
       "      <td>7C8102</td>\n",
       "      <td>Y</td>\n",
       "      <td>2015-03-29</td>\n",
       "      <td>N</td>\n",
       "      <td>Y</td>\n",
       "      <td>0510</td>\n",
       "      <td>Y</td>\n",
       "      <td>N</td>\n",
       "    </tr>\n",
       "    <tr>\n",
       "      <th>2</th>\n",
       "      <td>ASIANA AIRLINE</td>\n",
       "      <td>아시아나항공</td>\n",
       "      <td>청주</td>\n",
       "      <td>CJJ</td>\n",
       "      <td>북경/베이징</td>\n",
       "      <td>PEK</td>\n",
       "      <td>여객기</td>\n",
       "      <td>2015-10-24</td>\n",
       "      <td>Y</td>\n",
       "      <td>IN</td>\n",
       "      <td>N</td>\n",
       "      <td>OZ3745</td>\n",
       "      <td>N</td>\n",
       "      <td>2015-08-16</td>\n",
       "      <td>Y</td>\n",
       "      <td>N</td>\n",
       "      <td>0525</td>\n",
       "      <td>N</td>\n",
       "      <td>Y</td>\n",
       "    </tr>\n",
       "  </tbody>\n",
       "</table>\n",
       "</div>"
      ],
      "text/plain": [
       "   airlineEnglish airlineKorean airport airportCode    city cityCode  \\\n",
       "0      EASTAR JET         이스타항공      청주         CJJ   상해/푸동      PVG   \n",
       "1        JEJU AIR          제주항공      대구         TAE  북경/베이징      PEK   \n",
       "2  ASIANA AIRLINE        아시아나항공      청주         CJJ  북경/베이징      PEK   \n",
       "\n",
       "  flightPurpose internationalEddate internationalFri internationalIoType  \\\n",
       "0           여객기          2015-10-24                N                  IN   \n",
       "1           여객기          2015-10-24                N                  IN   \n",
       "2           여객기          2015-10-24                Y                  IN   \n",
       "\n",
       "  internationalMon internationalNum internationalSat internationalStdate  \\\n",
       "0                N            ZE822                N          2015-07-21   \n",
       "1                N           7C8102                Y          2015-03-29   \n",
       "2                N           OZ3745                N          2015-08-16   \n",
       "\n",
       "  internationalSun internationalThu internationalTime internationalTue  \\\n",
       "0                Y                Y              0230                N   \n",
       "1                N                Y              0510                Y   \n",
       "2                Y                N              0525                N   \n",
       "\n",
       "  internationalWed  \n",
       "0                N  \n",
       "1                N  \n",
       "2                Y  "
      ]
     },
     "execution_count": 34,
     "metadata": {},
     "output_type": "execute_result"
    }
   ],
   "source": [
    "df.head(3)"
   ]
  },
  {
   "cell_type": "code",
   "execution_count": 35,
   "metadata": {},
   "outputs": [
    {
     "data": {
      "text/plain": [
       "Index(['airlineEnglish', 'airlineKorean', 'airport', 'airportCode', 'city',\n",
       "       'cityCode', 'flightPurpose', 'internationalEddate', 'internationalFri',\n",
       "       'internationalIoType', 'internationalMon', 'internationalNum',\n",
       "       'internationalSat', 'internationalStdate', 'internationalSun',\n",
       "       'internationalThu', 'internationalTime', 'internationalTue',\n",
       "       'internationalWed'],\n",
       "      dtype='object')"
      ]
     },
     "execution_count": 35,
     "metadata": {},
     "output_type": "execute_result"
    }
   ],
   "source": [
    "df.keys()"
   ]
  },
  {
   "cell_type": "markdown",
   "metadata": {},
   "source": [
    "# 2019, 2020년 데이터 모으기 "
   ]
  },
  {
   "cell_type": "code",
   "execution_count": 36,
   "metadata": {},
   "outputs": [
    {
     "data": {
      "text/plain": [
       "{'serviceKey': ['WRvGBkn9UEtw+Asg0tYo210Etxvb1QEcAX+wfWvOxVGYJkh1CNZ/Y4QFa0r7j4bhT4NjPu7z1i1ck8ZgsKMt2Q=='],\n",
       " 'schDate': ['20151005'],\n",
       " 'numOfRows': ['5000']}"
      ]
     },
     "execution_count": 36,
     "metadata": {},
     "output_type": "execute_result"
    }
   ],
   "source": [
    "query_dict"
   ]
  },
  {
   "cell_type": "code",
   "execution_count": 37,
   "metadata": {},
   "outputs": [],
   "source": [
    "total = []"
   ]
  },
  {
   "cell_type": "code",
   "execution_count": 38,
   "metadata": {
    "scrolled": true
   },
   "outputs": [
    {
     "name": "stdout",
     "output_type": "stream",
     "text": [
      "2019-01-01 00:00:00\n",
      "2019-01-02 00:00:00\n",
      "2019-01-03 00:00:00\n",
      "2019-01-04 00:00:00\n",
      "2019-01-05 00:00:00\n",
      "2019-01-06 00:00:00\n",
      "2019-01-07 00:00:00\n",
      "2019-01-08 00:00:00\n",
      "2019-01-09 00:00:00\n",
      "2019-01-10 00:00:00\n",
      "2019-01-11 00:00:00\n",
      "2019-01-12 00:00:00\n",
      "2019-01-13 00:00:00\n",
      "2019-01-14 00:00:00\n",
      "2019-01-15 00:00:00\n",
      "2019-01-16 00:00:00\n",
      "2019-01-17 00:00:00\n",
      "2019-01-18 00:00:00\n",
      "2019-01-19 00:00:00\n",
      "2019-01-20 00:00:00\n",
      "2019-01-21 00:00:00\n",
      "2019-01-22 00:00:00\n",
      "2019-01-23 00:00:00\n",
      "2019-01-24 00:00:00\n",
      "2019-01-25 00:00:00\n",
      "2019-01-26 00:00:00\n",
      "2019-01-27 00:00:00\n",
      "2019-01-28 00:00:00\n",
      "2019-01-29 00:00:00\n",
      "2019-01-30 00:00:00\n",
      "2019-01-31 00:00:00\n",
      "2019-02-01 00:00:00\n",
      "2019-02-02 00:00:00\n",
      "2019-02-03 00:00:00\n",
      "2019-02-04 00:00:00\n",
      "2019-02-05 00:00:00\n",
      "2019-02-06 00:00:00\n",
      "2019-02-07 00:00:00\n",
      "2019-02-08 00:00:00\n",
      "2019-02-09 00:00:00\n",
      "2019-02-10 00:00:00\n",
      "2019-02-11 00:00:00\n",
      "2019-02-12 00:00:00\n",
      "2019-02-13 00:00:00\n",
      "2019-02-14 00:00:00\n",
      "2019-02-15 00:00:00\n",
      "2019-02-16 00:00:00\n",
      "2019-02-17 00:00:00\n",
      "2019-02-18 00:00:00\n",
      "2019-02-19 00:00:00\n",
      "2019-02-20 00:00:00\n",
      "2019-02-21 00:00:00\n",
      "2019-02-22 00:00:00\n",
      "2019-02-23 00:00:00\n",
      "2019-02-24 00:00:00\n",
      "2019-02-25 00:00:00\n",
      "2019-02-26 00:00:00\n",
      "2019-02-27 00:00:00\n",
      "2019-02-28 00:00:00\n",
      "2019-03-01 00:00:00\n",
      "2019-03-02 00:00:00\n",
      "2019-03-03 00:00:00\n",
      "2019-03-04 00:00:00\n",
      "2019-03-05 00:00:00\n",
      "2019-03-06 00:00:00\n",
      "2019-03-07 00:00:00\n",
      "2019-03-08 00:00:00\n",
      "2019-03-09 00:00:00\n",
      "2019-03-10 00:00:00\n",
      "2019-03-11 00:00:00\n",
      "2019-03-12 00:00:00\n",
      "2019-03-13 00:00:00\n",
      "2019-03-14 00:00:00\n",
      "2019-03-15 00:00:00\n",
      "2019-03-16 00:00:00\n",
      "2019-03-17 00:00:00\n",
      "2019-03-18 00:00:00\n",
      "2019-03-19 00:00:00\n",
      "2019-03-20 00:00:00\n",
      "2019-03-21 00:00:00\n",
      "2019-03-22 00:00:00\n",
      "2019-03-23 00:00:00\n",
      "2019-03-24 00:00:00\n",
      "2019-03-25 00:00:00\n",
      "2019-03-26 00:00:00\n",
      "2019-03-27 00:00:00\n",
      "2019-03-28 00:00:00\n",
      "2019-03-29 00:00:00\n",
      "2019-03-30 00:00:00\n",
      "2019-03-31 00:00:00\n",
      "2019-04-01 00:00:00\n",
      "2019-04-02 00:00:00\n",
      "2019-04-03 00:00:00\n",
      "2019-04-04 00:00:00\n",
      "2019-04-05 00:00:00\n",
      "2019-04-06 00:00:00\n",
      "2019-04-07 00:00:00\n",
      "2019-04-08 00:00:00\n",
      "2019-04-09 00:00:00\n",
      "2019-04-10 00:00:00\n",
      "2019-04-11 00:00:00\n",
      "2019-04-12 00:00:00\n",
      "2019-04-13 00:00:00\n",
      "2019-04-14 00:00:00\n",
      "2019-04-15 00:00:00\n",
      "2019-04-16 00:00:00\n",
      "2019-04-17 00:00:00\n",
      "2019-04-18 00:00:00\n",
      "2019-04-19 00:00:00\n",
      "2019-04-20 00:00:00\n",
      "2019-04-21 00:00:00\n",
      "2019-04-22 00:00:00\n",
      "2019-04-23 00:00:00\n",
      "2019-04-24 00:00:00\n",
      "2019-04-25 00:00:00\n",
      "2019-04-26 00:00:00\n",
      "2019-04-27 00:00:00\n",
      "2019-04-28 00:00:00\n",
      "2019-04-29 00:00:00\n",
      "2019-04-30 00:00:00\n",
      "2019-05-01 00:00:00\n",
      "2019-05-02 00:00:00\n",
      "2019-05-03 00:00:00\n",
      "2019-05-04 00:00:00\n",
      "2019-05-05 00:00:00\n",
      "2019-05-06 00:00:00\n",
      "2019-05-07 00:00:00\n",
      "2019-05-08 00:00:00\n",
      "2019-05-09 00:00:00\n",
      "2019-05-10 00:00:00\n",
      "2019-05-11 00:00:00\n",
      "2019-05-12 00:00:00\n",
      "2019-05-13 00:00:00\n",
      "2019-05-14 00:00:00\n",
      "2019-05-15 00:00:00\n",
      "2019-05-16 00:00:00\n",
      "2019-05-17 00:00:00\n",
      "2019-05-18 00:00:00\n",
      "2019-05-19 00:00:00\n",
      "2019-05-20 00:00:00\n",
      "2019-05-21 00:00:00\n",
      "2019-05-22 00:00:00\n",
      "2019-05-23 00:00:00\n",
      "2019-05-24 00:00:00\n",
      "2019-05-25 00:00:00\n",
      "2019-05-26 00:00:00\n",
      "2019-05-27 00:00:00\n",
      "2019-05-28 00:00:00\n",
      "2019-05-29 00:00:00\n",
      "2019-05-30 00:00:00\n",
      "2019-05-31 00:00:00\n",
      "2019-06-01 00:00:00\n",
      "2019-06-02 00:00:00\n",
      "2019-06-03 00:00:00\n",
      "2019-06-04 00:00:00\n",
      "2019-06-05 00:00:00\n",
      "2019-06-06 00:00:00\n",
      "2019-06-07 00:00:00\n",
      "2019-06-08 00:00:00\n",
      "2019-06-09 00:00:00\n",
      "2019-06-10 00:00:00\n",
      "2019-06-11 00:00:00\n",
      "2019-06-12 00:00:00\n",
      "2019-06-13 00:00:00\n",
      "2019-06-14 00:00:00\n",
      "2019-06-15 00:00:00\n",
      "2019-06-16 00:00:00\n",
      "2019-06-17 00:00:00\n",
      "2019-06-18 00:00:00\n",
      "2019-06-19 00:00:00\n",
      "2019-06-20 00:00:00\n",
      "2019-06-21 00:00:00\n",
      "2019-06-22 00:00:00\n",
      "2019-06-23 00:00:00\n",
      "2019-06-24 00:00:00\n",
      "2019-06-25 00:00:00\n",
      "2019-06-26 00:00:00\n",
      "2019-06-27 00:00:00\n",
      "2019-06-28 00:00:00\n",
      "2019-06-29 00:00:00\n",
      "2019-06-30 00:00:00\n",
      "2019-07-01 00:00:00\n",
      "2019-07-02 00:00:00\n",
      "2019-07-03 00:00:00\n",
      "2019-07-04 00:00:00\n",
      "2019-07-05 00:00:00\n",
      "2019-07-06 00:00:00\n",
      "2019-07-07 00:00:00\n",
      "2019-07-08 00:00:00\n",
      "2019-07-09 00:00:00\n",
      "2019-07-10 00:00:00\n",
      "2019-07-11 00:00:00\n",
      "2019-07-12 00:00:00\n",
      "2019-07-13 00:00:00\n",
      "2019-07-14 00:00:00\n",
      "2019-07-15 00:00:00\n",
      "2019-07-16 00:00:00\n",
      "2019-07-17 00:00:00\n",
      "2019-07-18 00:00:00\n",
      "2019-07-19 00:00:00\n",
      "2019-07-20 00:00:00\n",
      "2019-07-21 00:00:00\n",
      "2019-07-22 00:00:00\n",
      "2019-07-23 00:00:00\n",
      "2019-07-24 00:00:00\n",
      "2019-07-25 00:00:00\n",
      "2019-07-26 00:00:00\n",
      "2019-07-27 00:00:00\n",
      "2019-07-28 00:00:00\n",
      "2019-07-29 00:00:00\n",
      "2019-07-30 00:00:00\n",
      "2019-07-31 00:00:00\n",
      "2019-08-01 00:00:00\n",
      "2019-08-02 00:00:00\n",
      "2019-08-03 00:00:00\n",
      "2019-08-04 00:00:00\n",
      "2019-08-05 00:00:00\n",
      "2019-08-06 00:00:00\n",
      "2019-08-07 00:00:00\n",
      "2019-08-08 00:00:00\n",
      "2019-08-09 00:00:00\n",
      "2019-08-10 00:00:00\n",
      "2019-08-11 00:00:00\n",
      "2019-08-12 00:00:00\n",
      "2019-08-13 00:00:00\n",
      "2019-08-14 00:00:00\n",
      "2019-08-15 00:00:00\n",
      "2019-08-16 00:00:00\n",
      "2019-08-17 00:00:00\n",
      "2019-08-18 00:00:00\n",
      "2019-08-19 00:00:00\n",
      "2019-08-20 00:00:00\n",
      "2019-08-21 00:00:00\n",
      "2019-08-22 00:00:00\n",
      "2019-08-23 00:00:00\n",
      "2019-08-24 00:00:00\n",
      "2019-08-25 00:00:00\n",
      "2019-08-26 00:00:00\n",
      "2019-08-27 00:00:00\n",
      "2019-08-28 00:00:00\n",
      "2019-08-29 00:00:00\n",
      "2019-08-30 00:00:00\n",
      "2019-08-31 00:00:00\n",
      "2019-09-01 00:00:00\n",
      "2019-09-02 00:00:00\n",
      "2019-09-03 00:00:00\n",
      "2019-09-04 00:00:00\n",
      "2019-09-05 00:00:00\n",
      "2019-09-06 00:00:00\n",
      "2019-09-07 00:00:00\n",
      "2019-09-08 00:00:00\n",
      "2019-09-09 00:00:00\n",
      "2019-09-10 00:00:00\n",
      "2019-09-11 00:00:00\n",
      "2019-09-12 00:00:00\n",
      "2019-09-13 00:00:00\n",
      "2019-09-14 00:00:00\n",
      "2019-09-15 00:00:00\n",
      "2019-09-16 00:00:00\n",
      "2019-09-17 00:00:00\n",
      "2019-09-18 00:00:00\n",
      "2019-09-19 00:00:00\n",
      "2019-09-20 00:00:00\n",
      "2019-09-21 00:00:00\n",
      "2019-09-22 00:00:00\n",
      "2019-09-23 00:00:00\n",
      "2019-09-24 00:00:00\n",
      "2019-09-25 00:00:00\n",
      "2019-09-26 00:00:00\n",
      "2019-09-27 00:00:00\n",
      "2019-09-28 00:00:00\n",
      "2019-09-29 00:00:00\n",
      "2019-09-30 00:00:00\n",
      "2019-10-01 00:00:00\n",
      "2019-10-02 00:00:00\n",
      "2019-10-03 00:00:00\n",
      "2019-10-04 00:00:00\n",
      "2019-10-05 00:00:00\n",
      "2019-10-06 00:00:00\n",
      "2019-10-07 00:00:00\n",
      "2019-10-08 00:00:00\n",
      "2019-10-09 00:00:00\n",
      "2019-10-10 00:00:00\n",
      "2019-10-11 00:00:00\n",
      "2019-10-12 00:00:00\n",
      "2019-10-13 00:00:00\n",
      "2019-10-14 00:00:00\n",
      "2019-10-15 00:00:00\n",
      "2019-10-16 00:00:00\n",
      "2019-10-17 00:00:00\n",
      "2019-10-18 00:00:00\n",
      "2019-10-19 00:00:00\n",
      "2019-10-20 00:00:00\n",
      "2019-10-21 00:00:00\n",
      "2019-10-22 00:00:00\n",
      "2019-10-23 00:00:00\n",
      "2019-10-24 00:00:00\n",
      "2019-10-25 00:00:00\n",
      "2019-10-26 00:00:00\n",
      "2019-10-27 00:00:00\n",
      "2019-10-28 00:00:00\n",
      "2019-10-29 00:00:00\n",
      "2019-10-30 00:00:00\n",
      "2019-10-31 00:00:00\n",
      "2019-11-01 00:00:00\n",
      "2019-11-02 00:00:00\n",
      "2019-11-03 00:00:00\n",
      "2019-11-04 00:00:00\n",
      "2019-11-05 00:00:00\n",
      "2019-11-06 00:00:00\n",
      "2019-11-07 00:00:00\n",
      "2019-11-08 00:00:00\n",
      "2019-11-09 00:00:00\n",
      "2019-11-10 00:00:00\n",
      "2019-11-11 00:00:00\n",
      "2019-11-12 00:00:00\n",
      "2019-11-13 00:00:00\n",
      "2019-11-14 00:00:00\n",
      "2019-11-15 00:00:00\n",
      "2019-11-16 00:00:00\n",
      "2019-11-17 00:00:00\n",
      "2019-11-18 00:00:00\n",
      "2019-11-19 00:00:00\n",
      "2019-11-20 00:00:00\n",
      "2019-11-21 00:00:00\n",
      "2019-11-22 00:00:00\n",
      "2019-11-23 00:00:00\n",
      "2019-11-24 00:00:00\n",
      "2019-11-25 00:00:00\n",
      "2019-11-26 00:00:00\n",
      "2019-11-27 00:00:00\n",
      "2019-11-28 00:00:00\n",
      "2019-11-29 00:00:00\n",
      "2019-11-30 00:00:00\n",
      "2019-12-01 00:00:00\n",
      "2019-12-02 00:00:00\n",
      "2019-12-03 00:00:00\n",
      "2019-12-04 00:00:00\n",
      "2019-12-05 00:00:00\n",
      "2019-12-06 00:00:00\n",
      "2019-12-07 00:00:00\n",
      "2019-12-08 00:00:00\n",
      "2019-12-09 00:00:00\n",
      "2019-12-10 00:00:00\n",
      "2019-12-11 00:00:00\n",
      "2019-12-12 00:00:00\n",
      "2019-12-13 00:00:00\n",
      "2019-12-14 00:00:00\n",
      "2019-12-15 00:00:00\n",
      "2019-12-16 00:00:00\n",
      "2019-12-17 00:00:00\n",
      "2019-12-18 00:00:00\n",
      "2019-12-19 00:00:00\n",
      "2019-12-20 00:00:00\n",
      "2019-12-21 00:00:00\n",
      "2019-12-22 00:00:00\n",
      "2019-12-23 00:00:00\n",
      "2019-12-24 00:00:00\n",
      "2019-12-25 00:00:00\n",
      "2019-12-26 00:00:00\n",
      "2019-12-27 00:00:00\n",
      "2019-12-28 00:00:00\n",
      "2019-12-29 00:00:00\n",
      "2019-12-30 00:00:00\n",
      "2019-12-31 00:00:00\n"
     ]
    }
   ],
   "source": [
    "for x in pd.date_range('2019-01-01', '2019-12-31'):\n",
    "    print(x)\n",
    "    query_dict['schDate']  = x.strftime(\"%Y-%m-%d\").replace(\"-\", \"\")\n",
    "    api_url = parse.ParseResult(scheme  = result.scheme, netloc= result.hostname, path=result.path, \n",
    "                 params = result.params, query=parse.urlencode(query_dict, doseq=True), fragment=result.fragment)\n",
    "    url = parse.urlunparse(api_url)\n",
    "    r = requests.get(url)\n",
    "    root = ET.fromstring(r.text)\n",
    "\n",
    "    items = root.iter(tag='item')\n",
    "    for element in items:\n",
    "        #print(element.find(\"accDefRate\").text)\n",
    "        covid_dict = {}\n",
    "        for x in element:\n",
    "            covid_dict[x.tag] = x.text\n",
    "        total.append(covid_dict)"
   ]
  },
  {
   "cell_type": "code",
   "execution_count": 39,
   "metadata": {},
   "outputs": [],
   "source": [
    "df = pd.DataFrame(total)"
   ]
  },
  {
   "cell_type": "code",
   "execution_count": 40,
   "metadata": {},
   "outputs": [
    {
     "data": {
      "text/plain": [
       "(331408, 19)"
      ]
     },
     "execution_count": 40,
     "metadata": {},
     "output_type": "execute_result"
    }
   ],
   "source": [
    "df.shape"
   ]
  },
  {
   "cell_type": "code",
   "execution_count": 41,
   "metadata": {},
   "outputs": [],
   "source": [
    "df2 = df.drop_duplicates().copy()"
   ]
  },
  {
   "cell_type": "code",
   "execution_count": 42,
   "metadata": {},
   "outputs": [],
   "source": [
    "df2.to_csv(\"./airport_schedule.csv\", index=False, encoding='utf-8-sig')"
   ]
  },
  {
   "cell_type": "code",
   "execution_count": 43,
   "metadata": {},
   "outputs": [
    {
     "data": {
      "text/plain": [
       "(3740, 19)"
      ]
     },
     "execution_count": 43,
     "metadata": {},
     "output_type": "execute_result"
    }
   ],
   "source": [
    "df2.shape"
   ]
  },
  {
   "cell_type": "code",
   "execution_count": 243,
   "metadata": {
    "scrolled": true
   },
   "outputs": [
    {
     "data": {
      "text/html": [
       "<div>\n",
       "<style scoped>\n",
       "    .dataframe tbody tr th:only-of-type {\n",
       "        vertical-align: middle;\n",
       "    }\n",
       "\n",
       "    .dataframe tbody tr th {\n",
       "        vertical-align: top;\n",
       "    }\n",
       "\n",
       "    .dataframe thead th {\n",
       "        text-align: right;\n",
       "    }\n",
       "</style>\n",
       "<table border=\"1\" class=\"dataframe\">\n",
       "  <thead>\n",
       "    <tr style=\"text-align: right;\">\n",
       "      <th></th>\n",
       "      <th>airlineEnglish</th>\n",
       "      <th>airlineKorean</th>\n",
       "      <th>airport</th>\n",
       "      <th>airportCode</th>\n",
       "      <th>city</th>\n",
       "      <th>cityCode</th>\n",
       "      <th>flightPurpose</th>\n",
       "      <th>internationalEddate</th>\n",
       "      <th>internationalFri</th>\n",
       "      <th>internationalIoType</th>\n",
       "      <th>internationalMon</th>\n",
       "      <th>internationalNum</th>\n",
       "      <th>internationalSat</th>\n",
       "      <th>internationalStdate</th>\n",
       "      <th>internationalSun</th>\n",
       "      <th>internationalThu</th>\n",
       "      <th>internationalTime</th>\n",
       "      <th>internationalTue</th>\n",
       "      <th>internationalWed</th>\n",
       "    </tr>\n",
       "  </thead>\n",
       "  <tbody>\n",
       "    <tr>\n",
       "      <th>0</th>\n",
       "      <td>T'WAY AIR CO.LTD</td>\n",
       "      <td>티웨이항공</td>\n",
       "      <td>무안</td>\n",
       "      <td>MWX</td>\n",
       "      <td>키타큐슈</td>\n",
       "      <td>KKJ</td>\n",
       "      <td>여객기</td>\n",
       "      <td>2019-03-11T00:00:00+09:00</td>\n",
       "      <td>Y</td>\n",
       "      <td>IN</td>\n",
       "      <td>Y</td>\n",
       "      <td>TW232</td>\n",
       "      <td>Y</td>\n",
       "      <td>2018-11-03T00:00:00+09:00</td>\n",
       "      <td>Y</td>\n",
       "      <td>Y</td>\n",
       "      <td>0015</td>\n",
       "      <td>Y</td>\n",
       "      <td>Y</td>\n",
       "    </tr>\n",
       "    <tr>\n",
       "      <th>1</th>\n",
       "      <td>EASTAR JET</td>\n",
       "      <td>이스타항공</td>\n",
       "      <td>청주</td>\n",
       "      <td>CJJ</td>\n",
       "      <td>타이페이/타이베이</td>\n",
       "      <td>TPE</td>\n",
       "      <td>여객기</td>\n",
       "      <td>2019-03-30T00:00:00+09:00</td>\n",
       "      <td>Y</td>\n",
       "      <td>IN</td>\n",
       "      <td>Y</td>\n",
       "      <td>ZE782</td>\n",
       "      <td>N</td>\n",
       "      <td>2018-10-28T00:00:00+09:00</td>\n",
       "      <td>N</td>\n",
       "      <td>N</td>\n",
       "      <td>0510</td>\n",
       "      <td>N</td>\n",
       "      <td>N</td>\n",
       "    </tr>\n",
       "    <tr>\n",
       "      <th>2</th>\n",
       "      <td>JEJU AIR</td>\n",
       "      <td>제주항공</td>\n",
       "      <td>대구</td>\n",
       "      <td>TAE</td>\n",
       "      <td>타이페이/타이베이</td>\n",
       "      <td>TPE</td>\n",
       "      <td>여객기</td>\n",
       "      <td>2019-03-31T00:00:00+09:00</td>\n",
       "      <td>Y</td>\n",
       "      <td>IN</td>\n",
       "      <td>Y</td>\n",
       "      <td>7C2686</td>\n",
       "      <td>Y</td>\n",
       "      <td>2018-12-23T00:00:00+09:00</td>\n",
       "      <td>Y</td>\n",
       "      <td>Y</td>\n",
       "      <td>0510</td>\n",
       "      <td>Y</td>\n",
       "      <td>Y</td>\n",
       "    </tr>\n",
       "    <tr>\n",
       "      <th>3</th>\n",
       "      <td>T'WAY AIR CO.LTD</td>\n",
       "      <td>티웨이항공</td>\n",
       "      <td>대구</td>\n",
       "      <td>TAE</td>\n",
       "      <td>타이페이/타이베이</td>\n",
       "      <td>TPE</td>\n",
       "      <td>여객기</td>\n",
       "      <td>2019-03-30T00:00:00+09:00</td>\n",
       "      <td>Y</td>\n",
       "      <td>IN</td>\n",
       "      <td>Y</td>\n",
       "      <td>TW664</td>\n",
       "      <td>Y</td>\n",
       "      <td>2018-10-28T00:00:00+09:00</td>\n",
       "      <td>Y</td>\n",
       "      <td>Y</td>\n",
       "      <td>0515</td>\n",
       "      <td>Y</td>\n",
       "      <td>Y</td>\n",
       "    </tr>\n",
       "    <tr>\n",
       "      <th>4</th>\n",
       "      <td>JEJU AIR</td>\n",
       "      <td>제주항공</td>\n",
       "      <td>청주</td>\n",
       "      <td>CJJ</td>\n",
       "      <td>타이페이/타이베이</td>\n",
       "      <td>TPE</td>\n",
       "      <td>여객기</td>\n",
       "      <td>2019-03-31T00:00:00+09:00</td>\n",
       "      <td>Y</td>\n",
       "      <td>IN</td>\n",
       "      <td>Y</td>\n",
       "      <td>7C2678</td>\n",
       "      <td>N</td>\n",
       "      <td>2018-12-23T00:00:00+09:00</td>\n",
       "      <td>Y</td>\n",
       "      <td>Y</td>\n",
       "      <td>0520</td>\n",
       "      <td>N</td>\n",
       "      <td>N</td>\n",
       "    </tr>\n",
       "    <tr>\n",
       "      <th>...</th>\n",
       "      <td>...</td>\n",
       "      <td>...</td>\n",
       "      <td>...</td>\n",
       "      <td>...</td>\n",
       "      <td>...</td>\n",
       "      <td>...</td>\n",
       "      <td>...</td>\n",
       "      <td>...</td>\n",
       "      <td>...</td>\n",
       "      <td>...</td>\n",
       "      <td>...</td>\n",
       "      <td>...</td>\n",
       "      <td>...</td>\n",
       "      <td>...</td>\n",
       "      <td>...</td>\n",
       "      <td>...</td>\n",
       "      <td>...</td>\n",
       "      <td>...</td>\n",
       "      <td>...</td>\n",
       "    </tr>\n",
       "    <tr>\n",
       "      <th>329562</th>\n",
       "      <td>SKY ANGKOR AIRLINES</td>\n",
       "      <td>스카이앙코르항공</td>\n",
       "      <td>부산/김해</td>\n",
       "      <td>PUS</td>\n",
       "      <td>씨앰립/시엠립</td>\n",
       "      <td>REP</td>\n",
       "      <td>여객기</td>\n",
       "      <td>2020-03-02T00:00:00+09:00</td>\n",
       "      <td>N</td>\n",
       "      <td>OUT</td>\n",
       "      <td>Y</td>\n",
       "      <td>ZA246</td>\n",
       "      <td>N</td>\n",
       "      <td>2019-12-30T00:00:00+09:00</td>\n",
       "      <td>N</td>\n",
       "      <td>N</td>\n",
       "      <td>0800</td>\n",
       "      <td>N</td>\n",
       "      <td>N</td>\n",
       "    </tr>\n",
       "    <tr>\n",
       "      <th>329666</th>\n",
       "      <td>FLY GANGWON</td>\n",
       "      <td>플라이강원</td>\n",
       "      <td>양양</td>\n",
       "      <td>YNY</td>\n",
       "      <td>타이페이/타이베이</td>\n",
       "      <td>TPE</td>\n",
       "      <td>여객기</td>\n",
       "      <td>2020-02-28T00:00:00+09:00</td>\n",
       "      <td>N</td>\n",
       "      <td>OUT</td>\n",
       "      <td>Y</td>\n",
       "      <td>4V201</td>\n",
       "      <td>N</td>\n",
       "      <td>2019-12-30T00:00:00+09:00</td>\n",
       "      <td>N</td>\n",
       "      <td>N</td>\n",
       "      <td>0940</td>\n",
       "      <td>N</td>\n",
       "      <td>N</td>\n",
       "    </tr>\n",
       "    <tr>\n",
       "      <th>329964</th>\n",
       "      <td>FLY GANGWON</td>\n",
       "      <td>플라이강원</td>\n",
       "      <td>양양</td>\n",
       "      <td>YNY</td>\n",
       "      <td>타이페이/타이베이</td>\n",
       "      <td>TPE</td>\n",
       "      <td>여객기</td>\n",
       "      <td>2020-02-28T00:00:00+09:00</td>\n",
       "      <td>N</td>\n",
       "      <td>IN</td>\n",
       "      <td>Y</td>\n",
       "      <td>4V202</td>\n",
       "      <td>N</td>\n",
       "      <td>2019-12-30T00:00:00+09:00</td>\n",
       "      <td>N</td>\n",
       "      <td>N</td>\n",
       "      <td>1615</td>\n",
       "      <td>N</td>\n",
       "      <td>N</td>\n",
       "    </tr>\n",
       "    <tr>\n",
       "      <th>330700</th>\n",
       "      <td>FLY GANGWON</td>\n",
       "      <td>플라이강원</td>\n",
       "      <td>양양</td>\n",
       "      <td>YNY</td>\n",
       "      <td>타이페이/타이베이</td>\n",
       "      <td>TPE</td>\n",
       "      <td>여객기</td>\n",
       "      <td>2020-02-28T00:00:00+09:00</td>\n",
       "      <td>N</td>\n",
       "      <td>OUT</td>\n",
       "      <td>N</td>\n",
       "      <td>4V201</td>\n",
       "      <td>N</td>\n",
       "      <td>2019-12-31T00:00:00+09:00</td>\n",
       "      <td>N</td>\n",
       "      <td>N</td>\n",
       "      <td>1005</td>\n",
       "      <td>Y</td>\n",
       "      <td>N</td>\n",
       "    </tr>\n",
       "    <tr>\n",
       "      <th>330996</th>\n",
       "      <td>FLY GANGWON</td>\n",
       "      <td>플라이강원</td>\n",
       "      <td>양양</td>\n",
       "      <td>YNY</td>\n",
       "      <td>타이페이/타이베이</td>\n",
       "      <td>TPE</td>\n",
       "      <td>여객기</td>\n",
       "      <td>2020-02-28T00:00:00+09:00</td>\n",
       "      <td>N</td>\n",
       "      <td>IN</td>\n",
       "      <td>N</td>\n",
       "      <td>4V202</td>\n",
       "      <td>N</td>\n",
       "      <td>2019-12-31T00:00:00+09:00</td>\n",
       "      <td>N</td>\n",
       "      <td>N</td>\n",
       "      <td>1640</td>\n",
       "      <td>Y</td>\n",
       "      <td>N</td>\n",
       "    </tr>\n",
       "  </tbody>\n",
       "</table>\n",
       "<p>3740 rows × 19 columns</p>\n",
       "</div>"
      ],
      "text/plain": [
       "             airlineEnglish airlineKorean airport airportCode       city  \\\n",
       "0          T'WAY AIR CO.LTD         티웨이항공      무안         MWX       키타큐슈   \n",
       "1                EASTAR JET         이스타항공      청주         CJJ  타이페이/타이베이   \n",
       "2                  JEJU AIR          제주항공      대구         TAE  타이페이/타이베이   \n",
       "3          T'WAY AIR CO.LTD         티웨이항공      대구         TAE  타이페이/타이베이   \n",
       "4                  JEJU AIR          제주항공      청주         CJJ  타이페이/타이베이   \n",
       "...                     ...           ...     ...         ...        ...   \n",
       "329562  SKY ANGKOR AIRLINES      스카이앙코르항공   부산/김해         PUS    씨앰립/시엠립   \n",
       "329666          FLY GANGWON         플라이강원      양양         YNY  타이페이/타이베이   \n",
       "329964          FLY GANGWON         플라이강원      양양         YNY  타이페이/타이베이   \n",
       "330700          FLY GANGWON         플라이강원      양양         YNY  타이페이/타이베이   \n",
       "330996          FLY GANGWON         플라이강원      양양         YNY  타이페이/타이베이   \n",
       "\n",
       "       cityCode flightPurpose        internationalEddate internationalFri  \\\n",
       "0           KKJ           여객기  2019-03-11T00:00:00+09:00                Y   \n",
       "1           TPE           여객기  2019-03-30T00:00:00+09:00                Y   \n",
       "2           TPE           여객기  2019-03-31T00:00:00+09:00                Y   \n",
       "3           TPE           여객기  2019-03-30T00:00:00+09:00                Y   \n",
       "4           TPE           여객기  2019-03-31T00:00:00+09:00                Y   \n",
       "...         ...           ...                        ...              ...   \n",
       "329562      REP           여객기  2020-03-02T00:00:00+09:00                N   \n",
       "329666      TPE           여객기  2020-02-28T00:00:00+09:00                N   \n",
       "329964      TPE           여객기  2020-02-28T00:00:00+09:00                N   \n",
       "330700      TPE           여객기  2020-02-28T00:00:00+09:00                N   \n",
       "330996      TPE           여객기  2020-02-28T00:00:00+09:00                N   \n",
       "\n",
       "       internationalIoType internationalMon internationalNum internationalSat  \\\n",
       "0                       IN                Y            TW232                Y   \n",
       "1                       IN                Y            ZE782                N   \n",
       "2                       IN                Y           7C2686                Y   \n",
       "3                       IN                Y            TW664                Y   \n",
       "4                       IN                Y           7C2678                N   \n",
       "...                    ...              ...              ...              ...   \n",
       "329562                 OUT                Y            ZA246                N   \n",
       "329666                 OUT                Y            4V201                N   \n",
       "329964                  IN                Y            4V202                N   \n",
       "330700                 OUT                N            4V201                N   \n",
       "330996                  IN                N            4V202                N   \n",
       "\n",
       "              internationalStdate internationalSun internationalThu  \\\n",
       "0       2018-11-03T00:00:00+09:00                Y                Y   \n",
       "1       2018-10-28T00:00:00+09:00                N                N   \n",
       "2       2018-12-23T00:00:00+09:00                Y                Y   \n",
       "3       2018-10-28T00:00:00+09:00                Y                Y   \n",
       "4       2018-12-23T00:00:00+09:00                Y                Y   \n",
       "...                           ...              ...              ...   \n",
       "329562  2019-12-30T00:00:00+09:00                N                N   \n",
       "329666  2019-12-30T00:00:00+09:00                N                N   \n",
       "329964  2019-12-30T00:00:00+09:00                N                N   \n",
       "330700  2019-12-31T00:00:00+09:00                N                N   \n",
       "330996  2019-12-31T00:00:00+09:00                N                N   \n",
       "\n",
       "       internationalTime internationalTue internationalWed  \n",
       "0                   0015                Y                Y  \n",
       "1                   0510                N                N  \n",
       "2                   0510                Y                Y  \n",
       "3                   0515                Y                Y  \n",
       "4                   0520                N                N  \n",
       "...                  ...              ...              ...  \n",
       "329562              0800                N                N  \n",
       "329666              0940                N                N  \n",
       "329964              1615                N                N  \n",
       "330700              1005                Y                N  \n",
       "330996              1640                Y                N  \n",
       "\n",
       "[3740 rows x 19 columns]"
      ]
     },
     "execution_count": 243,
     "metadata": {},
     "output_type": "execute_result"
    }
   ],
   "source": [
    "df2"
   ]
  },
  {
   "cell_type": "code",
   "execution_count": 244,
   "metadata": {},
   "outputs": [],
   "source": [
    "df2['internationalStdate'] = df2['internationalStdate'].apply(lambda x: x[:10])\n",
    "df2['internationalEddate'] = df2['internationalEddate'].apply(lambda x: x[:10])"
   ]
  },
  {
   "cell_type": "code",
   "execution_count": 245,
   "metadata": {},
   "outputs": [],
   "source": [
    "df2['year'] =df2['internationalStdate'].apply(lambda x : x[:4])"
   ]
  },
  {
   "cell_type": "code",
   "execution_count": 246,
   "metadata": {},
   "outputs": [
    {
     "data": {
      "text/plain": [
       "2019    2869\n",
       "2018     871\n",
       "Name: year, dtype: int64"
      ]
     },
     "execution_count": 246,
     "metadata": {},
     "output_type": "execute_result"
    }
   ],
   "source": [
    "df2['year'].value_counts()"
   ]
  },
  {
   "cell_type": "markdown",
   "metadata": {},
   "source": [
    "## Database 연결 및 Create, Insert "
   ]
  },
  {
   "cell_type": "markdown",
   "metadata": {},
   "source": [
    "GRANT ALL PRIVILEGES ON *.* TO 'root'@'%' IDENTIFIED BY '12345'"
   ]
  },
  {
   "cell_type": "code",
   "execution_count": 266,
   "metadata": {},
   "outputs": [],
   "source": [
    "try:\n",
    "    con = pymysql.connect(host='3.35.16.111', user='root', port=3306, password='1234', db='sqoop', charset='utf8')\n",
    "    cur = con.cursor()  #그나마 이상한거라고 있다면 host 주소 인데 namenode 퍼블릭 ip라서 문제 없지 않나... 궁금좌 나와야하는데.. why...\n",
    "except Exception as e: #주인만 안되는 더러운 세상 넹 ㅠㅠ 아 근데 지금 저거는 제 ip맞지않나요\n",
    "    print (e)   "
   ]
  },
  {
   "cell_type": "code",
   "execution_count": 262,
   "metadata": {},
   "outputs": [
    {
     "name": "stdout",
     "output_type": "stream",
     "text": [
      "`airlineEnglish`\n",
      "`airlineKorean`\n",
      "`airport`\n",
      "`airportCode`\n",
      "`city`\n",
      "`cityCode`\n",
      "`flightPurpose`\n",
      "`internationalEddate`\n",
      "`internationalFri`\n",
      "`internationalIoType`\n",
      "`internationalMon`\n",
      "`internationalNum`\n",
      "`internationalSat`\n",
      "`internationalStdate`\n",
      "`internationalSun`\n",
      "`internationalThu`\n",
      "`internationalTime`\n",
      "`internationalTue`\n",
      "`internationalWed`\n",
      "`year`\n"
     ]
    }
   ],
   "source": [
    "for name in df2.keys():\n",
    "    print(\"`{}`\".format(name))"
   ]
  },
  {
   "cell_type": "code",
   "execution_count": 264,
   "metadata": {},
   "outputs": [],
   "source": [
    "create_table = \"\"\"\n",
    "    CREATE TABLE airport_info (\n",
    "       `airlineEnglish`       VARCHAR(30),\n",
    "       `airlineKorean`        VARCHAR(20),\n",
    "        `airport`             VARCHAR(20),\n",
    "        `airportCode`         VARCHAR(20),\n",
    "        `city`                VARCHAR(20),\n",
    "        `cityCode`            VARCHAR(20),\n",
    "        `flightPurpose`       VARCHAR(20),\n",
    "        `internationalEddate` DATETIME,\n",
    "        `internationalFri`    VARCHAR(1),\n",
    "        `internationalIoType` VARCHAR(3),\n",
    "        `internationalMon`    VARCHAR(1),\n",
    "        `internationalNum`    VARCHAR(10),  \n",
    "        `internationalSat`    VARCHAR(1),\n",
    "        `internationalStdate` DATETIME,\n",
    "        `internationalSun`    VARCHAR(1),\n",
    "        `internationalThu`    VARCHAR(1),\n",
    "        `internationalTime`   TIME,\n",
    "        `internationalTue`    VARCHAR(1),\n",
    "        `internationalWed`    VARCHAR(1),\n",
    "        `year`                YEAR,\n",
    "    ) COLLATE='utf8mb4_general_ci' \n",
    "\"\"\"# utf8 > mv4 bgr2rgb"
   ]
  },
  {
   "cell_type": "code",
   "execution_count": 265,
   "metadata": {
    "scrolled": true
   },
   "outputs": [
    {
     "name": "stdout",
     "output_type": "stream",
     "text": [
      "\n",
      "    CREATE TABLE airport_info (\n",
      "       `airlineEnglish`       VARCHAR(30),\n",
      "       `airlineKorean`        VARCHAR(20),\n",
      "        `airport`             VARCHAR(20),\n",
      "        `airportCode`         VARCHAR(20),\n",
      "        `city`                VARCHAR(20),\n",
      "        `cityCode`            VARCHAR(20),\n",
      "        `flightPurpose`       VARCHAR(20),\n",
      "        `internationalEddate` DATETIME,\n",
      "        `internationalFri`    VARCHAR(1),\n",
      "        `internationalIoType` VARCHAR(3),\n",
      "        `internationalMon`    VARCHAR(1),\n",
      "        `internationalNum`    VARCHAR(10),  \n",
      "        `internationalSat`    VARCHAR(1),\n",
      "        `internationalStdate` DATETIME,\n",
      "        `internationalSun`    VARCHAR(1),\n",
      "        `internationalThu`    VARCHAR(1),\n",
      "        `internationalTime`   TIME,\n",
      "        `internationalTue`    VARCHAR(1),\n",
      "        `internationalWed`    VARCHAR(1),\n",
      "        `year`                YEAR,\n",
      "    ) COLLATE='utf8mb4_general_ci' \n",
      "\n"
     ]
    }
   ],
   "source": [
    "print(create_table)"
   ]
  },
  {
   "cell_type": "code",
   "execution_count": 268,
   "metadata": {},
   "outputs": [
    {
     "ename": "ProgrammingError",
     "evalue": "(1064, \"You have an error in your SQL syntax; check the manual that corresponds to your MariaDB server version for the right syntax to use near ') COLLATE='utf8mb4_general_ci'' at line 22\")",
     "output_type": "error",
     "traceback": [
      "\u001b[0;31m---------------------------------------------------------------------------\u001b[0m",
      "\u001b[0;31mProgrammingError\u001b[0m                          Traceback (most recent call last)",
      "\u001b[0;32m<ipython-input-268-aedb74558dbc>\u001b[0m in \u001b[0;36m<module>\u001b[0;34m\u001b[0m\n\u001b[0;32m----> 1\u001b[0;31m \u001b[0mcur\u001b[0m\u001b[0;34m.\u001b[0m\u001b[0mexecute\u001b[0m\u001b[0;34m(\u001b[0m\u001b[0mcreate_table\u001b[0m\u001b[0;34m)\u001b[0m\u001b[0;34m\u001b[0m\u001b[0;34m\u001b[0m\u001b[0m\n\u001b[0m",
      "\u001b[0;32m/opt/homebrew/anaconda3/lib/python3.8/site-packages/pymysql/cursors.py\u001b[0m in \u001b[0;36mexecute\u001b[0;34m(self, query, args)\u001b[0m\n\u001b[1;32m    146\u001b[0m         \u001b[0mquery\u001b[0m \u001b[0;34m=\u001b[0m \u001b[0mself\u001b[0m\u001b[0;34m.\u001b[0m\u001b[0mmogrify\u001b[0m\u001b[0;34m(\u001b[0m\u001b[0mquery\u001b[0m\u001b[0;34m,\u001b[0m \u001b[0margs\u001b[0m\u001b[0;34m)\u001b[0m\u001b[0;34m\u001b[0m\u001b[0;34m\u001b[0m\u001b[0m\n\u001b[1;32m    147\u001b[0m \u001b[0;34m\u001b[0m\u001b[0m\n\u001b[0;32m--> 148\u001b[0;31m         \u001b[0mresult\u001b[0m \u001b[0;34m=\u001b[0m \u001b[0mself\u001b[0m\u001b[0;34m.\u001b[0m\u001b[0m_query\u001b[0m\u001b[0;34m(\u001b[0m\u001b[0mquery\u001b[0m\u001b[0;34m)\u001b[0m\u001b[0;34m\u001b[0m\u001b[0;34m\u001b[0m\u001b[0m\n\u001b[0m\u001b[1;32m    149\u001b[0m         \u001b[0mself\u001b[0m\u001b[0;34m.\u001b[0m\u001b[0m_executed\u001b[0m \u001b[0;34m=\u001b[0m \u001b[0mquery\u001b[0m\u001b[0;34m\u001b[0m\u001b[0;34m\u001b[0m\u001b[0m\n\u001b[1;32m    150\u001b[0m         \u001b[0;32mreturn\u001b[0m \u001b[0mresult\u001b[0m\u001b[0;34m\u001b[0m\u001b[0;34m\u001b[0m\u001b[0m\n",
      "\u001b[0;32m/opt/homebrew/anaconda3/lib/python3.8/site-packages/pymysql/cursors.py\u001b[0m in \u001b[0;36m_query\u001b[0;34m(self, q)\u001b[0m\n\u001b[1;32m    308\u001b[0m         \u001b[0mself\u001b[0m\u001b[0;34m.\u001b[0m\u001b[0m_last_executed\u001b[0m \u001b[0;34m=\u001b[0m \u001b[0mq\u001b[0m\u001b[0;34m\u001b[0m\u001b[0;34m\u001b[0m\u001b[0m\n\u001b[1;32m    309\u001b[0m         \u001b[0mself\u001b[0m\u001b[0;34m.\u001b[0m\u001b[0m_clear_result\u001b[0m\u001b[0;34m(\u001b[0m\u001b[0;34m)\u001b[0m\u001b[0;34m\u001b[0m\u001b[0;34m\u001b[0m\u001b[0m\n\u001b[0;32m--> 310\u001b[0;31m         \u001b[0mconn\u001b[0m\u001b[0;34m.\u001b[0m\u001b[0mquery\u001b[0m\u001b[0;34m(\u001b[0m\u001b[0mq\u001b[0m\u001b[0;34m)\u001b[0m\u001b[0;34m\u001b[0m\u001b[0;34m\u001b[0m\u001b[0m\n\u001b[0m\u001b[1;32m    311\u001b[0m         \u001b[0mself\u001b[0m\u001b[0;34m.\u001b[0m\u001b[0m_do_get_result\u001b[0m\u001b[0;34m(\u001b[0m\u001b[0;34m)\u001b[0m\u001b[0;34m\u001b[0m\u001b[0;34m\u001b[0m\u001b[0m\n\u001b[1;32m    312\u001b[0m         \u001b[0;32mreturn\u001b[0m \u001b[0mself\u001b[0m\u001b[0;34m.\u001b[0m\u001b[0mrowcount\u001b[0m\u001b[0;34m\u001b[0m\u001b[0;34m\u001b[0m\u001b[0m\n",
      "\u001b[0;32m/opt/homebrew/anaconda3/lib/python3.8/site-packages/pymysql/connections.py\u001b[0m in \u001b[0;36mquery\u001b[0;34m(self, sql, unbuffered)\u001b[0m\n\u001b[1;32m    546\u001b[0m             \u001b[0msql\u001b[0m \u001b[0;34m=\u001b[0m \u001b[0msql\u001b[0m\u001b[0;34m.\u001b[0m\u001b[0mencode\u001b[0m\u001b[0;34m(\u001b[0m\u001b[0mself\u001b[0m\u001b[0;34m.\u001b[0m\u001b[0mencoding\u001b[0m\u001b[0;34m,\u001b[0m \u001b[0;34m\"surrogateescape\"\u001b[0m\u001b[0;34m)\u001b[0m\u001b[0;34m\u001b[0m\u001b[0;34m\u001b[0m\u001b[0m\n\u001b[1;32m    547\u001b[0m         \u001b[0mself\u001b[0m\u001b[0;34m.\u001b[0m\u001b[0m_execute_command\u001b[0m\u001b[0;34m(\u001b[0m\u001b[0mCOMMAND\u001b[0m\u001b[0;34m.\u001b[0m\u001b[0mCOM_QUERY\u001b[0m\u001b[0;34m,\u001b[0m \u001b[0msql\u001b[0m\u001b[0;34m)\u001b[0m\u001b[0;34m\u001b[0m\u001b[0;34m\u001b[0m\u001b[0m\n\u001b[0;32m--> 548\u001b[0;31m         \u001b[0mself\u001b[0m\u001b[0;34m.\u001b[0m\u001b[0m_affected_rows\u001b[0m \u001b[0;34m=\u001b[0m \u001b[0mself\u001b[0m\u001b[0;34m.\u001b[0m\u001b[0m_read_query_result\u001b[0m\u001b[0;34m(\u001b[0m\u001b[0munbuffered\u001b[0m\u001b[0;34m=\u001b[0m\u001b[0munbuffered\u001b[0m\u001b[0;34m)\u001b[0m\u001b[0;34m\u001b[0m\u001b[0;34m\u001b[0m\u001b[0m\n\u001b[0m\u001b[1;32m    549\u001b[0m         \u001b[0;32mreturn\u001b[0m \u001b[0mself\u001b[0m\u001b[0;34m.\u001b[0m\u001b[0m_affected_rows\u001b[0m\u001b[0;34m\u001b[0m\u001b[0;34m\u001b[0m\u001b[0m\n\u001b[1;32m    550\u001b[0m \u001b[0;34m\u001b[0m\u001b[0m\n",
      "\u001b[0;32m/opt/homebrew/anaconda3/lib/python3.8/site-packages/pymysql/connections.py\u001b[0m in \u001b[0;36m_read_query_result\u001b[0;34m(self, unbuffered)\u001b[0m\n\u001b[1;32m    773\u001b[0m         \u001b[0;32melse\u001b[0m\u001b[0;34m:\u001b[0m\u001b[0;34m\u001b[0m\u001b[0;34m\u001b[0m\u001b[0m\n\u001b[1;32m    774\u001b[0m             \u001b[0mresult\u001b[0m \u001b[0;34m=\u001b[0m \u001b[0mMySQLResult\u001b[0m\u001b[0;34m(\u001b[0m\u001b[0mself\u001b[0m\u001b[0;34m)\u001b[0m\u001b[0;34m\u001b[0m\u001b[0;34m\u001b[0m\u001b[0m\n\u001b[0;32m--> 775\u001b[0;31m             \u001b[0mresult\u001b[0m\u001b[0;34m.\u001b[0m\u001b[0mread\u001b[0m\u001b[0;34m(\u001b[0m\u001b[0;34m)\u001b[0m\u001b[0;34m\u001b[0m\u001b[0;34m\u001b[0m\u001b[0m\n\u001b[0m\u001b[1;32m    776\u001b[0m         \u001b[0mself\u001b[0m\u001b[0;34m.\u001b[0m\u001b[0m_result\u001b[0m \u001b[0;34m=\u001b[0m \u001b[0mresult\u001b[0m\u001b[0;34m\u001b[0m\u001b[0;34m\u001b[0m\u001b[0m\n\u001b[1;32m    777\u001b[0m         \u001b[0;32mif\u001b[0m \u001b[0mresult\u001b[0m\u001b[0;34m.\u001b[0m\u001b[0mserver_status\u001b[0m \u001b[0;32mis\u001b[0m \u001b[0;32mnot\u001b[0m \u001b[0;32mNone\u001b[0m\u001b[0;34m:\u001b[0m\u001b[0;34m\u001b[0m\u001b[0;34m\u001b[0m\u001b[0m\n",
      "\u001b[0;32m/opt/homebrew/anaconda3/lib/python3.8/site-packages/pymysql/connections.py\u001b[0m in \u001b[0;36mread\u001b[0;34m(self)\u001b[0m\n\u001b[1;32m   1154\u001b[0m     \u001b[0;32mdef\u001b[0m \u001b[0mread\u001b[0m\u001b[0;34m(\u001b[0m\u001b[0mself\u001b[0m\u001b[0;34m)\u001b[0m\u001b[0;34m:\u001b[0m\u001b[0;34m\u001b[0m\u001b[0;34m\u001b[0m\u001b[0m\n\u001b[1;32m   1155\u001b[0m         \u001b[0;32mtry\u001b[0m\u001b[0;34m:\u001b[0m\u001b[0;34m\u001b[0m\u001b[0;34m\u001b[0m\u001b[0m\n\u001b[0;32m-> 1156\u001b[0;31m             \u001b[0mfirst_packet\u001b[0m \u001b[0;34m=\u001b[0m \u001b[0mself\u001b[0m\u001b[0;34m.\u001b[0m\u001b[0mconnection\u001b[0m\u001b[0;34m.\u001b[0m\u001b[0m_read_packet\u001b[0m\u001b[0;34m(\u001b[0m\u001b[0;34m)\u001b[0m\u001b[0;34m\u001b[0m\u001b[0;34m\u001b[0m\u001b[0m\n\u001b[0m\u001b[1;32m   1157\u001b[0m \u001b[0;34m\u001b[0m\u001b[0m\n\u001b[1;32m   1158\u001b[0m             \u001b[0;32mif\u001b[0m \u001b[0mfirst_packet\u001b[0m\u001b[0;34m.\u001b[0m\u001b[0mis_ok_packet\u001b[0m\u001b[0;34m(\u001b[0m\u001b[0;34m)\u001b[0m\u001b[0;34m:\u001b[0m\u001b[0;34m\u001b[0m\u001b[0;34m\u001b[0m\u001b[0m\n",
      "\u001b[0;32m/opt/homebrew/anaconda3/lib/python3.8/site-packages/pymysql/connections.py\u001b[0m in \u001b[0;36m_read_packet\u001b[0;34m(self, packet_type)\u001b[0m\n\u001b[1;32m    723\u001b[0m             \u001b[0;32mif\u001b[0m \u001b[0mself\u001b[0m\u001b[0;34m.\u001b[0m\u001b[0m_result\u001b[0m \u001b[0;32mis\u001b[0m \u001b[0;32mnot\u001b[0m \u001b[0;32mNone\u001b[0m \u001b[0;32mand\u001b[0m \u001b[0mself\u001b[0m\u001b[0;34m.\u001b[0m\u001b[0m_result\u001b[0m\u001b[0;34m.\u001b[0m\u001b[0munbuffered_active\u001b[0m \u001b[0;32mis\u001b[0m \u001b[0;32mTrue\u001b[0m\u001b[0;34m:\u001b[0m\u001b[0;34m\u001b[0m\u001b[0;34m\u001b[0m\u001b[0m\n\u001b[1;32m    724\u001b[0m                 \u001b[0mself\u001b[0m\u001b[0;34m.\u001b[0m\u001b[0m_result\u001b[0m\u001b[0;34m.\u001b[0m\u001b[0munbuffered_active\u001b[0m \u001b[0;34m=\u001b[0m \u001b[0;32mFalse\u001b[0m\u001b[0;34m\u001b[0m\u001b[0;34m\u001b[0m\u001b[0m\n\u001b[0;32m--> 725\u001b[0;31m             \u001b[0mpacket\u001b[0m\u001b[0;34m.\u001b[0m\u001b[0mraise_for_error\u001b[0m\u001b[0;34m(\u001b[0m\u001b[0;34m)\u001b[0m\u001b[0;34m\u001b[0m\u001b[0;34m\u001b[0m\u001b[0m\n\u001b[0m\u001b[1;32m    726\u001b[0m         \u001b[0;32mreturn\u001b[0m \u001b[0mpacket\u001b[0m\u001b[0;34m\u001b[0m\u001b[0;34m\u001b[0m\u001b[0m\n\u001b[1;32m    727\u001b[0m \u001b[0;34m\u001b[0m\u001b[0m\n",
      "\u001b[0;32m/opt/homebrew/anaconda3/lib/python3.8/site-packages/pymysql/protocol.py\u001b[0m in \u001b[0;36mraise_for_error\u001b[0;34m(self)\u001b[0m\n\u001b[1;32m    219\u001b[0m         \u001b[0;32mif\u001b[0m \u001b[0mDEBUG\u001b[0m\u001b[0;34m:\u001b[0m\u001b[0;34m\u001b[0m\u001b[0;34m\u001b[0m\u001b[0m\n\u001b[1;32m    220\u001b[0m             \u001b[0mprint\u001b[0m\u001b[0;34m(\u001b[0m\u001b[0;34m\"errno =\"\u001b[0m\u001b[0;34m,\u001b[0m \u001b[0merrno\u001b[0m\u001b[0;34m)\u001b[0m\u001b[0;34m\u001b[0m\u001b[0;34m\u001b[0m\u001b[0m\n\u001b[0;32m--> 221\u001b[0;31m         \u001b[0merr\u001b[0m\u001b[0;34m.\u001b[0m\u001b[0mraise_mysql_exception\u001b[0m\u001b[0;34m(\u001b[0m\u001b[0mself\u001b[0m\u001b[0;34m.\u001b[0m\u001b[0m_data\u001b[0m\u001b[0;34m)\u001b[0m\u001b[0;34m\u001b[0m\u001b[0;34m\u001b[0m\u001b[0m\n\u001b[0m\u001b[1;32m    222\u001b[0m \u001b[0;34m\u001b[0m\u001b[0m\n\u001b[1;32m    223\u001b[0m     \u001b[0;32mdef\u001b[0m \u001b[0mdump\u001b[0m\u001b[0;34m(\u001b[0m\u001b[0mself\u001b[0m\u001b[0;34m)\u001b[0m\u001b[0;34m:\u001b[0m\u001b[0;34m\u001b[0m\u001b[0;34m\u001b[0m\u001b[0m\n",
      "\u001b[0;32m/opt/homebrew/anaconda3/lib/python3.8/site-packages/pymysql/err.py\u001b[0m in \u001b[0;36mraise_mysql_exception\u001b[0;34m(data)\u001b[0m\n\u001b[1;32m    141\u001b[0m     \u001b[0;32mif\u001b[0m \u001b[0merrorclass\u001b[0m \u001b[0;32mis\u001b[0m \u001b[0;32mNone\u001b[0m\u001b[0;34m:\u001b[0m\u001b[0;34m\u001b[0m\u001b[0;34m\u001b[0m\u001b[0m\n\u001b[1;32m    142\u001b[0m         \u001b[0merrorclass\u001b[0m \u001b[0;34m=\u001b[0m \u001b[0mInternalError\u001b[0m \u001b[0;32mif\u001b[0m \u001b[0merrno\u001b[0m \u001b[0;34m<\u001b[0m \u001b[0;36m1000\u001b[0m \u001b[0;32melse\u001b[0m \u001b[0mOperationalError\u001b[0m\u001b[0;34m\u001b[0m\u001b[0;34m\u001b[0m\u001b[0m\n\u001b[0;32m--> 143\u001b[0;31m     \u001b[0;32mraise\u001b[0m \u001b[0merrorclass\u001b[0m\u001b[0;34m(\u001b[0m\u001b[0merrno\u001b[0m\u001b[0;34m,\u001b[0m \u001b[0merrval\u001b[0m\u001b[0;34m)\u001b[0m\u001b[0;34m\u001b[0m\u001b[0;34m\u001b[0m\u001b[0m\n\u001b[0m",
      "\u001b[0;31mProgrammingError\u001b[0m: (1064, \"You have an error in your SQL syntax; check the manual that corresponds to your MariaDB server version for the right syntax to use near ') COLLATE='utf8mb4_general_ci'' at line 22\")"
     ]
    }
   ],
   "source": [
    "cur.execute(create_table)"
   ]
  },
  {
   "cell_type": "code",
   "execution_count": 259,
   "metadata": {},
   "outputs": [],
   "source": [
    "con.commit()"
   ]
  },
  {
   "cell_type": "code",
   "execution_count": 58,
   "metadata": {},
   "outputs": [],
   "source": [
    "for name in df.keys():\n",
    "    print(\"{}\".format(name), end = \", \")"
   ]
  },
  {
   "cell_type": "code",
   "execution_count": 199,
   "metadata": {},
   "outputs": [],
   "source": [
    "sql = \"\"\"INSERT INTO airport_info (airlineEnglish, airlineKorean, airport, airportCode, city,\n",
    "cityCode, flightPurpose, internationalEddate, internationalFri, internationalIoType, internationalMon,\n",
    "internationalNum , internationalSat, internationalStdate, internationalSun, internationalThu,\n",
    "internationalTime, internationalTue ,internationalWed ,year) VALUES\n",
    "         (%s, %s, %s, %s, %s, %s, %s, %s, %s, %s, %s, %s, %s, %s, %s, %s, %s, %s, %s, %s)\n",
    "\"\"\""
   ]
  },
  {
   "cell_type": "code",
   "execution_count": null,
   "metadata": {},
   "outputs": [],
   "source": [
    "airlineEnglish, airlineKorean, airport, airportCode, city, cityCode, flightPurpose, internationalEddate, internationalFri, internationalIoType, internationalMon, internationalNum , internationalSat, internationalStdate, internationalSun, internationalThu, internationalTime, internationalTue ,internationalWed ,year"
   ]
  },
  {
   "cell_type": "code",
   "execution_count": 60,
   "metadata": {},
   "outputs": [],
   "source": [
    "for row in df2.iterrows():\n",
    "    try:\n",
    "        cur.execute(sql, row[1].tolist())\n",
    "    except Exception as e:\n",
    "        print(e)\n",
    "        break\n",
    "        \n",
    "con.commit()"
   ]
  },
  {
   "cell_type": "code",
   "execution_count": null,
   "metadata": {},
   "outputs": [],
   "source": []
  }
 ],
 "metadata": {
  "kernelspec": {
   "display_name": "Python 3",
   "language": "python",
   "name": "python3"
  },
  "language_info": {
   "codemirror_mode": {
    "name": "ipython",
    "version": 3
   },
   "file_extension": ".py",
   "mimetype": "text/x-python",
   "name": "python",
   "nbconvert_exporter": "python",
   "pygments_lexer": "ipython3",
   "version": "3.8.8"
  }
 },
 "nbformat": 4,
 "nbformat_minor": 4
}
