{
 "cells": [
  {
   "cell_type": "code",
   "execution_count": 1,
   "id": "0da767f7-fb13-4ca0-b3f7-6bf7ca801b48",
   "metadata": {},
   "outputs": [
    {
     "name": "stdout",
     "output_type": "stream",
     "text": [
      "Requirement already satisfied: mysqlclient in c:\\users\\playdata\\anaconda3\\lib\\site-packages (2.0.3)Note: you may need to restart the kernel to use updated packages.\n",
      "\n"
     ]
    }
   ],
   "source": [
    "pip install mysqlclient"
   ]
  },
  {
   "cell_type": "code",
   "execution_count": 2,
   "id": "2227180b-8aa8-4b0f-ab7d-bd6ac4192f7c",
   "metadata": {},
   "outputs": [],
   "source": [
    "import sqlalchemy"
   ]
  },
  {
   "cell_type": "code",
   "execution_count": 64,
   "id": "a967489f-0416-4549-85e3-748203c50ecb",
   "metadata": {},
   "outputs": [],
   "source": [
    "engine = sqlalchemy.create_engine(\"mysql+mysqldb://root:\" + \"12345\" + \"@15.164.160.109/test\"  , encoding='utf-8')"
   ]
  },
  {
   "cell_type": "code",
   "execution_count": 6,
   "id": "e7e043a6-8494-4a36-b0ab-f735701aee4f",
   "metadata": {},
   "outputs": [],
   "source": [
    "import requests"
   ]
  },
  {
   "cell_type": "code",
   "execution_count": 7,
   "id": "07341e9f-4afd-477c-a3cd-6950e5d27933",
   "metadata": {},
   "outputs": [],
   "source": [
    "head = {\"User-Agent\": \"Mozilla/5.0 (Windows NT 10.0; Win64; x64) AppleWebKit/537.36 (KHTML, like Gecko) Chrome/94.0.4606.71 Safari/537.36\"}"
   ]
  },
  {
   "cell_type": "code",
   "execution_count": 8,
   "id": "ae743e9f-8525-4910-8ef6-bebf191a3585",
   "metadata": {},
   "outputs": [],
   "source": [
    "url = \"https://finance.naver.com/item/sise_day.naver?code=018700\"\n",
    "\n",
    "r = requests.get(url, headers=head)"
   ]
  },
  {
   "cell_type": "code",
   "execution_count": 11,
   "id": "3283e4f0-8a4a-4e2d-8db7-bb512dd7e5e1",
   "metadata": {},
   "outputs": [],
   "source": [
    "import pandas as pd"
   ]
  },
  {
   "cell_type": "code",
   "execution_count": 65,
   "id": "95956737-2e1c-4697-9808-91f13dc3760e",
   "metadata": {},
   "outputs": [],
   "source": [
    "stock = pd.read_html(r.text)[0].dropna()"
   ]
  },
  {
   "cell_type": "code",
   "execution_count": 68,
   "id": "be79d1ad-7f17-48c4-889d-3de9b87b88fc",
   "metadata": {},
   "outputs": [],
   "source": [
    "stock.columns = ['date', 'close', 'before', 'open', 'high', 'low', 'trade']"
   ]
  },
  {
   "cell_type": "code",
   "execution_count": 69,
   "id": "bf322550-b856-4243-b97a-2e858ff08f98",
   "metadata": {},
   "outputs": [],
   "source": [
    "from datetime import date, datetime"
   ]
  },
  {
   "cell_type": "code",
   "execution_count": 70,
   "id": "97b658c3-1c67-409b-a907-eaf596b2f2e5",
   "metadata": {},
   "outputs": [],
   "source": [
    "stock['date'] = stock['date'].apply(lambda x : datetime.strptime(x, \"%Y.%m.%d\"))"
   ]
  },
  {
   "cell_type": "code",
   "execution_count": 71,
   "id": "48364c71-c615-4012-869a-f96137766a3d",
   "metadata": {},
   "outputs": [],
   "source": [
    "days = dict(zip(range(0, 7), [x + \"요일\" for x in \"월화수목금토일\"]))"
   ]
  },
  {
   "cell_type": "code",
   "execution_count": 72,
   "id": "3c1437d1-18db-4cd1-8300-af5054a1a792",
   "metadata": {},
   "outputs": [],
   "source": [
    "stock['요일'] = stock['date'].apply(lambda x : days[x.weekday()])"
   ]
  },
  {
   "cell_type": "code",
   "execution_count": null,
   "id": "2ce90ed8-1bf7-49af-a7db-8ee414c3fb8a",
   "metadata": {},
   "outputs": [],
   "source": [
    "stock.to_sql(name='stock2', con=engine, if_exists='append', index=False)"
   ]
  },
  {
   "cell_type": "code",
   "execution_count": 48,
   "id": "dc32a8f2-c179-4e39-afb5-e6d8ba6b1ea5",
   "metadata": {},
   "outputs": [],
   "source": [
    "url_post = \"http://data.krx.co.kr/comm/bldAttendant/getJsonData.cmd\""
   ]
  },
  {
   "cell_type": "code",
   "execution_count": 49,
   "id": "0b72a9c4-072f-4c5f-86ca-5da3243e2434",
   "metadata": {},
   "outputs": [],
   "source": [
    "payload = {\"bld\" : \"dbms/MDC/STAT/standard/MDCSTAT01901\",\n",
    "\"mktId\" : \"ALL\",\n",
    "\"share\" : \"1\",\n",
    "\"csvxls_isNo\" : \"false\",}"
   ]
  },
  {
   "cell_type": "code",
   "execution_count": 50,
   "id": "41ab26c1-3f68-414e-8039-a9ebf42f2893",
   "metadata": {},
   "outputs": [],
   "source": [
    "r2 = requests.post(url_post, headers= head, data=payload)"
   ]
  },
  {
   "cell_type": "code",
   "execution_count": 55,
   "id": "4da06d57-0913-45cb-81a3-e36806167bbe",
   "metadata": {},
   "outputs": [],
   "source": [
    "master = pd.DataFrame(r2.json()['OutBlock_1'])"
   ]
  },
  {
   "cell_type": "code",
   "execution_count": 74,
   "id": "8611f0c2-21cb-4d4e-b31d-16029074254c",
   "metadata": {},
   "outputs": [],
   "source": [
    "import pymysql"
   ]
  },
  {
   "cell_type": "code",
   "execution_count": 76,
   "id": "a0000dd1-e0b7-46cd-b229-718bac3008ad",
   "metadata": {},
   "outputs": [],
   "source": [
    "# DB 접속 \n",
    "try:\n",
    "    con = pymysql.connect(host=\"15.164.160.109\", user= 'root', port=3306, password= '12345',  \n",
    "                          db= 'stocks', charset='utf8')\n",
    "    cur = con.cursor()\n",
    "except Exception as e:\n",
    "    print (e)   "
   ]
  },
  {
   "cell_type": "code",
   "execution_count": 78,
   "id": "10b1d8f8-fc79-443e-8027-0fa9ee07cc74",
   "metadata": {},
   "outputs": [
    {
     "data": {
      "text/plain": [
       "Index(['ISU_CD', 'ISU_SRT_CD', 'ISU_NM', 'ISU_ABBRV', 'ISU_ENG_NM', 'LIST_DD',\n",
       "       'MKT_TP_NM', 'SECUGRP_NM', 'SECT_TP_NM', 'KIND_STKCERT_TP_NM', 'PARVAL',\n",
       "       'LIST_SHRS'],\n",
       "      dtype='object')"
      ]
     },
     "execution_count": 78,
     "metadata": {},
     "output_type": "execute_result"
    }
   ],
   "source": [
    "master"
   ]
  },
  {
   "cell_type": "code",
   "execution_count": 79,
   "id": "2da9dba3-2cce-41a4-9bcd-fa751839117a",
   "metadata": {},
   "outputs": [],
   "source": [
    "engine = sqlalchemy.create_engine(\"mysql+mysqldb://root:\" + \"12345\" + \"@15.164.160.109/stocks\"  , encoding='utf-8')"
   ]
  },
  {
   "cell_type": "code",
   "execution_count": 84,
   "id": "e303cbf3-e5a4-468c-b04b-cb3ab77a008a",
   "metadata": {},
   "outputs": [
    {
     "data": {
      "text/html": [
       "<div>\n",
       "<style scoped>\n",
       "    .dataframe tbody tr th:only-of-type {\n",
       "        vertical-align: middle;\n",
       "    }\n",
       "\n",
       "    .dataframe tbody tr th {\n",
       "        vertical-align: top;\n",
       "    }\n",
       "\n",
       "    .dataframe thead th {\n",
       "        text-align: right;\n",
       "    }\n",
       "</style>\n",
       "<table border=\"1\" class=\"dataframe\">\n",
       "  <thead>\n",
       "    <tr style=\"text-align: right;\">\n",
       "      <th></th>\n",
       "      <th>ISU_CD</th>\n",
       "      <th>ISU_SRT_CD</th>\n",
       "      <th>ISU_NM</th>\n",
       "      <th>ISU_ABBRV</th>\n",
       "      <th>ISU_ENG_NM</th>\n",
       "      <th>LIST_DD</th>\n",
       "      <th>MKT_TP_NM</th>\n",
       "      <th>SECUGRP_NM</th>\n",
       "      <th>SECT_TP_NM</th>\n",
       "      <th>KIND_STKCERT_TP_NM</th>\n",
       "      <th>PARVAL</th>\n",
       "      <th>LIST_SHRS</th>\n",
       "    </tr>\n",
       "  </thead>\n",
       "  <tbody>\n",
       "  </tbody>\n",
       "</table>\n",
       "</div>"
      ],
      "text/plain": [
       "Empty DataFrame\n",
       "Columns: [ISU_CD, ISU_SRT_CD, ISU_NM, ISU_ABBRV, ISU_ENG_NM, LIST_DD, MKT_TP_NM, SECUGRP_NM, SECT_TP_NM, KIND_STKCERT_TP_NM, PARVAL, LIST_SHRS]\n",
       "Index: []"
      ]
     },
     "execution_count": 84,
     "metadata": {},
     "output_type": "execute_result"
    }
   ],
   "source": [
    "master.iloc[:0,:]"
   ]
  },
  {
   "cell_type": "code",
   "execution_count": 83,
   "id": "e4dbd4bd-a605-4b7d-9e12-9fd487bb18ac",
   "metadata": {},
   "outputs": [],
   "source": [
    "master.iloc[:0,:].to_sql(name='day_stock', con=engine, if_exists='append', index=False)"
   ]
  },
  {
   "cell_type": "code",
   "execution_count": 87,
   "id": "c9ee9d96-c978-40dc-a3fe-cd673b9cd410",
   "metadata": {},
   "outputs": [
    {
     "data": {
      "text/plain": [
       "12"
      ]
     },
     "execution_count": 87,
     "metadata": {},
     "output_type": "execute_result"
    }
   ],
   "source": [
    "master.columns.size"
   ]
  },
  {
   "cell_type": "code",
   "execution_count": 98,
   "id": "50708b7f-3b0f-4a8d-8945-1f815d34374f",
   "metadata": {},
   "outputs": [],
   "source": [
    "sql = \"INSERT INTO day_stock VALUES (%s,%s,%s,%s,%s,%s,%s,%s,%s,%s,%s,%s )\""
   ]
  },
  {
   "cell_type": "code",
   "execution_count": 101,
   "id": "43f5ff69-2b81-46bc-806e-184c368ec12f",
   "metadata": {
    "scrolled": true,
    "tags": []
   },
   "outputs": [
    {
     "name": "stdout",
     "output_type": "stream",
     "text": [
      "0\n",
      "10\n",
      "20\n",
      "30\n",
      "40\n",
      "50\n",
      "60\n",
      "70\n",
      "80\n",
      "90\n",
      "100\n",
      "110\n",
      "120\n",
      "130\n",
      "140\n",
      "150\n",
      "160\n",
      "170\n",
      "180\n",
      "190\n",
      "200\n",
      "210\n",
      "220\n",
      "230\n",
      "240\n",
      "250\n",
      "260\n",
      "270\n",
      "280\n",
      "290\n",
      "300\n",
      "310\n",
      "320\n",
      "330\n",
      "340\n",
      "350\n",
      "360\n",
      "370\n",
      "380\n",
      "390\n",
      "400\n",
      "410\n",
      "420\n",
      "430\n",
      "440\n",
      "450\n",
      "460\n",
      "470\n",
      "480\n",
      "490\n",
      "500\n",
      "510\n",
      "520\n",
      "530\n",
      "540\n",
      "550\n",
      "560\n",
      "570\n",
      "580\n",
      "590\n",
      "600\n",
      "610\n",
      "620\n",
      "630\n",
      "640\n",
      "650\n",
      "660\n",
      "670\n",
      "680\n",
      "690\n",
      "700\n",
      "710\n",
      "720\n",
      "730\n",
      "740\n",
      "750\n",
      "760\n",
      "770\n",
      "780\n",
      "790\n",
      "800\n",
      "810\n",
      "820\n",
      "830\n",
      "840\n",
      "850\n",
      "860\n",
      "870\n",
      "880\n",
      "890\n",
      "900\n",
      "910\n",
      "920\n",
      "930\n",
      "940\n",
      "950\n",
      "960\n",
      "970\n",
      "980\n",
      "990\n",
      "1000\n",
      "1010\n",
      "1020\n",
      "1030\n",
      "1040\n",
      "1050\n",
      "1060\n",
      "1070\n",
      "1080\n",
      "1090\n",
      "1100\n",
      "1110\n",
      "1120\n",
      "1130\n",
      "1140\n",
      "1150\n",
      "1160\n",
      "1170\n",
      "1180\n",
      "1190\n",
      "1200\n",
      "1210\n",
      "1220\n",
      "1230\n",
      "1240\n",
      "1250\n",
      "1260\n",
      "1270\n",
      "1280\n",
      "1290\n",
      "1300\n",
      "1310\n",
      "1320\n",
      "1330\n",
      "1340\n",
      "1350\n",
      "1360\n",
      "1370\n",
      "1380\n",
      "1390\n",
      "1400\n",
      "1410\n",
      "1420\n",
      "1430\n",
      "1440\n",
      "1450\n",
      "1460\n",
      "1470\n",
      "1480\n",
      "1490\n",
      "1500\n",
      "1510\n",
      "1520\n",
      "1530\n",
      "1540\n",
      "1550\n",
      "1560\n",
      "1570\n",
      "1580\n",
      "1590\n",
      "1600\n",
      "1610\n",
      "1620\n",
      "1630\n",
      "1640\n",
      "1650\n",
      "1660\n",
      "1670\n",
      "1680\n",
      "1690\n",
      "1700\n",
      "1710\n",
      "1720\n",
      "1730\n",
      "1740\n",
      "1750\n",
      "1760\n",
      "1770\n",
      "1780\n",
      "1790\n",
      "1800\n",
      "1810\n",
      "1820\n",
      "1830\n",
      "1840\n",
      "1850\n",
      "1860\n",
      "1870\n",
      "1880\n",
      "1890\n",
      "1900\n",
      "1910\n",
      "1920\n",
      "1930\n",
      "1940\n",
      "1950\n",
      "1960\n",
      "1970\n",
      "1980\n",
      "1990\n",
      "2000\n",
      "2010\n",
      "2020\n",
      "2030\n",
      "2040\n",
      "2050\n",
      "2060\n",
      "2070\n",
      "2080\n",
      "2090\n",
      "2100\n",
      "2110\n",
      "2120\n",
      "2130\n",
      "2140\n",
      "2150\n",
      "2160\n",
      "2170\n",
      "2180\n",
      "2190\n",
      "2200\n",
      "2210\n",
      "2220\n",
      "2230\n",
      "2240\n",
      "2250\n",
      "2260\n",
      "2270\n",
      "2280\n",
      "2290\n",
      "2300\n",
      "2310\n",
      "2320\n",
      "2330\n",
      "2340\n",
      "2350\n",
      "2360\n",
      "2370\n",
      "2380\n",
      "2390\n",
      "2400\n",
      "2410\n",
      "2420\n",
      "2430\n",
      "2440\n",
      "2450\n",
      "2460\n",
      "2470\n",
      "2480\n",
      "2490\n",
      "2500\n",
      "2510\n",
      "2520\n",
      "2530\n",
      "2540\n",
      "2550\n",
      "2560\n",
      "2570\n",
      "2580\n"
     ]
    }
   ],
   "source": [
    "for idx, cont in master.iterrows():\n",
    "    if idx % 10 == 0: print(idx)\n",
    "    try:\n",
    "        cur.execute(sql, cont.values.tolist())\n",
    "    except Exception as e:\n",
    "        print (e)\n",
    "        break"
   ]
  },
  {
   "cell_type": "code",
   "execution_count": 100,
   "id": "46261f4e-b334-44db-8338-b8a42047cd4c",
   "metadata": {},
   "outputs": [],
   "source": [
    "con.commit()"
   ]
  },
  {
   "cell_type": "code",
   "execution_count": 105,
   "id": "beaeaf3f-90d9-4ac1-8f12-be8087fadcbb",
   "metadata": {},
   "outputs": [],
   "source": [
    "target_master = pd.read_sql_query(\"select ISU_SRT_CD, ISU_NM from day_stock\", con)"
   ]
  },
  {
   "cell_type": "code",
   "execution_count": 136,
   "id": "b9e1bbd4-6ff0-446d-aa7e-b246bcc4bd5c",
   "metadata": {},
   "outputs": [
    {
     "data": {
      "text/plain": [
       "(2585, 2)"
      ]
     },
     "execution_count": 136,
     "metadata": {},
     "output_type": "execute_result"
    }
   ],
   "source": [
    "target_master.shape"
   ]
  },
  {
   "cell_type": "code",
   "execution_count": 108,
   "id": "f802ee98-a1c6-4864-aed0-75ed44b0a92c",
   "metadata": {},
   "outputs": [
    {
     "data": {
      "text/html": [
       "<div>\n",
       "<style scoped>\n",
       "    .dataframe tbody tr th:only-of-type {\n",
       "        vertical-align: middle;\n",
       "    }\n",
       "\n",
       "    .dataframe tbody tr th {\n",
       "        vertical-align: top;\n",
       "    }\n",
       "\n",
       "    .dataframe thead th {\n",
       "        text-align: right;\n",
       "    }\n",
       "</style>\n",
       "<table border=\"1\" class=\"dataframe\">\n",
       "  <thead>\n",
       "    <tr style=\"text-align: right;\">\n",
       "      <th></th>\n",
       "      <th>ISU_SRT_CD</th>\n",
       "      <th>ISU_NM</th>\n",
       "    </tr>\n",
       "  </thead>\n",
       "  <tbody>\n",
       "    <tr>\n",
       "      <th>986</th>\n",
       "      <td>068270</td>\n",
       "      <td>셀트리온보통주</td>\n",
       "    </tr>\n",
       "    <tr>\n",
       "      <th>987</th>\n",
       "      <td>068760</td>\n",
       "      <td>셀트리온제약</td>\n",
       "    </tr>\n",
       "    <tr>\n",
       "      <th>988</th>\n",
       "      <td>091990</td>\n",
       "      <td>셀트리온헬스케어</td>\n",
       "    </tr>\n",
       "  </tbody>\n",
       "</table>\n",
       "</div>"
      ],
      "text/plain": [
       "    ISU_SRT_CD    ISU_NM\n",
       "986     068270   셀트리온보통주\n",
       "987     068760    셀트리온제약\n",
       "988     091990  셀트리온헬스케어"
      ]
     },
     "execution_count": 108,
     "metadata": {},
     "output_type": "execute_result"
    }
   ],
   "source": [
    "target_master[target_master.ISU_NM.str.contains(\"셀트리온\") ]"
   ]
  },
  {
   "cell_type": "code",
   "execution_count": 112,
   "id": "ef6bacbc-55d6-4a8f-9f04-d939a7011224",
   "metadata": {},
   "outputs": [],
   "source": [
    "stock_url = \"https://finance.naver.com/item/sise_day.naver?code={}&page={}\""
   ]
  },
  {
   "cell_type": "code",
   "execution_count": 114,
   "id": "4cfe4572-27df-48fe-ad59-4e30b5ae8e4d",
   "metadata": {},
   "outputs": [],
   "source": [
    "total = []\n",
    "for x in range(1, 101):\n",
    "    r = requests.get(stock_url.format('091990', x), headers=head)\n",
    "    total.append(pd.read_html(r.text)[0].dropna())"
   ]
  },
  {
   "cell_type": "code",
   "execution_count": 115,
   "id": "b6236cd6-a460-4558-9495-9cda5b794019",
   "metadata": {},
   "outputs": [],
   "source": [
    "셀트리온 =pd.concat(total)"
   ]
  },
  {
   "cell_type": "code",
   "execution_count": 126,
   "id": "86c7fb0e-b422-45de-a088-6798542ef462",
   "metadata": {},
   "outputs": [],
   "source": [
    "셀트리온 = 셀트리온.iloc[::-1].copy()"
   ]
  },
  {
   "cell_type": "code",
   "execution_count": 129,
   "id": "4440988f-aa8e-4e69-ac54-b4b352db0f9e",
   "metadata": {},
   "outputs": [],
   "source": [
    "셀트리온['전날대비'] = 셀트리온['종가'] - 셀트리온['종가'].shift(1)"
   ]
  },
  {
   "cell_type": "code",
   "execution_count": 132,
   "id": "8040efa4-8ccc-4a3e-bd37-4a7ea72a3204",
   "metadata": {},
   "outputs": [],
   "source": [
    "셀트리온['MA60'] = 셀트리온.종가.rolling(60).mean()"
   ]
  },
  {
   "cell_type": "code",
   "execution_count": 138,
   "id": "7660db81-5c58-40ee-97d1-4a3c9f9c7e96",
   "metadata": {},
   "outputs": [
    {
     "data": {
      "text/html": [
       "<div>\n",
       "<style scoped>\n",
       "    .dataframe tbody tr th:only-of-type {\n",
       "        vertical-align: middle;\n",
       "    }\n",
       "\n",
       "    .dataframe tbody tr th {\n",
       "        vertical-align: top;\n",
       "    }\n",
       "\n",
       "    .dataframe thead th {\n",
       "        text-align: right;\n",
       "    }\n",
       "</style>\n",
       "<table border=\"1\" class=\"dataframe\">\n",
       "  <thead>\n",
       "    <tr style=\"text-align: right;\">\n",
       "      <th></th>\n",
       "      <th>날짜</th>\n",
       "      <th>종가</th>\n",
       "      <th>전일비</th>\n",
       "      <th>시가</th>\n",
       "      <th>고가</th>\n",
       "      <th>저가</th>\n",
       "      <th>거래량</th>\n",
       "      <th>전날대비</th>\n",
       "      <th>MA60</th>\n",
       "    </tr>\n",
       "  </thead>\n",
       "  <tbody>\n",
       "    <tr>\n",
       "      <th>1</th>\n",
       "      <td>2017.12.11</td>\n",
       "      <td>84700.0</td>\n",
       "      <td>6800.0</td>\n",
       "      <td>79000.0</td>\n",
       "      <td>84900.0</td>\n",
       "      <td>78800.0</td>\n",
       "      <td>1922122.0</td>\n",
       "      <td>6800.0</td>\n",
       "      <td>65606.666667</td>\n",
       "    </tr>\n",
       "    <tr>\n",
       "      <th>13</th>\n",
       "      <td>2017.12.12</td>\n",
       "      <td>87000.0</td>\n",
       "      <td>2300.0</td>\n",
       "      <td>87300.0</td>\n",
       "      <td>89200.0</td>\n",
       "      <td>84500.0</td>\n",
       "      <td>1917006.0</td>\n",
       "      <td>2300.0</td>\n",
       "      <td>66312.500000</td>\n",
       "    </tr>\n",
       "    <tr>\n",
       "      <th>12</th>\n",
       "      <td>2017.12.13</td>\n",
       "      <td>93100.0</td>\n",
       "      <td>6100.0</td>\n",
       "      <td>88700.0</td>\n",
       "      <td>93800.0</td>\n",
       "      <td>87300.0</td>\n",
       "      <td>2573348.0</td>\n",
       "      <td>6100.0</td>\n",
       "      <td>67099.166667</td>\n",
       "    </tr>\n",
       "    <tr>\n",
       "      <th>11</th>\n",
       "      <td>2017.12.14</td>\n",
       "      <td>94000.0</td>\n",
       "      <td>900.0</td>\n",
       "      <td>95900.0</td>\n",
       "      <td>97700.0</td>\n",
       "      <td>86700.0</td>\n",
       "      <td>7190220.0</td>\n",
       "      <td>900.0</td>\n",
       "      <td>67880.833333</td>\n",
       "    </tr>\n",
       "    <tr>\n",
       "      <th>10</th>\n",
       "      <td>2017.12.15</td>\n",
       "      <td>90500.0</td>\n",
       "      <td>3500.0</td>\n",
       "      <td>93400.0</td>\n",
       "      <td>94600.0</td>\n",
       "      <td>90500.0</td>\n",
       "      <td>1697765.0</td>\n",
       "      <td>-3500.0</td>\n",
       "      <td>68597.500000</td>\n",
       "    </tr>\n",
       "    <tr>\n",
       "      <th>...</th>\n",
       "      <td>...</td>\n",
       "      <td>...</td>\n",
       "      <td>...</td>\n",
       "      <td>...</td>\n",
       "      <td>...</td>\n",
       "      <td>...</td>\n",
       "      <td>...</td>\n",
       "      <td>...</td>\n",
       "      <td>...</td>\n",
       "    </tr>\n",
       "    <tr>\n",
       "      <th>5</th>\n",
       "      <td>2021.10.01</td>\n",
       "      <td>103600.0</td>\n",
       "      <td>5800.0</td>\n",
       "      <td>108700.0</td>\n",
       "      <td>108800.0</td>\n",
       "      <td>103500.0</td>\n",
       "      <td>1198135.0</td>\n",
       "      <td>-5800.0</td>\n",
       "      <td>115065.000000</td>\n",
       "    </tr>\n",
       "    <tr>\n",
       "      <th>4</th>\n",
       "      <td>2021.10.05</td>\n",
       "      <td>90300.0</td>\n",
       "      <td>13300.0</td>\n",
       "      <td>100200.0</td>\n",
       "      <td>100400.0</td>\n",
       "      <td>89900.0</td>\n",
       "      <td>2680190.0</td>\n",
       "      <td>-13300.0</td>\n",
       "      <td>114658.333333</td>\n",
       "    </tr>\n",
       "    <tr>\n",
       "      <th>3</th>\n",
       "      <td>2021.10.06</td>\n",
       "      <td>86200.0</td>\n",
       "      <td>4100.0</td>\n",
       "      <td>90300.0</td>\n",
       "      <td>92500.0</td>\n",
       "      <td>86100.0</td>\n",
       "      <td>2304652.0</td>\n",
       "      <td>-4100.0</td>\n",
       "      <td>114191.666667</td>\n",
       "    </tr>\n",
       "    <tr>\n",
       "      <th>2</th>\n",
       "      <td>2021.10.07</td>\n",
       "      <td>86700.0</td>\n",
       "      <td>500.0</td>\n",
       "      <td>87400.0</td>\n",
       "      <td>89400.0</td>\n",
       "      <td>85800.0</td>\n",
       "      <td>1331773.0</td>\n",
       "      <td>500.0</td>\n",
       "      <td>113768.333333</td>\n",
       "    </tr>\n",
       "    <tr>\n",
       "      <th>1</th>\n",
       "      <td>2021.10.08</td>\n",
       "      <td>89000.0</td>\n",
       "      <td>2300.0</td>\n",
       "      <td>88200.0</td>\n",
       "      <td>91400.0</td>\n",
       "      <td>87500.0</td>\n",
       "      <td>1167852.0</td>\n",
       "      <td>2300.0</td>\n",
       "      <td>113401.666667</td>\n",
       "    </tr>\n",
       "  </tbody>\n",
       "</table>\n",
       "<p>941 rows × 9 columns</p>\n",
       "</div>"
      ],
      "text/plain": [
       "            날짜        종가      전일비        시가        고가        저가        거래량  \\\n",
       "1   2017.12.11   84700.0   6800.0   79000.0   84900.0   78800.0  1922122.0   \n",
       "13  2017.12.12   87000.0   2300.0   87300.0   89200.0   84500.0  1917006.0   \n",
       "12  2017.12.13   93100.0   6100.0   88700.0   93800.0   87300.0  2573348.0   \n",
       "11  2017.12.14   94000.0    900.0   95900.0   97700.0   86700.0  7190220.0   \n",
       "10  2017.12.15   90500.0   3500.0   93400.0   94600.0   90500.0  1697765.0   \n",
       "..         ...       ...      ...       ...       ...       ...        ...   \n",
       "5   2021.10.01  103600.0   5800.0  108700.0  108800.0  103500.0  1198135.0   \n",
       "4   2021.10.05   90300.0  13300.0  100200.0  100400.0   89900.0  2680190.0   \n",
       "3   2021.10.06   86200.0   4100.0   90300.0   92500.0   86100.0  2304652.0   \n",
       "2   2021.10.07   86700.0    500.0   87400.0   89400.0   85800.0  1331773.0   \n",
       "1   2021.10.08   89000.0   2300.0   88200.0   91400.0   87500.0  1167852.0   \n",
       "\n",
       "       전날대비           MA60  \n",
       "1    6800.0   65606.666667  \n",
       "13   2300.0   66312.500000  \n",
       "12   6100.0   67099.166667  \n",
       "11    900.0   67880.833333  \n",
       "10  -3500.0   68597.500000  \n",
       "..      ...            ...  \n",
       "5   -5800.0  115065.000000  \n",
       "4  -13300.0  114658.333333  \n",
       "3   -4100.0  114191.666667  \n",
       "2     500.0  113768.333333  \n",
       "1    2300.0  113401.666667  \n",
       "\n",
       "[941 rows x 9 columns]"
      ]
     },
     "execution_count": 138,
     "metadata": {},
     "output_type": "execute_result"
    }
   ],
   "source": [
    "셀트리온.dropna()"
   ]
  },
  {
   "cell_type": "code",
   "execution_count": 135,
   "id": "95969c51-40a4-4674-85f3-cee5f2322b0b",
   "metadata": {},
   "outputs": [
    {
     "data": {
      "text/plain": [
       "Index(['날짜', '종가', '전일비', '시가', '고가', '저가', '거래량', '전날대비', 'MA60'], dtype='object')"
      ]
     },
     "execution_count": 135,
     "metadata": {},
     "output_type": "execute_result"
    }
   ],
   "source": [
    "셀트리온.columns"
   ]
  },
  {
   "cell_type": "markdown",
   "id": "d8e3eaa1-3af7-481f-88a0-9bba3e4f7ca4",
   "metadata": {},
   "source": [
    "대상 : 2585 종목 \n",
    "table 명 : deabak_jongmok\n",
    "컬럼 : code, code_name, date, close, before, open, high, low, trade, ma05, ma20, ma60, ma120\n",
    "기간 : 네이버 수집시 page 100페이지 \n",
    "\n",
    "주의사항 : NA 삭제, 종복 허용 X "
   ]
  },
  {
   "cell_type": "code",
   "execution_count": null,
   "id": "32049990-71f0-4fee-b154-30a12d1c2709",
   "metadata": {},
   "outputs": [],
   "source": [
    " "
   ]
  }
 ],
 "metadata": {
  "kernelspec": {
   "display_name": "Python 3",
   "language": "python",
   "name": "python3"
  },
  "language_info": {
   "codemirror_mode": {
    "name": "ipython",
    "version": 3
   },
   "file_extension": ".py",
   "mimetype": "text/x-python",
   "name": "python",
   "nbconvert_exporter": "python",
   "pygments_lexer": "ipython3",
   "version": "3.8.8"
  }
 },
 "nbformat": 4,
 "nbformat_minor": 5
}
