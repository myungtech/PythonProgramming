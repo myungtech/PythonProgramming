{
 "cells": [
  {
   "cell_type": "code",
   "execution_count": 1,
   "id": "1b231f34",
   "metadata": {
    "collapsed": true
   },
   "outputs": [
    {
     "name": "stdout",
     "output_type": "stream",
     "text": [
      "Requirement already satisfied: mediapipe in c:\\users\\playdata\\anaconda3\\lib\\site-packages (0.8.9)\n",
      "Requirement already satisfied: matplotlib in c:\\users\\playdata\\anaconda3\\lib\\site-packages (from mediapipe) (3.3.4)\n",
      "Requirement already satisfied: protobuf>=3.11.4 in c:\\users\\playdata\\anaconda3\\lib\\site-packages (from mediapipe) (3.17.2)\n",
      "Requirement already satisfied: wheel in c:\\users\\playdata\\anaconda3\\lib\\site-packages (from mediapipe) (0.36.2)\n",
      "Requirement already satisfied: six in c:\\users\\playdata\\anaconda3\\lib\\site-packages (from mediapipe) (1.15.0)\n",
      "Requirement already satisfied: numpy in c:\\users\\playdata\\anaconda3\\lib\\site-packages (from mediapipe) (1.20.1)\n",
      "Requirement already satisfied: attrs>=19.1.0 in c:\\users\\playdata\\anaconda3\\lib\\site-packages (from mediapipe) (20.3.0)\n",
      "Requirement already satisfied: absl-py in c:\\users\\playdata\\anaconda3\\lib\\site-packages (from mediapipe) (0.13.0)\n",
      "Requirement already satisfied: opencv-contrib-python in c:\\users\\playdata\\anaconda3\\lib\\site-packages (from mediapipe) (4.5.4.58)\n",
      "Requirement already satisfied: cycler>=0.10 in c:\\users\\playdata\\anaconda3\\lib\\site-packages (from matplotlib->mediapipe) (0.10.0)\n",
      "Requirement already satisfied: pillow>=6.2.0 in c:\\users\\playdata\\anaconda3\\lib\\site-packages (from matplotlib->mediapipe) (8.2.0)\n",
      "Requirement already satisfied: python-dateutil>=2.1 in c:\\users\\playdata\\anaconda3\\lib\\site-packages (from matplotlib->mediapipe) (2.8.1)\n",
      "Requirement already satisfied: kiwisolver>=1.0.1 in c:\\users\\playdata\\anaconda3\\lib\\site-packages (from matplotlib->mediapipe) (1.3.1)\n",
      "Requirement already satisfied: pyparsing!=2.0.4,!=2.1.2,!=2.1.6,>=2.0.3 in c:\\users\\playdata\\anaconda3\\lib\\site-packages (from matplotlib->mediapipe) (2.4.7)\n",
      "Note: you may need to restart the kernel to use updated packages.\n"
     ]
    }
   ],
   "source": [
    "pip install mediapipe"
   ]
  },
  {
   "cell_type": "markdown",
   "id": "565ef045",
   "metadata": {},
   "source": [
    "#### 9~12 Line :  hands 손가락 인식모듈의  작동 option을 지정한다. \n",
    "* max_num_hands=1,   : 인식할 손모양의 갯수, 생략하면 2가 지정된다. \n",
    "* min_detection_confidence=0.5,  : 성공적인 것으로 간주되는 최소 신뢰도 값. 0.0 ~1.0사이로서 기본값은 0.5이다.\n",
    "* min_tracking_confidence=0.5 :손 랜드마크가 성공적으로 추적된 것으로 간주되는 최소 신뢰도 값. 0.0 ~1.0 사이로서 기본값은 0.5이다. 이 값을 높이면 시간이 더 소요되지만 좀 더 정확한 작동이 보장된다. \n",
    "\n",
    "#### 18 Line :  OpenCV 영상은 BGR 형식인데 MediaPipe에서는 RGB 형식을 사용하므로 영상형식을 변환해 준다  \n",
    "#### 20 Line : MediaPipe의 hands 모듈을 이용해서 손동작을 인식한다. 이 한줄로서 손동작 인식 AI모델이 작동되고 결과 값이 result로 저장된다. \n",
    "#### 22 Line :  MediaPipe용 RGB 형식으로 변환했던 것을 OpenCV 영상저리를위해 다시 BGR형식으로 되돌린다. \n",
    "#### 24~25 : result값이 정상인 경우에만 후속 작업 처리한다. \n",
    "#### 26~27 : result로 반환된 landmark 데이터를 사용한다. \n",
    "\n",
    "인식된 손가락 모양은 다음과 같은 index값으로 가지는 배열로 제공된다.\n",
    "\n",
    "즉, 업지손가락 끝은 landmark[4]에, 검지 손가락 끝은 landmark[8]에 좌표값이 반환되는데, 좌표값은 image상의 x,y위치값을 0.0~1.0 사이의 값으로 표시한다. 즉 image 좌측 최상단은 x=0.0 y=0.0  우측최하단은 x=1.0, y=1.0이 된다. 따라서int(hand_landmarks.landmark[4].x * 100)은 엄지손가락 끝의 x좌표를 100분율로 표시한 것이 된다. \n",
    "\n",
    "#### 28 Line : 두 손가락 끝의 x좌표값 차이의 절대값을 구해 두 손가락 끝이 벌어진 정도를 계산한다. \n",
    "##### 34 ~ 35 Line : MediaPipe에 내장된 유틸리티 기능을 이용해서 구해진 손가락 모양을 서로 연결한 그림을 그려준다. "
   ]
  },
  {
   "cell_type": "code",
   "execution_count": 2,
   "id": "a8c69530",
   "metadata": {},
   "outputs": [],
   "source": [
    "import cv2\n",
    "import mediapipe as mp\n"
   ]
  },
  {
   "cell_type": "code",
   "execution_count": null,
   "id": "30a9f09d",
   "metadata": {},
   "outputs": [],
   "source": [
    "mp_drawing = mp.solutions.drawing_utils\n",
    "mp_hands = mp.solutions.hands\n",
    " \n",
    "cap = cv2.VideoCapture(0)\n",
    " \n",
    "with mp_hands.Hands(\n",
    "    max_num_hands=1,\n",
    "    min_detection_confidence=0.5,\n",
    "    min_tracking_confidence=0.5) as hands:\n",
    " \n",
    "    while cap.isOpened():\n",
    "        success, image = cap.read()\n",
    "        if not success:\n",
    "            continue\n",
    "        image = cv2.cvtColor(cv2.flip(image, 1), cv2.COLOR_BGR2RGB)\n",
    " \n",
    "        results = hands.process(image)\n",
    " \n",
    "        image = cv2.cvtColor(image, cv2.COLOR_RGB2BGR)\n",
    " \n",
    "        if results.multi_hand_landmarks:\n",
    "            for hand_landmarks in results.multi_hand_landmarks:\n",
    "                finger1 = int(hand_landmarks.landmark[4].x * 100 )\n",
    "                finger2 = int(hand_landmarks.landmark[8].x * 100 )\n",
    "                dist = abs(finger1 - finger2)\n",
    "                x = int(hand_landmarks.landmark[4].x * 1280 )\n",
    "                y = int(hand_landmarks.landmark[4].y * 720 )\n",
    "                cv2.putText(\n",
    "                    image, text='f1=%d f2=%d dist=%d ' % (finger1,finger2,dist), org=(10, 30),\n",
    "                    fontFace=cv2.FONT_HERSHEY_SIMPLEX, fontScale=1,\n",
    "                    color=255, thickness=3)\n",
    " \n",
    "                mp_drawing.draw_landmarks(\n",
    "                    image, hand_landmarks, mp_hands.HAND_CONNECTIONS)\n",
    " \n",
    "        cv2.imshow('image', image)\n",
    "        if cv2.waitKey(1) == ord('q'):\n",
    "            break\n",
    "cv2.destroyAllWindows()\n",
    "cap.release()"
   ]
  },
  {
   "cell_type": "markdown",
   "id": "f6fca327",
   "metadata": {},
   "source": [
    "2 : 배열이 누적되면 누적될수록 화면에 출력되는게 많다. \n",
    "    두장을 그려서 합친다.\n",
    "    계속 누적되는게 아니라 새로 그린다 ?\n",
    "    두깨를 늘린다.\n",
    "    이미지를 어떻게 합쳐 ?\n",
    "    \n",
    "\n"
   ]
  },
  {
   "cell_type": "code",
   "execution_count": null,
   "id": "789995fa",
   "metadata": {},
   "outputs": [],
   "source": []
  }
 ],
 "metadata": {
  "kernelspec": {
   "display_name": "Python 3",
   "language": "python",
   "name": "python3"
  },
  "language_info": {
   "codemirror_mode": {
    "name": "ipython",
    "version": 3
   },
   "file_extension": ".py",
   "mimetype": "text/x-python",
   "name": "python",
   "nbconvert_exporter": "python",
   "pygments_lexer": "ipython3",
   "version": "3.8.8"
  }
 },
 "nbformat": 4,
 "nbformat_minor": 5
}
