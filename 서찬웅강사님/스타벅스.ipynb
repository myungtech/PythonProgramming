{
 "cells": [
  {
   "cell_type": "code",
   "execution_count": 1,
   "id": "5c5a4816-af0a-45d2-b341-3fd88f422024",
   "metadata": {},
   "outputs": [],
   "source": [
    "import requests"
   ]
  },
  {
   "cell_type": "code",
   "execution_count": 2,
   "id": "d3f45c30-39b6-4f50-ba11-edbeddca739a",
   "metadata": {},
   "outputs": [],
   "source": [
    "url = \"https://www.starbucks.co.kr/store/getStore.do?\""
   ]
  },
  {
   "cell_type": "code",
   "execution_count": 3,
   "id": "5a1732d1-972f-4f98-b18d-4a248d83212a",
   "metadata": {},
   "outputs": [],
   "source": [
    "head = {\"User-Agent\": \"Mozilla/5.0 (Windows NT 10.0; Win64; x64) AppleWebKit/537.36 (KHTML, like Gecko) Chrome/94.0.4606.71 Safari/537.36\"}"
   ]
  },
  {
   "cell_type": "code",
   "execution_count": 4,
   "id": "7256728b-fe8b-4b14-ac3f-35a54e26b6cc",
   "metadata": {},
   "outputs": [],
   "source": [
    "payload = {\"in_biz_cds\" : \"0\",\n",
    "        \"in_scodes\" : \"0\",\n",
    "        \"ins_lat\" : \"37.5001823\",\n",
    "        \"ins_lng\" : \"127.0078127\",\n",
    "        \"search_text\" : \"\",\n",
    "        \"p_sido_cd\" : \"01\",\n",
    "        \"p_gugun_cd\" : \"\",\n",
    "        \"in_distance\" : \"0\",\n",
    "        \"in_biz_cd\" : \"\",\n",
    "        \"isError\" : \"true\",\n",
    "        \"searchType\" : \"C\",\n",
    "        \"set_date\" : \"\",\n",
    "        \"all_store\" : \"0\",\n",
    "        \"T03\" : \"0\",\n",
    "        \"T01\" : \"0\",\n",
    "        \"T27\" : \"0\",\n",
    "        \"T12\" : \"0\",\n",
    "        \"T09\" : \"0\",\n",
    "        \"T30\" : \"0\",\n",
    "        \"T05\" : \"0\",\n",
    "        \"T22\" : \"0\",\n",
    "        \"T21\" : \"0\",\n",
    "        \"T10\" : \"0\",\n",
    "        \"T36\" : \"0\",\n",
    "        \"T43\" : \"0\",\n",
    "        \"T48\" : \"0\",\n",
    "        \"P10\" : \"0\",\n",
    "        \"P50\" : \"0\",\n",
    "        \"P20\" : \"0\",\n",
    "        \"P60\" : \"0\",\n",
    "        \"P30\" : \"0\",\n",
    "        \"P70\" : \"0\",\n",
    "        \"P40\" : \"0\",\n",
    "        \"P80\" : \"0\",\n",
    "        \"whcroad_yn\" : \"0\",\n",
    "        \"P90\" : \"0\",\n",
    "        \"new_bool\" : \"0\",\n",
    "        \"iend\" : \"1000\",\n",
    "        \"rndCod\" : \"KSBBBU69W9\"}"
   ]
  },
  {
   "cell_type": "code",
   "execution_count": 5,
   "id": "42dbc37c-8e55-4ae8-a210-e92a61f481f9",
   "metadata": {},
   "outputs": [],
   "source": [
    "r = requests.post(url, headers=head, data=payload)"
   ]
  },
  {
   "cell_type": "code",
   "execution_count": 6,
   "id": "951969cb-9f12-4e06-bf22-2013f30c6b7f",
   "metadata": {},
   "outputs": [
    {
     "data": {
      "text/plain": [
       "566"
      ]
     },
     "execution_count": 6,
     "metadata": {},
     "output_type": "execute_result"
    }
   ],
   "source": [
    "r.json()['list'].__len__()"
   ]
  },
  {
   "cell_type": "code",
   "execution_count": 7,
   "id": "affc67fc-d213-46fd-9a69-6d22fbcd3540",
   "metadata": {},
   "outputs": [],
   "source": [
    "import pandas as pd"
   ]
  },
  {
   "cell_type": "code",
   "execution_count": 8,
   "id": "13c80dfb-e78f-4621-81d5-a474aef81efc",
   "metadata": {},
   "outputs": [],
   "source": [
    "seoul_star = pd.DataFrame(r.json()['list'])"
   ]
  },
  {
   "cell_type": "code",
   "execution_count": 9,
   "id": "881cbf44-5fe5-48ce-8a99-bff8f1804211",
   "metadata": {},
   "outputs": [
    {
     "name": "stdout",
     "output_type": "stream",
     "text": [
      "0, None, None, None, None, None, None, None, None, None, None, None, 0, None, , , None, None, None, None, None, None, None, None, None, None, None, None, None, None, None, None, None, 1509, 역삼아레나빌딩, 1522-3232, 02-568-3763, 01, 서울, 0101, 강남구, 서울특별시 강남구 역삼동 721-13 아레나빌딩, None, None, T05@T08@T16@T17@T20@T21@T30@T36@T52@P80@P90, 0, , , , 0, 3.11, -1, -1, -1, 30, , 0, 3762, N, , 0, None, None, /upload/store/2020/09/[3762]_20200917031519_6juwr.JPG, None, None, None, None, None, 0, None, None, 0, None, None, None, None, None, None, , 1, 60, 20190613, 0, , , , , , 서울특별시 강남구 언주로 425 (역삼동), , N, WHCROAD, , , , 0, None, A01, None, None, 37.501087, 127.043069, 0, 0, 0, 0, 0, 0, 0, 0, 0, 0, 0, 0, 0, 0, 0, 0, 0, 0, 0, 0, 0, 0, 0, 0, 0, 0, "
     ]
    }
   ],
   "source": [
    "for x in seoul_star.iloc[0, :]:\n",
    "    print (x, end=\", \")"
   ]
  },
  {
   "cell_type": "code",
   "execution_count": 10,
   "id": "ffc3b768-222f-41ac-be20-3d5555705677",
   "metadata": {},
   "outputs": [
    {
     "data": {
      "text/plain": [
       "Index(['seq', 'sido_cd', 'sido_nm', 'gugun_cd', 'gugun_nm', 'code_order',\n",
       "       'view_yn', 'store_num', 'sido', 'gugun',\n",
       "       ...\n",
       "       't22', 't21', 'p90', 't05', 't30', 't36', 't27', 't29', 't43', 't48'],\n",
       "      dtype='object', length=129)"
      ]
     },
     "execution_count": 10,
     "metadata": {},
     "output_type": "execute_result"
    }
   ],
   "source": [
    "seoul_star.columns"
   ]
  },
  {
   "cell_type": "code",
   "execution_count": 11,
   "id": "5630c3e0-4df8-4b47-92b3-f61c7ff2bce5",
   "metadata": {},
   "outputs": [
    {
     "data": {
      "text/plain": [
       "seq           0\n",
       "sido_cd     566\n",
       "sido_nm     566\n",
       "gugun_cd    566\n",
       "gugun_nm    566\n",
       "           ... \n",
       "t36           0\n",
       "t27           0\n",
       "t29           0\n",
       "t43           0\n",
       "t48           0\n",
       "Length: 129, dtype: int64"
      ]
     },
     "execution_count": 11,
     "metadata": {},
     "output_type": "execute_result"
    }
   ],
   "source": [
    "seoul_star.isnull().sum()"
   ]
  },
  {
   "cell_type": "code",
   "execution_count": 12,
   "id": "459ef91b-98cb-4131-bbab-09113472c4af",
   "metadata": {},
   "outputs": [],
   "source": [
    "seoul_star.dropna(axis=1, inplace=True)"
   ]
  },
  {
   "cell_type": "code",
   "execution_count": 13,
   "id": "05fc6c95-9fdc-4f96-8313-96c0d6b609c0",
   "metadata": {},
   "outputs": [
    {
     "data": {
      "text/html": [
       "<div>\n",
       "<style scoped>\n",
       "    .dataframe tbody tr th:only-of-type {\n",
       "        vertical-align: middle;\n",
       "    }\n",
       "\n",
       "    .dataframe tbody tr th {\n",
       "        vertical-align: top;\n",
       "    }\n",
       "\n",
       "    .dataframe thead th {\n",
       "        text-align: right;\n",
       "    }\n",
       "</style>\n",
       "<table border=\"1\" class=\"dataframe\">\n",
       "  <thead>\n",
       "    <tr style=\"text-align: right;\">\n",
       "      <th></th>\n",
       "      <th>seq</th>\n",
       "      <th>p_pro_seq</th>\n",
       "      <th>p_sido_cd</th>\n",
       "      <th>p_gugun_cd</th>\n",
       "      <th>s_code</th>\n",
       "      <th>s_name</th>\n",
       "      <th>tel</th>\n",
       "      <th>fax</th>\n",
       "      <th>sido_code</th>\n",
       "      <th>sido_name</th>\n",
       "      <th>...</th>\n",
       "      <th>t22</th>\n",
       "      <th>t21</th>\n",
       "      <th>p90</th>\n",
       "      <th>t05</th>\n",
       "      <th>t30</th>\n",
       "      <th>t36</th>\n",
       "      <th>t27</th>\n",
       "      <th>t29</th>\n",
       "      <th>t43</th>\n",
       "      <th>t48</th>\n",
       "    </tr>\n",
       "  </thead>\n",
       "  <tbody>\n",
       "    <tr>\n",
       "      <th>0</th>\n",
       "      <td>0</td>\n",
       "      <td>0</td>\n",
       "      <td></td>\n",
       "      <td></td>\n",
       "      <td>1509</td>\n",
       "      <td>역삼아레나빌딩</td>\n",
       "      <td>1522-3232</td>\n",
       "      <td>02-568-3763</td>\n",
       "      <td>01</td>\n",
       "      <td>서울</td>\n",
       "      <td>...</td>\n",
       "      <td>0</td>\n",
       "      <td>0</td>\n",
       "      <td>0</td>\n",
       "      <td>0</td>\n",
       "      <td>0</td>\n",
       "      <td>0</td>\n",
       "      <td>0</td>\n",
       "      <td>0</td>\n",
       "      <td>0</td>\n",
       "      <td>0</td>\n",
       "    </tr>\n",
       "  </tbody>\n",
       "</table>\n",
       "<p>1 rows × 80 columns</p>\n",
       "</div>"
      ],
      "text/plain": [
       "   seq  p_pro_seq p_sido_cd p_gugun_cd s_code   s_name        tel  \\\n",
       "0    0          0                        1509  역삼아레나빌딩  1522-3232   \n",
       "\n",
       "           fax sido_code sido_name  ... t22 t21 p90 t05  t30 t36 t27 t29  t43  \\\n",
       "0  02-568-3763        01        서울  ...   0   0   0   0    0   0   0   0    0   \n",
       "\n",
       "  t48  \n",
       "0   0  \n",
       "\n",
       "[1 rows x 80 columns]"
      ]
     },
     "execution_count": 13,
     "metadata": {},
     "output_type": "execute_result"
    }
   ],
   "source": [
    "seoul_star.head(1)"
   ]
  },
  {
   "cell_type": "code",
   "execution_count": 14,
   "id": "a5db5bd1-46c0-471a-924c-23b523c22768",
   "metadata": {},
   "outputs": [],
   "source": [
    "import numpy as np\n",
    "seoul_star.replace(0, np.NAN, inplace=True)\n",
    "seoul_star.replace(\"\", np.NAN, inplace=True)\n",
    "seoul_star.dropna(axis=1, inplace=True)"
   ]
  },
  {
   "cell_type": "code",
   "execution_count": 15,
   "id": "06ad0191-a293-423d-adcb-b7f1da36fbef",
   "metadata": {},
   "outputs": [
    {
     "data": {
      "text/html": [
       "<div>\n",
       "<style scoped>\n",
       "    .dataframe tbody tr th:only-of-type {\n",
       "        vertical-align: middle;\n",
       "    }\n",
       "\n",
       "    .dataframe tbody tr th {\n",
       "        vertical-align: top;\n",
       "    }\n",
       "\n",
       "    .dataframe thead th {\n",
       "        text-align: right;\n",
       "    }\n",
       "</style>\n",
       "<table border=\"1\" class=\"dataframe\">\n",
       "  <thead>\n",
       "    <tr style=\"text-align: right;\">\n",
       "      <th></th>\n",
       "      <th>s_code</th>\n",
       "      <th>s_name</th>\n",
       "      <th>tel</th>\n",
       "      <th>fax</th>\n",
       "      <th>sido_code</th>\n",
       "      <th>sido_name</th>\n",
       "      <th>gugun_code</th>\n",
       "      <th>gugun_name</th>\n",
       "      <th>addr</th>\n",
       "      <th>theme_state</th>\n",
       "      <th>...</th>\n",
       "      <th>new_icon</th>\n",
       "      <th>defaultimage</th>\n",
       "      <th>istart</th>\n",
       "      <th>iend</th>\n",
       "      <th>open_dt</th>\n",
       "      <th>doro_address</th>\n",
       "      <th>my_siren_order_store_yn</th>\n",
       "      <th>store_area_code</th>\n",
       "      <th>lat</th>\n",
       "      <th>lot</th>\n",
       "    </tr>\n",
       "  </thead>\n",
       "  <tbody>\n",
       "    <tr>\n",
       "      <th>0</th>\n",
       "      <td>1509</td>\n",
       "      <td>역삼아레나빌딩</td>\n",
       "      <td>1522-3232</td>\n",
       "      <td>02-568-3763</td>\n",
       "      <td>01</td>\n",
       "      <td>서울</td>\n",
       "      <td>0101</td>\n",
       "      <td>강남구</td>\n",
       "      <td>서울특별시 강남구 역삼동 721-13 아레나빌딩</td>\n",
       "      <td>T05@T08@T16@T17@T20@T21@T30@T36@T52@P80@P90</td>\n",
       "      <td>...</td>\n",
       "      <td>N</td>\n",
       "      <td>/upload/store/2020/09/[3762]_20200917031519_6j...</td>\n",
       "      <td>1</td>\n",
       "      <td>60</td>\n",
       "      <td>20190613</td>\n",
       "      <td>서울특별시 강남구 언주로 425 (역삼동)</td>\n",
       "      <td>N</td>\n",
       "      <td>A01</td>\n",
       "      <td>37.501087</td>\n",
       "      <td>127.043069</td>\n",
       "    </tr>\n",
       "  </tbody>\n",
       "</table>\n",
       "<p>1 rows × 26 columns</p>\n",
       "</div>"
      ],
      "text/plain": [
       "  s_code   s_name        tel          fax sido_code sido_name gugun_code  \\\n",
       "0   1509  역삼아레나빌딩  1522-3232  02-568-3763        01        서울       0101   \n",
       "\n",
       "  gugun_name                        addr  \\\n",
       "0        강남구  서울특별시 강남구 역삼동 721-13 아레나빌딩   \n",
       "\n",
       "                                   theme_state  ... new_icon  \\\n",
       "0  T05@T08@T16@T17@T20@T21@T30@T36@T52@P80@P90  ...        N   \n",
       "\n",
       "                                        defaultimage  istart  iend   open_dt  \\\n",
       "0  /upload/store/2020/09/[3762]_20200917031519_6j...       1    60  20190613   \n",
       "\n",
       "              doro_address my_siren_order_store_yn store_area_code        lat  \\\n",
       "0  서울특별시 강남구 언주로 425 (역삼동)                       N             A01  37.501087   \n",
       "\n",
       "          lot  \n",
       "0  127.043069  \n",
       "\n",
       "[1 rows x 26 columns]"
      ]
     },
     "execution_count": 15,
     "metadata": {},
     "output_type": "execute_result"
    }
   ],
   "source": [
    "seoul_star.head(1)"
   ]
  },
  {
   "cell_type": "markdown",
   "id": "6b2ab08a-4885-43a6-9275-bce582f67878",
   "metadata": {},
   "source": [
    "* where 조건 사용 참고사항"
   ]
  },
  {
   "cell_type": "code",
   "execution_count": 16,
   "id": "e39c922d-7162-4bc2-b24b-08923398fa88",
   "metadata": {},
   "outputs": [],
   "source": [
    "a = seoul_star.where(seoul_star != \"\", None)"
   ]
  },
  {
   "cell_type": "code",
   "execution_count": 17,
   "id": "24d4fe14-b97e-4264-bf89-a31dbd494500",
   "metadata": {},
   "outputs": [],
   "source": [
    "a.dropna(axis=1, inplace=True)"
   ]
  },
  {
   "cell_type": "code",
   "execution_count": 18,
   "id": "5304ed23-ac96-4c4a-aee5-98e6d04ecf8a",
   "metadata": {
    "scrolled": true,
    "tags": []
   },
   "outputs": [
    {
     "data": {
      "text/plain": [
       "s_code                                                                  1509\n",
       "s_name                                                               역삼아레나빌딩\n",
       "tel                                                                1522-3232\n",
       "fax                                                              02-568-3763\n",
       "sido_code                                                                 01\n",
       "sido_name                                                                 서울\n",
       "gugun_code                                                              0101\n",
       "gugun_name                                                               강남구\n",
       "addr                                              서울특별시 강남구 역삼동 721-13 아레나빌딩\n",
       "theme_state                      T05@T08@T16@T17@T20@T21@T30@T36@T52@P80@P90\n",
       "out_distance                                                            3.11\n",
       "all_search_cnt                                                            -1\n",
       "addr_search_cnt                                                           -1\n",
       "store_search_cnt                                                          -1\n",
       "rowCount                                                                  30\n",
       "s_biz_code                                                              3762\n",
       "new_icon                                                                   N\n",
       "defaultimage               /upload/store/2020/09/[3762]_20200917031519_6j...\n",
       "istart                                                                     1\n",
       "iend                                                                      60\n",
       "open_dt                                                             20190613\n",
       "doro_address                                         서울특별시 강남구 언주로 425 (역삼동)\n",
       "my_siren_order_store_yn                                                    N\n",
       "store_area_code                                                          A01\n",
       "lat                                                                37.501087\n",
       "lot                                                               127.043069\n",
       "Name: 0, dtype: object"
      ]
     },
     "execution_count": 18,
     "metadata": {},
     "output_type": "execute_result"
    }
   ],
   "source": [
    "# s_name, gugun_name, addr, defaultimage, doro_address, open_dt, lat, lon                                                             \n",
    "seoul_star.iloc[0,:]\n"
   ]
  },
  {
   "cell_type": "code",
   "execution_count": 19,
   "id": "c6c1a84e-70fd-48da-926a-869a716cee69",
   "metadata": {},
   "outputs": [],
   "source": [
    "target_col = [\"s_name\",\"gugun_name\",\"addr\",\"defaultimage\",\"doro_address\",\"open_dt\",\"lat\",\"lot\",]"
   ]
  },
  {
   "cell_type": "code",
   "execution_count": 20,
   "id": "b23032c6-d4a9-4c24-bc07-fb499e60086c",
   "metadata": {},
   "outputs": [],
   "source": [
    "seoul_star =seoul_star[target_col]"
   ]
  },
  {
   "cell_type": "code",
   "execution_count": 22,
   "id": "2f385acd-a312-4841-b954-0224dc2a2605",
   "metadata": {},
   "outputs": [
    {
     "data": {
      "text/html": [
       "<div>\n",
       "<style scoped>\n",
       "    .dataframe tbody tr th:only-of-type {\n",
       "        vertical-align: middle;\n",
       "    }\n",
       "\n",
       "    .dataframe tbody tr th {\n",
       "        vertical-align: top;\n",
       "    }\n",
       "\n",
       "    .dataframe thead th {\n",
       "        text-align: right;\n",
       "    }\n",
       "</style>\n",
       "<table border=\"1\" class=\"dataframe\">\n",
       "  <thead>\n",
       "    <tr style=\"text-align: right;\">\n",
       "      <th></th>\n",
       "      <th>s_name</th>\n",
       "      <th>gugun_name</th>\n",
       "      <th>addr</th>\n",
       "      <th>defaultimage</th>\n",
       "      <th>doro_address</th>\n",
       "      <th>open_dt</th>\n",
       "      <th>lat</th>\n",
       "      <th>lot</th>\n",
       "    </tr>\n",
       "  </thead>\n",
       "  <tbody>\n",
       "    <tr>\n",
       "      <th>0</th>\n",
       "      <td>역삼아레나빌딩</td>\n",
       "      <td>강남구</td>\n",
       "      <td>서울특별시 강남구 역삼동 721-13 아레나빌딩</td>\n",
       "      <td>/upload/store/2020/09/[3762]_20200917031519_6j...</td>\n",
       "      <td>서울특별시 강남구 언주로 425 (역삼동)</td>\n",
       "      <td>20190613</td>\n",
       "      <td>37.501087</td>\n",
       "      <td>127.043069</td>\n",
       "    </tr>\n",
       "    <tr>\n",
       "      <th>1</th>\n",
       "      <td>논현역사거리</td>\n",
       "      <td>강남구</td>\n",
       "      <td>서울특별시 강남구 논현동 142-2 정일빌딩</td>\n",
       "      <td>/upload/store/2018/12/[3672]_20181211120009_t9...</td>\n",
       "      <td>서울특별시 강남구 강남대로 538 (논현동)</td>\n",
       "      <td>20181123</td>\n",
       "      <td>37.510178</td>\n",
       "      <td>127.022223</td>\n",
       "    </tr>\n",
       "    <tr>\n",
       "      <th>2</th>\n",
       "      <td>신사역성일빌딩</td>\n",
       "      <td>강남구</td>\n",
       "      <td>서울특별시 강남구 논현동 18-4 성일빌딩</td>\n",
       "      <td>/upload/store/2019/12/[3858]_20191218124337_c8...</td>\n",
       "      <td>서울특별시 강남구 강남대로 584 (논현동)</td>\n",
       "      <td>20191219</td>\n",
       "      <td>37.514132</td>\n",
       "      <td>127.020563</td>\n",
       "    </tr>\n",
       "    <tr>\n",
       "      <th>3</th>\n",
       "      <td>국기원사거리</td>\n",
       "      <td>강남구</td>\n",
       "      <td>서울특별시 강남구 역삼동 648-22 동찬빌딩</td>\n",
       "      <td>/upload/store/2019/07/[3669]_20190730073527_5n...</td>\n",
       "      <td>서울특별시 강남구 테헤란로 125 (역삼동)</td>\n",
       "      <td>20190731</td>\n",
       "      <td>37.499517</td>\n",
       "      <td>127.031495</td>\n",
       "    </tr>\n",
       "    <tr>\n",
       "      <th>4</th>\n",
       "      <td>스탈릿대치R</td>\n",
       "      <td>강남구</td>\n",
       "      <td>서울특별시 강남구 대치동 599 대원빌딩</td>\n",
       "      <td>/upload/store/2019/02/[3703]_20190215093408_m3...</td>\n",
       "      <td>서울특별시 강남구 남부순환로 2947 (대치동)</td>\n",
       "      <td>20190214</td>\n",
       "      <td>37.494668</td>\n",
       "      <td>127.062583</td>\n",
       "    </tr>\n",
       "    <tr>\n",
       "      <th>...</th>\n",
       "      <td>...</td>\n",
       "      <td>...</td>\n",
       "      <td>...</td>\n",
       "      <td>...</td>\n",
       "      <td>...</td>\n",
       "      <td>...</td>\n",
       "      <td>...</td>\n",
       "      <td>...</td>\n",
       "    </tr>\n",
       "    <tr>\n",
       "      <th>561</th>\n",
       "      <td>사가정역</td>\n",
       "      <td>중랑구</td>\n",
       "      <td>서울특별시 중랑구 면목동 617-2</td>\n",
       "      <td>/upload/store/2015/07/[3023]_20150730100354230...</td>\n",
       "      <td>서울특별시 중랑구 면목로 310</td>\n",
       "      <td>20141002</td>\n",
       "      <td>37.579594</td>\n",
       "      <td>127.087966</td>\n",
       "    </tr>\n",
       "    <tr>\n",
       "      <th>562</th>\n",
       "      <td>상봉역</td>\n",
       "      <td>중랑구</td>\n",
       "      <td>서울특별시 중랑구 상봉동 100-2,3,4번지</td>\n",
       "      <td>/upload/store/2019/10/[9686]_20191001110003_28...</td>\n",
       "      <td>서울특별시 중랑구 망우로 307 (상봉동)</td>\n",
       "      <td>20120323</td>\n",
       "      <td>37.59689</td>\n",
       "      <td>127.08647</td>\n",
       "    </tr>\n",
       "    <tr>\n",
       "      <th>563</th>\n",
       "      <td>묵동이마트</td>\n",
       "      <td>중랑구</td>\n",
       "      <td>서울특별시 중랑구 묵동 170-1 묵동자이아파트 (묵동이마트 B1층)</td>\n",
       "      <td>/upload/store/2019/01/[9570]_20190110064916_t8...</td>\n",
       "      <td>서울특별시 중랑구 동일로 932 (묵동, 묵동자이아파트) (묵동이마트 B1층)</td>\n",
       "      <td>20110121</td>\n",
       "      <td>37.613433</td>\n",
       "      <td>127.077484</td>\n",
       "    </tr>\n",
       "    <tr>\n",
       "      <th>564</th>\n",
       "      <td>묵동</td>\n",
       "      <td>중랑구</td>\n",
       "      <td>서울특별시 중랑구 묵동 169-12 1층</td>\n",
       "      <td>/upload/store/2020/06/[3936]_20200628090702_8k...</td>\n",
       "      <td>서울특별시 중랑구 동일로 952</td>\n",
       "      <td>20200630</td>\n",
       "      <td>37.615368</td>\n",
       "      <td>127.076633</td>\n",
       "    </tr>\n",
       "    <tr>\n",
       "      <th>565</th>\n",
       "      <td>중화역</td>\n",
       "      <td>중랑구</td>\n",
       "      <td>서울특별시 중랑구 중화동 306-68 중화동 HS빌딩 1,2층</td>\n",
       "      <td>/upload/store/2020/12/[3801]_20201220034358_66...</td>\n",
       "      <td>서울특별시 중랑구 봉화산로 35 1,2층</td>\n",
       "      <td>20201222</td>\n",
       "      <td>37.60170912407773</td>\n",
       "      <td>127.07841136432036</td>\n",
       "    </tr>\n",
       "  </tbody>\n",
       "</table>\n",
       "<p>566 rows × 8 columns</p>\n",
       "</div>"
      ],
      "text/plain": [
       "      s_name gugun_name                                    addr  \\\n",
       "0    역삼아레나빌딩        강남구              서울특별시 강남구 역삼동 721-13 아레나빌딩   \n",
       "1     논현역사거리        강남구                서울특별시 강남구 논현동 142-2 정일빌딩   \n",
       "2    신사역성일빌딩        강남구                 서울특별시 강남구 논현동 18-4 성일빌딩   \n",
       "3     국기원사거리        강남구               서울특별시 강남구 역삼동 648-22 동찬빌딩   \n",
       "4     스탈릿대치R        강남구                  서울특별시 강남구 대치동 599 대원빌딩   \n",
       "..       ...        ...                                     ...   \n",
       "561     사가정역        중랑구                     서울특별시 중랑구 면목동 617-2   \n",
       "562      상봉역        중랑구               서울특별시 중랑구 상봉동 100-2,3,4번지   \n",
       "563    묵동이마트        중랑구  서울특별시 중랑구 묵동 170-1 묵동자이아파트 (묵동이마트 B1층)   \n",
       "564       묵동        중랑구                  서울특별시 중랑구 묵동 169-12 1층   \n",
       "565      중화역        중랑구      서울특별시 중랑구 중화동 306-68 중화동 HS빌딩 1,2층   \n",
       "\n",
       "                                          defaultimage  \\\n",
       "0    /upload/store/2020/09/[3762]_20200917031519_6j...   \n",
       "1    /upload/store/2018/12/[3672]_20181211120009_t9...   \n",
       "2    /upload/store/2019/12/[3858]_20191218124337_c8...   \n",
       "3    /upload/store/2019/07/[3669]_20190730073527_5n...   \n",
       "4    /upload/store/2019/02/[3703]_20190215093408_m3...   \n",
       "..                                                 ...   \n",
       "561  /upload/store/2015/07/[3023]_20150730100354230...   \n",
       "562  /upload/store/2019/10/[9686]_20191001110003_28...   \n",
       "563  /upload/store/2019/01/[9570]_20190110064916_t8...   \n",
       "564  /upload/store/2020/06/[3936]_20200628090702_8k...   \n",
       "565  /upload/store/2020/12/[3801]_20201220034358_66...   \n",
       "\n",
       "                                    doro_address   open_dt                lat  \\\n",
       "0                        서울특별시 강남구 언주로 425 (역삼동)  20190613          37.501087   \n",
       "1                       서울특별시 강남구 강남대로 538 (논현동)  20181123          37.510178   \n",
       "2                       서울특별시 강남구 강남대로 584 (논현동)  20191219          37.514132   \n",
       "3                       서울특별시 강남구 테헤란로 125 (역삼동)  20190731          37.499517   \n",
       "4                     서울특별시 강남구 남부순환로 2947 (대치동)  20190214          37.494668   \n",
       "..                                           ...       ...                ...   \n",
       "561                            서울특별시 중랑구 면목로 310  20141002          37.579594   \n",
       "562                      서울특별시 중랑구 망우로 307 (상봉동)  20120323           37.59689   \n",
       "563  서울특별시 중랑구 동일로 932 (묵동, 묵동자이아파트) (묵동이마트 B1층)  20110121          37.613433   \n",
       "564                           서울특별시 중랑구 동일로 952   20200630          37.615368   \n",
       "565                       서울특별시 중랑구 봉화산로 35 1,2층  20201222  37.60170912407773   \n",
       "\n",
       "                    lot  \n",
       "0            127.043069  \n",
       "1            127.022223  \n",
       "2            127.020563  \n",
       "3            127.031495  \n",
       "4            127.062583  \n",
       "..                  ...  \n",
       "561          127.087966  \n",
       "562           127.08647  \n",
       "563          127.077484  \n",
       "564          127.076633  \n",
       "565  127.07841136432036  \n",
       "\n",
       "[566 rows x 8 columns]"
      ]
     },
     "execution_count": 22,
     "metadata": {},
     "output_type": "execute_result"
    }
   ],
   "source": [
    "# 가장 오래된 스타벅스, 가장 최근에 오픈한 스타벅스, 스타벅스 오픈 월별 추이 \n",
    "seoul_star"
   ]
  },
  {
   "cell_type": "code",
   "execution_count": 24,
   "id": "d5a61a09",
   "metadata": {},
   "outputs": [
    {
     "name": "stdout",
     "output_type": "stream",
     "text": [
      "s_name                                                        이대R\n",
      "gugun_name                                                   서대문구\n",
      "addr                                          서울특별시 서대문구 대현동 54-4\n",
      "defaultimage    /upload/store/2019/07/[9100]_20190724082658_ax...\n",
      "doro_address                            서울특별시 서대문구 이화여대길 34 (대현동)\n",
      "open_dt                                                  19990727\n",
      "lat                                                   37.55848315\n",
      "lot                                                   126.9459643\n",
      "Name: 222, dtype: object\n"
     ]
    }
   ],
   "source": [
    "print(seoul_star.sort_values('open_dt').iloc[0])"
   ]
  },
  {
   "cell_type": "code",
   "execution_count": 25,
   "id": "63f030e4",
   "metadata": {},
   "outputs": [
    {
     "name": "stdout",
     "output_type": "stream",
     "text": [
      "s_name                                                     수서역사거리\n",
      "gugun_name                                                    강남구\n",
      "addr                                   서울특별시 강남구 수서동 724 로즈데일오피스텔\n",
      "defaultimage    /upload/store/2021/09/[4153]_20210929104219_e5...\n",
      "doro_address                              서울특별시 강남구 광평로 280 (수서동)\n",
      "open_dt                                                  20210929\n",
      "lat                                              37.4873267937748\n",
      "lot                                              127.103140081887\n",
      "Name: 78, dtype: object\n"
     ]
    }
   ],
   "source": [
    "print(seoul_star.sort_values('open_dt').iloc[-1])"
   ]
  },
  {
   "cell_type": "code",
   "execution_count": 26,
   "id": "71228a34",
   "metadata": {},
   "outputs": [],
   "source": [
    "payload['T01'] = 1"
   ]
  },
  {
   "cell_type": "code",
   "execution_count": 27,
   "id": "93dd8c2f",
   "metadata": {},
   "outputs": [],
   "source": [
    "r2 = requests.post(url, headers=head, data=payload)"
   ]
  },
  {
   "cell_type": "code",
   "execution_count": 30,
   "id": "f0e5d765",
   "metadata": {},
   "outputs": [
    {
     "data": {
      "text/plain": [
       "17"
      ]
     },
     "execution_count": 30,
     "metadata": {},
     "output_type": "execute_result"
    }
   ],
   "source": [
    "pd.DataFrame(r2.json()['list']).__len__()"
   ]
  },
  {
   "cell_type": "code",
   "execution_count": null,
   "id": "f4eccbba",
   "metadata": {},
   "outputs": [],
   "source": []
  }
 ],
 "metadata": {
  "kernelspec": {
   "display_name": "Python 3 (ipykernel)",
   "language": "python",
   "name": "python3"
  },
  "language_info": {
   "codemirror_mode": {
    "name": "ipython",
    "version": 3
   },
   "file_extension": ".py",
   "mimetype": "text/x-python",
   "name": "python",
   "nbconvert_exporter": "python",
   "pygments_lexer": "ipython3",
   "version": "3.9.7"
  }
 },
 "nbformat": 4,
 "nbformat_minor": 5
}
