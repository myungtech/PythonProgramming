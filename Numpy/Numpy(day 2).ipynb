{
 "cells": [
  {
   "cell_type": "markdown",
   "id": "2d42309c",
   "metadata": {},
   "source": [
    "### 1.5 불리언 색인"
   ]
  },
  {
   "cell_type": "code",
   "execution_count": 1,
   "id": "1d6a75fc",
   "metadata": {},
   "outputs": [],
   "source": [
    "import numpy as np"
   ]
  },
  {
   "cell_type": "code",
   "execution_count": 5,
   "id": "b7ff23c8",
   "metadata": {},
   "outputs": [],
   "source": [
    "names = np.array(['Bob', 'Joe', 'Will', 'Bob', 'Will', 'Joe', 'Joe'])\n",
    "data = np.random.randn(7,4)"
   ]
  },
  {
   "cell_type": "code",
   "execution_count": 6,
   "id": "7c7c9f99",
   "metadata": {},
   "outputs": [
    {
     "data": {
      "text/plain": [
       "array(['Bob', 'Joe', 'Will', 'Bob', 'Will', 'Joe', 'Joe'], dtype='<U4')"
      ]
     },
     "execution_count": 6,
     "metadata": {},
     "output_type": "execute_result"
    }
   ],
   "source": [
    "name"
   ]
  },
  {
   "cell_type": "code",
   "execution_count": 7,
   "id": "8203e926",
   "metadata": {},
   "outputs": [
    {
     "data": {
      "text/plain": [
       "array([[-0.1609481 ,  0.09313008, -0.25293027, -1.04660307],\n",
       "       [ 1.62730201, -0.82183257, -0.91697636, -0.57330524],\n",
       "       [ 0.28022563,  0.19554992, -0.07477015, -0.91901949],\n",
       "       [ 0.12265256, -0.12517817, -1.94401333, -0.86917208],\n",
       "       [-0.54115783, -1.76288627, -0.16149188, -1.73839075],\n",
       "       [-0.87567535,  0.17071143, -0.1674777 ,  0.87376041],\n",
       "       [ 0.67440576,  1.60849795, -0.6118458 , -0.83899617]])"
      ]
     },
     "execution_count": 7,
     "metadata": {},
     "output_type": "execute_result"
    }
   ],
   "source": [
    "data "
   ]
  },
  {
   "cell_type": "code",
   "execution_count": 8,
   "id": "eee81167",
   "metadata": {},
   "outputs": [
    {
     "data": {
      "text/plain": [
       "array([ True, False, False,  True, False, False, False])"
      ]
     },
     "execution_count": 8,
     "metadata": {},
     "output_type": "execute_result"
    }
   ],
   "source": [
    "names == 'Bob'"
   ]
  },
  {
   "cell_type": "code",
   "execution_count": 9,
   "id": "04e00b82",
   "metadata": {},
   "outputs": [
    {
     "data": {
      "text/plain": [
       "array([[-0.1609481 ,  0.09313008, -0.25293027, -1.04660307],\n",
       "       [ 0.12265256, -0.12517817, -1.94401333, -0.86917208]])"
      ]
     },
     "execution_count": 9,
     "metadata": {},
     "output_type": "execute_result"
    }
   ],
   "source": [
    "data[names == 'Bob']"
   ]
  },
  {
   "cell_type": "code",
   "execution_count": 10,
   "id": "3d4805a0",
   "metadata": {},
   "outputs": [
    {
     "data": {
      "text/plain": [
       "array([[-0.25293027, -1.04660307],\n",
       "       [-1.94401333, -0.86917208]])"
      ]
     },
     "execution_count": 10,
     "metadata": {},
     "output_type": "execute_result"
    }
   ],
   "source": [
    "data[names == 'Bob', 2:]"
   ]
  },
  {
   "cell_type": "code",
   "execution_count": 11,
   "id": "7518c5fd",
   "metadata": {},
   "outputs": [
    {
     "data": {
      "text/plain": [
       "array([-1.04660307, -0.86917208])"
      ]
     },
     "execution_count": 11,
     "metadata": {},
     "output_type": "execute_result"
    }
   ],
   "source": [
    "data[names == 'Bob', 3]"
   ]
  },
  {
   "cell_type": "code",
   "execution_count": 12,
   "id": "39d81159",
   "metadata": {},
   "outputs": [
    {
     "data": {
      "text/plain": [
       "array([False,  True,  True, False,  True,  True,  True])"
      ]
     },
     "execution_count": 12,
     "metadata": {},
     "output_type": "execute_result"
    }
   ],
   "source": [
    "names != 'Bob'"
   ]
  },
  {
   "cell_type": "code",
   "execution_count": 13,
   "id": "5c0a988c",
   "metadata": {},
   "outputs": [
    {
     "data": {
      "text/plain": [
       "array([[ 1.62730201, -0.82183257, -0.91697636, -0.57330524],\n",
       "       [ 0.28022563,  0.19554992, -0.07477015, -0.91901949],\n",
       "       [-0.54115783, -1.76288627, -0.16149188, -1.73839075],\n",
       "       [-0.87567535,  0.17071143, -0.1674777 ,  0.87376041],\n",
       "       [ 0.67440576,  1.60849795, -0.6118458 , -0.83899617]])"
      ]
     },
     "execution_count": 13,
     "metadata": {},
     "output_type": "execute_result"
    }
   ],
   "source": [
    "data[names != 'Bob']"
   ]
  },
  {
   "cell_type": "code",
   "execution_count": 14,
   "id": "06534142",
   "metadata": {},
   "outputs": [
    {
     "data": {
      "text/plain": [
       "array([False,  True,  True, False,  True,  True,  True])"
      ]
     },
     "execution_count": 14,
     "metadata": {},
     "output_type": "execute_result"
    }
   ],
   "source": [
    "~(names == 'Bob')"
   ]
  },
  {
   "cell_type": "code",
   "execution_count": 15,
   "id": "a701bcab",
   "metadata": {},
   "outputs": [
    {
     "data": {
      "text/plain": [
       "array([[ 1.62730201, -0.82183257, -0.91697636, -0.57330524],\n",
       "       [ 0.28022563,  0.19554992, -0.07477015, -0.91901949],\n",
       "       [-0.54115783, -1.76288627, -0.16149188, -1.73839075],\n",
       "       [-0.87567535,  0.17071143, -0.1674777 ,  0.87376041],\n",
       "       [ 0.67440576,  1.60849795, -0.6118458 , -0.83899617]])"
      ]
     },
     "execution_count": 15,
     "metadata": {},
     "output_type": "execute_result"
    }
   ],
   "source": [
    "data[~(names == 'Bob')]"
   ]
  },
  {
   "cell_type": "code",
   "execution_count": 28,
   "id": "b374fd0f",
   "metadata": {},
   "outputs": [],
   "source": [
    "cond = names == \"Bob\""
   ]
  },
  {
   "cell_type": "code",
   "execution_count": 29,
   "id": "7329014e",
   "metadata": {},
   "outputs": [
    {
     "data": {
      "text/plain": [
       "array([[1.62730201, 0.        , 0.        , 0.        ],\n",
       "       [7.        , 7.        , 7.        , 7.        ],\n",
       "       [7.        , 7.        , 7.        , 7.        ],\n",
       "       [0.        , 0.17071143, 0.        , 0.87376041],\n",
       "       [0.67440576, 1.60849795, 0.        , 0.        ]])"
      ]
     },
     "execution_count": 29,
     "metadata": {},
     "output_type": "execute_result"
    }
   ],
   "source": [
    "data[~cond]"
   ]
  },
  {
   "cell_type": "code",
   "execution_count": 18,
   "id": "91b53674",
   "metadata": {},
   "outputs": [
    {
     "data": {
      "text/plain": [
       "array(['Bob', 'Joe', 'Will', 'Bob', 'Will', 'Joe', 'Joe'], dtype='<U4')"
      ]
     },
     "execution_count": 18,
     "metadata": {},
     "output_type": "execute_result"
    }
   ],
   "source": [
    "names"
   ]
  },
  {
   "cell_type": "code",
   "execution_count": 21,
   "id": "59714b50",
   "metadata": {},
   "outputs": [],
   "source": [
    "mask = (names == 'Bob') | (names == 'Will')"
   ]
  },
  {
   "cell_type": "code",
   "execution_count": 22,
   "id": "6536d69a",
   "metadata": {},
   "outputs": [
    {
     "data": {
      "text/plain": [
       "array([[-0.1609481 ,  0.09313008, -0.25293027, -1.04660307],\n",
       "       [ 0.28022563,  0.19554992, -0.07477015, -0.91901949],\n",
       "       [ 0.12265256, -0.12517817, -1.94401333, -0.86917208],\n",
       "       [-0.54115783, -1.76288627, -0.16149188, -1.73839075]])"
      ]
     },
     "execution_count": 22,
     "metadata": {},
     "output_type": "execute_result"
    }
   ],
   "source": [
    "data[mask]"
   ]
  },
  {
   "cell_type": "code",
   "execution_count": 24,
   "id": "b118af46",
   "metadata": {},
   "outputs": [
    {
     "data": {
      "text/plain": [
       "array([[-0.1609481 ,  0.09313008, -0.25293027, -1.04660307],\n",
       "       [ 1.62730201, -0.82183257, -0.91697636, -0.57330524],\n",
       "       [ 0.28022563,  0.19554992, -0.07477015, -0.91901949],\n",
       "       [ 0.12265256, -0.12517817, -1.94401333, -0.86917208],\n",
       "       [-0.54115783, -1.76288627, -0.16149188, -1.73839075],\n",
       "       [-0.87567535,  0.17071143, -0.1674777 ,  0.87376041],\n",
       "       [ 0.67440576,  1.60849795, -0.6118458 , -0.83899617]])"
      ]
     },
     "execution_count": 24,
     "metadata": {},
     "output_type": "execute_result"
    }
   ],
   "source": [
    "data"
   ]
  },
  {
   "cell_type": "code",
   "execution_count": 23,
   "id": "67179691",
   "metadata": {},
   "outputs": [
    {
     "data": {
      "text/plain": [
       "array([[ True, False,  True,  True],\n",
       "       [False,  True,  True,  True],\n",
       "       [False, False,  True,  True],\n",
       "       [False,  True,  True,  True],\n",
       "       [ True,  True,  True,  True],\n",
       "       [ True, False,  True, False],\n",
       "       [False, False,  True,  True]])"
      ]
     },
     "execution_count": 23,
     "metadata": {},
     "output_type": "execute_result"
    }
   ],
   "source": [
    "data < 0"
   ]
  },
  {
   "cell_type": "code",
   "execution_count": 25,
   "id": "8164080f",
   "metadata": {},
   "outputs": [
    {
     "data": {
      "text/plain": [
       "array([[0.        , 0.09313008, 0.        , 0.        ],\n",
       "       [1.62730201, 0.        , 0.        , 0.        ],\n",
       "       [0.28022563, 0.19554992, 0.        , 0.        ],\n",
       "       [0.12265256, 0.        , 0.        , 0.        ],\n",
       "       [0.        , 0.        , 0.        , 0.        ],\n",
       "       [0.        , 0.17071143, 0.        , 0.87376041],\n",
       "       [0.67440576, 1.60849795, 0.        , 0.        ]])"
      ]
     },
     "execution_count": 25,
     "metadata": {},
     "output_type": "execute_result"
    }
   ],
   "source": [
    "data[data < 0] = 0\n",
    "data"
   ]
  },
  {
   "cell_type": "code",
   "execution_count": 26,
   "id": "1c33f5b6",
   "metadata": {},
   "outputs": [
    {
     "data": {
      "text/plain": [
       "array([ True, False,  True,  True,  True, False, False])"
      ]
     },
     "execution_count": 26,
     "metadata": {},
     "output_type": "execute_result"
    }
   ],
   "source": [
    "names != 'Joe'"
   ]
  },
  {
   "cell_type": "code",
   "execution_count": 27,
   "id": "5689ca01",
   "metadata": {},
   "outputs": [
    {
     "data": {
      "text/plain": [
       "array([[7.        , 7.        , 7.        , 7.        ],\n",
       "       [1.62730201, 0.        , 0.        , 0.        ],\n",
       "       [7.        , 7.        , 7.        , 7.        ],\n",
       "       [7.        , 7.        , 7.        , 7.        ],\n",
       "       [7.        , 7.        , 7.        , 7.        ],\n",
       "       [0.        , 0.17071143, 0.        , 0.87376041],\n",
       "       [0.67440576, 1.60849795, 0.        , 0.        ]])"
      ]
     },
     "execution_count": 27,
     "metadata": {},
     "output_type": "execute_result"
    }
   ],
   "source": [
    "data[names != 'Joe'] = 7\n",
    "data"
   ]
  },
  {
   "cell_type": "code",
   "execution_count": 32,
   "id": "0380941b",
   "metadata": {},
   "outputs": [
    {
     "data": {
      "text/plain": [
       "array([ True, False, False,  True, False, False, False])"
      ]
     },
     "execution_count": 32,
     "metadata": {},
     "output_type": "execute_result"
    }
   ],
   "source": [
    "(names == 'Bob')"
   ]
  },
  {
   "cell_type": "code",
   "execution_count": 33,
   "id": "e17243d6",
   "metadata": {},
   "outputs": [
    {
     "data": {
      "text/plain": [
       "array([False,  True,  True, False,  True,  True,  True])"
      ]
     },
     "execution_count": 33,
     "metadata": {},
     "output_type": "execute_result"
    }
   ],
   "source": [
    "~(names == 'Bob')"
   ]
  },
  {
   "cell_type": "markdown",
   "id": "24d93c84",
   "metadata": {},
   "source": [
    "### 1.6 팬시 색인"
   ]
  },
  {
   "cell_type": "code",
   "execution_count": 2,
   "id": "11cd5ba8",
   "metadata": {},
   "outputs": [],
   "source": [
    "import numpy as np"
   ]
  },
  {
   "cell_type": "code",
   "execution_count": 3,
   "id": "27f5f10a",
   "metadata": {
    "scrolled": true
   },
   "outputs": [
    {
     "data": {
      "text/plain": [
       "array([[0., 0., 0., 0.],\n",
       "       [1., 1., 1., 1.],\n",
       "       [2., 2., 2., 2.],\n",
       "       [3., 3., 3., 3.],\n",
       "       [4., 4., 4., 4.],\n",
       "       [5., 5., 5., 5.],\n",
       "       [6., 6., 6., 6.],\n",
       "       [7., 7., 7., 7.]])"
      ]
     },
     "execution_count": 3,
     "metadata": {},
     "output_type": "execute_result"
    }
   ],
   "source": [
    "arr = np.empty((8,4))\n",
    "for i in range(8):\n",
    "    arr[i] = i\n",
    "arr"
   ]
  },
  {
   "cell_type": "code",
   "execution_count": 5,
   "id": "107cd8dd",
   "metadata": {},
   "outputs": [
    {
     "data": {
      "text/plain": [
       "array([[4., 4., 4., 4.],\n",
       "       [3., 3., 3., 3.],\n",
       "       [7., 7., 7., 7.],\n",
       "       [6., 6., 6., 6.]])"
      ]
     },
     "execution_count": 5,
     "metadata": {},
     "output_type": "execute_result"
    }
   ],
   "source": [
    "arr[[4, 3, 7, 6]]"
   ]
  },
  {
   "cell_type": "code",
   "execution_count": 6,
   "id": "1e717605",
   "metadata": {},
   "outputs": [
    {
     "data": {
      "text/plain": [
       "array([[5., 5., 5., 5.],\n",
       "       [3., 3., 3., 3.],\n",
       "       [6., 6., 6., 6.]])"
      ]
     },
     "execution_count": 6,
     "metadata": {},
     "output_type": "execute_result"
    }
   ],
   "source": [
    "arr[[-3, -5, -2]]"
   ]
  },
  {
   "cell_type": "code",
   "execution_count": 46,
   "id": "8a8cb4a4",
   "metadata": {},
   "outputs": [
    {
     "data": {
      "text/plain": [
       "array([[ 0,  1,  2,  3],\n",
       "       [ 4,  5,  6,  7],\n",
       "       [ 8,  9, 10, 11],\n",
       "       [12, 13, 14, 15],\n",
       "       [16, 17, 18, 19],\n",
       "       [20, 21, 22, 23],\n",
       "       [24, 25, 26, 27],\n",
       "       [28, 29, 30, 31]])"
      ]
     },
     "execution_count": 46,
     "metadata": {},
     "output_type": "execute_result"
    }
   ],
   "source": [
    "arr = np.arange(32).reshape((8,4))\n",
    "arr"
   ]
  },
  {
   "cell_type": "code",
   "execution_count": 47,
   "id": "f295f909",
   "metadata": {},
   "outputs": [
    {
     "data": {
      "text/plain": [
       "array([[ 4,  5,  6,  7],\n",
       "       [20, 21, 22, 23],\n",
       "       [28, 29, 30, 31],\n",
       "       [ 8,  9, 10, 11]])"
      ]
     },
     "execution_count": 47,
     "metadata": {},
     "output_type": "execute_result"
    }
   ],
   "source": [
    "arr[[1, 5, 7, 2]]"
   ]
  },
  {
   "cell_type": "code",
   "execution_count": 48,
   "id": "4189e787",
   "metadata": {},
   "outputs": [
    {
     "data": {
      "text/plain": [
       "array([ 4, 23, 29, 10])"
      ]
     },
     "execution_count": 48,
     "metadata": {},
     "output_type": "execute_result"
    }
   ],
   "source": [
    "arr[[1, 5, 7, 2], [0, 3, 1, 2]]"
   ]
  },
  {
   "cell_type": "code",
   "execution_count": 50,
   "id": "d7c6d290",
   "metadata": {},
   "outputs": [
    {
     "data": {
      "text/plain": [
       "array([[ 4,  7,  5,  6],\n",
       "       [20, 23, 21, 22],\n",
       "       [28, 31, 29, 30],\n",
       "       [ 8, 11,  9, 10]])"
      ]
     },
     "execution_count": 50,
     "metadata": {},
     "output_type": "execute_result"
    }
   ],
   "source": [
    "arr[[1, 5, 7, 2]][:, [0, 3, 1, 2]]"
   ]
  },
  {
   "cell_type": "markdown",
   "id": "659ea95c",
   "metadata": {},
   "source": [
    "### 1.7 배열 전치와 축바꾸기"
   ]
  },
  {
   "cell_type": "code",
   "execution_count": 52,
   "id": "ed6160d4",
   "metadata": {},
   "outputs": [
    {
     "data": {
      "text/plain": [
       "array([[ 0,  1,  2,  3,  4],\n",
       "       [ 5,  6,  7,  8,  9],\n",
       "       [10, 11, 12, 13, 14]])"
      ]
     },
     "execution_count": 52,
     "metadata": {},
     "output_type": "execute_result"
    }
   ],
   "source": [
    "arr = np.arange(15).reshape((3,5))\n",
    "arr"
   ]
  },
  {
   "cell_type": "code",
   "execution_count": 53,
   "id": "0711bb67",
   "metadata": {},
   "outputs": [
    {
     "data": {
      "text/plain": [
       "array([[ 0,  5, 10],\n",
       "       [ 1,  6, 11],\n",
       "       [ 2,  7, 12],\n",
       "       [ 3,  8, 13],\n",
       "       [ 4,  9, 14]])"
      ]
     },
     "execution_count": 53,
     "metadata": {},
     "output_type": "execute_result"
    }
   ],
   "source": [
    "arr.T"
   ]
  },
  {
   "cell_type": "code",
   "execution_count": 62,
   "id": "ae0a16e6",
   "metadata": {},
   "outputs": [],
   "source": [
    "arr = np.random.randn(6,3)"
   ]
  },
  {
   "cell_type": "code",
   "execution_count": 63,
   "id": "558f2420",
   "metadata": {},
   "outputs": [
    {
     "data": {
      "text/plain": [
       "array([[ 1.3170297 , -1.52440672, -0.21506226],\n",
       "       [-1.20718877,  0.33756922, -0.71256731],\n",
       "       [-0.98632387, -1.12656704, -0.8484162 ],\n",
       "       [ 0.30021043,  2.23444351, -1.54858169],\n",
       "       [-0.06207389,  0.66017052, -0.42097518],\n",
       "       [-0.02092694, -0.59700269, -0.44359874]])"
      ]
     },
     "execution_count": 63,
     "metadata": {},
     "output_type": "execute_result"
    }
   ],
   "source": [
    "arr"
   ]
  },
  {
   "cell_type": "code",
   "execution_count": 64,
   "id": "08cf8121",
   "metadata": {},
   "outputs": [
    {
     "data": {
      "text/plain": [
       "(6, 3)"
      ]
     },
     "execution_count": 64,
     "metadata": {},
     "output_type": "execute_result"
    }
   ],
   "source": [
    "arr.shape"
   ]
  },
  {
   "cell_type": "code",
   "execution_count": 65,
   "id": "fde787ad",
   "metadata": {},
   "outputs": [
    {
     "ename": "ValueError",
     "evalue": "shapes (6,3) and (6,3) not aligned: 3 (dim 1) != 6 (dim 0)",
     "output_type": "error",
     "traceback": [
      "\u001b[1;31m---------------------------------------------------------------------------\u001b[0m",
      "\u001b[1;31mValueError\u001b[0m                                Traceback (most recent call last)",
      "\u001b[1;32m<ipython-input-65-db564b9f8af2>\u001b[0m in \u001b[0;36m<module>\u001b[1;34m\u001b[0m\n\u001b[1;32m----> 1\u001b[1;33m \u001b[0mnp\u001b[0m\u001b[1;33m.\u001b[0m\u001b[0mdot\u001b[0m\u001b[1;33m(\u001b[0m\u001b[0marr\u001b[0m \u001b[1;33m,\u001b[0m \u001b[0marr\u001b[0m\u001b[1;33m)\u001b[0m\u001b[1;33m\u001b[0m\u001b[1;33m\u001b[0m\u001b[0m\n\u001b[0m",
      "\u001b[1;32m<__array_function__ internals>\u001b[0m in \u001b[0;36mdot\u001b[1;34m(*args, **kwargs)\u001b[0m\n",
      "\u001b[1;31mValueError\u001b[0m: shapes (6,3) and (6,3) not aligned: 3 (dim 1) != 6 (dim 0)"
     ]
    }
   ],
   "source": [
    "np.dot(arr , arr)"
   ]
  },
  {
   "cell_type": "code",
   "execution_count": 66,
   "id": "67e02175",
   "metadata": {},
   "outputs": [
    {
     "data": {
      "text/plain": [
       "(3, 6)"
      ]
     },
     "execution_count": 66,
     "metadata": {},
     "output_type": "execute_result"
    }
   ],
   "source": [
    "arr.T.shape"
   ]
  },
  {
   "cell_type": "code",
   "execution_count": 67,
   "id": "a7b5bbfd",
   "metadata": {},
   "outputs": [
    {
     "data": {
      "text/plain": [
       "array([[ 4.25912415, -0.66172142,  0.98428737],\n",
       "       [-0.66172142,  9.49189722, -2.43020478],\n",
       "       [ 0.98428737, -2.43020478,  4.04591921]])"
      ]
     },
     "execution_count": 67,
     "metadata": {},
     "output_type": "execute_result"
    }
   ],
   "source": [
    "np.dot(arr.T, arr)"
   ]
  },
  {
   "cell_type": "code",
   "execution_count": 71,
   "id": "22a37b99",
   "metadata": {},
   "outputs": [
    {
     "data": {
      "text/plain": [
       "array([[ 1.3170297 , -1.20718877, -0.98632387,  0.30021043, -0.06207389,\n",
       "        -0.02092694],\n",
       "       [-1.52440672,  0.33756922, -1.12656704,  2.23444351,  0.66017052,\n",
       "        -0.59700269],\n",
       "       [-0.21506226, -0.71256731, -0.8484162 , -1.54858169, -0.42097518,\n",
       "        -0.44359874]])"
      ]
     },
     "execution_count": 71,
     "metadata": {},
     "output_type": "execute_result"
    }
   ],
   "source": [
    "arr.T"
   ]
  },
  {
   "cell_type": "code",
   "execution_count": 70,
   "id": "afab8e15",
   "metadata": {},
   "outputs": [
    {
     "data": {
      "text/plain": [
       "array([[ 1.3170297 , -1.20718877, -0.98632387,  0.30021043, -0.06207389,\n",
       "        -0.02092694],\n",
       "       [-1.52440672,  0.33756922, -1.12656704,  2.23444351,  0.66017052,\n",
       "        -0.59700269],\n",
       "       [-0.21506226, -0.71256731, -0.8484162 , -1.54858169, -0.42097518,\n",
       "        -0.44359874]])"
      ]
     },
     "execution_count": 70,
     "metadata": {},
     "output_type": "execute_result"
    }
   ],
   "source": [
    "arr.transpose(1, 0)"
   ]
  },
  {
   "cell_type": "code",
   "execution_count": 72,
   "id": "b921ff66",
   "metadata": {},
   "outputs": [
    {
     "data": {
      "text/plain": [
       "array([[[ 0,  1,  2,  3],\n",
       "        [ 4,  5,  6,  7]],\n",
       "\n",
       "       [[ 8,  9, 10, 11],\n",
       "        [12, 13, 14, 15]]])"
      ]
     },
     "execution_count": 72,
     "metadata": {},
     "output_type": "execute_result"
    }
   ],
   "source": [
    "arr = np.arange(16).reshape((2, 2, 4))\n",
    "arr"
   ]
  },
  {
   "cell_type": "code",
   "execution_count": 74,
   "id": "6a0fd0ca",
   "metadata": {},
   "outputs": [
    {
     "data": {
      "text/plain": [
       "array([[[ 0,  1,  2,  3],\n",
       "        [ 8,  9, 10, 11]],\n",
       "\n",
       "       [[ 4,  5,  6,  7],\n",
       "        [12, 13, 14, 15]]])"
      ]
     },
     "execution_count": 74,
     "metadata": {},
     "output_type": "execute_result"
    }
   ],
   "source": [
    "arr.transpose(1, 0, 2)"
   ]
  },
  {
   "cell_type": "code",
   "execution_count": 75,
   "id": "9b5d93f9",
   "metadata": {},
   "outputs": [
    {
     "data": {
      "text/plain": [
       "array([[[ 0,  4],\n",
       "        [ 1,  5],\n",
       "        [ 2,  6],\n",
       "        [ 3,  7]],\n",
       "\n",
       "       [[ 8, 12],\n",
       "        [ 9, 13],\n",
       "        [10, 14],\n",
       "        [11, 15]]])"
      ]
     },
     "execution_count": 75,
     "metadata": {},
     "output_type": "execute_result"
    }
   ],
   "source": [
    "arr.swapaxes(1, 2)"
   ]
  },
  {
   "cell_type": "code",
   "execution_count": 76,
   "id": "7d47b744",
   "metadata": {},
   "outputs": [
    {
     "data": {
      "text/plain": [
       "array([[[ 0,  1,  2,  3],\n",
       "        [ 4,  5,  6,  7]],\n",
       "\n",
       "       [[ 8,  9, 10, 11],\n",
       "        [12, 13, 14, 15]]])"
      ]
     },
     "execution_count": 76,
     "metadata": {},
     "output_type": "execute_result"
    }
   ],
   "source": [
    "arr"
   ]
  },
  {
   "cell_type": "markdown",
   "id": "e18820be",
   "metadata": {},
   "source": [
    "## 2. 유니버설 함수 "
   ]
  },
  {
   "cell_type": "code",
   "execution_count": 77,
   "id": "bfd03dda",
   "metadata": {},
   "outputs": [
    {
     "data": {
      "text/plain": [
       "array([0, 1, 2, 3, 4, 5, 6, 7, 8, 9])"
      ]
     },
     "execution_count": 77,
     "metadata": {},
     "output_type": "execute_result"
    }
   ],
   "source": [
    "arr = np.arange(10)\n",
    "arr"
   ]
  },
  {
   "cell_type": "code",
   "execution_count": 78,
   "id": "eb63dfe6",
   "metadata": {},
   "outputs": [
    {
     "data": {
      "text/plain": [
       "array([0.        , 1.        , 1.41421356, 1.73205081, 2.        ,\n",
       "       2.23606798, 2.44948974, 2.64575131, 2.82842712, 3.        ])"
      ]
     },
     "execution_count": 78,
     "metadata": {},
     "output_type": "execute_result"
    }
   ],
   "source": [
    "np.sqrt(arr)"
   ]
  },
  {
   "cell_type": "code",
   "execution_count": 79,
   "id": "103d4554",
   "metadata": {},
   "outputs": [
    {
     "data": {
      "text/plain": [
       "array([1.00000000e+00, 2.71828183e+00, 7.38905610e+00, 2.00855369e+01,\n",
       "       5.45981500e+01, 1.48413159e+02, 4.03428793e+02, 1.09663316e+03,\n",
       "       2.98095799e+03, 8.10308393e+03])"
      ]
     },
     "execution_count": 79,
     "metadata": {},
     "output_type": "execute_result"
    }
   ],
   "source": [
    "np.exp(arr)"
   ]
  },
  {
   "cell_type": "code",
   "execution_count": 81,
   "id": "f17c4564",
   "metadata": {},
   "outputs": [],
   "source": [
    "x = np.random.randn(8)\n",
    "y = np.random.randn(8)"
   ]
  },
  {
   "cell_type": "code",
   "execution_count": 82,
   "id": "96ddab1d",
   "metadata": {},
   "outputs": [
    {
     "data": {
      "text/plain": [
       "array([-0.07507046,  0.54764221,  0.63339881,  1.85243657,  0.99239837,\n",
       "       -0.48541577,  0.43675106,  0.00387837])"
      ]
     },
     "execution_count": 82,
     "metadata": {},
     "output_type": "execute_result"
    }
   ],
   "source": [
    "np.maximum(x, y)"
   ]
  },
  {
   "cell_type": "code",
   "execution_count": 83,
   "id": "b0b73846",
   "metadata": {},
   "outputs": [
    {
     "data": {
      "text/plain": [
       "array([-1.26752598,  1.21610551, -4.41331379,  6.31434244, -1.91247736,\n",
       "       -1.43285156, -2.88319674])"
      ]
     },
     "execution_count": 83,
     "metadata": {},
     "output_type": "execute_result"
    }
   ],
   "source": [
    "arr = np.random.randn(7) * 5\n",
    "arr"
   ]
  },
  {
   "cell_type": "code",
   "execution_count": 84,
   "id": "bc83402e",
   "metadata": {},
   "outputs": [],
   "source": [
    "remainder, whole_part =  np.modf(arr)"
   ]
  },
  {
   "cell_type": "code",
   "execution_count": 85,
   "id": "10f775cc",
   "metadata": {},
   "outputs": [
    {
     "data": {
      "text/plain": [
       "array([-0.26752598,  0.21610551, -0.41331379,  0.31434244, -0.91247736,\n",
       "       -0.43285156, -0.88319674])"
      ]
     },
     "execution_count": 85,
     "metadata": {},
     "output_type": "execute_result"
    }
   ],
   "source": [
    "remainder"
   ]
  },
  {
   "cell_type": "code",
   "execution_count": 86,
   "id": "39a2828e",
   "metadata": {},
   "outputs": [
    {
     "data": {
      "text/plain": [
       "array([-1.,  1., -4.,  6., -1., -1., -2.])"
      ]
     },
     "execution_count": 86,
     "metadata": {},
     "output_type": "execute_result"
    }
   ],
   "source": [
    "whole_part"
   ]
  },
  {
   "cell_type": "code",
   "execution_count": 87,
   "id": "86d3d572",
   "metadata": {},
   "outputs": [
    {
     "data": {
      "text/plain": [
       "array([0, 1, 2, 3, 4, 5, 6, 7, 8, 9])"
      ]
     },
     "execution_count": 87,
     "metadata": {},
     "output_type": "execute_result"
    }
   ],
   "source": [
    "arr = np.arange(10)\n",
    "arr"
   ]
  },
  {
   "cell_type": "code",
   "execution_count": 90,
   "id": "7185d9a4",
   "metadata": {},
   "outputs": [
    {
     "data": {
      "text/plain": [
       "array([0, 1, 2, 3, 4, 5, 6, 7, 8, 9])"
      ]
     },
     "execution_count": 90,
     "metadata": {},
     "output_type": "execute_result"
    }
   ],
   "source": [
    "np.sqrt(arr)"
   ]
  },
  {
   "cell_type": "code",
   "execution_count": 92,
   "id": "04a8be7b",
   "metadata": {},
   "outputs": [],
   "source": [
    "out = np.empty(10)"
   ]
  },
  {
   "cell_type": "code",
   "execution_count": 93,
   "id": "cfcf44e0",
   "metadata": {},
   "outputs": [
    {
     "data": {
      "text/plain": [
       "array([0.        , 1.        , 1.41421356, 1.73205081, 2.        ,\n",
       "       2.23606798, 2.44948974, 2.64575131, 2.82842712, 3.        ])"
      ]
     },
     "execution_count": 93,
     "metadata": {},
     "output_type": "execute_result"
    }
   ],
   "source": [
    "np.sqrt(arr, out)"
   ]
  },
  {
   "cell_type": "code",
   "execution_count": 94,
   "id": "1e36b051",
   "metadata": {},
   "outputs": [
    {
     "data": {
      "text/plain": [
       "array([0.        , 1.        , 1.41421356, 1.73205081, 2.        ,\n",
       "       2.23606798, 2.44948974, 2.64575131, 2.82842712, 3.        ])"
      ]
     },
     "execution_count": 94,
     "metadata": {},
     "output_type": "execute_result"
    }
   ],
   "source": [
    "out"
   ]
  },
  {
   "cell_type": "markdown",
   "id": "1c0b382a",
   "metadata": {},
   "source": [
    "### (실습) 거리계산 (파이썬 vs 넘파이)"
   ]
  },
  {
   "cell_type": "code",
   "execution_count": 95,
   "id": "84fb8f1d",
   "metadata": {},
   "outputs": [
    {
     "data": {
      "text/plain": [
       "[2.23606797749979, 1.4142135623730951, 5.0]"
      ]
     },
     "execution_count": 95,
     "metadata": {},
     "output_type": "execute_result"
    }
   ],
   "source": [
    "from math import sqrt\n",
    "\n",
    "points = [[1, 1], [3, 2], [5, 7]] #A, B, C\n",
    "X = [2, 3]\n",
    "\n",
    "result = []\n",
    "\n",
    "for point in points:\n",
    "    result.append(sqrt((point[0] - X[0]) ** 2 + (point[1] - X[1]) ** 2))\n",
    "result"
   ]
  },
  {
   "cell_type": "code",
   "execution_count": 96,
   "id": "806362b6",
   "metadata": {},
   "outputs": [],
   "source": [
    "import numpy as np\n",
    "\n",
    "points_arr = np.array(points)\n",
    "X_arr = np.array(X)"
   ]
  },
  {
   "cell_type": "code",
   "execution_count": 98,
   "id": "6d5dab20",
   "metadata": {},
   "outputs": [
    {
     "data": {
      "text/plain": [
       "array([[1, 1],\n",
       "       [3, 2],\n",
       "       [5, 7]])"
      ]
     },
     "execution_count": 98,
     "metadata": {},
     "output_type": "execute_result"
    }
   ],
   "source": [
    "points_arr"
   ]
  },
  {
   "cell_type": "code",
   "execution_count": 99,
   "id": "66a8ae30",
   "metadata": {},
   "outputs": [
    {
     "data": {
      "text/plain": [
       "array([2, 3])"
      ]
     },
     "execution_count": 99,
     "metadata": {},
     "output_type": "execute_result"
    }
   ],
   "source": [
    "X_arr"
   ]
  },
  {
   "cell_type": "code",
   "execution_count": 100,
   "id": "3b7dbbd0",
   "metadata": {},
   "outputs": [
    {
     "data": {
      "text/plain": [
       "array([[-1, -2],\n",
       "       [ 1, -1],\n",
       "       [ 3,  4]])"
      ]
     },
     "execution_count": 100,
     "metadata": {},
     "output_type": "execute_result"
    }
   ],
   "source": [
    "points_arr - X_arr"
   ]
  },
  {
   "cell_type": "code",
   "execution_count": 101,
   "id": "aab08621",
   "metadata": {},
   "outputs": [
    {
     "data": {
      "text/plain": [
       "array([[ 1,  4],\n",
       "       [ 1,  1],\n",
       "       [ 9, 16]], dtype=int32)"
      ]
     },
     "execution_count": 101,
     "metadata": {},
     "output_type": "execute_result"
    }
   ],
   "source": [
    "(points_arr - X_arr) ** 2"
   ]
  },
  {
   "cell_type": "code",
   "execution_count": 103,
   "id": "499eb092",
   "metadata": {},
   "outputs": [
    {
     "data": {
      "text/plain": [
       "array([ 5,  2, 25], dtype=int32)"
      ]
     },
     "execution_count": 103,
     "metadata": {},
     "output_type": "execute_result"
    }
   ],
   "source": [
    "np.sum((points_arr - X_arr) ** 2, axis = 1)"
   ]
  },
  {
   "cell_type": "code",
   "execution_count": 104,
   "id": "4ed7d2a5",
   "metadata": {},
   "outputs": [
    {
     "data": {
      "text/plain": [
       "array([2.23606798, 1.41421356, 5.        ])"
      ]
     },
     "execution_count": 104,
     "metadata": {},
     "output_type": "execute_result"
    }
   ],
   "source": [
    "np.sqrt(np.sum((points_arr - X_arr) ** 2, axis = 1))"
   ]
  },
  {
   "cell_type": "code",
   "execution_count": 105,
   "id": "922dab73",
   "metadata": {},
   "outputs": [
    {
     "data": {
      "text/plain": [
       "array([2.23606798, 1.41421356, 5.        ])"
      ]
     },
     "execution_count": 105,
     "metadata": {},
     "output_type": "execute_result"
    }
   ],
   "source": [
    "def distMeasure(points_arr, X_arr):\n",
    "    return np.sqrt(np.sum((points_arr - X_arr) ** 2, axis = 1))\n",
    "\n",
    "distMeasure(points_arr, X_arr)"
   ]
  },
  {
   "cell_type": "markdown",
   "id": "4995051e",
   "metadata": {},
   "source": [
    "## 3. 배열을 이용한 프로그래밍"
   ]
  },
  {
   "cell_type": "markdown",
   "id": "e23be8ff",
   "metadata": {},
   "source": [
    "* meshgrid 참고"
   ]
  },
  {
   "cell_type": "code",
   "execution_count": 109,
   "id": "06ba75c6",
   "metadata": {},
   "outputs": [
    {
     "data": {
      "text/plain": [
       "[array([[1, 2, 3],\n",
       "        [1, 2, 3],\n",
       "        [1, 2, 3]]),\n",
       " array([[1, 1, 1],\n",
       "        [2, 2, 2],\n",
       "        [3, 3, 3]])]"
      ]
     },
     "execution_count": 109,
     "metadata": {},
     "output_type": "execute_result"
    }
   ],
   "source": [
    "x = np.array([1, 2, 3])\n",
    "y = np.array([1, 2, 3])\n",
    "np.meshgrid(x, y)"
   ]
  },
  {
   "cell_type": "markdown",
   "id": "c52fe71f",
   "metadata": {},
   "source": [
    "* meshgrid 참고 끝"
   ]
  },
  {
   "cell_type": "code",
   "execution_count": 106,
   "id": "23fde230",
   "metadata": {},
   "outputs": [],
   "source": [
    "points = np.arange(-5, 5, 0.01) #1000"
   ]
  },
  {
   "cell_type": "code",
   "execution_count": 107,
   "id": "5cb6f833",
   "metadata": {},
   "outputs": [
    {
     "data": {
      "text/plain": [
       "array([-5.0000000e+00, -4.9900000e+00, -4.9800000e+00, -4.9700000e+00,\n",
       "       -4.9600000e+00, -4.9500000e+00, -4.9400000e+00, -4.9300000e+00,\n",
       "       -4.9200000e+00, -4.9100000e+00, -4.9000000e+00, -4.8900000e+00,\n",
       "       -4.8800000e+00, -4.8700000e+00, -4.8600000e+00, -4.8500000e+00,\n",
       "       -4.8400000e+00, -4.8300000e+00, -4.8200000e+00, -4.8100000e+00,\n",
       "       -4.8000000e+00, -4.7900000e+00, -4.7800000e+00, -4.7700000e+00,\n",
       "       -4.7600000e+00, -4.7500000e+00, -4.7400000e+00, -4.7300000e+00,\n",
       "       -4.7200000e+00, -4.7100000e+00, -4.7000000e+00, -4.6900000e+00,\n",
       "       -4.6800000e+00, -4.6700000e+00, -4.6600000e+00, -4.6500000e+00,\n",
       "       -4.6400000e+00, -4.6300000e+00, -4.6200000e+00, -4.6100000e+00,\n",
       "       -4.6000000e+00, -4.5900000e+00, -4.5800000e+00, -4.5700000e+00,\n",
       "       -4.5600000e+00, -4.5500000e+00, -4.5400000e+00, -4.5300000e+00,\n",
       "       -4.5200000e+00, -4.5100000e+00, -4.5000000e+00, -4.4900000e+00,\n",
       "       -4.4800000e+00, -4.4700000e+00, -4.4600000e+00, -4.4500000e+00,\n",
       "       -4.4400000e+00, -4.4300000e+00, -4.4200000e+00, -4.4100000e+00,\n",
       "       -4.4000000e+00, -4.3900000e+00, -4.3800000e+00, -4.3700000e+00,\n",
       "       -4.3600000e+00, -4.3500000e+00, -4.3400000e+00, -4.3300000e+00,\n",
       "       -4.3200000e+00, -4.3100000e+00, -4.3000000e+00, -4.2900000e+00,\n",
       "       -4.2800000e+00, -4.2700000e+00, -4.2600000e+00, -4.2500000e+00,\n",
       "       -4.2400000e+00, -4.2300000e+00, -4.2200000e+00, -4.2100000e+00,\n",
       "       -4.2000000e+00, -4.1900000e+00, -4.1800000e+00, -4.1700000e+00,\n",
       "       -4.1600000e+00, -4.1500000e+00, -4.1400000e+00, -4.1300000e+00,\n",
       "       -4.1200000e+00, -4.1100000e+00, -4.1000000e+00, -4.0900000e+00,\n",
       "       -4.0800000e+00, -4.0700000e+00, -4.0600000e+00, -4.0500000e+00,\n",
       "       -4.0400000e+00, -4.0300000e+00, -4.0200000e+00, -4.0100000e+00,\n",
       "       -4.0000000e+00, -3.9900000e+00, -3.9800000e+00, -3.9700000e+00,\n",
       "       -3.9600000e+00, -3.9500000e+00, -3.9400000e+00, -3.9300000e+00,\n",
       "       -3.9200000e+00, -3.9100000e+00, -3.9000000e+00, -3.8900000e+00,\n",
       "       -3.8800000e+00, -3.8700000e+00, -3.8600000e+00, -3.8500000e+00,\n",
       "       -3.8400000e+00, -3.8300000e+00, -3.8200000e+00, -3.8100000e+00,\n",
       "       -3.8000000e+00, -3.7900000e+00, -3.7800000e+00, -3.7700000e+00,\n",
       "       -3.7600000e+00, -3.7500000e+00, -3.7400000e+00, -3.7300000e+00,\n",
       "       -3.7200000e+00, -3.7100000e+00, -3.7000000e+00, -3.6900000e+00,\n",
       "       -3.6800000e+00, -3.6700000e+00, -3.6600000e+00, -3.6500000e+00,\n",
       "       -3.6400000e+00, -3.6300000e+00, -3.6200000e+00, -3.6100000e+00,\n",
       "       -3.6000000e+00, -3.5900000e+00, -3.5800000e+00, -3.5700000e+00,\n",
       "       -3.5600000e+00, -3.5500000e+00, -3.5400000e+00, -3.5300000e+00,\n",
       "       -3.5200000e+00, -3.5100000e+00, -3.5000000e+00, -3.4900000e+00,\n",
       "       -3.4800000e+00, -3.4700000e+00, -3.4600000e+00, -3.4500000e+00,\n",
       "       -3.4400000e+00, -3.4300000e+00, -3.4200000e+00, -3.4100000e+00,\n",
       "       -3.4000000e+00, -3.3900000e+00, -3.3800000e+00, -3.3700000e+00,\n",
       "       -3.3600000e+00, -3.3500000e+00, -3.3400000e+00, -3.3300000e+00,\n",
       "       -3.3200000e+00, -3.3100000e+00, -3.3000000e+00, -3.2900000e+00,\n",
       "       -3.2800000e+00, -3.2700000e+00, -3.2600000e+00, -3.2500000e+00,\n",
       "       -3.2400000e+00, -3.2300000e+00, -3.2200000e+00, -3.2100000e+00,\n",
       "       -3.2000000e+00, -3.1900000e+00, -3.1800000e+00, -3.1700000e+00,\n",
       "       -3.1600000e+00, -3.1500000e+00, -3.1400000e+00, -3.1300000e+00,\n",
       "       -3.1200000e+00, -3.1100000e+00, -3.1000000e+00, -3.0900000e+00,\n",
       "       -3.0800000e+00, -3.0700000e+00, -3.0600000e+00, -3.0500000e+00,\n",
       "       -3.0400000e+00, -3.0300000e+00, -3.0200000e+00, -3.0100000e+00,\n",
       "       -3.0000000e+00, -2.9900000e+00, -2.9800000e+00, -2.9700000e+00,\n",
       "       -2.9600000e+00, -2.9500000e+00, -2.9400000e+00, -2.9300000e+00,\n",
       "       -2.9200000e+00, -2.9100000e+00, -2.9000000e+00, -2.8900000e+00,\n",
       "       -2.8800000e+00, -2.8700000e+00, -2.8600000e+00, -2.8500000e+00,\n",
       "       -2.8400000e+00, -2.8300000e+00, -2.8200000e+00, -2.8100000e+00,\n",
       "       -2.8000000e+00, -2.7900000e+00, -2.7800000e+00, -2.7700000e+00,\n",
       "       -2.7600000e+00, -2.7500000e+00, -2.7400000e+00, -2.7300000e+00,\n",
       "       -2.7200000e+00, -2.7100000e+00, -2.7000000e+00, -2.6900000e+00,\n",
       "       -2.6800000e+00, -2.6700000e+00, -2.6600000e+00, -2.6500000e+00,\n",
       "       -2.6400000e+00, -2.6300000e+00, -2.6200000e+00, -2.6100000e+00,\n",
       "       -2.6000000e+00, -2.5900000e+00, -2.5800000e+00, -2.5700000e+00,\n",
       "       -2.5600000e+00, -2.5500000e+00, -2.5400000e+00, -2.5300000e+00,\n",
       "       -2.5200000e+00, -2.5100000e+00, -2.5000000e+00, -2.4900000e+00,\n",
       "       -2.4800000e+00, -2.4700000e+00, -2.4600000e+00, -2.4500000e+00,\n",
       "       -2.4400000e+00, -2.4300000e+00, -2.4200000e+00, -2.4100000e+00,\n",
       "       -2.4000000e+00, -2.3900000e+00, -2.3800000e+00, -2.3700000e+00,\n",
       "       -2.3600000e+00, -2.3500000e+00, -2.3400000e+00, -2.3300000e+00,\n",
       "       -2.3200000e+00, -2.3100000e+00, -2.3000000e+00, -2.2900000e+00,\n",
       "       -2.2800000e+00, -2.2700000e+00, -2.2600000e+00, -2.2500000e+00,\n",
       "       -2.2400000e+00, -2.2300000e+00, -2.2200000e+00, -2.2100000e+00,\n",
       "       -2.2000000e+00, -2.1900000e+00, -2.1800000e+00, -2.1700000e+00,\n",
       "       -2.1600000e+00, -2.1500000e+00, -2.1400000e+00, -2.1300000e+00,\n",
       "       -2.1200000e+00, -2.1100000e+00, -2.1000000e+00, -2.0900000e+00,\n",
       "       -2.0800000e+00, -2.0700000e+00, -2.0600000e+00, -2.0500000e+00,\n",
       "       -2.0400000e+00, -2.0300000e+00, -2.0200000e+00, -2.0100000e+00,\n",
       "       -2.0000000e+00, -1.9900000e+00, -1.9800000e+00, -1.9700000e+00,\n",
       "       -1.9600000e+00, -1.9500000e+00, -1.9400000e+00, -1.9300000e+00,\n",
       "       -1.9200000e+00, -1.9100000e+00, -1.9000000e+00, -1.8900000e+00,\n",
       "       -1.8800000e+00, -1.8700000e+00, -1.8600000e+00, -1.8500000e+00,\n",
       "       -1.8400000e+00, -1.8300000e+00, -1.8200000e+00, -1.8100000e+00,\n",
       "       -1.8000000e+00, -1.7900000e+00, -1.7800000e+00, -1.7700000e+00,\n",
       "       -1.7600000e+00, -1.7500000e+00, -1.7400000e+00, -1.7300000e+00,\n",
       "       -1.7200000e+00, -1.7100000e+00, -1.7000000e+00, -1.6900000e+00,\n",
       "       -1.6800000e+00, -1.6700000e+00, -1.6600000e+00, -1.6500000e+00,\n",
       "       -1.6400000e+00, -1.6300000e+00, -1.6200000e+00, -1.6100000e+00,\n",
       "       -1.6000000e+00, -1.5900000e+00, -1.5800000e+00, -1.5700000e+00,\n",
       "       -1.5600000e+00, -1.5500000e+00, -1.5400000e+00, -1.5300000e+00,\n",
       "       -1.5200000e+00, -1.5100000e+00, -1.5000000e+00, -1.4900000e+00,\n",
       "       -1.4800000e+00, -1.4700000e+00, -1.4600000e+00, -1.4500000e+00,\n",
       "       -1.4400000e+00, -1.4300000e+00, -1.4200000e+00, -1.4100000e+00,\n",
       "       -1.4000000e+00, -1.3900000e+00, -1.3800000e+00, -1.3700000e+00,\n",
       "       -1.3600000e+00, -1.3500000e+00, -1.3400000e+00, -1.3300000e+00,\n",
       "       -1.3200000e+00, -1.3100000e+00, -1.3000000e+00, -1.2900000e+00,\n",
       "       -1.2800000e+00, -1.2700000e+00, -1.2600000e+00, -1.2500000e+00,\n",
       "       -1.2400000e+00, -1.2300000e+00, -1.2200000e+00, -1.2100000e+00,\n",
       "       -1.2000000e+00, -1.1900000e+00, -1.1800000e+00, -1.1700000e+00,\n",
       "       -1.1600000e+00, -1.1500000e+00, -1.1400000e+00, -1.1300000e+00,\n",
       "       -1.1200000e+00, -1.1100000e+00, -1.1000000e+00, -1.0900000e+00,\n",
       "       -1.0800000e+00, -1.0700000e+00, -1.0600000e+00, -1.0500000e+00,\n",
       "       -1.0400000e+00, -1.0300000e+00, -1.0200000e+00, -1.0100000e+00,\n",
       "       -1.0000000e+00, -9.9000000e-01, -9.8000000e-01, -9.7000000e-01,\n",
       "       -9.6000000e-01, -9.5000000e-01, -9.4000000e-01, -9.3000000e-01,\n",
       "       -9.2000000e-01, -9.1000000e-01, -9.0000000e-01, -8.9000000e-01,\n",
       "       -8.8000000e-01, -8.7000000e-01, -8.6000000e-01, -8.5000000e-01,\n",
       "       -8.4000000e-01, -8.3000000e-01, -8.2000000e-01, -8.1000000e-01,\n",
       "       -8.0000000e-01, -7.9000000e-01, -7.8000000e-01, -7.7000000e-01,\n",
       "       -7.6000000e-01, -7.5000000e-01, -7.4000000e-01, -7.3000000e-01,\n",
       "       -7.2000000e-01, -7.1000000e-01, -7.0000000e-01, -6.9000000e-01,\n",
       "       -6.8000000e-01, -6.7000000e-01, -6.6000000e-01, -6.5000000e-01,\n",
       "       -6.4000000e-01, -6.3000000e-01, -6.2000000e-01, -6.1000000e-01,\n",
       "       -6.0000000e-01, -5.9000000e-01, -5.8000000e-01, -5.7000000e-01,\n",
       "       -5.6000000e-01, -5.5000000e-01, -5.4000000e-01, -5.3000000e-01,\n",
       "       -5.2000000e-01, -5.1000000e-01, -5.0000000e-01, -4.9000000e-01,\n",
       "       -4.8000000e-01, -4.7000000e-01, -4.6000000e-01, -4.5000000e-01,\n",
       "       -4.4000000e-01, -4.3000000e-01, -4.2000000e-01, -4.1000000e-01,\n",
       "       -4.0000000e-01, -3.9000000e-01, -3.8000000e-01, -3.7000000e-01,\n",
       "       -3.6000000e-01, -3.5000000e-01, -3.4000000e-01, -3.3000000e-01,\n",
       "       -3.2000000e-01, -3.1000000e-01, -3.0000000e-01, -2.9000000e-01,\n",
       "       -2.8000000e-01, -2.7000000e-01, -2.6000000e-01, -2.5000000e-01,\n",
       "       -2.4000000e-01, -2.3000000e-01, -2.2000000e-01, -2.1000000e-01,\n",
       "       -2.0000000e-01, -1.9000000e-01, -1.8000000e-01, -1.7000000e-01,\n",
       "       -1.6000000e-01, -1.5000000e-01, -1.4000000e-01, -1.3000000e-01,\n",
       "       -1.2000000e-01, -1.1000000e-01, -1.0000000e-01, -9.0000000e-02,\n",
       "       -8.0000000e-02, -7.0000000e-02, -6.0000000e-02, -5.0000000e-02,\n",
       "       -4.0000000e-02, -3.0000000e-02, -2.0000000e-02, -1.0000000e-02,\n",
       "       -1.0658141e-13,  1.0000000e-02,  2.0000000e-02,  3.0000000e-02,\n",
       "        4.0000000e-02,  5.0000000e-02,  6.0000000e-02,  7.0000000e-02,\n",
       "        8.0000000e-02,  9.0000000e-02,  1.0000000e-01,  1.1000000e-01,\n",
       "        1.2000000e-01,  1.3000000e-01,  1.4000000e-01,  1.5000000e-01,\n",
       "        1.6000000e-01,  1.7000000e-01,  1.8000000e-01,  1.9000000e-01,\n",
       "        2.0000000e-01,  2.1000000e-01,  2.2000000e-01,  2.3000000e-01,\n",
       "        2.4000000e-01,  2.5000000e-01,  2.6000000e-01,  2.7000000e-01,\n",
       "        2.8000000e-01,  2.9000000e-01,  3.0000000e-01,  3.1000000e-01,\n",
       "        3.2000000e-01,  3.3000000e-01,  3.4000000e-01,  3.5000000e-01,\n",
       "        3.6000000e-01,  3.7000000e-01,  3.8000000e-01,  3.9000000e-01,\n",
       "        4.0000000e-01,  4.1000000e-01,  4.2000000e-01,  4.3000000e-01,\n",
       "        4.4000000e-01,  4.5000000e-01,  4.6000000e-01,  4.7000000e-01,\n",
       "        4.8000000e-01,  4.9000000e-01,  5.0000000e-01,  5.1000000e-01,\n",
       "        5.2000000e-01,  5.3000000e-01,  5.4000000e-01,  5.5000000e-01,\n",
       "        5.6000000e-01,  5.7000000e-01,  5.8000000e-01,  5.9000000e-01,\n",
       "        6.0000000e-01,  6.1000000e-01,  6.2000000e-01,  6.3000000e-01,\n",
       "        6.4000000e-01,  6.5000000e-01,  6.6000000e-01,  6.7000000e-01,\n",
       "        6.8000000e-01,  6.9000000e-01,  7.0000000e-01,  7.1000000e-01,\n",
       "        7.2000000e-01,  7.3000000e-01,  7.4000000e-01,  7.5000000e-01,\n",
       "        7.6000000e-01,  7.7000000e-01,  7.8000000e-01,  7.9000000e-01,\n",
       "        8.0000000e-01,  8.1000000e-01,  8.2000000e-01,  8.3000000e-01,\n",
       "        8.4000000e-01,  8.5000000e-01,  8.6000000e-01,  8.7000000e-01,\n",
       "        8.8000000e-01,  8.9000000e-01,  9.0000000e-01,  9.1000000e-01,\n",
       "        9.2000000e-01,  9.3000000e-01,  9.4000000e-01,  9.5000000e-01,\n",
       "        9.6000000e-01,  9.7000000e-01,  9.8000000e-01,  9.9000000e-01,\n",
       "        1.0000000e+00,  1.0100000e+00,  1.0200000e+00,  1.0300000e+00,\n",
       "        1.0400000e+00,  1.0500000e+00,  1.0600000e+00,  1.0700000e+00,\n",
       "        1.0800000e+00,  1.0900000e+00,  1.1000000e+00,  1.1100000e+00,\n",
       "        1.1200000e+00,  1.1300000e+00,  1.1400000e+00,  1.1500000e+00,\n",
       "        1.1600000e+00,  1.1700000e+00,  1.1800000e+00,  1.1900000e+00,\n",
       "        1.2000000e+00,  1.2100000e+00,  1.2200000e+00,  1.2300000e+00,\n",
       "        1.2400000e+00,  1.2500000e+00,  1.2600000e+00,  1.2700000e+00,\n",
       "        1.2800000e+00,  1.2900000e+00,  1.3000000e+00,  1.3100000e+00,\n",
       "        1.3200000e+00,  1.3300000e+00,  1.3400000e+00,  1.3500000e+00,\n",
       "        1.3600000e+00,  1.3700000e+00,  1.3800000e+00,  1.3900000e+00,\n",
       "        1.4000000e+00,  1.4100000e+00,  1.4200000e+00,  1.4300000e+00,\n",
       "        1.4400000e+00,  1.4500000e+00,  1.4600000e+00,  1.4700000e+00,\n",
       "        1.4800000e+00,  1.4900000e+00,  1.5000000e+00,  1.5100000e+00,\n",
       "        1.5200000e+00,  1.5300000e+00,  1.5400000e+00,  1.5500000e+00,\n",
       "        1.5600000e+00,  1.5700000e+00,  1.5800000e+00,  1.5900000e+00,\n",
       "        1.6000000e+00,  1.6100000e+00,  1.6200000e+00,  1.6300000e+00,\n",
       "        1.6400000e+00,  1.6500000e+00,  1.6600000e+00,  1.6700000e+00,\n",
       "        1.6800000e+00,  1.6900000e+00,  1.7000000e+00,  1.7100000e+00,\n",
       "        1.7200000e+00,  1.7300000e+00,  1.7400000e+00,  1.7500000e+00,\n",
       "        1.7600000e+00,  1.7700000e+00,  1.7800000e+00,  1.7900000e+00,\n",
       "        1.8000000e+00,  1.8100000e+00,  1.8200000e+00,  1.8300000e+00,\n",
       "        1.8400000e+00,  1.8500000e+00,  1.8600000e+00,  1.8700000e+00,\n",
       "        1.8800000e+00,  1.8900000e+00,  1.9000000e+00,  1.9100000e+00,\n",
       "        1.9200000e+00,  1.9300000e+00,  1.9400000e+00,  1.9500000e+00,\n",
       "        1.9600000e+00,  1.9700000e+00,  1.9800000e+00,  1.9900000e+00,\n",
       "        2.0000000e+00,  2.0100000e+00,  2.0200000e+00,  2.0300000e+00,\n",
       "        2.0400000e+00,  2.0500000e+00,  2.0600000e+00,  2.0700000e+00,\n",
       "        2.0800000e+00,  2.0900000e+00,  2.1000000e+00,  2.1100000e+00,\n",
       "        2.1200000e+00,  2.1300000e+00,  2.1400000e+00,  2.1500000e+00,\n",
       "        2.1600000e+00,  2.1700000e+00,  2.1800000e+00,  2.1900000e+00,\n",
       "        2.2000000e+00,  2.2100000e+00,  2.2200000e+00,  2.2300000e+00,\n",
       "        2.2400000e+00,  2.2500000e+00,  2.2600000e+00,  2.2700000e+00,\n",
       "        2.2800000e+00,  2.2900000e+00,  2.3000000e+00,  2.3100000e+00,\n",
       "        2.3200000e+00,  2.3300000e+00,  2.3400000e+00,  2.3500000e+00,\n",
       "        2.3600000e+00,  2.3700000e+00,  2.3800000e+00,  2.3900000e+00,\n",
       "        2.4000000e+00,  2.4100000e+00,  2.4200000e+00,  2.4300000e+00,\n",
       "        2.4400000e+00,  2.4500000e+00,  2.4600000e+00,  2.4700000e+00,\n",
       "        2.4800000e+00,  2.4900000e+00,  2.5000000e+00,  2.5100000e+00,\n",
       "        2.5200000e+00,  2.5300000e+00,  2.5400000e+00,  2.5500000e+00,\n",
       "        2.5600000e+00,  2.5700000e+00,  2.5800000e+00,  2.5900000e+00,\n",
       "        2.6000000e+00,  2.6100000e+00,  2.6200000e+00,  2.6300000e+00,\n",
       "        2.6400000e+00,  2.6500000e+00,  2.6600000e+00,  2.6700000e+00,\n",
       "        2.6800000e+00,  2.6900000e+00,  2.7000000e+00,  2.7100000e+00,\n",
       "        2.7200000e+00,  2.7300000e+00,  2.7400000e+00,  2.7500000e+00,\n",
       "        2.7600000e+00,  2.7700000e+00,  2.7800000e+00,  2.7900000e+00,\n",
       "        2.8000000e+00,  2.8100000e+00,  2.8200000e+00,  2.8300000e+00,\n",
       "        2.8400000e+00,  2.8500000e+00,  2.8600000e+00,  2.8700000e+00,\n",
       "        2.8800000e+00,  2.8900000e+00,  2.9000000e+00,  2.9100000e+00,\n",
       "        2.9200000e+00,  2.9300000e+00,  2.9400000e+00,  2.9500000e+00,\n",
       "        2.9600000e+00,  2.9700000e+00,  2.9800000e+00,  2.9900000e+00,\n",
       "        3.0000000e+00,  3.0100000e+00,  3.0200000e+00,  3.0300000e+00,\n",
       "        3.0400000e+00,  3.0500000e+00,  3.0600000e+00,  3.0700000e+00,\n",
       "        3.0800000e+00,  3.0900000e+00,  3.1000000e+00,  3.1100000e+00,\n",
       "        3.1200000e+00,  3.1300000e+00,  3.1400000e+00,  3.1500000e+00,\n",
       "        3.1600000e+00,  3.1700000e+00,  3.1800000e+00,  3.1900000e+00,\n",
       "        3.2000000e+00,  3.2100000e+00,  3.2200000e+00,  3.2300000e+00,\n",
       "        3.2400000e+00,  3.2500000e+00,  3.2600000e+00,  3.2700000e+00,\n",
       "        3.2800000e+00,  3.2900000e+00,  3.3000000e+00,  3.3100000e+00,\n",
       "        3.3200000e+00,  3.3300000e+00,  3.3400000e+00,  3.3500000e+00,\n",
       "        3.3600000e+00,  3.3700000e+00,  3.3800000e+00,  3.3900000e+00,\n",
       "        3.4000000e+00,  3.4100000e+00,  3.4200000e+00,  3.4300000e+00,\n",
       "        3.4400000e+00,  3.4500000e+00,  3.4600000e+00,  3.4700000e+00,\n",
       "        3.4800000e+00,  3.4900000e+00,  3.5000000e+00,  3.5100000e+00,\n",
       "        3.5200000e+00,  3.5300000e+00,  3.5400000e+00,  3.5500000e+00,\n",
       "        3.5600000e+00,  3.5700000e+00,  3.5800000e+00,  3.5900000e+00,\n",
       "        3.6000000e+00,  3.6100000e+00,  3.6200000e+00,  3.6300000e+00,\n",
       "        3.6400000e+00,  3.6500000e+00,  3.6600000e+00,  3.6700000e+00,\n",
       "        3.6800000e+00,  3.6900000e+00,  3.7000000e+00,  3.7100000e+00,\n",
       "        3.7200000e+00,  3.7300000e+00,  3.7400000e+00,  3.7500000e+00,\n",
       "        3.7600000e+00,  3.7700000e+00,  3.7800000e+00,  3.7900000e+00,\n",
       "        3.8000000e+00,  3.8100000e+00,  3.8200000e+00,  3.8300000e+00,\n",
       "        3.8400000e+00,  3.8500000e+00,  3.8600000e+00,  3.8700000e+00,\n",
       "        3.8800000e+00,  3.8900000e+00,  3.9000000e+00,  3.9100000e+00,\n",
       "        3.9200000e+00,  3.9300000e+00,  3.9400000e+00,  3.9500000e+00,\n",
       "        3.9600000e+00,  3.9700000e+00,  3.9800000e+00,  3.9900000e+00,\n",
       "        4.0000000e+00,  4.0100000e+00,  4.0200000e+00,  4.0300000e+00,\n",
       "        4.0400000e+00,  4.0500000e+00,  4.0600000e+00,  4.0700000e+00,\n",
       "        4.0800000e+00,  4.0900000e+00,  4.1000000e+00,  4.1100000e+00,\n",
       "        4.1200000e+00,  4.1300000e+00,  4.1400000e+00,  4.1500000e+00,\n",
       "        4.1600000e+00,  4.1700000e+00,  4.1800000e+00,  4.1900000e+00,\n",
       "        4.2000000e+00,  4.2100000e+00,  4.2200000e+00,  4.2300000e+00,\n",
       "        4.2400000e+00,  4.2500000e+00,  4.2600000e+00,  4.2700000e+00,\n",
       "        4.2800000e+00,  4.2900000e+00,  4.3000000e+00,  4.3100000e+00,\n",
       "        4.3200000e+00,  4.3300000e+00,  4.3400000e+00,  4.3500000e+00,\n",
       "        4.3600000e+00,  4.3700000e+00,  4.3800000e+00,  4.3900000e+00,\n",
       "        4.4000000e+00,  4.4100000e+00,  4.4200000e+00,  4.4300000e+00,\n",
       "        4.4400000e+00,  4.4500000e+00,  4.4600000e+00,  4.4700000e+00,\n",
       "        4.4800000e+00,  4.4900000e+00,  4.5000000e+00,  4.5100000e+00,\n",
       "        4.5200000e+00,  4.5300000e+00,  4.5400000e+00,  4.5500000e+00,\n",
       "        4.5600000e+00,  4.5700000e+00,  4.5800000e+00,  4.5900000e+00,\n",
       "        4.6000000e+00,  4.6100000e+00,  4.6200000e+00,  4.6300000e+00,\n",
       "        4.6400000e+00,  4.6500000e+00,  4.6600000e+00,  4.6700000e+00,\n",
       "        4.6800000e+00,  4.6900000e+00,  4.7000000e+00,  4.7100000e+00,\n",
       "        4.7200000e+00,  4.7300000e+00,  4.7400000e+00,  4.7500000e+00,\n",
       "        4.7600000e+00,  4.7700000e+00,  4.7800000e+00,  4.7900000e+00,\n",
       "        4.8000000e+00,  4.8100000e+00,  4.8200000e+00,  4.8300000e+00,\n",
       "        4.8400000e+00,  4.8500000e+00,  4.8600000e+00,  4.8700000e+00,\n",
       "        4.8800000e+00,  4.8900000e+00,  4.9000000e+00,  4.9100000e+00,\n",
       "        4.9200000e+00,  4.9300000e+00,  4.9400000e+00,  4.9500000e+00,\n",
       "        4.9600000e+00,  4.9700000e+00,  4.9800000e+00,  4.9900000e+00])"
      ]
     },
     "execution_count": 107,
     "metadata": {},
     "output_type": "execute_result"
    }
   ],
   "source": [
    "points"
   ]
  },
  {
   "cell_type": "code",
   "execution_count": 110,
   "id": "ed873932",
   "metadata": {},
   "outputs": [],
   "source": [
    "xs, ys = np.meshgrid(points, points)"
   ]
  },
  {
   "cell_type": "code",
   "execution_count": 111,
   "id": "c4cc7aff",
   "metadata": {},
   "outputs": [
    {
     "data": {
      "text/plain": [
       "array([[-5.  , -4.99, -4.98, ...,  4.97,  4.98,  4.99],\n",
       "       [-5.  , -4.99, -4.98, ...,  4.97,  4.98,  4.99],\n",
       "       [-5.  , -4.99, -4.98, ...,  4.97,  4.98,  4.99],\n",
       "       ...,\n",
       "       [-5.  , -4.99, -4.98, ...,  4.97,  4.98,  4.99],\n",
       "       [-5.  , -4.99, -4.98, ...,  4.97,  4.98,  4.99],\n",
       "       [-5.  , -4.99, -4.98, ...,  4.97,  4.98,  4.99]])"
      ]
     },
     "execution_count": 111,
     "metadata": {},
     "output_type": "execute_result"
    }
   ],
   "source": [
    "xs"
   ]
  },
  {
   "cell_type": "code",
   "execution_count": 112,
   "id": "dded829a",
   "metadata": {},
   "outputs": [
    {
     "data": {
      "text/plain": [
       "array([[-5.  , -5.  , -5.  , ..., -5.  , -5.  , -5.  ],\n",
       "       [-4.99, -4.99, -4.99, ..., -4.99, -4.99, -4.99],\n",
       "       [-4.98, -4.98, -4.98, ..., -4.98, -4.98, -4.98],\n",
       "       ...,\n",
       "       [ 4.97,  4.97,  4.97, ...,  4.97,  4.97,  4.97],\n",
       "       [ 4.98,  4.98,  4.98, ...,  4.98,  4.98,  4.98],\n",
       "       [ 4.99,  4.99,  4.99, ...,  4.99,  4.99,  4.99]])"
      ]
     },
     "execution_count": 112,
     "metadata": {},
     "output_type": "execute_result"
    }
   ],
   "source": [
    "ys"
   ]
  },
  {
   "cell_type": "code",
   "execution_count": 113,
   "id": "b658eb5c",
   "metadata": {},
   "outputs": [
    {
     "data": {
      "text/plain": [
       "array([[7.07106781, 7.06400028, 7.05693985, ..., 7.04988652, 7.05693985,\n",
       "        7.06400028],\n",
       "       [7.06400028, 7.05692568, 7.04985815, ..., 7.04279774, 7.04985815,\n",
       "        7.05692568],\n",
       "       [7.05693985, 7.04985815, 7.04278354, ..., 7.03571603, 7.04278354,\n",
       "        7.04985815],\n",
       "       ...,\n",
       "       [7.04988652, 7.04279774, 7.03571603, ..., 7.0286414 , 7.03571603,\n",
       "        7.04279774],\n",
       "       [7.05693985, 7.04985815, 7.04278354, ..., 7.03571603, 7.04278354,\n",
       "        7.04985815],\n",
       "       [7.06400028, 7.05692568, 7.04985815, ..., 7.04279774, 7.04985815,\n",
       "        7.05692568]])"
      ]
     },
     "execution_count": 113,
     "metadata": {},
     "output_type": "execute_result"
    }
   ],
   "source": [
    "z = np.sqrt(xs ** 2 + ys ** 2)\n",
    "z"
   ]
  },
  {
   "cell_type": "code",
   "execution_count": 117,
   "id": "c988e277",
   "metadata": {},
   "outputs": [
    {
     "data": {
      "text/plain": [
       "<matplotlib.colorbar.Colorbar at 0x26c4c0f2eb0>"
      ]
     },
     "execution_count": 117,
     "metadata": {},
     "output_type": "execute_result"
    },
    {
     "data": {
      "image/png": "[encoded data removed]",
      "text/plain": [
       "<Figure size 432x288 with 2 Axes>"
      ]
     },
     "metadata": {
      "needs_background": "light"
     },
     "output_type": "display_data"
    }
   ],
   "source": [
    "import matplotlib.pyplot as plt\n",
    "plt.imshow(z, cmap = plt.cm.gray)\n",
    "plt.colorbar()"
   ]
  },
  {
   "cell_type": "markdown",
   "id": "65aa29e4",
   "metadata": {},
   "source": [
    "### 3.1 배열 연산으로 조건절 표현"
   ]
  },
  {
   "cell_type": "code",
   "execution_count": 118,
   "id": "ede2c74f",
   "metadata": {},
   "outputs": [],
   "source": [
    "xarr = np.array([1.1, 1.2, 1.3, 1.4, 1.5])\n",
    "yarr = np.array([2.1, 2.2, 2.3, 2.4, 2.5])"
   ]
  },
  {
   "cell_type": "code",
   "execution_count": 119,
   "id": "568b9299",
   "metadata": {},
   "outputs": [
    {
     "data": {
      "text/plain": [
       "array([1.1, 1.2, 1.3, 1.4, 1.5])"
      ]
     },
     "execution_count": 119,
     "metadata": {},
     "output_type": "execute_result"
    }
   ],
   "source": [
    "xarr"
   ]
  },
  {
   "cell_type": "code",
   "execution_count": 121,
   "id": "04b4d352",
   "metadata": {},
   "outputs": [
    {
     "data": {
      "text/plain": [
       "array([2.1, 2.2, 2.3, 2.4, 2.5])"
      ]
     },
     "execution_count": 121,
     "metadata": {},
     "output_type": "execute_result"
    }
   ],
   "source": [
    "yarr"
   ]
  },
  {
   "cell_type": "code",
   "execution_count": 123,
   "id": "1fa41728",
   "metadata": {},
   "outputs": [],
   "source": [
    "cond = np.array([True, False, True, True, False])"
   ]
  },
  {
   "cell_type": "code",
   "execution_count": 124,
   "id": "6d62d56b",
   "metadata": {},
   "outputs": [
    {
     "data": {
      "text/plain": [
       "array([1.1, 2.2, 1.3, 1.4, 2.5])"
      ]
     },
     "execution_count": 124,
     "metadata": {},
     "output_type": "execute_result"
    }
   ],
   "source": [
    "result = np.where(cond, xarr, yarr)\n",
    "result"
   ]
  },
  {
   "cell_type": "code",
   "execution_count": 125,
   "id": "4418b32a",
   "metadata": {},
   "outputs": [
    {
     "data": {
      "text/plain": [
       "array([[-0.81501703,  1.60786038, -1.87419628, -1.20025748],\n",
       "       [-0.27386015, -0.86182844,  0.28270197,  1.08195425],\n",
       "       [-0.49436903, -0.19900212,  0.82128914, -0.15555827],\n",
       "       [-0.36443583,  1.80081385,  0.14880059,  1.69078699]])"
      ]
     },
     "execution_count": 125,
     "metadata": {},
     "output_type": "execute_result"
    }
   ],
   "source": [
    "arr = np.random.randn(4, 4)\n",
    "arr"
   ]
  },
  {
   "cell_type": "code",
   "execution_count": 126,
   "id": "fd1ddb37",
   "metadata": {},
   "outputs": [
    {
     "data": {
      "text/plain": [
       "array([[False,  True, False, False],\n",
       "       [False, False,  True,  True],\n",
       "       [False, False,  True, False],\n",
       "       [False,  True,  True,  True]])"
      ]
     },
     "execution_count": 126,
     "metadata": {},
     "output_type": "execute_result"
    }
   ],
   "source": [
    "arr > 0"
   ]
  },
  {
   "cell_type": "code",
   "execution_count": 127,
   "id": "1d527c71",
   "metadata": {},
   "outputs": [
    {
     "data": {
      "text/plain": [
       "array([[-0.81501703,  2.        , -1.87419628, -1.20025748],\n",
       "       [-0.27386015, -0.86182844,  2.        ,  2.        ],\n",
       "       [-0.49436903, -0.19900212,  2.        , -0.15555827],\n",
       "       [-0.36443583,  2.        ,  2.        ,  2.        ]])"
      ]
     },
     "execution_count": 127,
     "metadata": {},
     "output_type": "execute_result"
    }
   ],
   "source": [
    "np.where(arr > 0, 2, arr )"
   ]
  },
  {
   "cell_type": "markdown",
   "id": "d6f22156",
   "metadata": {},
   "source": [
    "### 3.2 수학 메서드와 통계 메서드"
   ]
  },
  {
   "cell_type": "code",
   "execution_count": 128,
   "id": "4e31c253",
   "metadata": {},
   "outputs": [
    {
     "data": {
      "text/plain": [
       "array([[-0.66675875,  0.10810828, -0.6903985 , -0.76784892],\n",
       "       [ 0.36548501,  0.68796378,  0.15164639, -0.75742004],\n",
       "       [ 1.69748388, -0.41377966, -0.05350246, -0.32048757],\n",
       "       [-0.49133176,  0.21548898,  0.16259303, -1.94081909],\n",
       "       [ 1.68171052,  0.02750186, -1.22202661, -0.70925139]])"
      ]
     },
     "execution_count": 128,
     "metadata": {},
     "output_type": "execute_result"
    }
   ],
   "source": [
    "arr = np.random.randn(5, 4)\n",
    "arr"
   ]
  },
  {
   "cell_type": "code",
   "execution_count": 129,
   "id": "4b29e320",
   "metadata": {},
   "outputs": [
    {
     "data": {
      "text/plain": [
       "-0.14678215086286922"
      ]
     },
     "execution_count": 129,
     "metadata": {},
     "output_type": "execute_result"
    }
   ],
   "source": [
    "arr.mean()"
   ]
  },
  {
   "cell_type": "code",
   "execution_count": 130,
   "id": "856bac1f",
   "metadata": {},
   "outputs": [
    {
     "data": {
      "text/plain": [
       "-0.14678215086286922"
      ]
     },
     "execution_count": 130,
     "metadata": {},
     "output_type": "execute_result"
    }
   ],
   "source": [
    "np.mean(arr)"
   ]
  },
  {
   "cell_type": "code",
   "execution_count": 131,
   "id": "0fd4cd37",
   "metadata": {},
   "outputs": [
    {
     "data": {
      "text/plain": [
       "-2.9356430172573846"
      ]
     },
     "execution_count": 131,
     "metadata": {},
     "output_type": "execute_result"
    }
   ],
   "source": [
    "arr.sum()"
   ]
  },
  {
   "cell_type": "code",
   "execution_count": 132,
   "id": "d4ab1b79",
   "metadata": {},
   "outputs": [
    {
     "data": {
      "text/plain": [
       "array([-2.01689789,  0.44767514,  0.90971419, -2.05406884, -0.22206562])"
      ]
     },
     "execution_count": 132,
     "metadata": {},
     "output_type": "execute_result"
    }
   ],
   "source": [
    "arr.sum(axis=1)  #1번축(열축)을 따라서 sum 구하기"
   ]
  },
  {
   "cell_type": "code",
   "execution_count": 133,
   "id": "51c468f6",
   "metadata": {},
   "outputs": [
    {
     "data": {
      "text/plain": [
       "array([ 2.58658889,  0.62528325, -1.65168815, -4.49582701])"
      ]
     },
     "execution_count": 133,
     "metadata": {},
     "output_type": "execute_result"
    }
   ],
   "source": [
    "arr.sum(axis=0) #0번축(행축)을 따라서 sum 구하기"
   ]
  },
  {
   "cell_type": "code",
   "execution_count": 134,
   "id": "c72a8207",
   "metadata": {},
   "outputs": [
    {
     "data": {
      "text/plain": [
       "array([-0.50422447,  0.11191878,  0.22742855, -0.51351721, -0.0555164 ])"
      ]
     },
     "execution_count": 134,
     "metadata": {},
     "output_type": "execute_result"
    }
   ],
   "source": [
    "arr.mean(axis=1)  "
   ]
  },
  {
   "cell_type": "code",
   "execution_count": 135,
   "id": "b95f6139",
   "metadata": {},
   "outputs": [
    {
     "data": {
      "text/plain": [
       "array([ 0.51731778,  0.12505665, -0.33033763, -0.8991654 ])"
      ]
     },
     "execution_count": 135,
     "metadata": {},
     "output_type": "execute_result"
    }
   ],
   "source": [
    "arr.mean(axis=0)  "
   ]
  },
  {
   "cell_type": "code",
   "execution_count": 136,
   "id": "e50fba00",
   "metadata": {},
   "outputs": [
    {
     "data": {
      "text/plain": [
       "array([ 0,  1,  3,  6, 10, 15, 21, 28], dtype=int32)"
      ]
     },
     "execution_count": 136,
     "metadata": {},
     "output_type": "execute_result"
    }
   ],
   "source": [
    "arr = np.array([0, 1, 2, 3, 4, 5, 6, 7])\n",
    "arr.cumsum()"
   ]
  },
  {
   "cell_type": "code",
   "execution_count": 137,
   "id": "17bc61ed",
   "metadata": {},
   "outputs": [
    {
     "data": {
      "text/plain": [
       "array([0, 0, 0, 0, 0, 0, 0, 0], dtype=int32)"
      ]
     },
     "execution_count": 137,
     "metadata": {},
     "output_type": "execute_result"
    }
   ],
   "source": [
    "arr.cumprod()"
   ]
  },
  {
   "cell_type": "code",
   "execution_count": 139,
   "id": "b21db29b",
   "metadata": {},
   "outputs": [
    {
     "data": {
      "text/plain": [
       "array([[0, 1, 2],\n",
       "       [3, 4, 5],\n",
       "       [6, 7, 8]])"
      ]
     },
     "execution_count": 139,
     "metadata": {},
     "output_type": "execute_result"
    }
   ],
   "source": [
    "arr = np.array([[0, 1, 2], [3, 4, 5], [6, 7, 8]])\n",
    "arr"
   ]
  },
  {
   "cell_type": "code",
   "execution_count": 140,
   "id": "fe1989bc",
   "metadata": {},
   "outputs": [
    {
     "data": {
      "text/plain": [
       "array([[ 0,  1,  2],\n",
       "       [ 3,  5,  7],\n",
       "       [ 9, 12, 15]], dtype=int32)"
      ]
     },
     "execution_count": 140,
     "metadata": {},
     "output_type": "execute_result"
    }
   ],
   "source": [
    "arr.cumsum(axis= 0)"
   ]
  },
  {
   "cell_type": "code",
   "execution_count": 141,
   "id": "d7b0361a",
   "metadata": {},
   "outputs": [
    {
     "data": {
      "text/plain": [
       "array([[ 0,  1,  3],\n",
       "       [ 3,  7, 12],\n",
       "       [ 6, 13, 21]], dtype=int32)"
      ]
     },
     "execution_count": 141,
     "metadata": {},
     "output_type": "execute_result"
    }
   ],
   "source": [
    "arr.cumsum(axis= 1)"
   ]
  },
  {
   "cell_type": "code",
   "execution_count": 142,
   "id": "8dbd8c53",
   "metadata": {},
   "outputs": [
    {
     "data": {
      "text/plain": [
       "array([[ 0,  1,  2],\n",
       "       [ 0,  4, 10],\n",
       "       [ 0, 28, 80]], dtype=int32)"
      ]
     },
     "execution_count": 142,
     "metadata": {},
     "output_type": "execute_result"
    }
   ],
   "source": [
    "arr.cumprod(axis = 0)"
   ]
  },
  {
   "cell_type": "code",
   "execution_count": 143,
   "id": "ee89b0ca",
   "metadata": {},
   "outputs": [
    {
     "data": {
      "text/plain": [
       "array([[  0,   0,   0],\n",
       "       [  3,  12,  60],\n",
       "       [  6,  42, 336]], dtype=int32)"
      ]
     },
     "execution_count": 143,
     "metadata": {},
     "output_type": "execute_result"
    }
   ],
   "source": [
    "arr.cumprod(axis = 1)"
   ]
  },
  {
   "cell_type": "markdown",
   "id": "61a23623",
   "metadata": {},
   "source": [
    "### 3.3 불리언 배열을 위한 메서드"
   ]
  },
  {
   "cell_type": "code",
   "execution_count": 144,
   "id": "476f1292",
   "metadata": {},
   "outputs": [
    {
     "data": {
      "text/plain": [
       "array([-0.46884034,  1.62507881,  1.76807095, -0.14269982,  1.96091039,\n",
       "       -0.2671209 ,  1.34296396, -0.22926314, -0.66877823, -0.41270579,\n",
       "       -0.5193289 ,  0.57292659,  0.01200239,  0.32776778,  0.80671345,\n",
       "        1.00595682, -0.96212592,  1.06073273, -0.59002386,  0.01535852,\n",
       "        0.72056382, -1.58816486,  0.89315749, -1.25248053,  1.28844458,\n",
       "        0.51758936, -0.07417299,  1.40817205,  0.74356456,  1.23583778,\n",
       "       -0.05383865,  0.77139526,  0.99706284,  1.63552155,  0.71703633,\n",
       "        0.39525549, -1.69473242,  0.69129238, -0.65695153,  0.73423524,\n",
       "        0.37816157, -1.81463351,  1.97223702,  0.60066177, -0.15627683,\n",
       "        0.99556006,  1.15858178, -0.97206407, -0.29540808,  1.21130107,\n",
       "        0.86765625, -1.54832033, -1.92763788,  0.15993134, -0.79967473,\n",
       "        1.44355436,  0.06103037, -0.53255548,  1.52700532, -2.02424368,\n",
       "        0.66083932, -2.11765481, -0.15330737,  1.00620055, -0.34697489,\n",
       "        0.91284982, -0.41049562,  1.07720409,  1.15571624,  0.92966791,\n",
       "        0.14931325, -1.23555113, -0.06900738,  0.89301944, -1.14740483,\n",
       "        0.1372961 , -1.48101574, -0.53970706, -0.35956   , -0.67269693,\n",
       "       -1.33537722, -2.45042482,  2.33771169,  0.74195626, -0.0659526 ,\n",
       "       -1.12819126,  0.61054965,  0.27440719, -0.86395973, -0.74577302,\n",
       "        0.34394109,  1.57505737,  0.10139492, -0.27861352,  0.66081302,\n",
       "       -0.49055731,  1.02592335,  0.89890605, -0.18315714, -2.19248183])"
      ]
     },
     "execution_count": 144,
     "metadata": {},
     "output_type": "execute_result"
    }
   ],
   "source": [
    "arr = np.random.randn(100)\n",
    "arr"
   ]
  },
  {
   "cell_type": "code",
   "execution_count": 146,
   "id": "1e5a01a8",
   "metadata": {},
   "outputs": [
    {
     "data": {
      "text/plain": [
       "55"
      ]
     },
     "execution_count": 146,
     "metadata": {},
     "output_type": "execute_result"
    }
   ],
   "source": [
    "(arr > 0).sum()"
   ]
  },
  {
   "cell_type": "code",
   "execution_count": 147,
   "id": "7f54dcdb",
   "metadata": {},
   "outputs": [],
   "source": [
    "bools = np.array([False, False, True, False])"
   ]
  },
  {
   "cell_type": "code",
   "execution_count": 148,
   "id": "3b225652",
   "metadata": {},
   "outputs": [
    {
     "data": {
      "text/plain": [
       "True"
      ]
     },
     "execution_count": 148,
     "metadata": {},
     "output_type": "execute_result"
    }
   ],
   "source": [
    "bools.any()"
   ]
  },
  {
   "cell_type": "code",
   "execution_count": 149,
   "id": "aa8c6c46",
   "metadata": {},
   "outputs": [
    {
     "data": {
      "text/plain": [
       "False"
      ]
     },
     "execution_count": 149,
     "metadata": {},
     "output_type": "execute_result"
    }
   ],
   "source": [
    "bools.all()"
   ]
  },
  {
   "cell_type": "markdown",
   "id": "624e81cc",
   "metadata": {},
   "source": [
    "### 3.4 정렬"
   ]
  },
  {
   "cell_type": "code",
   "execution_count": 150,
   "id": "cf0296b7",
   "metadata": {},
   "outputs": [
    {
     "data": {
      "text/plain": [
       "array([-1.44449163, -0.15191448,  1.21044562, -0.93331331, -0.31343232,\n",
       "        0.94708047])"
      ]
     },
     "execution_count": 150,
     "metadata": {},
     "output_type": "execute_result"
    }
   ],
   "source": [
    "arr = np.random.randn(6)\n",
    "arr"
   ]
  },
  {
   "cell_type": "code",
   "execution_count": 151,
   "id": "8e192e26",
   "metadata": {},
   "outputs": [
    {
     "data": {
      "text/plain": [
       "array([-1.44449163, -0.93331331, -0.31343232, -0.15191448,  0.94708047,\n",
       "        1.21044562])"
      ]
     },
     "execution_count": 151,
     "metadata": {},
     "output_type": "execute_result"
    }
   ],
   "source": [
    "arr.sort()\n",
    "arr"
   ]
  },
  {
   "cell_type": "code",
   "execution_count": 152,
   "id": "67e4b211",
   "metadata": {},
   "outputs": [
    {
     "data": {
      "text/plain": [
       "array([[ 1.27377316,  1.92286954, -0.99608205],\n",
       "       [ 0.79904876,  0.67547428,  0.76703121],\n",
       "       [ 1.30499638,  1.39922073, -1.36905134],\n",
       "       [-0.67147112, -1.28899666,  0.53070366],\n",
       "       [-0.69658041,  0.40457841,  0.09720921]])"
      ]
     },
     "execution_count": 152,
     "metadata": {},
     "output_type": "execute_result"
    }
   ],
   "source": [
    "arr = np.random.randn(5,3)\n",
    "arr"
   ]
  },
  {
   "cell_type": "code",
   "execution_count": 156,
   "id": "b5e330ee",
   "metadata": {},
   "outputs": [
    {
     "data": {
      "text/plain": [
       "array([[-0.99608205,  1.27377316,  1.92286954],\n",
       "       [ 0.67547428,  0.76703121,  0.79904876],\n",
       "       [-1.36905134,  1.30499638,  1.39922073],\n",
       "       [-1.28899666, -0.67147112,  0.53070366],\n",
       "       [-0.69658041,  0.09720921,  0.40457841]])"
      ]
     },
     "execution_count": 156,
     "metadata": {},
     "output_type": "execute_result"
    }
   ],
   "source": [
    "arr.sort()\n",
    "arr"
   ]
  },
  {
   "cell_type": "code",
   "execution_count": 155,
   "id": "72e56b98",
   "metadata": {},
   "outputs": [
    {
     "data": {
      "text/plain": [
       "array([[-0.99608205,  1.27377316,  1.92286954],\n",
       "       [ 0.67547428,  0.76703121,  0.79904876],\n",
       "       [-1.36905134,  1.30499638,  1.39922073],\n",
       "       [-1.28899666, -0.67147112,  0.53070366],\n",
       "       [-0.69658041,  0.09720921,  0.40457841]])"
      ]
     },
     "execution_count": 155,
     "metadata": {},
     "output_type": "execute_result"
    }
   ],
   "source": [
    "arr.sort(1)\n",
    "arr"
   ]
  },
  {
   "cell_type": "code",
   "execution_count": 157,
   "id": "b1b61d4b",
   "metadata": {},
   "outputs": [],
   "source": [
    "arr.sort(0)\n",
    "arr"
   ]
  },
  {
   "cell_type": "code",
   "execution_count": 163,
   "id": "b8c97131",
   "metadata": {
    "collapsed": true
   },
   "outputs": [
    {
     "data": {
      "text/plain": [
       "array([-2.97529366e+00, -2.95873838e+00, -2.93120974e+00, -2.88187822e+00,\n",
       "       -2.86758080e+00, -2.66983614e+00, -2.62944239e+00, -2.48967520e+00,\n",
       "       -2.44234824e+00, -2.41973346e+00, -2.39312482e+00, -2.38978375e+00,\n",
       "       -2.38265551e+00, -2.30074810e+00, -2.27963090e+00, -2.24900959e+00,\n",
       "       -2.24034423e+00, -2.23243892e+00, -2.18455633e+00, -2.17527769e+00,\n",
       "       -2.17397768e+00, -2.06967737e+00, -2.04427548e+00, -2.01706789e+00,\n",
       "       -2.01663241e+00, -2.00619620e+00, -2.00198579e+00, -1.99186838e+00,\n",
       "       -1.99138299e+00, -1.98146755e+00, -1.97443775e+00, -1.96808085e+00,\n",
       "       -1.95766753e+00, -1.95750397e+00, -1.92070749e+00, -1.90367791e+00,\n",
       "       -1.88740776e+00, -1.88212118e+00, -1.86786560e+00, -1.86195948e+00,\n",
       "       -1.85833011e+00, -1.82963313e+00, -1.79441833e+00, -1.78652929e+00,\n",
       "       -1.77861183e+00, -1.76234015e+00, -1.74791898e+00, -1.70615611e+00,\n",
       "       -1.70488790e+00, -1.70079118e+00, -1.69625362e+00, -1.66596447e+00,\n",
       "       -1.66540701e+00, -1.66390527e+00, -1.65027809e+00, -1.64631628e+00,\n",
       "       -1.64285805e+00, -1.63507003e+00, -1.61026209e+00, -1.59694104e+00,\n",
       "       -1.58612134e+00, -1.58550502e+00, -1.58083244e+00, -1.57929167e+00,\n",
       "       -1.55992466e+00, -1.55300221e+00, -1.54629764e+00, -1.54256183e+00,\n",
       "       -1.54147182e+00, -1.53809363e+00, -1.53400988e+00, -1.52454745e+00,\n",
       "       -1.51415897e+00, -1.51353835e+00, -1.50347203e+00, -1.49386838e+00,\n",
       "       -1.48991919e+00, -1.47404978e+00, -1.46124752e+00, -1.43761554e+00,\n",
       "       -1.43398508e+00, -1.43397313e+00, -1.42580363e+00, -1.42046137e+00,\n",
       "       -1.41849678e+00, -1.40611032e+00, -1.40598296e+00, -1.39970590e+00,\n",
       "       -1.37114832e+00, -1.36969951e+00, -1.36956829e+00, -1.36219517e+00,\n",
       "       -1.35659265e+00, -1.35648369e+00, -1.35238491e+00, -1.33884319e+00,\n",
       "       -1.33729530e+00, -1.33218505e+00, -1.32375910e+00, -1.32261945e+00,\n",
       "       -1.31312257e+00, -1.30817222e+00, -1.30654429e+00, -1.30544399e+00,\n",
       "       -1.30324658e+00, -1.29652617e+00, -1.28776363e+00, -1.28600213e+00,\n",
       "       -1.28099430e+00, -1.27922416e+00, -1.27270620e+00, -1.26985621e+00,\n",
       "       -1.26704378e+00, -1.26604546e+00, -1.26023635e+00, -1.24254244e+00,\n",
       "       -1.23668374e+00, -1.23558880e+00, -1.23328875e+00, -1.22787134e+00,\n",
       "       -1.21428551e+00, -1.21062008e+00, -1.20731740e+00, -1.20271933e+00,\n",
       "       -1.19918542e+00, -1.19877724e+00, -1.19766574e+00, -1.19563406e+00,\n",
       "       -1.19045631e+00, -1.18078347e+00, -1.17782477e+00, -1.17535248e+00,\n",
       "       -1.15835139e+00, -1.15207298e+00, -1.14515465e+00, -1.14412858e+00,\n",
       "       -1.14369036e+00, -1.13969997e+00, -1.13237663e+00, -1.12314828e+00,\n",
       "       -1.11152327e+00, -1.10797696e+00, -1.10370931e+00, -1.10077185e+00,\n",
       "       -1.09277884e+00, -1.08067001e+00, -1.08021302e+00, -1.07882432e+00,\n",
       "       -1.07305809e+00, -1.07158367e+00, -1.07036483e+00, -1.06377778e+00,\n",
       "       -1.05528305e+00, -1.05441587e+00, -1.04742544e+00, -1.04107857e+00,\n",
       "       -1.03977380e+00, -1.03787061e+00, -1.03342652e+00, -1.03191230e+00,\n",
       "       -1.02683520e+00, -1.02399936e+00, -1.01790323e+00, -1.01494293e+00,\n",
       "       -9.94911591e-01, -9.94019906e-01, -9.84323347e-01, -9.80232130e-01,\n",
       "       -9.73893883e-01, -9.62592489e-01, -9.60628907e-01, -9.60507316e-01,\n",
       "       -9.46710347e-01, -9.17815214e-01, -9.17483232e-01, -9.17317923e-01,\n",
       "       -9.10763150e-01, -9.09876796e-01, -9.00833743e-01, -8.96048466e-01,\n",
       "       -8.84916280e-01, -8.83876983e-01, -8.78463253e-01, -8.57770275e-01,\n",
       "       -8.56161562e-01, -8.54630687e-01, -8.54223196e-01, -8.53697910e-01,\n",
       "       -8.50310840e-01, -8.47589779e-01, -8.43230337e-01, -8.43129935e-01,\n",
       "       -8.34418978e-01, -8.34035056e-01, -8.32610003e-01, -8.28485853e-01,\n",
       "       -8.25393299e-01, -8.22202037e-01, -8.20361658e-01, -8.18099519e-01,\n",
       "       -8.17704194e-01, -8.14522306e-01, -8.12310059e-01, -8.12260156e-01,\n",
       "       -8.10759657e-01, -8.06027650e-01, -8.02879152e-01, -7.96762045e-01,\n",
       "       -7.94282754e-01, -7.87437379e-01, -7.80066313e-01, -7.79851435e-01,\n",
       "       -7.79687274e-01, -7.75334694e-01, -7.69082365e-01, -7.62211107e-01,\n",
       "       -7.61045086e-01, -7.59731718e-01, -7.57284818e-01, -7.55982852e-01,\n",
       "       -7.53120284e-01, -7.49875390e-01, -7.48307245e-01, -7.37221005e-01,\n",
       "       -7.33018706e-01, -7.30573653e-01, -7.22277966e-01, -7.18743512e-01,\n",
       "       -7.15040091e-01, -7.11046140e-01, -7.10818339e-01, -7.09390531e-01,\n",
       "       -7.03816424e-01, -6.98423430e-01, -6.83098423e-01, -6.81607478e-01,\n",
       "       -6.77967406e-01, -6.77066147e-01, -6.76766429e-01, -6.74500879e-01,\n",
       "       -6.73371892e-01, -6.66603185e-01, -6.65976873e-01, -6.65491601e-01,\n",
       "       -6.65260416e-01, -6.61699421e-01, -6.60852174e-01, -6.58723391e-01,\n",
       "       -6.56712851e-01, -6.53380645e-01, -6.53373745e-01, -6.52584324e-01,\n",
       "       -6.44861178e-01, -6.43087527e-01, -6.42254972e-01, -6.40377661e-01,\n",
       "       -6.40339525e-01, -6.40063672e-01, -6.38981297e-01, -6.36620710e-01,\n",
       "       -6.34265583e-01, -6.32355989e-01, -6.31927192e-01, -6.31872964e-01,\n",
       "       -6.29457811e-01, -6.26085612e-01, -6.23716672e-01, -6.19023118e-01,\n",
       "       -6.18257193e-01, -6.17966887e-01, -6.16353573e-01, -6.15582691e-01,\n",
       "       -6.02987078e-01, -5.98628678e-01, -5.93261327e-01, -5.91253823e-01,\n",
       "       -5.86375994e-01, -5.74218902e-01, -5.70944146e-01, -5.70894957e-01,\n",
       "       -5.70157857e-01, -5.65214236e-01, -5.64734083e-01, -5.61975752e-01,\n",
       "       -5.59242702e-01, -5.58906911e-01, -5.56831615e-01, -5.55822959e-01,\n",
       "       -5.52280612e-01, -5.50296668e-01, -5.48737079e-01, -5.48423762e-01,\n",
       "       -5.44483885e-01, -5.40577637e-01, -5.39546161e-01, -5.38489079e-01,\n",
       "       -5.34609877e-01, -5.22445438e-01, -5.21538096e-01, -5.18804532e-01,\n",
       "       -5.15024230e-01, -5.09681381e-01, -5.06681761e-01, -5.02699387e-01,\n",
       "       -5.01091464e-01, -4.97703183e-01, -4.96870899e-01, -4.95718248e-01,\n",
       "       -4.95155883e-01, -4.93275919e-01, -4.89873321e-01, -4.88487958e-01,\n",
       "       -4.87559920e-01, -4.83965276e-01, -4.79671430e-01, -4.66866368e-01,\n",
       "       -4.62375630e-01, -4.62151719e-01, -4.61639445e-01, -4.60330683e-01,\n",
       "       -4.58709733e-01, -4.58149992e-01, -4.56554373e-01, -4.50647106e-01,\n",
       "       -4.46253394e-01, -4.45441740e-01, -4.38449536e-01, -4.37435384e-01,\n",
       "       -4.32863414e-01, -4.29175899e-01, -4.29038128e-01, -4.27342457e-01,\n",
       "       -4.26019843e-01, -4.20958649e-01, -4.11058682e-01, -4.09205508e-01,\n",
       "       -4.09172479e-01, -4.08889793e-01, -4.07851695e-01, -4.07329485e-01,\n",
       "       -4.05166027e-01, -4.04724226e-01, -4.02340796e-01, -4.02022726e-01,\n",
       "       -4.00745548e-01, -3.94034020e-01, -3.93237923e-01, -3.92121549e-01,\n",
       "       -3.89308615e-01, -3.84151111e-01, -3.83724962e-01, -3.81497075e-01,\n",
       "       -3.78060050e-01, -3.77336357e-01, -3.76826250e-01, -3.74930311e-01,\n",
       "       -3.72941634e-01, -3.72146203e-01, -3.67818104e-01, -3.65218551e-01,\n",
       "       -3.62025098e-01, -3.57240774e-01, -3.55244413e-01, -3.49106308e-01,\n",
       "       -3.46412730e-01, -3.40108009e-01, -3.39927968e-01, -3.38141481e-01,\n",
       "       -3.38079445e-01, -3.34105262e-01, -3.33103729e-01, -3.32866943e-01,\n",
       "       -3.32560746e-01, -3.29660407e-01, -3.24019159e-01, -3.21964907e-01,\n",
       "       -3.19325652e-01, -3.03400133e-01, -3.03341702e-01, -2.97161224e-01,\n",
       "       -2.96854210e-01, -2.91333083e-01, -2.83350523e-01, -2.82802000e-01,\n",
       "       -2.82500883e-01, -2.81982494e-01, -2.80371555e-01, -2.80287413e-01,\n",
       "       -2.79364830e-01, -2.78648992e-01, -2.77805473e-01, -2.77801021e-01,\n",
       "       -2.72690313e-01, -2.72544043e-01, -2.71747266e-01, -2.66216074e-01,\n",
       "       -2.57298066e-01, -2.53560106e-01, -2.52718269e-01, -2.51609290e-01,\n",
       "       -2.47484220e-01, -2.41508225e-01, -2.37939273e-01, -2.35715846e-01,\n",
       "       -2.33651337e-01, -2.33247181e-01, -2.32189717e-01, -2.27097905e-01,\n",
       "       -2.26283057e-01, -2.26217360e-01, -2.24490787e-01, -2.21747354e-01,\n",
       "       -2.21311758e-01, -2.20032535e-01, -2.19862033e-01, -2.16130714e-01,\n",
       "       -2.15503007e-01, -2.14946998e-01, -2.14668243e-01, -2.09496124e-01,\n",
       "       -2.07533338e-01, -2.07424036e-01, -2.07394833e-01, -2.07019838e-01,\n",
       "       -2.04534715e-01, -2.02482769e-01, -1.97570970e-01, -1.94302639e-01,\n",
       "       -1.93186343e-01, -1.88999965e-01, -1.85369397e-01, -1.85219833e-01,\n",
       "       -1.81326504e-01, -1.75266674e-01, -1.72392782e-01, -1.71026391e-01,\n",
       "       -1.70958332e-01, -1.69583960e-01, -1.65181752e-01, -1.60482120e-01,\n",
       "       -1.54886435e-01, -1.36429735e-01, -1.36307202e-01, -1.34376382e-01,\n",
       "       -1.32372574e-01, -1.30231279e-01, -1.29912159e-01, -1.26719569e-01,\n",
       "       -1.25441267e-01, -1.23236248e-01, -1.21455530e-01, -1.18836110e-01,\n",
       "       -1.15702575e-01, -1.12870149e-01, -1.12768181e-01, -1.08884320e-01,\n",
       "       -9.66753754e-02, -9.42991957e-02, -8.62725788e-02, -8.54934883e-02,\n",
       "       -8.36224429e-02, -8.14813844e-02, -7.80191518e-02, -7.61425008e-02,\n",
       "       -7.52385060e-02, -7.39147322e-02, -7.32537032e-02, -7.24424172e-02,\n",
       "       -7.23907437e-02, -7.04785806e-02, -6.72878667e-02, -6.49688049e-02,\n",
       "       -6.39797037e-02, -6.33475217e-02, -5.86200439e-02, -5.62030002e-02,\n",
       "       -5.37042192e-02, -5.29256864e-02, -5.25529022e-02, -5.19493576e-02,\n",
       "       -4.51039543e-02, -4.24918392e-02, -4.01081566e-02, -3.81635546e-02,\n",
       "       -3.57717482e-02, -3.21959029e-02, -2.90200153e-02, -2.79056595e-02,\n",
       "       -2.53041696e-02, -2.43823573e-02, -2.36344483e-02, -2.30760615e-02,\n",
       "       -1.75222742e-02, -1.34029941e-02, -1.22600971e-02, -8.15397468e-03,\n",
       "       -8.00595772e-03, -7.96273360e-03, -6.62433074e-03, -5.36471082e-03,\n",
       "       -4.95577536e-03, -4.67633131e-03, -1.37795766e-03,  1.29917073e-03,\n",
       "        3.46617829e-03,  4.72923738e-03,  7.93847609e-03,  9.28722746e-03,\n",
       "        9.66184248e-03,  1.28356092e-02,  1.55227744e-02,  1.70355808e-02,\n",
       "        1.83396407e-02,  1.88785283e-02,  2.26607386e-02,  2.85370618e-02,\n",
       "        3.18248304e-02,  3.27359154e-02,  3.35119859e-02,  3.37225109e-02,\n",
       "        3.37806072e-02,  4.58145118e-02,  4.83293866e-02,  5.56372776e-02,\n",
       "        5.82089121e-02,  5.99827190e-02,  6.03091422e-02,  6.08095428e-02,\n",
       "        6.19494425e-02,  7.10472993e-02,  7.38973925e-02,  7.45630215e-02,\n",
       "        7.77968247e-02,  8.08502949e-02,  8.51826487e-02,  8.91403714e-02,\n",
       "        9.01486817e-02,  9.41435582e-02,  9.46026824e-02,  9.77289982e-02,\n",
       "        9.82470660e-02,  1.01320081e-01,  1.01939101e-01,  1.06887536e-01,\n",
       "        1.09641612e-01,  1.10151331e-01,  1.12139192e-01,  1.14763997e-01,\n",
       "        1.16721222e-01,  1.23833327e-01,  1.30603622e-01,  1.35745870e-01,\n",
       "        1.36836375e-01,  1.40716704e-01,  1.46299207e-01,  1.47267337e-01,\n",
       "        1.49226185e-01,  1.49980268e-01,  1.51011929e-01,  1.51502745e-01,\n",
       "        1.52713512e-01,  1.54703669e-01,  1.57174204e-01,  1.58173156e-01,\n",
       "        1.59440741e-01,  1.59830333e-01,  1.64912409e-01,  1.66651576e-01,\n",
       "        1.70560420e-01,  1.79874912e-01,  1.83382744e-01,  1.84555650e-01,\n",
       "        1.84856643e-01,  1.87608852e-01,  1.88099422e-01,  1.88121273e-01,\n",
       "        1.88643099e-01,  1.88842952e-01,  1.88867348e-01,  1.90086891e-01,\n",
       "        1.93366127e-01,  1.94618871e-01,  1.95587205e-01,  1.97889857e-01,\n",
       "        1.99081861e-01,  1.99841273e-01,  2.03245974e-01,  2.07546369e-01,\n",
       "        2.09503671e-01,  2.10373882e-01,  2.15612947e-01,  2.15738127e-01,\n",
       "        2.16482763e-01,  2.22733733e-01,  2.22777217e-01,  2.31311471e-01,\n",
       "        2.32884043e-01,  2.37637765e-01,  2.41329592e-01,  2.45073358e-01,\n",
       "        2.47725743e-01,  2.49176962e-01,  2.57924262e-01,  2.58036045e-01,\n",
       "        2.59998943e-01,  2.60363607e-01,  2.60536616e-01,  2.62740996e-01,\n",
       "        2.64629640e-01,  2.65364320e-01,  2.65611237e-01,  2.68470803e-01,\n",
       "        2.70188146e-01,  2.71552699e-01,  2.79706203e-01,  2.89838976e-01,\n",
       "        2.90530891e-01,  2.90992036e-01,  2.91761945e-01,  2.92616325e-01,\n",
       "        2.92880750e-01,  3.09563969e-01,  3.11384017e-01,  3.11676669e-01,\n",
       "        3.11692813e-01,  3.11717812e-01,  3.12506147e-01,  3.14906084e-01,\n",
       "        3.19248448e-01,  3.19584072e-01,  3.19956301e-01,  3.20420205e-01,\n",
       "        3.24381988e-01,  3.24547789e-01,  3.25631517e-01,  3.26453677e-01,\n",
       "        3.27243954e-01,  3.28172360e-01,  3.28888630e-01,  3.32802332e-01,\n",
       "        3.38848359e-01,  3.39314157e-01,  3.41959385e-01,  3.47977312e-01,\n",
       "        3.48770054e-01,  3.49881048e-01,  3.50662883e-01,  3.65011106e-01,\n",
       "        3.67653425e-01,  3.69018738e-01,  3.69406601e-01,  3.70331436e-01,\n",
       "        3.73871211e-01,  3.74581332e-01,  3.80945237e-01,  3.82932357e-01,\n",
       "        3.85514506e-01,  3.92776966e-01,  3.95061699e-01,  3.97708188e-01,\n",
       "        4.03323793e-01,  4.05672017e-01,  4.08793674e-01,  4.12328797e-01,\n",
       "        4.19237957e-01,  4.19319645e-01,  4.24783787e-01,  4.25210642e-01,\n",
       "        4.33948385e-01,  4.36512362e-01,  4.39324423e-01,  4.41397025e-01,\n",
       "        4.47371660e-01,  4.49896282e-01,  4.50959038e-01,  4.52026975e-01,\n",
       "        4.55190643e-01,  4.55686117e-01,  4.61300876e-01,  4.62887155e-01,\n",
       "        4.66585058e-01,  4.70898510e-01,  4.71098243e-01,  4.79445479e-01,\n",
       "        4.80297789e-01,  4.80356327e-01,  4.84187682e-01,  4.86018269e-01,\n",
       "        4.88330413e-01,  4.90343640e-01,  4.90583596e-01,  4.91593581e-01,\n",
       "        4.96588633e-01,  5.02287512e-01,  5.04434117e-01,  5.05109041e-01,\n",
       "        5.06494783e-01,  5.06662087e-01,  5.07011977e-01,  5.17433704e-01,\n",
       "        5.20491641e-01,  5.21948445e-01,  5.22245245e-01,  5.22907941e-01,\n",
       "        5.29441639e-01,  5.30517638e-01,  5.33586687e-01,  5.34290436e-01,\n",
       "        5.36157242e-01,  5.39357215e-01,  5.39799774e-01,  5.43086529e-01,\n",
       "        5.56849722e-01,  5.60877534e-01,  5.63144420e-01,  5.63200711e-01,\n",
       "        5.65556937e-01,  5.69466103e-01,  5.69974194e-01,  5.72696477e-01,\n",
       "        5.77734820e-01,  5.78392368e-01,  5.82736543e-01,  5.83860747e-01,\n",
       "        5.86170653e-01,  5.86359837e-01,  5.89039107e-01,  5.90551390e-01,\n",
       "        5.92014327e-01,  5.92932428e-01,  5.96032041e-01,  5.98201874e-01,\n",
       "        5.99748478e-01,  6.07727881e-01,  6.08887228e-01,  6.10791395e-01,\n",
       "        6.15501449e-01,  6.21512713e-01,  6.25242157e-01,  6.26449964e-01,\n",
       "        6.27933248e-01,  6.28767751e-01,  6.30800879e-01,  6.34073605e-01,\n",
       "        6.37033723e-01,  6.38656632e-01,  6.38998968e-01,  6.51178637e-01,\n",
       "        6.57922358e-01,  6.66369815e-01,  6.67366581e-01,  6.76404082e-01,\n",
       "        6.78724343e-01,  6.83057756e-01,  6.84992860e-01,  6.86289099e-01,\n",
       "        6.90650896e-01,  6.93174633e-01,  6.96572323e-01,  7.06412190e-01,\n",
       "        7.09730043e-01,  7.10140268e-01,  7.14721426e-01,  7.17649766e-01,\n",
       "        7.23410205e-01,  7.24062755e-01,  7.25402900e-01,  7.26124470e-01,\n",
       "        7.27535416e-01,  7.34298240e-01,  7.36244399e-01,  7.44176032e-01,\n",
       "        7.52023433e-01,  7.52674338e-01,  7.54698574e-01,  7.55417921e-01,\n",
       "        7.62893975e-01,  7.66222511e-01,  7.70434497e-01,  7.79807579e-01,\n",
       "        7.83812550e-01,  7.92754699e-01,  8.06107527e-01,  8.08848793e-01,\n",
       "        8.11374394e-01,  8.15130963e-01,  8.20382522e-01,  8.22733918e-01,\n",
       "        8.23408177e-01,  8.29468559e-01,  8.39396478e-01,  8.40267548e-01,\n",
       "        8.42233133e-01,  8.47433282e-01,  8.48012883e-01,  8.52586790e-01,\n",
       "        8.54721600e-01,  8.55285276e-01,  8.62146611e-01,  8.63669542e-01,\n",
       "        8.65097467e-01,  8.75834267e-01,  8.75981588e-01,  8.83030577e-01,\n",
       "        8.85108594e-01,  8.86229533e-01,  8.86623547e-01,  8.88014607e-01,\n",
       "        8.89745763e-01,  8.91407876e-01,  8.96856006e-01,  9.00526295e-01,\n",
       "        9.02233055e-01,  9.03758974e-01,  9.04422232e-01,  9.06098691e-01,\n",
       "        9.07233388e-01,  9.07449503e-01,  9.07985891e-01,  9.14616084e-01,\n",
       "        9.18465104e-01,  9.20312698e-01,  9.20633100e-01,  9.23116032e-01,\n",
       "        9.28997969e-01,  9.29922414e-01,  9.37949973e-01,  9.39244059e-01,\n",
       "        9.43889063e-01,  9.43914663e-01,  9.45715166e-01,  9.54002140e-01,\n",
       "        9.56336246e-01,  9.59940460e-01,  9.63195850e-01,  9.65235108e-01,\n",
       "        9.71764711e-01,  9.75974845e-01,  9.84823075e-01,  9.89622426e-01,\n",
       "        9.91114794e-01,  9.92764681e-01,  1.00135282e+00,  1.00175735e+00,\n",
       "        1.00561345e+00,  1.00602100e+00,  1.00912024e+00,  1.01884641e+00,\n",
       "        1.01950258e+00,  1.02237085e+00,  1.02260632e+00,  1.02277537e+00,\n",
       "        1.03530803e+00,  1.03996953e+00,  1.04672477e+00,  1.04724219e+00,\n",
       "        1.05222581e+00,  1.05236224e+00,  1.06395412e+00,  1.06521499e+00,\n",
       "        1.06609044e+00,  1.07284031e+00,  1.07561273e+00,  1.08013594e+00,\n",
       "        1.10348249e+00,  1.10684320e+00,  1.11568539e+00,  1.11812405e+00,\n",
       "        1.11860606e+00,  1.11927884e+00,  1.12170778e+00,  1.12233705e+00,\n",
       "        1.15085213e+00,  1.15173928e+00,  1.16705735e+00,  1.17126899e+00,\n",
       "        1.17646942e+00,  1.17880938e+00,  1.17948515e+00,  1.18079793e+00,\n",
       "        1.18264111e+00,  1.20333762e+00,  1.21135623e+00,  1.21206404e+00,\n",
       "        1.21230551e+00,  1.21591302e+00,  1.21759123e+00,  1.21933737e+00,\n",
       "        1.21934692e+00,  1.22432420e+00,  1.22823543e+00,  1.22941459e+00,\n",
       "        1.23890354e+00,  1.24342530e+00,  1.24531081e+00,  1.24828004e+00,\n",
       "        1.25104636e+00,  1.25575857e+00,  1.25987317e+00,  1.26148965e+00,\n",
       "        1.26296957e+00,  1.26743628e+00,  1.27256982e+00,  1.27789306e+00,\n",
       "        1.27903135e+00,  1.28168800e+00,  1.28883411e+00,  1.29365029e+00,\n",
       "        1.30080617e+00,  1.30081270e+00,  1.30143635e+00,  1.30862808e+00,\n",
       "        1.31594495e+00,  1.31724400e+00,  1.32749357e+00,  1.33352281e+00,\n",
       "        1.33532223e+00,  1.33535133e+00,  1.34075153e+00,  1.34084485e+00,\n",
       "        1.34556700e+00,  1.34696677e+00,  1.34711921e+00,  1.37196850e+00,\n",
       "        1.37218663e+00,  1.37303480e+00,  1.37390895e+00,  1.38805954e+00,\n",
       "        1.38954530e+00,  1.38987340e+00,  1.40381691e+00,  1.40466675e+00,\n",
       "        1.40585999e+00,  1.40714478e+00,  1.40809978e+00,  1.41111994e+00,\n",
       "        1.42088322e+00,  1.43618099e+00,  1.44169950e+00,  1.44744067e+00,\n",
       "        1.46513356e+00,  1.46533397e+00,  1.46946970e+00,  1.47272433e+00,\n",
       "        1.47424968e+00,  1.48203457e+00,  1.49854886e+00,  1.50180608e+00,\n",
       "        1.51421083e+00,  1.54340133e+00,  1.54868893e+00,  1.55326937e+00,\n",
       "        1.55452438e+00,  1.55745486e+00,  1.56479765e+00,  1.57665459e+00,\n",
       "        1.58598945e+00,  1.60569573e+00,  1.60908972e+00,  1.60982928e+00,\n",
       "        1.61367291e+00,  1.61882663e+00,  1.62151568e+00,  1.63338950e+00,\n",
       "        1.64283824e+00,  1.68400195e+00,  1.70610213e+00,  1.72111500e+00,\n",
       "        1.72651657e+00,  1.73324672e+00,  1.74490068e+00,  1.75151394e+00,\n",
       "        1.77323622e+00,  1.78003463e+00,  1.78137744e+00,  1.78602037e+00,\n",
       "        1.79702612e+00,  1.83120090e+00,  1.84828300e+00,  1.85956283e+00,\n",
       "        1.88645653e+00,  1.89457325e+00,  1.90741330e+00,  1.93146123e+00,\n",
       "        1.96221407e+00,  2.03534306e+00,  2.10615307e+00,  2.13957625e+00,\n",
       "        2.14627207e+00,  2.15446051e+00,  2.15657529e+00,  2.26584614e+00,\n",
       "        2.30098613e+00,  2.33037053e+00,  2.40080488e+00,  2.48228458e+00,\n",
       "        2.81369690e+00,  2.85793170e+00,  2.85906205e+00,  2.87369336e+00])"
      ]
     },
     "execution_count": 163,
     "metadata": {},
     "output_type": "execute_result"
    }
   ],
   "source": [
    "large_arr = np.random.randn(1000)\n",
    "large_arr.sort()\n",
    "large_arr"
   ]
  },
  {
   "cell_type": "code",
   "execution_count": 161,
   "id": "5c2605f6",
   "metadata": {},
   "outputs": [
    {
     "data": {
      "text/plain": [
       "50"
      ]
     },
     "execution_count": 161,
     "metadata": {},
     "output_type": "execute_result"
    }
   ],
   "source": [
    "int(0.05 * len(large_arr))"
   ]
  },
  {
   "cell_type": "code",
   "execution_count": 162,
   "id": "b6a2e937",
   "metadata": {},
   "outputs": [
    {
     "data": {
      "text/plain": [
       "-1.5147329558597866"
      ]
     },
     "execution_count": 162,
     "metadata": {},
     "output_type": "execute_result"
    }
   ],
   "source": [
    "large_arr[int(0.05 * len(large_arr))]"
   ]
  },
  {
   "cell_type": "code",
   "execution_count": 164,
   "id": "d854e51a",
   "metadata": {},
   "outputs": [
    {
     "data": {
      "text/plain": [
       "array([[-0.58820804, -0.03472732,  0.19840234],\n",
       "       [-0.41148513,  0.31003393, -0.17754755],\n",
       "       [-1.32276941, -0.24247015, -1.3642245 ],\n",
       "       [ 1.26267185,  1.02012851, -0.01599183],\n",
       "       [-0.11227284, -1.32563915,  0.26697182]])"
      ]
     },
     "execution_count": 164,
     "metadata": {},
     "output_type": "execute_result"
    }
   ],
   "source": [
    "arr = np.random.randn(5, 3)\n",
    "arr"
   ]
  },
  {
   "cell_type": "code",
   "execution_count": 165,
   "id": "64fc070c",
   "metadata": {},
   "outputs": [
    {
     "data": {
      "text/plain": [
       "array([[-0.58820804, -0.03472732,  0.19840234],\n",
       "       [-0.41148513, -0.17754755,  0.31003393],\n",
       "       [-1.3642245 , -1.32276941, -0.24247015],\n",
       "       [-0.01599183,  1.02012851,  1.26267185],\n",
       "       [-1.32563915, -0.11227284,  0.26697182]])"
      ]
     },
     "execution_count": 165,
     "metadata": {},
     "output_type": "execute_result"
    }
   ],
   "source": [
    "r = np.sort(arr, 1)\n",
    "r"
   ]
  },
  {
   "cell_type": "code",
   "execution_count": 166,
   "id": "4cea6188",
   "metadata": {},
   "outputs": [
    {
     "data": {
      "text/plain": [
       "array([[-0.58820804, -0.03472732,  0.19840234],\n",
       "       [-0.41148513,  0.31003393, -0.17754755],\n",
       "       [-1.32276941, -0.24247015, -1.3642245 ],\n",
       "       [ 1.26267185,  1.02012851, -0.01599183],\n",
       "       [-0.11227284, -1.32563915,  0.26697182]])"
      ]
     },
     "execution_count": 166,
     "metadata": {},
     "output_type": "execute_result"
    }
   ],
   "source": [
    "arr"
   ]
  },
  {
   "cell_type": "markdown",
   "id": "6b56532a",
   "metadata": {},
   "source": [
    "### 3.5 집합 관련 함수"
   ]
  },
  {
   "cell_type": "code",
   "execution_count": 168,
   "id": "9b79b1ee",
   "metadata": {},
   "outputs": [
    {
     "data": {
      "text/plain": [
       "array(['Bob', 'Joe', 'Will'], dtype='<U4')"
      ]
     },
     "execution_count": 168,
     "metadata": {},
     "output_type": "execute_result"
    }
   ],
   "source": [
    "names = np.array(['Bob', 'Joe', 'Will', 'Bob', 'Will', 'Joe', 'Joe'])\n",
    "np.unique(names)"
   ]
  },
  {
   "cell_type": "code",
   "execution_count": 169,
   "id": "8ac14f3d",
   "metadata": {},
   "outputs": [
    {
     "data": {
      "text/plain": [
       "array([1, 2, 3, 4])"
      ]
     },
     "execution_count": 169,
     "metadata": {},
     "output_type": "execute_result"
    }
   ],
   "source": [
    "ints = np.array([3, 3, 3, 2, 2, 1, 1, 4, 4])\n",
    "np.unique(ints)"
   ]
  },
  {
   "cell_type": "code",
   "execution_count": 176,
   "id": "d85f9688",
   "metadata": {},
   "outputs": [
    {
     "data": {
      "text/plain": [
       "['Bob', 'Joe', 'Will']"
      ]
     },
     "execution_count": 176,
     "metadata": {},
     "output_type": "execute_result"
    }
   ],
   "source": [
    "sorted(set(names))"
   ]
  },
  {
   "cell_type": "code",
   "execution_count": 177,
   "id": "1e8e9fb0",
   "metadata": {},
   "outputs": [
    {
     "data": {
      "text/plain": [
       "array([ True, False, False,  True,  True, False,  True])"
      ]
     },
     "execution_count": 177,
     "metadata": {},
     "output_type": "execute_result"
    }
   ],
   "source": [
    "values = np.array([6, 0, 0, 3, 2, 5, 6])\n",
    "np.in1d(values, [2, 3, 6])"
   ]
  },
  {
   "cell_type": "markdown",
   "id": "881d2c48",
   "metadata": {},
   "source": [
    "## 4. 배열 데이터의 파일 입출력"
   ]
  },
  {
   "cell_type": "code",
   "execution_count": 178,
   "id": "92a61b8f",
   "metadata": {},
   "outputs": [],
   "source": [
    "arr = np.arange(10)\n",
    "np.save('some_array', arr)"
   ]
  },
  {
   "cell_type": "code",
   "execution_count": 179,
   "id": "78ee7414",
   "metadata": {},
   "outputs": [
    {
     "data": {
      "text/plain": [
       "array([0, 1, 2, 3, 4, 5, 6, 7, 8, 9])"
      ]
     },
     "execution_count": 179,
     "metadata": {},
     "output_type": "execute_result"
    }
   ],
   "source": [
    "np.load('some_array.npy')"
   ]
  },
  {
   "cell_type": "code",
   "execution_count": 180,
   "id": "eacb0f24",
   "metadata": {},
   "outputs": [],
   "source": [
    "np.savez('array_archive.npz', a=arr, b=arr)"
   ]
  },
  {
   "cell_type": "code",
   "execution_count": 181,
   "id": "4fc65973",
   "metadata": {},
   "outputs": [
    {
     "name": "stdout",
     "output_type": "stream",
     "text": [
      " C 드라이브의 볼륨에는 이름이 없습니다.\n",
      " 볼륨 일련 번호: 2412-9398\n",
      "\n",
      " C:\\Users\\Playdata\\Documents\\Data Analysis\\workshop 디렉터리\n",
      "\n",
      "2021-07-22  오후 02:29    <DIR>          .\n",
      "2021-07-22  오후 02:29    <DIR>          ..\n",
      "2021-07-22  오전 11:22    <DIR>          .ipynb_checkpoints\n",
      "2021-07-22  오후 02:29               570 array_archive.npz\n",
      "2021-07-22  오전 11:20           679,903 Numpy(day 1).ipynb\n",
      "2021-07-22  오후 02:28           129,107 Numpy(day 2).ipynb\n",
      "2019-12-20  오전 10:02           182,704 psj.png\n",
      "2021-07-22  오후 02:27               168 some_array.npy\n",
      "2021-07-22  오전 11:32             3,703 Untitled.ipynb\n",
      "               6개 파일             996,155 바이트\n",
      "               3개 디렉터리  179,787,317,248 바이트 남음\n"
     ]
    }
   ],
   "source": [
    "!dir"
   ]
  },
  {
   "cell_type": "code",
   "execution_count": 182,
   "id": "7f62ea4e",
   "metadata": {},
   "outputs": [],
   "source": [
    "arch = np.load('array_archive.npz')"
   ]
  },
  {
   "cell_type": "code",
   "execution_count": 183,
   "id": "ba958e67",
   "metadata": {},
   "outputs": [
    {
     "data": {
      "text/plain": [
       "array([0, 1, 2, 3, 4, 5, 6, 7, 8, 9])"
      ]
     },
     "execution_count": 183,
     "metadata": {},
     "output_type": "execute_result"
    }
   ],
   "source": [
    "arch['a']"
   ]
  },
  {
   "cell_type": "code",
   "execution_count": 184,
   "id": "c32212ff",
   "metadata": {},
   "outputs": [
    {
     "data": {
      "text/plain": [
       "array([0, 1, 2, 3, 4, 5, 6, 7, 8, 9])"
      ]
     },
     "execution_count": 184,
     "metadata": {},
     "output_type": "execute_result"
    }
   ],
   "source": [
    "arch['b']"
   ]
  },
  {
   "cell_type": "code",
   "execution_count": 185,
   "id": "fddb57a8",
   "metadata": {},
   "outputs": [],
   "source": [
    "np.savez_compressed('arrays_compressed.npz', a=arr, b=arr)"
   ]
  },
  {
   "cell_type": "code",
   "execution_count": 186,
   "id": "263e6fcc",
   "metadata": {},
   "outputs": [
    {
     "name": "stdout",
     "output_type": "stream",
     "text": [
      " C 드라이브의 볼륨에는 이름이 없습니다.\n",
      " 볼륨 일련 번호: 2412-9398\n",
      "\n",
      " C:\\Users\\Playdata\\Documents\\Data Analysis\\workshop 디렉터리\n",
      "\n",
      "2021-07-22  오후 02:32    <DIR>          .\n",
      "2021-07-22  오후 02:32    <DIR>          ..\n",
      "2021-07-22  오전 11:22    <DIR>          .ipynb_checkpoints\n",
      "2021-07-22  오후 02:32               422 arrays_compressed.npz\n",
      "2021-07-22  오후 02:29               570 array_archive.npz\n",
      "2021-07-22  오전 11:20           679,903 Numpy(day 1).ipynb\n",
      "2021-07-22  오후 02:30           130,498 Numpy(day 2).ipynb\n",
      "2019-12-20  오전 10:02           182,704 psj.png\n",
      "2021-07-22  오후 02:27               168 some_array.npy\n",
      "2021-07-22  오전 11:32             3,703 Untitled.ipynb\n",
      "               7개 파일             997,968 바이트\n",
      "               3개 디렉터리  179,786,399,744 바이트 남음\n"
     ]
    }
   ],
   "source": [
    "!dir"
   ]
  },
  {
   "cell_type": "code",
   "execution_count": 187,
   "id": "cd3a5577",
   "metadata": {},
   "outputs": [
    {
     "name": "stdout",
     "output_type": "stream",
     "text": [
      "C:\\Users\\Playdata\\Documents\\Data Analysis\\workshop\\array_archive.npz\n"
     ]
    },
    {
     "name": "stderr",
     "output_type": "stream",
     "text": [
      "다른 프로세스가 파일을 사용 중이기 때문에 프로세스가 액세스 할 수 없습니다.\n"
     ]
    }
   ],
   "source": [
    "!del some_array.npy\n",
    "!del array_archive.npz\n",
    "!del arrays_compressed.npz"
   ]
  },
  {
   "cell_type": "code",
   "execution_count": 188,
   "id": "4eed1def",
   "metadata": {},
   "outputs": [
    {
     "name": "stdout",
     "output_type": "stream",
     "text": [
      " C 드라이브의 볼륨에는 이름이 없습니다.\n",
      " 볼륨 일련 번호: 2412-9398\n",
      "\n",
      " C:\\Users\\Playdata\\Documents\\Data Analysis\\workshop 디렉터리\n",
      "\n",
      "2021-07-22  오후 02:33    <DIR>          .\n",
      "2021-07-22  오후 02:33    <DIR>          ..\n",
      "2021-07-22  오전 11:22    <DIR>          .ipynb_checkpoints\n",
      "2021-07-22  오후 02:29               570 array_archive.npz\n",
      "2021-07-22  오전 11:20           679,903 Numpy(day 1).ipynb\n",
      "2021-07-22  오후 02:32           132,576 Numpy(day 2).ipynb\n",
      "2019-12-20  오전 10:02           182,704 psj.png\n",
      "2021-07-22  오전 11:32             3,703 Untitled.ipynb\n",
      "               5개 파일             999,456 바이트\n",
      "               3개 디렉터리  179,786,199,040 바이트 남음\n"
     ]
    }
   ],
   "source": [
    "!dir"
   ]
  },
  {
   "cell_type": "markdown",
   "id": "bec0d759",
   "metadata": {},
   "source": [
    "## 5. 선형대수"
   ]
  },
  {
   "cell_type": "code",
   "execution_count": 190,
   "id": "fce3e4e7",
   "metadata": {},
   "outputs": [],
   "source": [
    "x = np.array([[1, 2, 3], [4, 5, 6]]) # 2 x 3\n",
    "y = np.array([[6, 23], [-1, 7], [8, 9]]) # 3 X 2"
   ]
  },
  {
   "cell_type": "code",
   "execution_count": 191,
   "id": "f654def3",
   "metadata": {},
   "outputs": [
    {
     "data": {
      "text/plain": [
       "array([[1, 2, 3],\n",
       "       [4, 5, 6]])"
      ]
     },
     "execution_count": 191,
     "metadata": {},
     "output_type": "execute_result"
    }
   ],
   "source": [
    "x"
   ]
  },
  {
   "cell_type": "code",
   "execution_count": 192,
   "id": "6eba931c",
   "metadata": {},
   "outputs": [
    {
     "data": {
      "text/plain": [
       "array([[ 6, 23],\n",
       "       [-1,  7],\n",
       "       [ 8,  9]])"
      ]
     },
     "execution_count": 192,
     "metadata": {},
     "output_type": "execute_result"
    }
   ],
   "source": [
    "y"
   ]
  },
  {
   "cell_type": "code",
   "execution_count": null,
   "id": "51f52187",
   "metadata": {},
   "outputs": [],
   "source": [
    "# 행렬 곱셈"
   ]
  },
  {
   "cell_type": "code",
   "execution_count": 193,
   "id": "b9b72c4c",
   "metadata": {},
   "outputs": [
    {
     "data": {
      "text/plain": [
       "array([[ 28,  64],\n",
       "       [ 67, 181]])"
      ]
     },
     "execution_count": 193,
     "metadata": {},
     "output_type": "execute_result"
    }
   ],
   "source": [
    "x.dot(y)      # (2 x 3) (3 X 2) = (2 X 2)"
   ]
  },
  {
   "cell_type": "code",
   "execution_count": 194,
   "id": "143b07e6",
   "metadata": {},
   "outputs": [
    {
     "data": {
      "text/plain": [
       "array([[ 28,  64],\n",
       "       [ 67, 181]])"
      ]
     },
     "execution_count": 194,
     "metadata": {},
     "output_type": "execute_result"
    }
   ],
   "source": [
    "np.dot(x, y)"
   ]
  },
  {
   "cell_type": "code",
   "execution_count": 197,
   "id": "22c687ec",
   "metadata": {},
   "outputs": [
    {
     "data": {
      "text/plain": [
       "array([[1, 2, 3],\n",
       "       [4, 5, 6]])"
      ]
     },
     "execution_count": 197,
     "metadata": {},
     "output_type": "execute_result"
    }
   ],
   "source": [
    "x   # (2, 3)"
   ]
  },
  {
   "cell_type": "code",
   "execution_count": 196,
   "id": "4c8ada74",
   "metadata": {},
   "outputs": [
    {
     "data": {
      "text/plain": [
       "array([1., 1., 1.])"
      ]
     },
     "execution_count": 196,
     "metadata": {},
     "output_type": "execute_result"
    }
   ],
   "source": [
    "np.ones(3) # (3,) "
   ]
  },
  {
   "cell_type": "code",
   "execution_count": 198,
   "id": "6e7144c3",
   "metadata": {},
   "outputs": [
    {
     "data": {
      "text/plain": [
       "array([ 6., 15.])"
      ]
     },
     "execution_count": 198,
     "metadata": {},
     "output_type": "execute_result"
    }
   ],
   "source": [
    "np.dot(x, np.ones(3)) # (2,)"
   ]
  },
  {
   "cell_type": "code",
   "execution_count": 199,
   "id": "d09eac0c",
   "metadata": {},
   "outputs": [
    {
     "data": {
      "text/plain": [
       "array([ 6., 15.])"
      ]
     },
     "execution_count": 199,
     "metadata": {},
     "output_type": "execute_result"
    }
   ],
   "source": [
    "x @ np.ones(3)"
   ]
  },
  {
   "cell_type": "code",
   "execution_count": 200,
   "id": "cb8b80e1",
   "metadata": {},
   "outputs": [],
   "source": [
    "from numpy.linalg import inv, qr"
   ]
  },
  {
   "cell_type": "code",
   "execution_count": 201,
   "id": "d1673c02",
   "metadata": {},
   "outputs": [
    {
     "data": {
      "text/plain": [
       "array([[-1.04844522, -0.01364938,  1.11619951,  0.12842877, -1.1722051 ],\n",
       "       [-0.69844576, -0.92031577, -0.74195238, -0.79469162,  1.56208821],\n",
       "       [-0.79896531,  0.32032359, -0.55608946,  2.10652315,  1.98464888],\n",
       "       [ 0.37601388, -0.20464757,  0.10363293,  0.01096218, -0.09834419],\n",
       "       [-1.31559281,  1.1076982 , -0.31949086,  0.37260331, -0.22542076]])"
      ]
     },
     "execution_count": 201,
     "metadata": {},
     "output_type": "execute_result"
    }
   ],
   "source": [
    "X = np.random.randn(5, 5)\n",
    "X"
   ]
  },
  {
   "cell_type": "code",
   "execution_count": 202,
   "id": "f40c5687",
   "metadata": {},
   "outputs": [
    {
     "data": {
      "text/plain": [
       "array([[-1.04844522, -0.69844576, -0.79896531,  0.37601388, -1.31559281],\n",
       "       [-0.01364938, -0.92031577,  0.32032359, -0.20464757,  1.1076982 ],\n",
       "       [ 1.11619951, -0.74195238, -0.55608946,  0.10363293, -0.31949086],\n",
       "       [ 0.12842877, -0.79469162,  2.10652315,  0.01096218,  0.37260331],\n",
       "       [-1.1722051 ,  1.56208821,  1.98464888, -0.09834419, -0.22542076]])"
      ]
     },
     "execution_count": 202,
     "metadata": {},
     "output_type": "execute_result"
    }
   ],
   "source": [
    "X.T (5, 5)"
   ]
  },
  {
   "cell_type": "code",
   "execution_count": 203,
   "id": "40d54100",
   "metadata": {},
   "outputs": [
    {
     "data": {
      "text/plain": [
       "array([[-1.04844522, -0.01364938,  1.11619951,  0.12842877, -1.1722051 ],\n",
       "       [-0.69844576, -0.92031577, -0.74195238, -0.79469162,  1.56208821],\n",
       "       [-0.79896531,  0.32032359, -0.55608946,  2.10652315,  1.98464888],\n",
       "       [ 0.37601388, -0.20464757,  0.10363293,  0.01096218, -0.09834419],\n",
       "       [-1.31559281,  1.1076982 , -0.31949086,  0.37260331, -0.22542076]])"
      ]
     },
     "execution_count": 203,
     "metadata": {},
     "output_type": "execute_result"
    }
   ],
   "source": [
    "X # (5, 5)"
   ]
  },
  {
   "cell_type": "code",
   "execution_count": 204,
   "id": "ffdaaf27",
   "metadata": {},
   "outputs": [
    {
     "data": {
      "text/plain": [
       "array([[ 4.09758031, -1.13305629,  0.25152293, -1.74871278, -1.18812351],\n",
       "       [-1.13305629,  2.21865057,  0.11435879,  1.81487196, -1.01545696],\n",
       "       [ 0.25152293,  0.11435879,  2.21844437, -0.55634717, -3.50922398],\n",
       "       [-1.74871278,  1.81487196, -0.55634717,  5.22442188,  2.70371495],\n",
       "       [-1.18812351, -1.01545696, -3.50922398,  2.70371495,  7.81350166]])"
      ]
     },
     "execution_count": 204,
     "metadata": {},
     "output_type": "execute_result"
    }
   ],
   "source": [
    "mat = X.T.dot(X)\n",
    "mat"
   ]
  },
  {
   "cell_type": "code",
   "execution_count": 206,
   "id": "c51391b3",
   "metadata": {},
   "outputs": [
    {
     "data": {
      "text/plain": [
       "array([[  4.43404533,  20.4492045 ,  26.08692075, -12.94779859,\n",
       "         19.52843827],\n",
       "       [ 20.4492045 , 100.82660948, 128.4231656 , -64.25023155,\n",
       "         96.12351271],\n",
       "       [ 26.08692075, 128.4231656 , 165.42571253, -82.10725174,\n",
       "        123.36506774],\n",
       "       [-12.94779859, -64.25023155, -82.10725174,  41.24323814,\n",
       "        -61.46663115],\n",
       "       [ 19.52843827,  96.12351271, 123.36506774, -61.46663115,\n",
       "         92.26534029]])"
      ]
     },
     "execution_count": 206,
     "metadata": {},
     "output_type": "execute_result"
    }
   ],
   "source": [
    "inv(mat)"
   ]
  },
  {
   "cell_type": "code",
   "execution_count": 207,
   "id": "2b11fecf",
   "metadata": {},
   "outputs": [
    {
     "data": {
      "text/plain": [
       "array([[ 1.00000000e+00,  7.68733397e-15, -7.87344562e-15,\n",
       "         5.40546353e-15, -1.48532322e-15],\n",
       "       [-3.27990241e-15,  1.00000000e+00,  6.89422865e-14,\n",
       "         1.29641953e-14,  1.20674700e-14],\n",
       "       [-7.69238345e-15,  4.08582780e-14,  1.00000000e+00,\n",
       "        -1.13303118e-15, -4.17256109e-15],\n",
       "       [ 2.61836841e-15, -1.23866477e-14,  3.60015336e-14,\n",
       "         1.00000000e+00, -2.02281366e-15],\n",
       "       [-5.36140707e-15, -1.90264780e-14, -1.18871116e-13,\n",
       "         2.49257534e-15,  1.00000000e+00]])"
      ]
     },
     "execution_count": 207,
     "metadata": {},
     "output_type": "execute_result"
    }
   ],
   "source": [
    "mat.dot(inv(mat))"
   ]
  },
  {
   "cell_type": "code",
   "execution_count": 208,
   "id": "889402c7",
   "metadata": {},
   "outputs": [],
   "source": [
    "q, r = qr(mat)"
   ]
  },
  {
   "cell_type": "code",
   "execution_count": 209,
   "id": "07ed62bd",
   "metadata": {},
   "outputs": [
    {
     "data": {
      "text/plain": [
       "array([[-4.75466913e+00,  1.91287396e+00, -1.38838955e+00,\n",
       "         4.56606698e+00,  3.91445487e+00],\n",
       "       [ 0.00000000e+00, -2.62395334e+00, -2.07016350e+00,\n",
       "        -1.50390384e+00,  4.50590364e+00],\n",
       "       [ 0.00000000e+00,  0.00000000e+00, -3.37769296e+00,\n",
       "         3.14856943e+00,  6.62013130e+00],\n",
       "       [ 0.00000000e+00,  0.00000000e+00,  0.00000000e+00,\n",
       "        -2.87084540e+00, -1.91468952e+00],\n",
       "       [ 0.00000000e+00,  0.00000000e+00,  0.00000000e+00,\n",
       "         0.00000000e+00,  5.18956878e-03]])"
      ]
     },
     "execution_count": 209,
     "metadata": {},
     "output_type": "execute_result"
    }
   ],
   "source": [
    "r  # 상삼각행렬 - 주대각성분 아래로 모두 0"
   ]
  },
  {
   "cell_type": "markdown",
   "id": "5097461c",
   "metadata": {},
   "source": [
    "## 6. 난수 생성"
   ]
  },
  {
   "cell_type": "code",
   "execution_count": 211,
   "id": "96bb72a9",
   "metadata": {},
   "outputs": [
    {
     "data": {
      "text/plain": [
       "array([[ 0.56237617,  0.28959065,  2.09890481, -0.5984964 ],\n",
       "       [-1.29179132,  0.84825412,  1.02431838,  0.82432817],\n",
       "       [ 0.15957922, -0.61455126, -0.67601008,  0.14170156],\n",
       "       [ 0.14552163, -1.14706   , -1.32081969,  0.60989801]])"
      ]
     },
     "execution_count": 211,
     "metadata": {},
     "output_type": "execute_result"
    }
   ],
   "source": [
    "samples = np.random.normal(size=(4, 4))\n",
    "samples"
   ]
  },
  {
   "cell_type": "code",
   "execution_count": 212,
   "id": "3a22384c",
   "metadata": {},
   "outputs": [],
   "source": [
    "from random import normalvariate"
   ]
  },
  {
   "cell_type": "code",
   "execution_count": 213,
   "id": "6da142d7",
   "metadata": {},
   "outputs": [],
   "source": [
    "N = 1000000"
   ]
  },
  {
   "cell_type": "code",
   "execution_count": 214,
   "id": "03ea3643",
   "metadata": {},
   "outputs": [
    {
     "name": "stdout",
     "output_type": "stream",
     "text": [
      "1.44 s ± 9.91 ms per loop (mean ± std. dev. of 7 runs, 1 loop each)\n"
     ]
    }
   ],
   "source": [
    "%timeit samples = [normalvariate(0, 1) for _ in range(N)]"
   ]
  },
  {
   "cell_type": "code",
   "execution_count": 215,
   "id": "73edc5aa",
   "metadata": {},
   "outputs": [
    {
     "name": "stdout",
     "output_type": "stream",
     "text": [
      "46.9 ms ± 4.36 ms per loop (mean ± std. dev. of 7 runs, 10 loops each)\n"
     ]
    }
   ],
   "source": [
    "%timeit np.random.normal(size=N)"
   ]
  },
  {
   "cell_type": "code",
   "execution_count": 217,
   "id": "6a755d77",
   "metadata": {},
   "outputs": [],
   "source": [
    "np.random.seed(1234)"
   ]
  },
  {
   "cell_type": "markdown",
   "id": "5b8757b2",
   "metadata": {},
   "source": [
    "### (실습) 로또 번호 추출기"
   ]
  },
  {
   "cell_type": "code",
   "execution_count": 220,
   "id": "bb93082f",
   "metadata": {},
   "outputs": [
    {
     "name": "stdout",
     "output_type": "stream",
     "text": [
      "[ 3 41 45 32  6 33]\n",
      "[31 21 12 23 40 29]\n",
      "[ 1 27 11 20 46 12]\n",
      "[27 40 11 39 21 26]\n",
      "[21 34 45 16 24  3]\n",
      "[ 1 32 42 16 35 10]\n",
      "[33  5  2 18 24 38]\n",
      "[15  1 43  8 35 39]\n",
      "[11 28 26 15 45 36]\n",
      "[40 32 16 30 33 45]\n"
     ]
    }
   ],
   "source": [
    "import numpy as np\n",
    "for i in range(10):\n",
    "    a = np.arange(45)\n",
    "    b = np.random.permutation(a) + 1\n",
    "    print(b[:6])"
   ]
  },
  {
   "cell_type": "code",
   "execution_count": 223,
   "id": "0c2b0eda",
   "metadata": {},
   "outputs": [
    {
     "data": {
      "text/plain": [
       "array([19, 10, 14, 19, 27, 28])"
      ]
     },
     "execution_count": 223,
     "metadata": {},
     "output_type": "execute_result"
    }
   ],
   "source": [
    "np.random.randint(1, 46, 6)"
   ]
  },
  {
   "cell_type": "code",
   "execution_count": 224,
   "id": "0d47278e",
   "metadata": {},
   "outputs": [
    {
     "data": {
      "text/plain": [
       "array([12, 30,  9, 37, 33,  1])"
      ]
     },
     "execution_count": 224,
     "metadata": {},
     "output_type": "execute_result"
    }
   ],
   "source": [
    "np.random.randint(1, 46, 6)"
   ]
  },
  {
   "cell_type": "code",
   "execution_count": 225,
   "id": "0b33f9e5",
   "metadata": {},
   "outputs": [
    {
     "name": "stdout",
     "output_type": "stream",
     "text": [
      "[27 32  7 23 40 42]\n",
      "[20 42 41 45 35 10]\n",
      "[ 2 45 17 39 20 41]\n",
      "[12 10 32 40 15 10]\n",
      "[35 44 27 20 14  7]\n",
      "[11 37  6 25 30 26]\n",
      "[42 34 16 43 33  7]\n",
      "[36 27 37 41 14 35]\n",
      "[16 17 17 39 39  8]\n",
      "[24 18 12  1 28 10]\n"
     ]
    }
   ],
   "source": [
    "import numpy as np\n",
    "\n",
    "for _ in range(10):\n",
    "    permu = np.random.randint(1, 46, 6)\n",
    "    print(permu)\n"
   ]
  },
  {
   "cell_type": "code",
   "execution_count": 226,
   "id": "688ef003",
   "metadata": {},
   "outputs": [
    {
     "data": {
      "text/plain": [
       "[array([30, 22, 12, 27, 15, 17]),\n",
       " array([42, 24, 22, 36, 12, 25]),\n",
       " array([19, 39, 44, 22, 28, 39]),\n",
       " array([30,  2, 23,  4,  8,  1]),\n",
       " array([21, 10, 21,  5, 15, 38]),\n",
       " array([18, 33,  8,  6, 36,  2]),\n",
       " array([17, 23, 16, 11, 35, 43]),\n",
       " array([18,  8, 45, 27, 38, 17]),\n",
       " array([11, 32, 34, 15,  2, 24]),\n",
       " array([41, 11,  3, 40, 15, 10])]"
      ]
     },
     "execution_count": 226,
     "metadata": {},
     "output_type": "execute_result"
    }
   ],
   "source": [
    "lotto = [np.random.randint(1, 46, 6) for i in range(10)]\n",
    "lotto"
   ]
  },
  {
   "cell_type": "markdown",
   "id": "c5a8f53b",
   "metadata": {},
   "source": [
    "### (실습) 계단 오르내리기"
   ]
  },
  {
   "cell_type": "code",
   "execution_count": 228,
   "id": "1ca16749",
   "metadata": {},
   "outputs": [],
   "source": [
    "import random"
   ]
  },
  {
   "cell_type": "code",
   "execution_count": 237,
   "id": "7ae52f92",
   "metadata": {},
   "outputs": [],
   "source": [
    "position = 0\n",
    "steps = 1000\n",
    "walk =[postion]\n",
    "for i in range(steps):\n",
    "    step = 1 if random.randint(0, 1) else -1\n",
    "    position += step\n",
    "    walk.append(position)"
   ]
  },
  {
   "cell_type": "code",
   "execution_count": 241,
   "id": "0ad91bf6",
   "metadata": {},
   "outputs": [
    {
     "data": {
      "text/plain": [
       "[<matplotlib.lines.Line2D at 0x26c4deec250>]"
      ]
     },
     "execution_count": 241,
     "metadata": {},
     "output_type": "execute_result"
    },
    {
     "data": {
      "image/png": "[encoded data removed]",
      "text/plain": [
       "<Figure size 432x288 with 1 Axes>"
      ]
     },
     "metadata": {
      "needs_background": "light"
     },
     "output_type": "display_data"
    }
   ],
   "source": [
    "import matplotlib.pyplot as plt\n",
    "plt.plot(walk[:100])"
   ]
  },
  {
   "cell_type": "markdown",
   "id": "8f951d7c",
   "metadata": {},
   "source": [
    "* 위의 코드를 numpy로 구현"
   ]
  },
  {
   "cell_type": "code",
   "execution_count": 243,
   "id": "8d732632",
   "metadata": {},
   "outputs": [],
   "source": [
    "nsteps = 1000\n",
    "draws = np.random.randint(0, 2, size = nsteps)"
   ]
  },
  {
   "cell_type": "code",
   "execution_count": 248,
   "id": "92feb9b6",
   "metadata": {
    "collapsed": true
   },
   "outputs": [
    {
     "data": {
      "text/plain": [
       "array([ 1, -1,  1, -1, -1,  1, -1, -1,  1,  1, -1,  1,  1, -1,  1, -1, -1,\n",
       "        1,  1, -1, -1,  1,  1, -1,  1,  1,  1, -1,  1, -1,  1, -1, -1,  1,\n",
       "       -1, -1, -1, -1, -1, -1, -1,  1,  1,  1, -1,  1, -1,  1, -1,  1,  1,\n",
       "       -1,  1, -1, -1,  1, -1,  1,  1, -1,  1,  1, -1,  1, -1,  1, -1, -1,\n",
       "       -1,  1, -1, -1,  1,  1, -1,  1,  1, -1,  1,  1, -1, -1,  1, -1, -1,\n",
       "       -1, -1, -1,  1,  1, -1, -1,  1, -1,  1, -1,  1,  1, -1,  1,  1,  1,\n",
       "       -1, -1, -1, -1, -1, -1,  1,  1,  1,  1, -1, -1,  1,  1,  1, -1, -1,\n",
       "       -1, -1,  1,  1, -1,  1, -1, -1, -1,  1, -1,  1, -1, -1,  1, -1,  1,\n",
       "        1,  1, -1, -1, -1,  1, -1, -1,  1, -1, -1, -1,  1,  1, -1, -1, -1,\n",
       "        1, -1,  1,  1, -1, -1, -1,  1,  1,  1,  1, -1,  1, -1,  1, -1, -1,\n",
       "       -1, -1,  1, -1,  1,  1, -1, -1, -1,  1, -1,  1, -1,  1,  1, -1, -1,\n",
       "       -1, -1,  1, -1,  1,  1, -1, -1, -1, -1,  1, -1,  1, -1,  1,  1, -1,\n",
       "        1,  1, -1, -1,  1, -1,  1,  1, -1, -1,  1, -1, -1,  1,  1, -1, -1,\n",
       "        1, -1,  1, -1, -1, -1,  1, -1,  1, -1,  1,  1, -1,  1, -1, -1, -1,\n",
       "        1,  1,  1, -1, -1,  1, -1,  1,  1, -1, -1,  1, -1,  1, -1,  1, -1,\n",
       "       -1,  1,  1, -1,  1, -1,  1,  1, -1,  1,  1, -1,  1,  1,  1,  1, -1,\n",
       "       -1,  1,  1, -1, -1,  1, -1, -1, -1,  1,  1,  1,  1, -1, -1,  1, -1,\n",
       "        1,  1,  1, -1,  1, -1,  1, -1, -1,  1,  1,  1,  1,  1, -1,  1, -1,\n",
       "       -1, -1,  1,  1,  1,  1,  1,  1,  1, -1, -1,  1,  1, -1,  1, -1,  1,\n",
       "        1, -1,  1, -1,  1, -1, -1,  1, -1,  1,  1,  1, -1, -1,  1, -1,  1,\n",
       "        1, -1,  1, -1, -1,  1, -1, -1,  1, -1,  1,  1, -1,  1, -1,  1,  1,\n",
       "       -1,  1, -1,  1, -1,  1,  1, -1, -1, -1,  1,  1, -1,  1,  1,  1, -1,\n",
       "        1, -1, -1,  1,  1,  1,  1, -1,  1, -1, -1,  1, -1,  1,  1, -1,  1,\n",
       "        1, -1,  1,  1,  1,  1,  1,  1, -1, -1, -1, -1, -1, -1, -1,  1,  1,\n",
       "       -1, -1,  1,  1,  1, -1,  1, -1, -1, -1, -1,  1, -1,  1,  1,  1,  1,\n",
       "       -1, -1,  1,  1, -1, -1, -1, -1, -1,  1,  1, -1, -1, -1,  1, -1,  1,\n",
       "       -1, -1, -1, -1,  1, -1,  1, -1,  1,  1,  1, -1, -1, -1, -1,  1,  1,\n",
       "       -1, -1, -1,  1, -1,  1, -1,  1, -1, -1,  1,  1,  1,  1, -1,  1, -1,\n",
       "        1, -1, -1, -1,  1,  1,  1, -1, -1,  1,  1, -1,  1, -1,  1, -1,  1,\n",
       "        1, -1,  1, -1, -1, -1, -1, -1, -1,  1,  1,  1, -1,  1, -1,  1,  1,\n",
       "        1,  1,  1,  1, -1,  1,  1, -1, -1,  1,  1, -1,  1, -1,  1,  1, -1,\n",
       "       -1,  1, -1,  1,  1, -1,  1, -1, -1,  1,  1,  1,  1, -1, -1,  1,  1,\n",
       "        1, -1,  1,  1, -1, -1, -1,  1, -1,  1,  1,  1, -1,  1,  1, -1,  1,\n",
       "        1,  1, -1, -1, -1, -1, -1, -1, -1, -1,  1,  1, -1, -1, -1, -1, -1,\n",
       "       -1, -1,  1,  1,  1,  1, -1,  1,  1, -1, -1, -1, -1, -1,  1,  1,  1,\n",
       "       -1,  1, -1,  1,  1,  1, -1, -1, -1, -1, -1,  1,  1, -1,  1, -1, -1,\n",
       "        1,  1, -1, -1, -1,  1,  1,  1,  1, -1, -1, -1,  1, -1,  1,  1,  1,\n",
       "        1,  1, -1,  1,  1, -1,  1, -1,  1, -1, -1,  1, -1, -1,  1, -1,  1,\n",
       "        1, -1, -1,  1,  1,  1,  1,  1, -1, -1, -1,  1, -1, -1, -1,  1,  1,\n",
       "        1,  1, -1, -1,  1,  1, -1,  1, -1, -1,  1, -1,  1, -1, -1,  1, -1,\n",
       "       -1, -1, -1, -1, -1,  1,  1,  1,  1,  1, -1, -1,  1,  1,  1,  1, -1,\n",
       "       -1,  1, -1,  1,  1,  1,  1, -1, -1, -1, -1,  1, -1, -1, -1, -1,  1,\n",
       "       -1, -1, -1, -1,  1, -1, -1,  1, -1, -1, -1,  1, -1,  1,  1, -1,  1,\n",
       "        1,  1, -1, -1,  1,  1,  1,  1,  1,  1,  1, -1, -1,  1, -1,  1, -1,\n",
       "        1, -1, -1,  1, -1, -1, -1,  1, -1, -1, -1, -1, -1, -1, -1, -1, -1,\n",
       "       -1, -1,  1, -1,  1,  1,  1,  1,  1, -1, -1, -1, -1, -1, -1,  1, -1,\n",
       "       -1,  1, -1, -1,  1,  1, -1, -1,  1, -1, -1, -1,  1, -1, -1, -1, -1,\n",
       "       -1,  1,  1, -1, -1, -1, -1,  1,  1, -1,  1,  1,  1, -1, -1, -1, -1,\n",
       "        1,  1, -1, -1, -1,  1, -1, -1, -1, -1,  1,  1, -1, -1, -1, -1,  1,\n",
       "        1,  1, -1,  1,  1, -1, -1, -1, -1,  1,  1, -1, -1,  1,  1, -1, -1,\n",
       "       -1,  1, -1, -1, -1,  1,  1, -1, -1,  1,  1,  1, -1, -1,  1,  1,  1,\n",
       "        1,  1, -1,  1, -1, -1, -1,  1,  1, -1, -1,  1,  1,  1, -1, -1, -1,\n",
       "       -1,  1,  1,  1, -1,  1,  1,  1,  1,  1, -1,  1, -1,  1,  1,  1,  1,\n",
       "        1, -1, -1, -1, -1, -1, -1,  1, -1, -1, -1,  1,  1,  1,  1,  1,  1,\n",
       "        1,  1,  1,  1,  1, -1, -1,  1,  1, -1,  1,  1,  1,  1,  1,  1, -1,\n",
       "        1,  1, -1, -1, -1, -1, -1, -1,  1,  1, -1, -1,  1,  1,  1,  1,  1,\n",
       "       -1,  1, -1, -1,  1, -1, -1, -1, -1, -1, -1,  1,  1, -1, -1,  1, -1,\n",
       "        1,  1,  1, -1,  1, -1,  1, -1,  1, -1, -1,  1,  1,  1, -1,  1, -1,\n",
       "        1, -1,  1,  1,  1,  1,  1,  1, -1, -1, -1,  1, -1,  1])"
      ]
     },
     "execution_count": 248,
     "metadata": {},
     "output_type": "execute_result"
    }
   ],
   "source": [
    "steps = np.where(draws > 0 , 1, -1 )\n",
    "steps"
   ]
  },
  {
   "cell_type": "code",
   "execution_count": 250,
   "id": "e04d8cf6",
   "metadata": {
    "collapsed": true
   },
   "outputs": [
    {
     "data": {
      "text/plain": [
       "array([  1,   0,   1,   0,  -1,   0,  -1,  -2,  -1,   0,  -1,   0,   1,\n",
       "         0,   1,   0,  -1,   0,   1,   0,  -1,   0,   1,   0,   1,   2,\n",
       "         3,   2,   3,   2,   3,   2,   1,   2,   1,   0,  -1,  -2,  -3,\n",
       "        -4,  -5,  -4,  -3,  -2,  -3,  -2,  -3,  -2,  -3,  -2,  -1,  -2,\n",
       "        -1,  -2,  -3,  -2,  -3,  -2,  -1,  -2,  -1,   0,  -1,   0,  -1,\n",
       "         0,  -1,  -2,  -3,  -2,  -3,  -4,  -3,  -2,  -3,  -2,  -1,  -2,\n",
       "        -1,   0,  -1,  -2,  -1,  -2,  -3,  -4,  -5,  -6,  -5,  -4,  -5,\n",
       "        -6,  -5,  -6,  -5,  -6,  -5,  -4,  -5,  -4,  -3,  -2,  -3,  -4,\n",
       "        -5,  -6,  -7,  -8,  -7,  -6,  -5,  -4,  -5,  -6,  -5,  -4,  -3,\n",
       "        -4,  -5,  -6,  -7,  -6,  -5,  -6,  -5,  -6,  -7,  -8,  -7,  -8,\n",
       "        -7,  -8,  -9,  -8,  -9,  -8,  -7,  -6,  -7,  -8,  -9,  -8,  -9,\n",
       "       -10,  -9, -10, -11, -12, -11, -10, -11, -12, -13, -12, -13, -12,\n",
       "       -11, -12, -13, -14, -13, -12, -11, -10, -11, -10, -11, -10, -11,\n",
       "       -12, -13, -14, -13, -14, -13, -12, -13, -14, -15, -14, -15, -14,\n",
       "       -15, -14, -13, -14, -15, -16, -17, -16, -17, -16, -15, -16, -17,\n",
       "       -18, -19, -18, -19, -18, -19, -18, -17, -18, -17, -16, -17, -18,\n",
       "       -17, -18, -17, -16, -17, -18, -17, -18, -19, -18, -17, -18, -19,\n",
       "       -18, -19, -18, -19, -20, -21, -20, -21, -20, -21, -20, -19, -20,\n",
       "       -19, -20, -21, -22, -21, -20, -19, -20, -21, -20, -21, -20, -19,\n",
       "       -20, -21, -20, -21, -20, -21, -20, -21, -22, -21, -20, -21, -20,\n",
       "       -21, -20, -19, -20, -19, -18, -19, -18, -17, -16, -15, -16, -17,\n",
       "       -16, -15, -16, -17, -16, -17, -18, -19, -18, -17, -16, -15, -16,\n",
       "       -17, -16, -17, -16, -15, -14, -15, -14, -15, -14, -15, -16, -15,\n",
       "       -14, -13, -12, -11, -12, -11, -12, -13, -14, -13, -12, -11, -10,\n",
       "        -9,  -8,  -7,  -8,  -9,  -8,  -7,  -8,  -7,  -8,  -7,  -6,  -7,\n",
       "        -6,  -7,  -6,  -7,  -8,  -7,  -8,  -7,  -6,  -5,  -6,  -7,  -6,\n",
       "        -7,  -6,  -5,  -6,  -5,  -6,  -7,  -6,  -7,  -8,  -7,  -8,  -7,\n",
       "        -6,  -7,  -6,  -7,  -6,  -5,  -6,  -5,  -6,  -5,  -6,  -5,  -4,\n",
       "        -5,  -6,  -7,  -6,  -5,  -6,  -5,  -4,  -3,  -4,  -3,  -4,  -5,\n",
       "        -4,  -3,  -2,  -1,  -2,  -1,  -2,  -3,  -2,  -3,  -2,  -1,  -2,\n",
       "        -1,   0,  -1,   0,   1,   2,   3,   4,   5,   4,   3,   2,   1,\n",
       "         0,  -1,  -2,  -1,   0,  -1,  -2,  -1,   0,   1,   0,   1,   0,\n",
       "        -1,  -2,  -3,  -2,  -3,  -2,  -1,   0,   1,   0,  -1,   0,   1,\n",
       "         0,  -1,  -2,  -3,  -4,  -3,  -2,  -3,  -4,  -5,  -4,  -5,  -4,\n",
       "        -5,  -6,  -7,  -8,  -7,  -8,  -7,  -8,  -7,  -6,  -5,  -6,  -7,\n",
       "        -8,  -9,  -8,  -7,  -8,  -9, -10,  -9, -10,  -9, -10,  -9, -10,\n",
       "       -11, -10,  -9,  -8,  -7,  -8,  -7,  -8,  -7,  -8,  -9, -10,  -9,\n",
       "        -8,  -7,  -8,  -9,  -8,  -7,  -8,  -7,  -8,  -7,  -8,  -7,  -6,\n",
       "        -7,  -6,  -7,  -8,  -9, -10, -11, -12, -11, -10,  -9, -10,  -9,\n",
       "       -10,  -9,  -8,  -7,  -6,  -5,  -4,  -5,  -4,  -3,  -4,  -5,  -4,\n",
       "        -3,  -4,  -3,  -4,  -3,  -2,  -3,  -4,  -3,  -4,  -3,  -2,  -3,\n",
       "        -2,  -3,  -4,  -3,  -2,  -1,   0,  -1,  -2,  -1,   0,   1,   0,\n",
       "         1,   2,   1,   0,  -1,   0,  -1,   0,   1,   2,   1,   2,   3,\n",
       "         2,   3,   4,   5,   4,   3,   2,   1,   0,  -1,  -2,  -3,  -2,\n",
       "        -1,  -2,  -3,  -4,  -5,  -6,  -7,  -8,  -7,  -6,  -5,  -4,  -5,\n",
       "        -4,  -3,  -4,  -5,  -6,  -7,  -8,  -7,  -6,  -5,  -6,  -5,  -6,\n",
       "        -5,  -4,  -3,  -4,  -5,  -6,  -7,  -8,  -7,  -6,  -7,  -6,  -7,\n",
       "        -8,  -7,  -6,  -7,  -8,  -9,  -8,  -7,  -6,  -5,  -6,  -7,  -8,\n",
       "        -7,  -8,  -7,  -6,  -5,  -4,  -3,  -4,  -3,  -2,  -3,  -2,  -3,\n",
       "        -2,  -3,  -4,  -3,  -4,  -5,  -4,  -5,  -4,  -3,  -4,  -5,  -4,\n",
       "        -3,  -2,  -1,   0,  -1,  -2,  -3,  -2,  -3,  -4,  -5,  -4,  -3,\n",
       "        -2,  -1,  -2,  -3,  -2,  -1,  -2,  -1,  -2,  -3,  -2,  -3,  -2,\n",
       "        -3,  -4,  -3,  -4,  -5,  -6,  -7,  -8,  -9,  -8,  -7,  -6,  -5,\n",
       "        -4,  -5,  -6,  -5,  -4,  -3,  -2,  -3,  -4,  -3,  -4,  -3,  -2,\n",
       "        -1,   0,  -1,  -2,  -3,  -4,  -3,  -4,  -5,  -6,  -7,  -6,  -7,\n",
       "        -8,  -9, -10,  -9, -10, -11, -10, -11, -12, -13, -12, -13, -12,\n",
       "       -11, -12, -11, -10,  -9, -10, -11, -10,  -9,  -8,  -7,  -6,  -5,\n",
       "        -4,  -5,  -6,  -5,  -6,  -5,  -6,  -5,  -6,  -7,  -6,  -7,  -8,\n",
       "        -9,  -8,  -9, -10, -11, -12, -13, -14, -15, -16, -17, -18, -19,\n",
       "       -18, -19, -18, -17, -16, -15, -14, -15, -16, -17, -18, -19, -20,\n",
       "       -19, -20, -21, -20, -21, -22, -21, -20, -21, -22, -21, -22, -23,\n",
       "       -24, -23, -24, -25, -26, -27, -28, -27, -26, -27, -28, -29, -30,\n",
       "       -29, -28, -29, -28, -27, -26, -27, -28, -29, -30, -29, -28, -29,\n",
       "       -30, -31, -30, -31, -32, -33, -34, -33, -32, -33, -34, -35, -36,\n",
       "       -35, -34, -33, -34, -33, -32, -33, -34, -35, -36, -35, -34, -35,\n",
       "       -36, -35, -34, -35, -36, -37, -36, -37, -38, -39, -38, -37, -38,\n",
       "       -39, -38, -37, -36, -37, -38, -37, -36, -35, -34, -33, -34, -33,\n",
       "       -34, -35, -36, -35, -34, -35, -36, -35, -34, -33, -34, -35, -36,\n",
       "       -37, -36, -35, -34, -35, -34, -33, -32, -31, -30, -31, -30, -31,\n",
       "       -30, -29, -28, -27, -26, -27, -28, -29, -30, -31, -32, -31, -32,\n",
       "       -33, -34, -33, -32, -31, -30, -29, -28, -27, -26, -25, -24, -23,\n",
       "       -24, -25, -24, -23, -24, -23, -22, -21, -20, -19, -18, -19, -18,\n",
       "       -17, -18, -19, -20, -21, -22, -23, -22, -21, -22, -23, -22, -21,\n",
       "       -20, -19, -18, -19, -18, -19, -20, -19, -20, -21, -22, -23, -24,\n",
       "       -25, -24, -23, -24, -25, -24, -25, -24, -23, -22, -23, -22, -23,\n",
       "       -22, -23, -22, -23, -24, -23, -22, -21, -22, -21, -22, -21, -22,\n",
       "       -21, -20, -19, -18, -17, -16, -17, -18, -19, -18, -19, -18],\n",
       "      dtype=int32)"
      ]
     },
     "execution_count": 250,
     "metadata": {},
     "output_type": "execute_result"
    }
   ],
   "source": [
    "walk = steps.cumsum()\n",
    "walk"
   ]
  },
  {
   "cell_type": "markdown",
   "id": "a4de6812",
   "metadata": {},
   "source": [
    "* 계단을 오르내린 위치의 최솟값과 최대값 구하기"
   ]
  },
  {
   "cell_type": "code",
   "execution_count": 251,
   "id": "62ef21d9",
   "metadata": {},
   "outputs": [
    {
     "data": {
      "text/plain": [
       "-39"
      ]
     },
     "execution_count": 251,
     "metadata": {},
     "output_type": "execute_result"
    }
   ],
   "source": [
    "walk.min()"
   ]
  },
  {
   "cell_type": "code",
   "execution_count": 252,
   "id": "a45fec74",
   "metadata": {},
   "outputs": [
    {
     "data": {
      "text/plain": [
       "5"
      ]
     },
     "execution_count": 252,
     "metadata": {},
     "output_type": "execute_result"
    }
   ],
   "source": [
    "walk.max()"
   ]
  },
  {
   "cell_type": "markdown",
   "id": "1aed5455",
   "metadata": {},
   "source": [
    "* 처음 위치에서 10 계단 이상 떨어지는데 걸린 횟수"
   ]
  },
  {
   "cell_type": "code",
   "execution_count": 255,
   "id": "88b6bac6",
   "metadata": {},
   "outputs": [
    {
     "data": {
      "text/plain": [
       "4"
      ]
     },
     "execution_count": 255,
     "metadata": {},
     "output_type": "execute_result"
    }
   ],
   "source": [
    "(np.array([1, 3, 5, 6, 9])).argmax()"
   ]
  },
  {
   "cell_type": "code",
   "execution_count": 253,
   "id": "efef79ae",
   "metadata": {},
   "outputs": [
    {
     "data": {
      "text/plain": [
       "143"
      ]
     },
     "execution_count": 253,
     "metadata": {},
     "output_type": "execute_result"
    }
   ],
   "source": [
    "(np.abs(walk) >= 10).argmax()"
   ]
  },
  {
   "cell_type": "markdown",
   "id": "b2aeca21",
   "metadata": {},
   "source": [
    "* 참고"
   ]
  },
  {
   "cell_type": "code",
   "execution_count": 264,
   "id": "54fca4c3",
   "metadata": {},
   "outputs": [],
   "source": [
    "steps = np.cumsum(np.random.choice([-1,1], 1000, p = [0.5, 0.5])) #choice(원하는 요소의 리스트, 뽑을 개수, p = 확률)"
   ]
  },
  {
   "cell_type": "markdown",
   "id": "b56814a9",
   "metadata": {},
   "source": [
    "## Numpy 정리"
   ]
  },
  {
   "cell_type": "markdown",
   "id": "60f06fc5",
   "metadata": {},
   "source": [
    "* 모듈 임포트"
   ]
  },
  {
   "cell_type": "code",
   "execution_count": 266,
   "id": "4ff800b4",
   "metadata": {},
   "outputs": [],
   "source": [
    "import numpy as np\n",
    "from numpy import array"
   ]
  },
  {
   "cell_type": "markdown",
   "id": "5e31c67d",
   "metadata": {},
   "source": [
    "* 객체 생성"
   ]
  },
  {
   "cell_type": "code",
   "execution_count": 267,
   "id": "d46190c8",
   "metadata": {},
   "outputs": [],
   "source": [
    "a1 = array([10, 20, 30])"
   ]
  },
  {
   "cell_type": "code",
   "execution_count": 268,
   "id": "34aeeced",
   "metadata": {},
   "outputs": [],
   "source": [
    "a2 = array([[10, 20, 30], \n",
    "            [40, 50, 60]])"
   ]
  },
  {
   "cell_type": "markdown",
   "id": "bc9d6cbe",
   "metadata": {},
   "source": [
    "* 모양확인"
   ]
  },
  {
   "cell_type": "code",
   "execution_count": 269,
   "id": "a54f695b",
   "metadata": {},
   "outputs": [
    {
     "data": {
      "text/plain": [
       "(3,)"
      ]
     },
     "execution_count": 269,
     "metadata": {},
     "output_type": "execute_result"
    }
   ],
   "source": [
    "a1.shape"
   ]
  },
  {
   "cell_type": "code",
   "execution_count": 270,
   "id": "1f316acb",
   "metadata": {},
   "outputs": [
    {
     "data": {
      "text/plain": [
       "(2, 3)"
      ]
     },
     "execution_count": 270,
     "metadata": {},
     "output_type": "execute_result"
    }
   ],
   "source": [
    "a2.shape"
   ]
  },
  {
   "cell_type": "markdown",
   "id": "eb2607cb",
   "metadata": {},
   "source": [
    "* 자료형 확인"
   ]
  },
  {
   "cell_type": "code",
   "execution_count": 271,
   "id": "ad54d166",
   "metadata": {},
   "outputs": [
    {
     "data": {
      "text/plain": [
       "dtype('int32')"
      ]
     },
     "execution_count": 271,
     "metadata": {},
     "output_type": "execute_result"
    }
   ],
   "source": [
    "a1.dtype"
   ]
  },
  {
   "cell_type": "code",
   "execution_count": 272,
   "id": "ed9013fe",
   "metadata": {},
   "outputs": [
    {
     "data": {
      "text/plain": [
       "dtype('int32')"
      ]
     },
     "execution_count": 272,
     "metadata": {},
     "output_type": "execute_result"
    }
   ],
   "source": [
    "a2.dtype"
   ]
  },
  {
   "cell_type": "markdown",
   "id": "a09d689e",
   "metadata": {},
   "source": [
    "* 정수 색인(인덱스 번호로 색인)"
   ]
  },
  {
   "cell_type": "code",
   "execution_count": 273,
   "id": "41748af9",
   "metadata": {},
   "outputs": [
    {
     "data": {
      "text/plain": [
       "10"
      ]
     },
     "execution_count": 273,
     "metadata": {},
     "output_type": "execute_result"
    }
   ],
   "source": [
    "a1[0]"
   ]
  },
  {
   "cell_type": "code",
   "execution_count": 274,
   "id": "586447e7",
   "metadata": {},
   "outputs": [
    {
     "data": {
      "text/plain": [
       "20"
      ]
     },
     "execution_count": 274,
     "metadata": {},
     "output_type": "execute_result"
    }
   ],
   "source": [
    "a2[0][1]"
   ]
  },
  {
   "cell_type": "code",
   "execution_count": 275,
   "id": "7eb35b93",
   "metadata": {},
   "outputs": [
    {
     "data": {
      "text/plain": [
       "20"
      ]
     },
     "execution_count": 275,
     "metadata": {},
     "output_type": "execute_result"
    }
   ],
   "source": [
    "a2[0, 1]"
   ]
  },
  {
   "cell_type": "code",
   "execution_count": null,
   "id": "781a39c0",
   "metadata": {},
   "outputs": [],
   "source": [
    "* 슬라이스 색인 (연속된 구간 색인)"
   ]
  },
  {
   "cell_type": "code",
   "execution_count": 276,
   "id": "2486a52b",
   "metadata": {},
   "outputs": [
    {
     "data": {
      "text/plain": [
       "array([20, 30])"
      ]
     },
     "execution_count": 276,
     "metadata": {},
     "output_type": "execute_result"
    }
   ],
   "source": [
    "a1[1:]"
   ]
  },
  {
   "cell_type": "code",
   "execution_count": 277,
   "id": "e31a5dc5",
   "metadata": {},
   "outputs": [
    {
     "data": {
      "text/plain": [
       "array([[20, 30]])"
      ]
     },
     "execution_count": 277,
     "metadata": {},
     "output_type": "execute_result"
    }
   ],
   "source": [
    "a2[0:1, 1: ] #2차원 배열"
   ]
  },
  {
   "cell_type": "code",
   "execution_count": 278,
   "id": "6380e9d1",
   "metadata": {},
   "outputs": [
    {
     "data": {
      "text/plain": [
       "array([20, 30])"
      ]
     },
     "execution_count": 278,
     "metadata": {},
     "output_type": "execute_result"
    }
   ],
   "source": [
    "a2[0, 1: ] #1차원 배열"
   ]
  },
  {
   "cell_type": "markdown",
   "id": "a6f8dc26",
   "metadata": {},
   "source": [
    "* 불리언 색인(조건으로 색인)"
   ]
  },
  {
   "cell_type": "code",
   "execution_count": 279,
   "id": "b5b705ec",
   "metadata": {},
   "outputs": [
    {
     "data": {
      "text/plain": [
       "array([10, 20, 30])"
      ]
     },
     "execution_count": 279,
     "metadata": {},
     "output_type": "execute_result"
    }
   ],
   "source": [
    "a1"
   ]
  },
  {
   "cell_type": "code",
   "execution_count": 280,
   "id": "f9427f17",
   "metadata": {},
   "outputs": [
    {
     "data": {
      "text/plain": [
       "array([10, 20])"
      ]
     },
     "execution_count": 280,
     "metadata": {},
     "output_type": "execute_result"
    }
   ],
   "source": [
    "a1[a1 < 30]"
   ]
  },
  {
   "cell_type": "code",
   "execution_count": 281,
   "id": "4f7c9149",
   "metadata": {},
   "outputs": [
    {
     "data": {
      "text/plain": [
       "array([[10, 20, 30],\n",
       "       [40, 50, 60]])"
      ]
     },
     "execution_count": 281,
     "metadata": {},
     "output_type": "execute_result"
    }
   ],
   "source": [
    "a2"
   ]
  },
  {
   "cell_type": "code",
   "execution_count": 282,
   "id": "d1a51884",
   "metadata": {},
   "outputs": [
    {
     "data": {
      "text/plain": [
       "array([10, 20, 60])"
      ]
     },
     "execution_count": 282,
     "metadata": {},
     "output_type": "execute_result"
    }
   ],
   "source": [
    "a2[(a2<30) | (a2>50)]"
   ]
  },
  {
   "cell_type": "code",
   "execution_count": null,
   "id": "13ba6a31",
   "metadata": {},
   "outputs": [],
   "source": [
    "* 팬시 색인 (원하는 순서로 색인)"
   ]
  },
  {
   "cell_type": "code",
   "execution_count": 283,
   "id": "1414a823",
   "metadata": {},
   "outputs": [
    {
     "data": {
      "text/plain": [
       "array([30, 10])"
      ]
     },
     "execution_count": 283,
     "metadata": {},
     "output_type": "execute_result"
    }
   ],
   "source": [
    "a1[[2, 0]]"
   ]
  },
  {
   "cell_type": "code",
   "execution_count": 284,
   "id": "d342d82e",
   "metadata": {},
   "outputs": [
    {
     "data": {
      "text/plain": [
       "array([30, 50])"
      ]
     },
     "execution_count": 284,
     "metadata": {},
     "output_type": "execute_result"
    }
   ],
   "source": [
    "a2[[0, 1], [2,1]] #(0, 2) 에 해당하는 값과 (1, 1)에 해당하는 값이 나옴"
   ]
  },
  {
   "cell_type": "markdown",
   "id": "e0fc735d",
   "metadata": {},
   "source": [
    "* 브로드캐스팅"
   ]
  },
  {
   "cell_type": "code",
   "execution_count": 285,
   "id": "a006546f",
   "metadata": {},
   "outputs": [
    {
     "data": {
      "text/plain": [
       "array([[11, 21, 31],\n",
       "       [41, 51, 61]])"
      ]
     },
     "execution_count": 285,
     "metadata": {},
     "output_type": "execute_result"
    }
   ],
   "source": [
    "a2 + 1"
   ]
  },
  {
   "cell_type": "code",
   "execution_count": 288,
   "id": "aa56b15c",
   "metadata": {},
   "outputs": [
    {
     "data": {
      "text/plain": [
       "array([[20, 40, 60],\n",
       "       [50, 70, 90]])"
      ]
     },
     "execution_count": 288,
     "metadata": {},
     "output_type": "execute_result"
    }
   ],
   "source": [
    "a2 + a1"
   ]
  },
  {
   "cell_type": "code",
   "execution_count": 291,
   "id": "5ef560d9",
   "metadata": {},
   "outputs": [
    {
     "ename": "ValueError",
     "evalue": "operands could not be broadcast together with shapes (3,) (2,) ",
     "output_type": "error",
     "traceback": [
      "\u001b[1;31m---------------------------------------------------------------------------\u001b[0m",
      "\u001b[1;31mValueError\u001b[0m                                Traceback (most recent call last)",
      "\u001b[1;32m<ipython-input-291-6897efa01739>\u001b[0m in \u001b[0;36m<module>\u001b[1;34m\u001b[0m\n\u001b[1;32m----> 1\u001b[1;33m \u001b[0ma1\u001b[0m \u001b[1;33m+\u001b[0m \u001b[0marray\u001b[0m\u001b[1;33m(\u001b[0m\u001b[1;33m[\u001b[0m\u001b[1;36m10\u001b[0m\u001b[1;33m,\u001b[0m \u001b[1;36m20\u001b[0m\u001b[1;33m]\u001b[0m\u001b[1;33m)\u001b[0m\u001b[1;33m\u001b[0m\u001b[1;33m\u001b[0m\u001b[0m\n\u001b[0m",
      "\u001b[1;31mValueError\u001b[0m: operands could not be broadcast together with shapes (3,) (2,) "
     ]
    }
   ],
   "source": [
    "a1 + array([10, 20])"
   ]
  },
  {
   "cell_type": "markdown",
   "id": "b6bc8d10",
   "metadata": {},
   "source": [
    "* 유니버설 함수의 적용"
   ]
  },
  {
   "cell_type": "code",
   "execution_count": 292,
   "id": "3bc50899",
   "metadata": {},
   "outputs": [
    {
     "data": {
      "text/plain": [
       "array([1., 2., 3.])"
      ]
     },
     "execution_count": 292,
     "metadata": {},
     "output_type": "execute_result"
    }
   ],
   "source": [
    "a1 * 0.1"
   ]
  },
  {
   "cell_type": "code",
   "execution_count": 293,
   "id": "f556ee62",
   "metadata": {},
   "outputs": [
    {
     "data": {
      "text/plain": [
       "array([100, 400, 900])"
      ]
     },
     "execution_count": 293,
     "metadata": {},
     "output_type": "execute_result"
    }
   ],
   "source": [
    "a1 * a1"
   ]
  },
  {
   "cell_type": "code",
   "execution_count": 294,
   "id": "ff43c545",
   "metadata": {},
   "outputs": [
    {
     "data": {
      "text/plain": [
       "array([[10, 20, 30],\n",
       "       [40, 50, 60]])"
      ]
     },
     "execution_count": 294,
     "metadata": {},
     "output_type": "execute_result"
    }
   ],
   "source": [
    "a2"
   ]
  },
  {
   "cell_type": "code",
   "execution_count": 295,
   "id": "5854292e",
   "metadata": {},
   "outputs": [
    {
     "data": {
      "text/plain": [
       "210"
      ]
     },
     "execution_count": 295,
     "metadata": {},
     "output_type": "execute_result"
    }
   ],
   "source": [
    "a2.sum()"
   ]
  },
  {
   "cell_type": "code",
   "execution_count": 296,
   "id": "52323efd",
   "metadata": {},
   "outputs": [
    {
     "data": {
      "text/plain": [
       "array([ 60, 150])"
      ]
     },
     "execution_count": 296,
     "metadata": {},
     "output_type": "execute_result"
    }
   ],
   "source": [
    "#a2의 열별 합계\n",
    "a2.sum(1)"
   ]
  },
  {
   "cell_type": "code",
   "execution_count": 297,
   "id": "92b5d81f",
   "metadata": {},
   "outputs": [
    {
     "data": {
      "text/plain": [
       "array([50, 70, 90])"
      ]
     },
     "execution_count": 297,
     "metadata": {},
     "output_type": "execute_result"
    }
   ],
   "source": [
    "#a2의 행별 합계\n",
    "a2.sum(0)"
   ]
  },
  {
   "cell_type": "code",
   "execution_count": 298,
   "id": "640be40a",
   "metadata": {},
   "outputs": [
    {
     "data": {
      "text/plain": [
       "1"
      ]
     },
     "execution_count": 298,
     "metadata": {},
     "output_type": "execute_result"
    }
   ],
   "source": [
    "#불리언 배열의 합계\n",
    "array([True, False]).sum()"
   ]
  }
 ],
 "metadata": {
  "kernelspec": {
   "display_name": "Python 3",
   "language": "python",
   "name": "python3"
  },
  "language_info": {
   "codemirror_mode": {
    "name": "ipython",
    "version": 3
   },
   "file_extension": ".py",
   "mimetype": "text/x-python",
   "name": "python",
   "nbconvert_exporter": "python",
   "pygments_lexer": "ipython3",
   "version": "3.8.8"
  }
 },
 "nbformat": 4,
 "nbformat_minor": 5
}
